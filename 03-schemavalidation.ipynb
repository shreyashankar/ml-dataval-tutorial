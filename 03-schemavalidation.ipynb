{
 "cells": [
  {
   "cell_type": "code",
   "execution_count": 1,
   "id": "d8e5b608-8e58-4ac9-9546-6e7fc823f44e",
   "metadata": {
    "tags": []
   },
   "outputs": [],
   "source": [
    "%load_ext autoreload\n",
    "%autoreload 2"
   ]
  },
  {
   "cell_type": "markdown",
   "id": "521fc8bf-0cd0-45d2-8ba0-fe8a84d588c4",
   "metadata": {},
   "source": [
    "# Schema Validation\n",
    "\n",
    "In this notebook, we will implement TFX's schema validation to see if any of the corruptions in the previous notebook were detected. We'll log the results of schema validation to wandb.\n",
    "\n",
    "You can set up wandb alerts here: https://docs.wandb.ai/guides/runs/alert\n",
    "\n",
    "I use Modal because TFDV doesn't run on Mac M1s. You can create a free account on Modal here: https://modal.com/signup -- it comes with $10/month credits, which should be plenty more than enough to run the notebooks in this course. Once you have created an account, follow the \"Getting Started\" instructions on the homepage:\n",
    "\n",
    "* Run `pip install modal-client` (also included in `requirements.txt` in this repo)\n",
    "* Run `modal token new`, which will open a browser window and authenticate you with your account\n",
    "\n",
    "Then you should be able to run this notebook!"
   ]
  },
  {
   "cell_type": "code",
   "execution_count": 4,
   "id": "dd1ea6f8-9f74-4293-8eba-fd54c99e9b41",
   "metadata": {
    "tags": []
   },
   "outputs": [],
   "source": [
    "from dataval.dataset import WeatherDataset\n",
    "from dataval.train import CatBoostTrainer\n",
    "\n",
    "import os\n",
    "import matplotlib.pyplot as plt\n",
    "import modal\n",
    "import pandas as pd\n",
    "\n",
    "import wandb\n",
    "from wandb import AlertLevel"
   ]
  },
  {
   "cell_type": "code",
   "execution_count": 5,
   "id": "3224acec-34e7-4f82-a0d4-50346a27f6c0",
   "metadata": {},
   "outputs": [],
   "source": [
    "image = (\n",
    "    modal.Image.debian_slim()\n",
    "    .pip_install_from_requirements(\"requirements.txt\")\n",
    "    .pip_install([\"tensorflow-data-validation\", \"tensorflow_metadata\"])\n",
    ")\n",
    "stub = modal.Stub(\"tfdv-tutorial\", image=image)"
   ]
  },
  {
   "cell_type": "code",
   "execution_count": 6,
   "id": "3617e8db-23f1-462e-9b28-5f6a2c166005",
   "metadata": {},
   "outputs": [],
   "source": [
    "# Load dataset\n",
    "\n",
    "ds = WeatherDataset(os.path.join(os.getcwd(), \"canonical-partitioned-dataset\"), sample_frac=0.2)"
   ]
  },
  {
   "cell_type": "code",
   "execution_count": 7,
   "id": "ee990491-48e1-4b54-8091-2d5525ad13a6",
   "metadata": {},
   "outputs": [],
   "source": [
    "train_df = ds.load(ds.get_partition_keys()[0])\n",
    "test_df = ds.load(ds.get_partition_keys()[1])"
   ]
  },
  {
   "cell_type": "markdown",
   "id": "3dd13aa8-ff64-461b-a140-a458b5ce476d",
   "metadata": {},
   "source": [
    "## Infer schema and check test data for errors\n",
    "\n",
    "From the train dataframe, we create a schema using TFDV. Then we use this schema to find anomalies in the test data. We apply this to the original dataframes first."
   ]
  },
  {
   "cell_type": "code",
   "execution_count": 8,
   "id": "9e447e88-19ea-458f-9ee8-5ff26eb23425",
   "metadata": {},
   "outputs": [],
   "source": [
    "@stub.function\n",
    "def find_anomalies(train_df, test_df):\n",
    "    import tensorflow_data_validation as tfdv\n",
    "    from google.protobuf.json_format import MessageToDict\n",
    "    \n",
    "    train_stats =  tfdv.generate_statistics_from_dataframe(train_df)\n",
    "    schema = tfdv.infer_schema(statistics=train_stats)\n",
    "    test_stats = tfdv.generate_statistics_from_dataframe(test_df)\n",
    "    # tfdv.visualize_statistics(lhs_statistics=test_stats, rhs_statistics=train_stats, lhs_name='TEST_DATASET', rhs_name='TRAIN_DATASET') TODO: figure out how to run this\n",
    "    anomalies = tfdv.validate_statistics(statistics=test_stats, schema=schema)\n",
    "    anomalies_df = tfdv.utils.display_util.get_anomalies_dataframe(anomalies)\n",
    "    # return MessageToDict(anomalies)\n",
    "    return anomalies_df"
   ]
  },
  {
   "cell_type": "code",
   "execution_count": 9,
   "id": "83b52dd3-9d48-4597-ad44-62d31166b4c7",
   "metadata": {},
   "outputs": [
    {
     "data": {
      "application/vnd.jupyter.widget-view+json": {
       "model_id": "",
       "version_major": 2,
       "version_minor": 0
      },
      "text/plain": [
       "Output()"
      ]
     },
     "metadata": {},
     "output_type": "display_data"
    },
    {
     "data": {
      "text/html": [
       "<pre style=\"white-space:pre;overflow-x:auto;line-height:normal;font-family:Menlo,'DejaVu Sans Mono',consolas,'Courier New',monospace\"><span style=\"color: #008000; text-decoration-color: #008000\">✓</span> Initialized. <span style=\"color: #b2b2b2; text-decoration-color: #b2b2b2\">View app at </span><span style=\"color: #b2b2b2; text-decoration-color: #b2b2b2; text-decoration: underline\">https://modal.com/apps/ap-FOsx9peIWicnn67oNyGVIA</span>\n",
       "</pre>\n"
      ],
      "text/plain": [
       "\u001b[32m✓\u001b[0m Initialized. \u001b[38;5;249mView app at \u001b[0m\u001b[4;38;5;249mhttps://modal.com/apps/ap-FOsx9peIWicnn67oNyGVIA\u001b[0m\n"
      ]
     },
     "metadata": {},
     "output_type": "display_data"
    },
    {
     "data": {
      "text/html": [
       "<pre style=\"white-space:pre;overflow-x:auto;line-height:normal;font-family:Menlo,'DejaVu Sans Mono',consolas,'Courier New',monospace\"></pre>\n"
      ],
      "text/plain": []
     },
     "metadata": {},
     "output_type": "display_data"
    },
    {
     "data": {
      "application/vnd.jupyter.widget-view+json": {
       "model_id": "",
       "version_major": 2,
       "version_minor": 0
      },
      "text/plain": [
       "Output()"
      ]
     },
     "metadata": {},
     "output_type": "display_data"
    },
    {
     "data": {
      "text/html": [
       "<pre style=\"white-space:pre;overflow-x:auto;line-height:normal;font-family:Menlo,'DejaVu Sans Mono',consolas,'Courier New',monospace\"><span style=\"color: #808000; text-decoration-color: #808000\">Building image im-xxkuadsrsgdopllbonxycxklhlji\n",
       "</span></pre>\n"
      ],
      "text/plain": [
       "\u001b[33mBuilding image im-xxkuadsrsgdopllbonxycxklhlji\n",
       "\u001b[0m"
      ]
     },
     "metadata": {},
     "output_type": "display_data"
    },
    {
     "data": {
      "text/html": [
       "<pre style=\"white-space:pre;overflow-x:auto;line-height:normal;font-family:Menlo,'DejaVu Sans Mono',consolas,'Courier New',monospace\"><span style=\"color: #808000; text-decoration-color: #808000\">\n",
       "=&gt; Step 0: FROM base\n",
       "</span></pre>\n"
      ],
      "text/plain": [
       "\u001b[33m\n",
       "=> Step 0: FROM base\n",
       "\u001b[0m"
      ]
     },
     "metadata": {},
     "output_type": "display_data"
    },
    {
     "data": {
      "text/html": [
       "<pre style=\"white-space:pre;overflow-x:auto;line-height:normal;font-family:Menlo,'DejaVu Sans Mono',consolas,'Courier New',monospace\"><span style=\"color: #808000; text-decoration-color: #808000\">\n",
       "=&gt; Step 1: COPY /.requirements.txt /.requirements.txt\n",
       "</span></pre>\n"
      ],
      "text/plain": [
       "\u001b[33m\n",
       "=> Step 1: COPY /.requirements.txt /.requirements.txt\n",
       "\u001b[0m"
      ]
     },
     "metadata": {},
     "output_type": "display_data"
    },
    {
     "data": {
      "text/html": [
       "<pre style=\"white-space:pre;overflow-x:auto;line-height:normal;font-family:Menlo,'DejaVu Sans Mono',consolas,'Courier New',monospace\"><span style=\"color: #808000; text-decoration-color: #808000\">\n",
       "=&gt; Step 2: RUN python -m pip install -r /.requirements.txt \n",
       "</span></pre>\n"
      ],
      "text/plain": [
       "\u001b[33m\n",
       "=> Step 2: RUN python -m pip install -r /.requirements.txt \n",
       "\u001b[0m"
      ]
     },
     "metadata": {},
     "output_type": "display_data"
    },
    {
     "data": {
      "text/html": [
       "<pre style=\"white-space:pre;overflow-x:auto;line-height:normal;font-family:Menlo,'DejaVu Sans Mono',consolas,'Courier New',monospace\"><span style=\"color: #808000; text-decoration-color: #808000\">Collecting catboost\n",
       "</span></pre>\n"
      ],
      "text/plain": [
       "\u001b[33mCollecting catboost\n",
       "\u001b[0m"
      ]
     },
     "metadata": {},
     "output_type": "display_data"
    },
    {
     "data": {
      "text/html": [
       "<pre style=\"white-space:pre;overflow-x:auto;line-height:normal;font-family:Menlo,'DejaVu Sans Mono',consolas,'Courier New',monospace\"><span style=\"color: #808000; text-decoration-color: #808000\">  Downloading catboost-1.1.1-cp38-none-manylinux1_x86_64.whl (76.6 MB)\n",
       "</span></pre>\n"
      ],
      "text/plain": [
       "\u001b[33m  Downloading catboost-1.1.1-cp38-none-manylinux1_x86_64.whl (76.6 MB)\n",
       "\u001b[0m"
      ]
     },
     "metadata": {},
     "output_type": "display_data"
    },
    {
     "data": {
      "text/html": [
       "<pre style=\"white-space:pre;overflow-x:auto;line-height:normal;font-family:Menlo,'DejaVu Sans Mono',consolas,'Courier New',monospace\"><span style=\"color: #808000; text-decoration-color: #808000\">     ━━━━━━━━━━━━━━━━━━━━━━━━━━━━━━━━━━━━━━━ 76.6/76.6 MB 114.7 MB/s eta 0:00:00\n",
       "</span></pre>\n"
      ],
      "text/plain": [
       "\u001b[33m     ━━━━━━━━━━━━━━━━━━━━━━━━━━━━━━━━━━━━━━━ 76.6/76.6 MB 114.7 MB/s eta 0:00:00\n",
       "\u001b[0m"
      ]
     },
     "metadata": {},
     "output_type": "display_data"
    },
    {
     "data": {
      "text/html": [
       "<pre style=\"white-space:pre;overflow-x:auto;line-height:normal;font-family:Menlo,'DejaVu Sans Mono',consolas,'Courier New',monospace\"><span style=\"color: #808000; text-decoration-color: #808000\">Collecting duckdb\n",
       "</span></pre>\n"
      ],
      "text/plain": [
       "\u001b[33mCollecting duckdb\n",
       "\u001b[0m"
      ]
     },
     "metadata": {},
     "output_type": "display_data"
    },
    {
     "data": {
      "text/html": [
       "<pre style=\"white-space:pre;overflow-x:auto;line-height:normal;font-family:Menlo,'DejaVu Sans Mono',consolas,'Courier New',monospace\"><span style=\"color: #808000; text-decoration-color: #808000\">  Downloading duckdb-0.7.1-cp38-cp38-manylinux_2_17_x86_64.manylinux2014_x86_64.whl (15.2 MB)\n",
       "</span></pre>\n"
      ],
      "text/plain": [
       "\u001b[33m  Downloading duckdb-0.7.1-cp38-cp38-manylinux_2_17_x86_64.manylinux2014_x86_64.whl (15.2 MB)\n",
       "\u001b[0m"
      ]
     },
     "metadata": {},
     "output_type": "display_data"
    },
    {
     "data": {
      "text/html": [
       "<pre style=\"white-space:pre;overflow-x:auto;line-height:normal;font-family:Menlo,'DejaVu Sans Mono',consolas,'Courier New',monospace\"><span style=\"color: #808000; text-decoration-color: #808000\">     ━━━━━━━━━━━━━━━━━━━━━━━━━━━━━━━━━━━━━━━ 15.2/15.2 MB 171.8 MB/s eta 0:00:00\n",
       "</span></pre>\n"
      ],
      "text/plain": [
       "\u001b[33m     ━━━━━━━━━━━━━━━━━━━━━━━━━━━━━━━━━━━━━━━ 15.2/15.2 MB 171.8 MB/s eta 0:00:00\n",
       "\u001b[0m"
      ]
     },
     "metadata": {},
     "output_type": "display_data"
    },
    {
     "data": {
      "text/html": [
       "<pre style=\"white-space:pre;overflow-x:auto;line-height:normal;font-family:Menlo,'DejaVu Sans Mono',consolas,'Courier New',monospace\"><span style=\"color: #808000; text-decoration-color: #808000\">Collecting ipykernel\n",
       "</span></pre>\n"
      ],
      "text/plain": [
       "\u001b[33mCollecting ipykernel\n",
       "\u001b[0m"
      ]
     },
     "metadata": {},
     "output_type": "display_data"
    },
    {
     "data": {
      "text/html": [
       "<pre style=\"white-space:pre;overflow-x:auto;line-height:normal;font-family:Menlo,'DejaVu Sans Mono',consolas,'Courier New',monospace\"><span style=\"color: #808000; text-decoration-color: #808000\">  Downloading ipykernel-6.22.0-py3-none-any.whl (149 kB)\n",
       "</span></pre>\n"
      ],
      "text/plain": [
       "\u001b[33m  Downloading ipykernel-6.22.0-py3-none-any.whl (149 kB)\n",
       "\u001b[0m"
      ]
     },
     "metadata": {},
     "output_type": "display_data"
    },
    {
     "data": {
      "text/html": [
       "<pre style=\"white-space:pre;overflow-x:auto;line-height:normal;font-family:Menlo,'DejaVu Sans Mono',consolas,'Courier New',monospace\"><span style=\"color: #808000; text-decoration-color: #808000\">     ━━━━━━━━━━━━━━━━━━━━━━━━━━━━━━━━━━━━━ 150.0/150.0 kB 251.1 MB/s eta 0:00:00\n",
       "</span></pre>\n"
      ],
      "text/plain": [
       "\u001b[33m     ━━━━━━━━━━━━━━━━━━━━━━━━━━━━━━━━━━━━━ 150.0/150.0 kB 251.1 MB/s eta 0:00:00\n",
       "\u001b[0m"
      ]
     },
     "metadata": {},
     "output_type": "display_data"
    },
    {
     "data": {
      "text/html": [
       "<pre style=\"white-space:pre;overflow-x:auto;line-height:normal;font-family:Menlo,'DejaVu Sans Mono',consolas,'Courier New',monospace\"><span style=\"color: #808000; text-decoration-color: #808000\">Collecting ipywidgets\n",
       "</span></pre>\n"
      ],
      "text/plain": [
       "\u001b[33mCollecting ipywidgets\n",
       "\u001b[0m"
      ]
     },
     "metadata": {},
     "output_type": "display_data"
    },
    {
     "data": {
      "text/html": [
       "<pre style=\"white-space:pre;overflow-x:auto;line-height:normal;font-family:Menlo,'DejaVu Sans Mono',consolas,'Courier New',monospace\"><span style=\"color: #808000; text-decoration-color: #808000\">  Downloading ipywidgets-8.0.6-py3-none-any.whl (138 kB)\n",
       "</span></pre>\n"
      ],
      "text/plain": [
       "\u001b[33m  Downloading ipywidgets-8.0.6-py3-none-any.whl (138 kB)\n",
       "\u001b[0m"
      ]
     },
     "metadata": {},
     "output_type": "display_data"
    },
    {
     "data": {
      "text/html": [
       "<pre style=\"white-space:pre;overflow-x:auto;line-height:normal;font-family:Menlo,'DejaVu Sans Mono',consolas,'Courier New',monospace\"><span style=\"color: #808000; text-decoration-color: #808000\">     ━━━━━━━━━━━━━━━━━━━━━━━━━━━━━━━━━━━━━ 138.3/138.3 kB 273.2 MB/s eta 0:00:00\n",
       "</span></pre>\n"
      ],
      "text/plain": [
       "\u001b[33m     ━━━━━━━━━━━━━━━━━━━━━━━━━━━━━━━━━━━━━ 138.3/138.3 kB 273.2 MB/s eta 0:00:00\n",
       "\u001b[0m"
      ]
     },
     "metadata": {},
     "output_type": "display_data"
    },
    {
     "data": {
      "text/html": [
       "<pre style=\"white-space:pre;overflow-x:auto;line-height:normal;font-family:Menlo,'DejaVu Sans Mono',consolas,'Courier New',monospace\"><span style=\"color: #808000; text-decoration-color: #808000\">Collecting jupyterlab\n",
       "</span></pre>\n"
      ],
      "text/plain": [
       "\u001b[33mCollecting jupyterlab\n",
       "\u001b[0m"
      ]
     },
     "metadata": {},
     "output_type": "display_data"
    },
    {
     "data": {
      "text/html": [
       "<pre style=\"white-space:pre;overflow-x:auto;line-height:normal;font-family:Menlo,'DejaVu Sans Mono',consolas,'Courier New',monospace\"><span style=\"color: #808000; text-decoration-color: #808000\">  Downloading jupyterlab-3.6.3-py3-none-any.whl (8.9 MB)\n",
       "</span></pre>\n"
      ],
      "text/plain": [
       "\u001b[33m  Downloading jupyterlab-3.6.3-py3-none-any.whl (8.9 MB)\n",
       "\u001b[0m"
      ]
     },
     "metadata": {},
     "output_type": "display_data"
    },
    {
     "data": {
      "text/html": [
       "<pre style=\"white-space:pre;overflow-x:auto;line-height:normal;font-family:Menlo,'DejaVu Sans Mono',consolas,'Courier New',monospace\"><span style=\"color: #808000; text-decoration-color: #808000\">     ━━━━━━━━━━━━━━━━━━━━━━━━━━━━━━━━━━━━━━━━ 8.9/8.9 MB 199.2 MB/s eta 0:00:00\n",
       "</span></pre>\n"
      ],
      "text/plain": [
       "\u001b[33m     ━━━━━━━━━━━━━━━━━━━━━━━━━━━━━━━━━━━━━━━━ 8.9/8.9 MB 199.2 MB/s eta 0:00:00\n",
       "\u001b[0m"
      ]
     },
     "metadata": {},
     "output_type": "display_data"
    },
    {
     "data": {
      "text/html": [
       "<pre style=\"white-space:pre;overflow-x:auto;line-height:normal;font-family:Menlo,'DejaVu Sans Mono',consolas,'Courier New',monospace\"><span style=\"color: #808000; text-decoration-color: #808000\">Collecting matplotlib\n",
       "</span></pre>\n"
      ],
      "text/plain": [
       "\u001b[33mCollecting matplotlib\n",
       "\u001b[0m"
      ]
     },
     "metadata": {},
     "output_type": "display_data"
    },
    {
     "data": {
      "text/html": [
       "<pre style=\"white-space:pre;overflow-x:auto;line-height:normal;font-family:Menlo,'DejaVu Sans Mono',consolas,'Courier New',monospace\"><span style=\"color: #808000; text-decoration-color: #808000\">  Downloading matplotlib-3.7.1-cp38-cp38-manylinux_2_12_x86_64.manylinux2010_x86_64.whl (9.2 MB)\n",
       "</span></pre>\n"
      ],
      "text/plain": [
       "\u001b[33m  Downloading matplotlib-3.7.1-cp38-cp38-manylinux_2_12_x86_64.manylinux2010_x86_64.whl (9.2 MB)\n",
       "\u001b[0m"
      ]
     },
     "metadata": {},
     "output_type": "display_data"
    },
    {
     "data": {
      "text/html": [
       "<pre style=\"white-space:pre;overflow-x:auto;line-height:normal;font-family:Menlo,'DejaVu Sans Mono',consolas,'Courier New',monospace\"><span style=\"color: #808000; text-decoration-color: #808000\">     ━━━━━━━━━━━━━━━━━━━━━━━━━━━━━━━━━━━━━━━━ 9.2/9.2 MB 170.9 MB/s eta 0:00:00\n",
       "</span></pre>\n"
      ],
      "text/plain": [
       "\u001b[33m     ━━━━━━━━━━━━━━━━━━━━━━━━━━━━━━━━━━━━━━━━ 9.2/9.2 MB 170.9 MB/s eta 0:00:00\n",
       "\u001b[0m"
      ]
     },
     "metadata": {},
     "output_type": "display_data"
    },
    {
     "data": {
      "text/html": [
       "<pre style=\"white-space:pre;overflow-x:auto;line-height:normal;font-family:Menlo,'DejaVu Sans Mono',consolas,'Courier New',monospace\"><span style=\"color: #808000; text-decoration-color: #808000\">Collecting modal-client\n",
       "</span></pre>\n"
      ],
      "text/plain": [
       "\u001b[33mCollecting modal-client\n",
       "\u001b[0m"
      ]
     },
     "metadata": {},
     "output_type": "display_data"
    },
    {
     "data": {
      "text/html": [
       "<pre style=\"white-space:pre;overflow-x:auto;line-height:normal;font-family:Menlo,'DejaVu Sans Mono',consolas,'Courier New',monospace\"><span style=\"color: #808000; text-decoration-color: #808000\">  Downloading modal_client-0.49.2059-py3-none-any.whl (243 kB)\n",
       "</span></pre>\n"
      ],
      "text/plain": [
       "\u001b[33m  Downloading modal_client-0.49.2059-py3-none-any.whl (243 kB)\n",
       "\u001b[0m"
      ]
     },
     "metadata": {},
     "output_type": "display_data"
    },
    {
     "data": {
      "text/html": [
       "<pre style=\"white-space:pre;overflow-x:auto;line-height:normal;font-family:Menlo,'DejaVu Sans Mono',consolas,'Courier New',monospace\"><span style=\"color: #808000; text-decoration-color: #808000\">     ━━━━━━━━━━━━━━━━━━━━━━━━━━━━━━━━━━━━━ 243.3/243.3 kB 278.4 MB/s eta 0:00:00\n",
       "</span></pre>\n"
      ],
      "text/plain": [
       "\u001b[33m     ━━━━━━━━━━━━━━━━━━━━━━━━━━━━━━━━━━━━━ 243.3/243.3 kB 278.4 MB/s eta 0:00:00\n",
       "\u001b[0m"
      ]
     },
     "metadata": {},
     "output_type": "display_data"
    },
    {
     "data": {
      "text/html": [
       "<pre style=\"white-space:pre;overflow-x:auto;line-height:normal;font-family:Menlo,'DejaVu Sans Mono',consolas,'Courier New',monospace\"><span style=\"color: #808000; text-decoration-color: #808000\">Requirement already satisfied: numpy in /usr/local/lib/python3.8/site-packages (from -r /.requirements.txt (line 8)) (1.24.2)\n",
       "</span></pre>\n"
      ],
      "text/plain": [
       "\u001b[33mRequirement already satisfied: numpy in /usr/local/lib/python3.8/site-packages (from -r /.requirements.txt (line 8)) (1.24.2)\n",
       "\u001b[0m"
      ]
     },
     "metadata": {},
     "output_type": "display_data"
    },
    {
     "data": {
      "text/html": [
       "<pre style=\"white-space:pre;overflow-x:auto;line-height:normal;font-family:Menlo,'DejaVu Sans Mono',consolas,'Courier New',monospace\"><span style=\"color: #808000; text-decoration-color: #808000\">Collecting pandas\n",
       "</span></pre>\n"
      ],
      "text/plain": [
       "\u001b[33mCollecting pandas\n",
       "\u001b[0m"
      ]
     },
     "metadata": {},
     "output_type": "display_data"
    },
    {
     "data": {
      "text/html": [
       "<pre style=\"white-space:pre;overflow-x:auto;line-height:normal;font-family:Menlo,'DejaVu Sans Mono',consolas,'Courier New',monospace\"><span style=\"color: #808000; text-decoration-color: #808000\">  Downloading pandas-2.0.1-cp38-cp38-manylinux_2_17_x86_64.manylinux2014_x86_64.whl (12.3 MB)\n",
       "</span></pre>\n"
      ],
      "text/plain": [
       "\u001b[33m  Downloading pandas-2.0.1-cp38-cp38-manylinux_2_17_x86_64.manylinux2014_x86_64.whl (12.3 MB)\n",
       "\u001b[0m"
      ]
     },
     "metadata": {},
     "output_type": "display_data"
    },
    {
     "data": {
      "text/html": [
       "<pre style=\"white-space:pre;overflow-x:auto;line-height:normal;font-family:Menlo,'DejaVu Sans Mono',consolas,'Courier New',monospace\"><span style=\"color: #808000; text-decoration-color: #808000\">     ━━━━━━━━━━━━━━━━━━━━━━━━━━━━━━━━━━━━━━━ 12.3/12.3 MB 159.6 MB/s eta 0:00:00\n",
       "</span></pre>\n"
      ],
      "text/plain": [
       "\u001b[33m     ━━━━━━━━━━━━━━━━━━━━━━━━━━━━━━━━━━━━━━━ 12.3/12.3 MB 159.6 MB/s eta 0:00:00\n",
       "\u001b[0m"
      ]
     },
     "metadata": {},
     "output_type": "display_data"
    },
    {
     "data": {
      "text/html": [
       "<pre style=\"white-space:pre;overflow-x:auto;line-height:normal;font-family:Menlo,'DejaVu Sans Mono',consolas,'Courier New',monospace\"><span style=\"color: #808000; text-decoration-color: #808000\">Collecting scikit-learn\n",
       "</span></pre>\n"
      ],
      "text/plain": [
       "\u001b[33mCollecting scikit-learn\n",
       "\u001b[0m"
      ]
     },
     "metadata": {},
     "output_type": "display_data"
    },
    {
     "data": {
      "text/html": [
       "<pre style=\"white-space:pre;overflow-x:auto;line-height:normal;font-family:Menlo,'DejaVu Sans Mono',consolas,'Courier New',monospace\"><span style=\"color: #808000; text-decoration-color: #808000\">  Downloading scikit_learn-1.2.2-cp38-cp38-manylinux_2_17_x86_64.manylinux2014_x86_64.whl (9.8 MB)\n",
       "</span></pre>\n"
      ],
      "text/plain": [
       "\u001b[33m  Downloading scikit_learn-1.2.2-cp38-cp38-manylinux_2_17_x86_64.manylinux2014_x86_64.whl (9.8 MB)\n",
       "\u001b[0m"
      ]
     },
     "metadata": {},
     "output_type": "display_data"
    },
    {
     "data": {
      "text/html": [
       "<pre style=\"white-space:pre;overflow-x:auto;line-height:normal;font-family:Menlo,'DejaVu Sans Mono',consolas,'Courier New',monospace\"><span style=\"color: #808000; text-decoration-color: #808000\">     ━━━━━━━━━━━━━━━━━━━━━━━━━━━━━━━━━━━━━━━━ 9.8/9.8 MB 213.4 MB/s eta 0:00:00\n",
       "</span></pre>\n"
      ],
      "text/plain": [
       "\u001b[33m     ━━━━━━━━━━━━━━━━━━━━━━━━━━━━━━━━━━━━━━━━ 9.8/9.8 MB 213.4 MB/s eta 0:00:00\n",
       "\u001b[0m"
      ]
     },
     "metadata": {},
     "output_type": "display_data"
    },
    {
     "data": {
      "text/html": [
       "<pre style=\"white-space:pre;overflow-x:auto;line-height:normal;font-family:Menlo,'DejaVu Sans Mono',consolas,'Courier New',monospace\"><span style=\"color: #808000; text-decoration-color: #808000\">Collecting gate-drift\n",
       "</span></pre>\n"
      ],
      "text/plain": [
       "\u001b[33mCollecting gate-drift\n",
       "\u001b[0m"
      ]
     },
     "metadata": {},
     "output_type": "display_data"
    },
    {
     "data": {
      "text/html": [
       "<pre style=\"white-space:pre;overflow-x:auto;line-height:normal;font-family:Menlo,'DejaVu Sans Mono',consolas,'Courier New',monospace\"><span style=\"color: #808000; text-decoration-color: #808000\">  Downloading gate_drift-0.1.5-py3-none-any.whl (14 kB)\n",
       "</span></pre>\n"
      ],
      "text/plain": [
       "\u001b[33m  Downloading gate_drift-0.1.5-py3-none-any.whl (14 kB)\n",
       "\u001b[0m"
      ]
     },
     "metadata": {},
     "output_type": "display_data"
    },
    {
     "data": {
      "text/html": [
       "<pre style=\"white-space:pre;overflow-x:auto;line-height:normal;font-family:Menlo,'DejaVu Sans Mono',consolas,'Courier New',monospace\"><span style=\"color: #808000; text-decoration-color: #808000\">Collecting plotly\n",
       "</span></pre>\n"
      ],
      "text/plain": [
       "\u001b[33mCollecting plotly\n",
       "\u001b[0m"
      ]
     },
     "metadata": {},
     "output_type": "display_data"
    },
    {
     "data": {
      "text/html": [
       "<pre style=\"white-space:pre;overflow-x:auto;line-height:normal;font-family:Menlo,'DejaVu Sans Mono',consolas,'Courier New',monospace\"><span style=\"color: #808000; text-decoration-color: #808000\">  Downloading plotly-5.14.1-py2.py3-none-any.whl (15.3 MB)\n",
       "</span></pre>\n"
      ],
      "text/plain": [
       "\u001b[33m  Downloading plotly-5.14.1-py2.py3-none-any.whl (15.3 MB)\n",
       "\u001b[0m"
      ]
     },
     "metadata": {},
     "output_type": "display_data"
    },
    {
     "data": {
      "text/html": [
       "<pre style=\"white-space:pre;overflow-x:auto;line-height:normal;font-family:Menlo,'DejaVu Sans Mono',consolas,'Courier New',monospace\"><span style=\"color: #808000; text-decoration-color: #808000\">     ━━━━━━━━━━━━━━━━━━━━━━━━━━━━━━━━━━━━━━━ 15.3/15.3 MB 170.4 MB/s eta 0:00:00\n",
       "</span></pre>\n"
      ],
      "text/plain": [
       "\u001b[33m     ━━━━━━━━━━━━━━━━━━━━━━━━━━━━━━━━━━━━━━━ 15.3/15.3 MB 170.4 MB/s eta 0:00:00\n",
       "\u001b[0m"
      ]
     },
     "metadata": {},
     "output_type": "display_data"
    },
    {
     "data": {
      "text/html": [
       "<pre style=\"white-space:pre;overflow-x:auto;line-height:normal;font-family:Menlo,'DejaVu Sans Mono',consolas,'Courier New',monospace\"><span style=\"color: #808000; text-decoration-color: #808000\">Collecting graphviz\n",
       "</span></pre>\n"
      ],
      "text/plain": [
       "\u001b[33mCollecting graphviz\n",
       "\u001b[0m"
      ]
     },
     "metadata": {},
     "output_type": "display_data"
    },
    {
     "data": {
      "text/html": [
       "<pre style=\"white-space:pre;overflow-x:auto;line-height:normal;font-family:Menlo,'DejaVu Sans Mono',consolas,'Courier New',monospace\"><span style=\"color: #808000; text-decoration-color: #808000\">  Downloading graphviz-0.20.1-py3-none-any.whl (47 kB)\n",
       "</span></pre>\n"
      ],
      "text/plain": [
       "\u001b[33m  Downloading graphviz-0.20.1-py3-none-any.whl (47 kB)\n",
       "\u001b[0m"
      ]
     },
     "metadata": {},
     "output_type": "display_data"
    },
    {
     "data": {
      "text/html": [
       "<pre style=\"white-space:pre;overflow-x:auto;line-height:normal;font-family:Menlo,'DejaVu Sans Mono',consolas,'Courier New',monospace\"><span style=\"color: #808000; text-decoration-color: #808000\">     ━━━━━━━━━━━━━━━━━━━━━━━━━━━━━━━━━━━━━━━ 47.0/47.0 kB 239.3 MB/s eta 0:00:00\n",
       "</span></pre>\n"
      ],
      "text/plain": [
       "\u001b[33m     ━━━━━━━━━━━━━━━━━━━━━━━━━━━━━━━━━━━━━━━ 47.0/47.0 kB 239.3 MB/s eta 0:00:00\n",
       "\u001b[0m"
      ]
     },
     "metadata": {},
     "output_type": "display_data"
    },
    {
     "data": {
      "text/html": [
       "<pre style=\"white-space:pre;overflow-x:auto;line-height:normal;font-family:Menlo,'DejaVu Sans Mono',consolas,'Courier New',monospace\"><span style=\"color: #808000; text-decoration-color: #808000\">Requirement already satisfied: six in /usr/local/lib/python3.8/site-packages (from catboost-&gt;-r /.requirements.txt (line 1)) (1.16.0)\n",
       "</span></pre>\n"
      ],
      "text/plain": [
       "\u001b[33mRequirement already satisfied: six in /usr/local/lib/python3.8/site-packages (from catboost->-r /.requirements.txt (line 1)) (1.16.0)\n",
       "\u001b[0m"
      ]
     },
     "metadata": {},
     "output_type": "display_data"
    },
    {
     "data": {
      "text/html": [
       "<pre style=\"white-space:pre;overflow-x:auto;line-height:normal;font-family:Menlo,'DejaVu Sans Mono',consolas,'Courier New',monospace\"><span style=\"color: #808000; text-decoration-color: #808000\">Collecting scipy\n",
       "</span></pre>\n"
      ],
      "text/plain": [
       "\u001b[33mCollecting scipy\n",
       "\u001b[0m"
      ]
     },
     "metadata": {},
     "output_type": "display_data"
    },
    {
     "data": {
      "text/html": [
       "<pre style=\"white-space:pre;overflow-x:auto;line-height:normal;font-family:Menlo,'DejaVu Sans Mono',consolas,'Courier New',monospace\"><span style=\"color: #808000; text-decoration-color: #808000\">  Downloading scipy-1.10.1-cp38-cp38-manylinux_2_17_x86_64.manylinux2014_x86_64.whl (34.5 MB)\n",
       "</span></pre>\n"
      ],
      "text/plain": [
       "\u001b[33m  Downloading scipy-1.10.1-cp38-cp38-manylinux_2_17_x86_64.manylinux2014_x86_64.whl (34.5 MB)\n",
       "\u001b[0m"
      ]
     },
     "metadata": {},
     "output_type": "display_data"
    },
    {
     "data": {
      "text/html": [
       "<pre style=\"white-space:pre;overflow-x:auto;line-height:normal;font-family:Menlo,'DejaVu Sans Mono',consolas,'Courier New',monospace\"><span style=\"color: #808000; text-decoration-color: #808000\">     ━━━━━━━━━━━━━━━━━━━━━━━━━━━━━━━━━━━━━━━ 34.5/34.5 MB 203.7 MB/s eta 0:00:00\n",
       "</span></pre>\n"
      ],
      "text/plain": [
       "\u001b[33m     ━━━━━━━━━━━━━━━━━━━━━━━━━━━━━━━━━━━━━━━ 34.5/34.5 MB 203.7 MB/s eta 0:00:00\n",
       "\u001b[0m"
      ]
     },
     "metadata": {},
     "output_type": "display_data"
    },
    {
     "data": {
      "text/html": [
       "<pre style=\"white-space:pre;overflow-x:auto;line-height:normal;font-family:Menlo,'DejaVu Sans Mono',consolas,'Courier New',monospace\"><span style=\"color: #808000; text-decoration-color: #808000\">Collecting debugpy&gt;=1.6.5\n",
       "</span></pre>\n"
      ],
      "text/plain": [
       "\u001b[33mCollecting debugpy>=1.6.5\n",
       "\u001b[0m"
      ]
     },
     "metadata": {},
     "output_type": "display_data"
    },
    {
     "data": {
      "text/html": [
       "<pre style=\"white-space:pre;overflow-x:auto;line-height:normal;font-family:Menlo,'DejaVu Sans Mono',consolas,'Courier New',monospace\"><span style=\"color: #808000; text-decoration-color: #808000\">  Downloading debugpy-1.6.7-cp38-cp38-manylinux_2_17_x86_64.manylinux2014_x86_64.whl (3.1 MB)\n",
       "</span></pre>\n"
      ],
      "text/plain": [
       "\u001b[33m  Downloading debugpy-1.6.7-cp38-cp38-manylinux_2_17_x86_64.manylinux2014_x86_64.whl (3.1 MB)\n",
       "\u001b[0m"
      ]
     },
     "metadata": {},
     "output_type": "display_data"
    },
    {
     "data": {
      "text/html": [
       "<pre style=\"white-space:pre;overflow-x:auto;line-height:normal;font-family:Menlo,'DejaVu Sans Mono',consolas,'Courier New',monospace\"><span style=\"color: #808000; text-decoration-color: #808000\">     ━━━━━━━━━━━━━━━━━━━━━━━━━━━━━━━━━━━━━━━━ 3.1/3.1 MB 157.4 MB/s eta 0:00:00\n",
       "</span></pre>\n"
      ],
      "text/plain": [
       "\u001b[33m     ━━━━━━━━━━━━━━━━━━━━━━━━━━━━━━━━━━━━━━━━ 3.1/3.1 MB 157.4 MB/s eta 0:00:00\n",
       "\u001b[0m"
      ]
     },
     "metadata": {},
     "output_type": "display_data"
    },
    {
     "data": {
      "text/html": [
       "<pre style=\"white-space:pre;overflow-x:auto;line-height:normal;font-family:Menlo,'DejaVu Sans Mono',consolas,'Courier New',monospace\"><span style=\"color: #808000; text-decoration-color: #808000\">Collecting psutil\n",
       "</span></pre>\n"
      ],
      "text/plain": [
       "\u001b[33mCollecting psutil\n",
       "\u001b[0m"
      ]
     },
     "metadata": {},
     "output_type": "display_data"
    },
    {
     "data": {
      "text/html": [
       "<pre style=\"white-space:pre;overflow-x:auto;line-height:normal;font-family:Menlo,'DejaVu Sans Mono',consolas,'Courier New',monospace\"><span style=\"color: #808000; text-decoration-color: #808000\">  Downloading psutil-5.9.5-cp36-abi3-manylinux_2_12_x86_64.manylinux2010_x86_64.manylinux_2_17_x86_64.manylinux2014_x86_64.whl (282 kB)\n",
       "</span></pre>\n"
      ],
      "text/plain": [
       "\u001b[33m  Downloading psutil-5.9.5-cp36-abi3-manylinux_2_12_x86_64.manylinux2010_x86_64.manylinux_2_17_x86_64.manylinux2014_x86_64.whl (282 kB)\n",
       "\u001b[0m"
      ]
     },
     "metadata": {},
     "output_type": "display_data"
    },
    {
     "data": {
      "text/html": [
       "<pre style=\"white-space:pre;overflow-x:auto;line-height:normal;font-family:Menlo,'DejaVu Sans Mono',consolas,'Courier New',monospace\"><span style=\"color: #808000; text-decoration-color: #808000\">     ━━━━━━━━━━━━━━━━━━━━━━━━━━━━━━━━━━━━━ 282.1/282.1 kB 281.2 MB/s eta 0:00:00\n",
       "</span></pre>\n"
      ],
      "text/plain": [
       "\u001b[33m     ━━━━━━━━━━━━━━━━━━━━━━━━━━━━━━━━━━━━━ 282.1/282.1 kB 281.2 MB/s eta 0:00:00\n",
       "\u001b[0m"
      ]
     },
     "metadata": {},
     "output_type": "display_data"
    },
    {
     "data": {
      "text/html": [
       "<pre style=\"white-space:pre;overflow-x:auto;line-height:normal;font-family:Menlo,'DejaVu Sans Mono',consolas,'Courier New',monospace\"><span style=\"color: #808000; text-decoration-color: #808000\">Requirement already satisfied: packaging in /usr/local/lib/python3.8/site-packages (from ipykernel-&gt;-r /.requirements.txt (line 3)) (23.0)\n",
       "</span></pre>\n"
      ],
      "text/plain": [
       "\u001b[33mRequirement already satisfied: packaging in /usr/local/lib/python3.8/site-packages (from ipykernel->-r /.requirements.txt (line 3)) (23.0)\n",
       "\u001b[0m"
      ]
     },
     "metadata": {},
     "output_type": "display_data"
    },
    {
     "data": {
      "text/html": [
       "<pre style=\"white-space:pre;overflow-x:auto;line-height:normal;font-family:Menlo,'DejaVu Sans Mono',consolas,'Courier New',monospace\"><span style=\"color: #808000; text-decoration-color: #808000\">Requirement already satisfied: ipython&gt;=7.23.1 in /usr/local/lib/python3.8/site-packages (from ipykernel-&gt;-r /.requirements.txt (line 3)) (8.11.0)\n",
       "</span></pre>\n"
      ],
      "text/plain": [
       "\u001b[33mRequirement already satisfied: ipython>=7.23.1 in /usr/local/lib/python3.8/site-packages (from ipykernel->-r /.requirements.txt (line 3)) (8.11.0)\n",
       "\u001b[0m"
      ]
     },
     "metadata": {},
     "output_type": "display_data"
    },
    {
     "data": {
      "text/html": [
       "<pre style=\"white-space:pre;overflow-x:auto;line-height:normal;font-family:Menlo,'DejaVu Sans Mono',consolas,'Courier New',monospace\"><span style=\"color: #808000; text-decoration-color: #808000\">Collecting tornado&gt;=6.1\n",
       "</span></pre>\n"
      ],
      "text/plain": [
       "\u001b[33mCollecting tornado>=6.1\n",
       "\u001b[0m"
      ]
     },
     "metadata": {},
     "output_type": "display_data"
    },
    {
     "data": {
      "text/html": [
       "<pre style=\"white-space:pre;overflow-x:auto;line-height:normal;font-family:Menlo,'DejaVu Sans Mono',consolas,'Courier New',monospace\"><span style=\"color: #808000; text-decoration-color: #808000\">  Downloading tornado-6.3.1-cp38-abi3-manylinux_2_5_x86_64.manylinux1_x86_64.manylinux_2_17_x86_64.manylinux2014_x86_64.whl (426 kB)\n",
       "</span></pre>\n"
      ],
      "text/plain": [
       "\u001b[33m  Downloading tornado-6.3.1-cp38-abi3-manylinux_2_5_x86_64.manylinux1_x86_64.manylinux_2_17_x86_64.manylinux2014_x86_64.whl (426 kB)\n",
       "\u001b[0m"
      ]
     },
     "metadata": {},
     "output_type": "display_data"
    },
    {
     "data": {
      "text/html": [
       "<pre style=\"white-space:pre;overflow-x:auto;line-height:normal;font-family:Menlo,'DejaVu Sans Mono',consolas,'Courier New',monospace\"><span style=\"color: #808000; text-decoration-color: #808000\">     ━━━━━━━━━━━━━━━━━━━━━━━━━━━━━━━━━━━━━ 426.8/426.8 kB 294.0 MB/s eta 0:00:00\n",
       "</span></pre>\n"
      ],
      "text/plain": [
       "\u001b[33m     ━━━━━━━━━━━━━━━━━━━━━━━━━━━━━━━━━━━━━ 426.8/426.8 kB 294.0 MB/s eta 0:00:00\n",
       "\u001b[0m"
      ]
     },
     "metadata": {},
     "output_type": "display_data"
    },
    {
     "data": {
      "text/html": [
       "<pre style=\"white-space:pre;overflow-x:auto;line-height:normal;font-family:Menlo,'DejaVu Sans Mono',consolas,'Courier New',monospace\"><span style=\"color: #808000; text-decoration-color: #808000\">Collecting jupyter-core!=5.0.*,&gt;=4.12\n",
       "</span></pre>\n"
      ],
      "text/plain": [
       "\u001b[33mCollecting jupyter-core!=5.0.*,>=4.12\n",
       "\u001b[0m"
      ]
     },
     "metadata": {},
     "output_type": "display_data"
    },
    {
     "data": {
      "text/html": [
       "<pre style=\"white-space:pre;overflow-x:auto;line-height:normal;font-family:Menlo,'DejaVu Sans Mono',consolas,'Courier New',monospace\"><span style=\"color: #808000; text-decoration-color: #808000\">  Downloading jupyter_core-5.3.0-py3-none-any.whl (93 kB)\n",
       "</span></pre>\n"
      ],
      "text/plain": [
       "\u001b[33m  Downloading jupyter_core-5.3.0-py3-none-any.whl (93 kB)\n",
       "\u001b[0m"
      ]
     },
     "metadata": {},
     "output_type": "display_data"
    },
    {
     "data": {
      "text/html": [
       "<pre style=\"white-space:pre;overflow-x:auto;line-height:normal;font-family:Menlo,'DejaVu Sans Mono',consolas,'Courier New',monospace\"><span style=\"color: #808000; text-decoration-color: #808000\">     ━━━━━━━━━━━━━━━━━━━━━━━━━━━━━━━━━━━━━━━ 93.2/93.2 kB 272.9 MB/s eta 0:00:00\n",
       "</span></pre>\n"
      ],
      "text/plain": [
       "\u001b[33m     ━━━━━━━━━━━━━━━━━━━━━━━━━━━━━━━━━━━━━━━ 93.2/93.2 kB 272.9 MB/s eta 0:00:00\n",
       "\u001b[0m"
      ]
     },
     "metadata": {},
     "output_type": "display_data"
    },
    {
     "data": {
      "text/html": [
       "<pre style=\"white-space:pre;overflow-x:auto;line-height:normal;font-family:Menlo,'DejaVu Sans Mono',consolas,'Courier New',monospace\"><span style=\"color: #808000; text-decoration-color: #808000\">Requirement already satisfied: traitlets&gt;=5.4.0 in /usr/local/lib/python3.8/site-packages (from ipykernel-&gt;-r /.requirements.txt (line 3)) (5.9.0)\n",
       "</span></pre>\n"
      ],
      "text/plain": [
       "\u001b[33mRequirement already satisfied: traitlets>=5.4.0 in /usr/local/lib/python3.8/site-packages (from ipykernel->-r /.requirements.txt (line 3)) (5.9.0)\n",
       "\u001b[0m"
      ]
     },
     "metadata": {},
     "output_type": "display_data"
    },
    {
     "data": {
      "text/html": [
       "<pre style=\"white-space:pre;overflow-x:auto;line-height:normal;font-family:Menlo,'DejaVu Sans Mono',consolas,'Courier New',monospace\"><span style=\"color: #808000; text-decoration-color: #808000\">Collecting jupyter-client&gt;=6.1.12\n",
       "</span></pre>\n"
      ],
      "text/plain": [
       "\u001b[33mCollecting jupyter-client>=6.1.12\n",
       "\u001b[0m"
      ]
     },
     "metadata": {},
     "output_type": "display_data"
    },
    {
     "data": {
      "text/html": [
       "<pre style=\"white-space:pre;overflow-x:auto;line-height:normal;font-family:Menlo,'DejaVu Sans Mono',consolas,'Courier New',monospace\"><span style=\"color: #808000; text-decoration-color: #808000\">  Downloading jupyter_client-8.2.0-py3-none-any.whl (103 kB)\n",
       "</span></pre>\n"
      ],
      "text/plain": [
       "\u001b[33m  Downloading jupyter_client-8.2.0-py3-none-any.whl (103 kB)\n",
       "\u001b[0m"
      ]
     },
     "metadata": {},
     "output_type": "display_data"
    },
    {
     "data": {
      "text/html": [
       "<pre style=\"white-space:pre;overflow-x:auto;line-height:normal;font-family:Menlo,'DejaVu Sans Mono',consolas,'Courier New',monospace\"><span style=\"color: #808000; text-decoration-color: #808000\">     ━━━━━━━━━━━━━━━━━━━━━━━━━━━━━━━━━━━━━ 103.2/103.2 kB 259.2 MB/s eta 0:00:00\n",
       "</span></pre>\n"
      ],
      "text/plain": [
       "\u001b[33m     ━━━━━━━━━━━━━━━━━━━━━━━━━━━━━━━━━━━━━ 103.2/103.2 kB 259.2 MB/s eta 0:00:00\n",
       "\u001b[0m"
      ]
     },
     "metadata": {},
     "output_type": "display_data"
    },
    {
     "data": {
      "text/html": [
       "<pre style=\"white-space:pre;overflow-x:auto;line-height:normal;font-family:Menlo,'DejaVu Sans Mono',consolas,'Courier New',monospace\"><span style=\"color: #808000; text-decoration-color: #808000\">Collecting comm&gt;=0.1.1\n",
       "</span></pre>\n"
      ],
      "text/plain": [
       "\u001b[33mCollecting comm>=0.1.1\n",
       "\u001b[0m"
      ]
     },
     "metadata": {},
     "output_type": "display_data"
    },
    {
     "data": {
      "text/html": [
       "<pre style=\"white-space:pre;overflow-x:auto;line-height:normal;font-family:Menlo,'DejaVu Sans Mono',consolas,'Courier New',monospace\"><span style=\"color: #808000; text-decoration-color: #808000\">  Downloading comm-0.1.3-py3-none-any.whl (6.6 kB)\n",
       "</span></pre>\n"
      ],
      "text/plain": [
       "\u001b[33m  Downloading comm-0.1.3-py3-none-any.whl (6.6 kB)\n",
       "\u001b[0m"
      ]
     },
     "metadata": {},
     "output_type": "display_data"
    },
    {
     "data": {
      "text/html": [
       "<pre style=\"white-space:pre;overflow-x:auto;line-height:normal;font-family:Menlo,'DejaVu Sans Mono',consolas,'Courier New',monospace\"><span style=\"color: #808000; text-decoration-color: #808000\">Collecting pyzmq&gt;=20\n",
       "</span></pre>\n"
      ],
      "text/plain": [
       "\u001b[33mCollecting pyzmq>=20\n",
       "\u001b[0m"
      ]
     },
     "metadata": {},
     "output_type": "display_data"
    },
    {
     "data": {
      "text/html": [
       "<pre style=\"white-space:pre;overflow-x:auto;line-height:normal;font-family:Menlo,'DejaVu Sans Mono',consolas,'Courier New',monospace\"><span style=\"color: #808000; text-decoration-color: #808000\">  Downloading pyzmq-25.0.2-cp38-cp38-manylinux_2_12_x86_64.manylinux2010_x86_64.whl (1.1 MB)\n",
       "</span></pre>\n"
      ],
      "text/plain": [
       "\u001b[33m  Downloading pyzmq-25.0.2-cp38-cp38-manylinux_2_12_x86_64.manylinux2010_x86_64.whl (1.1 MB)\n",
       "\u001b[0m"
      ]
     },
     "metadata": {},
     "output_type": "display_data"
    },
    {
     "data": {
      "text/html": [
       "<pre style=\"white-space:pre;overflow-x:auto;line-height:normal;font-family:Menlo,'DejaVu Sans Mono',consolas,'Courier New',monospace\"><span style=\"color: #808000; text-decoration-color: #808000\">     ━━━━━━━━━━━━━━━━━━━━━━━━━━━━━━━━━━━━━━━━ 1.1/1.1 MB 286.4 MB/s eta 0:00:00\n",
       "</span></pre>\n"
      ],
      "text/plain": [
       "\u001b[33m     ━━━━━━━━━━━━━━━━━━━━━━━━━━━━━━━━━━━━━━━━ 1.1/1.1 MB 286.4 MB/s eta 0:00:00\n",
       "\u001b[0m"
      ]
     },
     "metadata": {},
     "output_type": "display_data"
    },
    {
     "data": {
      "text/html": [
       "<pre style=\"white-space:pre;overflow-x:auto;line-height:normal;font-family:Menlo,'DejaVu Sans Mono',consolas,'Courier New',monospace\"><span style=\"color: #808000; text-decoration-color: #808000\">Requirement already satisfied: matplotlib-inline&gt;=0.1 in /usr/local/lib/python3.8/site-packages (from ipykernel-&gt;-r /.requirements.txt (line 3)) (0.1.6)\n",
       "</span></pre>\n"
      ],
      "text/plain": [
       "\u001b[33mRequirement already satisfied: matplotlib-inline>=0.1 in /usr/local/lib/python3.8/site-packages (from ipykernel->-r /.requirements.txt (line 3)) (0.1.6)\n",
       "\u001b[0m"
      ]
     },
     "metadata": {},
     "output_type": "display_data"
    },
    {
     "data": {
      "text/html": [
       "<pre style=\"white-space:pre;overflow-x:auto;line-height:normal;font-family:Menlo,'DejaVu Sans Mono',consolas,'Courier New',monospace\"><span style=\"color: #808000; text-decoration-color: #808000\">Collecting nest-asyncio\n",
       "</span></pre>\n"
      ],
      "text/plain": [
       "\u001b[33mCollecting nest-asyncio\n",
       "\u001b[0m"
      ]
     },
     "metadata": {},
     "output_type": "display_data"
    },
    {
     "data": {
      "text/html": [
       "<pre style=\"white-space:pre;overflow-x:auto;line-height:normal;font-family:Menlo,'DejaVu Sans Mono',consolas,'Courier New',monospace\"><span style=\"color: #808000; text-decoration-color: #808000\">  Downloading nest_asyncio-1.5.6-py3-none-any.whl (5.2 kB)\n",
       "</span></pre>\n"
      ],
      "text/plain": [
       "\u001b[33m  Downloading nest_asyncio-1.5.6-py3-none-any.whl (5.2 kB)\n",
       "\u001b[0m"
      ]
     },
     "metadata": {},
     "output_type": "display_data"
    },
    {
     "data": {
      "text/html": [
       "<pre style=\"white-space:pre;overflow-x:auto;line-height:normal;font-family:Menlo,'DejaVu Sans Mono',consolas,'Courier New',monospace\"><span style=\"color: #808000; text-decoration-color: #808000\">Collecting widgetsnbextension~=4.0.7\n",
       "</span></pre>\n"
      ],
      "text/plain": [
       "\u001b[33mCollecting widgetsnbextension~=4.0.7\n",
       "\u001b[0m"
      ]
     },
     "metadata": {},
     "output_type": "display_data"
    },
    {
     "data": {
      "text/html": [
       "<pre style=\"white-space:pre;overflow-x:auto;line-height:normal;font-family:Menlo,'DejaVu Sans Mono',consolas,'Courier New',monospace\"><span style=\"color: #808000; text-decoration-color: #808000\">  Downloading widgetsnbextension-4.0.7-py3-none-any.whl (2.1 MB)\n",
       "</span></pre>\n"
      ],
      "text/plain": [
       "\u001b[33m  Downloading widgetsnbextension-4.0.7-py3-none-any.whl (2.1 MB)\n",
       "\u001b[0m"
      ]
     },
     "metadata": {},
     "output_type": "display_data"
    },
    {
     "data": {
      "text/html": [
       "<pre style=\"white-space:pre;overflow-x:auto;line-height:normal;font-family:Menlo,'DejaVu Sans Mono',consolas,'Courier New',monospace\"><span style=\"color: #808000; text-decoration-color: #808000\">     ━━━━━━━━━━━━━━━━━━━━━━━━━━━━━━━━━━━━━━━━ 2.1/2.1 MB 242.5 MB/s eta 0:00:00\n",
       "</span></pre>\n"
      ],
      "text/plain": [
       "\u001b[33m     ━━━━━━━━━━━━━━━━━━━━━━━━━━━━━━━━━━━━━━━━ 2.1/2.1 MB 242.5 MB/s eta 0:00:00\n",
       "\u001b[0m"
      ]
     },
     "metadata": {},
     "output_type": "display_data"
    },
    {
     "data": {
      "text/html": [
       "<pre style=\"white-space:pre;overflow-x:auto;line-height:normal;font-family:Menlo,'DejaVu Sans Mono',consolas,'Courier New',monospace\"><span style=\"color: #808000; text-decoration-color: #808000\">Collecting jupyterlab-widgets~=3.0.7\n",
       "</span></pre>\n"
      ],
      "text/plain": [
       "\u001b[33mCollecting jupyterlab-widgets~=3.0.7\n",
       "\u001b[0m"
      ]
     },
     "metadata": {},
     "output_type": "display_data"
    },
    {
     "data": {
      "text/html": [
       "<pre style=\"white-space:pre;overflow-x:auto;line-height:normal;font-family:Menlo,'DejaVu Sans Mono',consolas,'Courier New',monospace\"><span style=\"color: #808000; text-decoration-color: #808000\">  Downloading jupyterlab_widgets-3.0.7-py3-none-any.whl (198 kB)\n",
       "</span></pre>\n"
      ],
      "text/plain": [
       "\u001b[33m  Downloading jupyterlab_widgets-3.0.7-py3-none-any.whl (198 kB)\n",
       "\u001b[0m"
      ]
     },
     "metadata": {},
     "output_type": "display_data"
    },
    {
     "data": {
      "text/html": [
       "<pre style=\"white-space:pre;overflow-x:auto;line-height:normal;font-family:Menlo,'DejaVu Sans Mono',consolas,'Courier New',monospace\"><span style=\"color: #808000; text-decoration-color: #808000\">     ━━━━━━━━━━━━━━━━━━━━━━━━━━━━━━━━━━━━━ 198.2/198.2 kB 291.5 MB/s eta 0:00:00\n",
       "</span></pre>\n"
      ],
      "text/plain": [
       "\u001b[33m     ━━━━━━━━━━━━━━━━━━━━━━━━━━━━━━━━━━━━━ 198.2/198.2 kB 291.5 MB/s eta 0:00:00\n",
       "\u001b[0m"
      ]
     },
     "metadata": {},
     "output_type": "display_data"
    },
    {
     "data": {
      "text/html": [
       "<pre style=\"white-space:pre;overflow-x:auto;line-height:normal;font-family:Menlo,'DejaVu Sans Mono',consolas,'Courier New',monospace\"><span style=\"color: #808000; text-decoration-color: #808000\">Collecting jupyter-server-ydoc~=0.8.0\n",
       "</span></pre>\n"
      ],
      "text/plain": [
       "\u001b[33mCollecting jupyter-server-ydoc~=0.8.0\n",
       "\u001b[0m"
      ]
     },
     "metadata": {},
     "output_type": "display_data"
    },
    {
     "data": {
      "text/html": [
       "<pre style=\"white-space:pre;overflow-x:auto;line-height:normal;font-family:Menlo,'DejaVu Sans Mono',consolas,'Courier New',monospace\"><span style=\"color: #808000; text-decoration-color: #808000\">  Downloading jupyter_server_ydoc-0.8.0-py3-none-any.whl (11 kB)\n",
       "</span></pre>\n"
      ],
      "text/plain": [
       "\u001b[33m  Downloading jupyter_server_ydoc-0.8.0-py3-none-any.whl (11 kB)\n",
       "\u001b[0m"
      ]
     },
     "metadata": {},
     "output_type": "display_data"
    },
    {
     "data": {
      "text/html": [
       "<pre style=\"white-space:pre;overflow-x:auto;line-height:normal;font-family:Menlo,'DejaVu Sans Mono',consolas,'Courier New',monospace\"><span style=\"color: #808000; text-decoration-color: #808000\">Collecting jupyterlab-server~=2.19\n",
       "</span></pre>\n"
      ],
      "text/plain": [
       "\u001b[33mCollecting jupyterlab-server~=2.19\n",
       "\u001b[0m"
      ]
     },
     "metadata": {},
     "output_type": "display_data"
    },
    {
     "data": {
      "text/html": [
       "<pre style=\"white-space:pre;overflow-x:auto;line-height:normal;font-family:Menlo,'DejaVu Sans Mono',consolas,'Courier New',monospace\"><span style=\"color: #808000; text-decoration-color: #808000\">  Downloading jupyterlab_server-2.22.1-py3-none-any.whl (57 kB)\n",
       "</span></pre>\n"
      ],
      "text/plain": [
       "\u001b[33m  Downloading jupyterlab_server-2.22.1-py3-none-any.whl (57 kB)\n",
       "\u001b[0m"
      ]
     },
     "metadata": {},
     "output_type": "display_data"
    },
    {
     "data": {
      "text/html": [
       "<pre style=\"white-space:pre;overflow-x:auto;line-height:normal;font-family:Menlo,'DejaVu Sans Mono',consolas,'Courier New',monospace\"><span style=\"color: #808000; text-decoration-color: #808000\">     ━━━━━━━━━━━━━━━━━━━━━━━━━━━━━━━━━━━━━━━ 57.0/57.0 kB 234.4 MB/s eta 0:00:00\n",
       "</span></pre>\n"
      ],
      "text/plain": [
       "\u001b[33m     ━━━━━━━━━━━━━━━━━━━━━━━━━━━━━━━━━━━━━━━ 57.0/57.0 kB 234.4 MB/s eta 0:00:00\n",
       "\u001b[0m"
      ]
     },
     "metadata": {},
     "output_type": "display_data"
    },
    {
     "data": {
      "text/html": [
       "<pre style=\"white-space:pre;overflow-x:auto;line-height:normal;font-family:Menlo,'DejaVu Sans Mono',consolas,'Courier New',monospace\"><span style=\"color: #808000; text-decoration-color: #808000\">Collecting tomli\n",
       "</span></pre>\n"
      ],
      "text/plain": [
       "\u001b[33mCollecting tomli\n",
       "\u001b[0m"
      ]
     },
     "metadata": {},
     "output_type": "display_data"
    },
    {
     "data": {
      "text/html": [
       "<pre style=\"white-space:pre;overflow-x:auto;line-height:normal;font-family:Menlo,'DejaVu Sans Mono',consolas,'Courier New',monospace\"><span style=\"color: #808000; text-decoration-color: #808000\">  Downloading tomli-2.0.1-py3-none-any.whl (12 kB)\n",
       "</span></pre>\n"
      ],
      "text/plain": [
       "\u001b[33m  Downloading tomli-2.0.1-py3-none-any.whl (12 kB)\n",
       "\u001b[0m"
      ]
     },
     "metadata": {},
     "output_type": "display_data"
    },
    {
     "data": {
      "text/html": [
       "<pre style=\"white-space:pre;overflow-x:auto;line-height:normal;font-family:Menlo,'DejaVu Sans Mono',consolas,'Courier New',monospace\"><span style=\"color: #808000; text-decoration-color: #808000\">Collecting notebook&lt;7\n",
       "</span></pre>\n"
      ],
      "text/plain": [
       "\u001b[33mCollecting notebook<7\n",
       "\u001b[0m"
      ]
     },
     "metadata": {},
     "output_type": "display_data"
    },
    {
     "data": {
      "text/html": [
       "<pre style=\"white-space:pre;overflow-x:auto;line-height:normal;font-family:Menlo,'DejaVu Sans Mono',consolas,'Courier New',monospace\"><span style=\"color: #808000; text-decoration-color: #808000\">  Downloading notebook-6.5.4-py3-none-any.whl (529 kB)\n",
       "</span></pre>\n"
      ],
      "text/plain": [
       "\u001b[33m  Downloading notebook-6.5.4-py3-none-any.whl (529 kB)\n",
       "\u001b[0m"
      ]
     },
     "metadata": {},
     "output_type": "display_data"
    },
    {
     "data": {
      "text/html": [
       "<pre style=\"white-space:pre;overflow-x:auto;line-height:normal;font-family:Menlo,'DejaVu Sans Mono',consolas,'Courier New',monospace\"><span style=\"color: #808000; text-decoration-color: #808000\">     ━━━━━━━━━━━━━━━━━━━━━━━━━━━━━━━━━━━━━ 529.8/529.8 kB 303.5 MB/s eta 0:00:00\n",
       "</span></pre>\n"
      ],
      "text/plain": [
       "\u001b[33m     ━━━━━━━━━━━━━━━━━━━━━━━━━━━━━━━━━━━━━ 529.8/529.8 kB 303.5 MB/s eta 0:00:00\n",
       "\u001b[0m"
      ]
     },
     "metadata": {},
     "output_type": "display_data"
    },
    {
     "data": {
      "text/html": [
       "<pre style=\"white-space:pre;overflow-x:auto;line-height:normal;font-family:Menlo,'DejaVu Sans Mono',consolas,'Courier New',monospace\"><span style=\"color: #808000; text-decoration-color: #808000\">Collecting jinja2&gt;=2.1\n",
       "</span></pre>\n"
      ],
      "text/plain": [
       "\u001b[33mCollecting jinja2>=2.1\n",
       "\u001b[0m"
      ]
     },
     "metadata": {},
     "output_type": "display_data"
    },
    {
     "data": {
      "text/html": [
       "<pre style=\"white-space:pre;overflow-x:auto;line-height:normal;font-family:Menlo,'DejaVu Sans Mono',consolas,'Courier New',monospace\"><span style=\"color: #808000; text-decoration-color: #808000\">  Downloading Jinja2-3.1.2-py3-none-any.whl (133 kB)\n",
       "</span></pre>\n"
      ],
      "text/plain": [
       "\u001b[33m  Downloading Jinja2-3.1.2-py3-none-any.whl (133 kB)\n",
       "\u001b[0m"
      ]
     },
     "metadata": {},
     "output_type": "display_data"
    },
    {
     "data": {
      "text/html": [
       "<pre style=\"white-space:pre;overflow-x:auto;line-height:normal;font-family:Menlo,'DejaVu Sans Mono',consolas,'Courier New',monospace\"><span style=\"color: #808000; text-decoration-color: #808000\">     ━━━━━━━━━━━━━━━━━━━━━━━━━━━━━━━━━━━━━ 133.1/133.1 kB 287.3 MB/s eta 0:00:00\n",
       "</span></pre>\n"
      ],
      "text/plain": [
       "\u001b[33m     ━━━━━━━━━━━━━━━━━━━━━━━━━━━━━━━━━━━━━ 133.1/133.1 kB 287.3 MB/s eta 0:00:00\n",
       "\u001b[0m"
      ]
     },
     "metadata": {},
     "output_type": "display_data"
    },
    {
     "data": {
      "text/html": [
       "<pre style=\"white-space:pre;overflow-x:auto;line-height:normal;font-family:Menlo,'DejaVu Sans Mono',consolas,'Courier New',monospace\"><span style=\"color: #808000; text-decoration-color: #808000\">Collecting jupyter-server&lt;3,&gt;=1.16.0\n",
       "</span></pre>\n"
      ],
      "text/plain": [
       "\u001b[33mCollecting jupyter-server<3,>=1.16.0\n",
       "\u001b[0m"
      ]
     },
     "metadata": {},
     "output_type": "display_data"
    },
    {
     "data": {
      "text/html": [
       "<pre style=\"white-space:pre;overflow-x:auto;line-height:normal;font-family:Menlo,'DejaVu Sans Mono',consolas,'Courier New',monospace\"><span style=\"color: #808000; text-decoration-color: #808000\">  Downloading jupyter_server-2.5.0-py3-none-any.whl (366 kB)\n",
       "</span></pre>\n"
      ],
      "text/plain": [
       "\u001b[33m  Downloading jupyter_server-2.5.0-py3-none-any.whl (366 kB)\n",
       "\u001b[0m"
      ]
     },
     "metadata": {},
     "output_type": "display_data"
    },
    {
     "data": {
      "text/html": [
       "<pre style=\"white-space:pre;overflow-x:auto;line-height:normal;font-family:Menlo,'DejaVu Sans Mono',consolas,'Courier New',monospace\"><span style=\"color: #808000; text-decoration-color: #808000\">     ━━━━━━━━━━━━━━━━━━━━━━━━━━━━━━━━━━━━━ 366.8/366.8 kB 295.8 MB/s eta 0:00:00\n",
       "</span></pre>\n"
      ],
      "text/plain": [
       "\u001b[33m     ━━━━━━━━━━━━━━━━━━━━━━━━━━━━━━━━━━━━━ 366.8/366.8 kB 295.8 MB/s eta 0:00:00\n",
       "\u001b[0m"
      ]
     },
     "metadata": {},
     "output_type": "display_data"
    },
    {
     "data": {
      "text/html": [
       "<pre style=\"white-space:pre;overflow-x:auto;line-height:normal;font-family:Menlo,'DejaVu Sans Mono',consolas,'Courier New',monospace\"><span style=\"color: #808000; text-decoration-color: #808000\">Collecting nbclassic\n",
       "</span></pre>\n"
      ],
      "text/plain": [
       "\u001b[33mCollecting nbclassic\n",
       "\u001b[0m"
      ]
     },
     "metadata": {},
     "output_type": "display_data"
    },
    {
     "data": {
      "text/html": [
       "<pre style=\"white-space:pre;overflow-x:auto;line-height:normal;font-family:Menlo,'DejaVu Sans Mono',consolas,'Courier New',monospace\"><span style=\"color: #808000; text-decoration-color: #808000\">  Downloading nbclassic-0.5.6-py3-none-any.whl (10.0 MB)\n",
       "</span></pre>\n"
      ],
      "text/plain": [
       "\u001b[33m  Downloading nbclassic-0.5.6-py3-none-any.whl (10.0 MB)\n",
       "\u001b[0m"
      ]
     },
     "metadata": {},
     "output_type": "display_data"
    },
    {
     "data": {
      "text/html": [
       "<pre style=\"white-space:pre;overflow-x:auto;line-height:normal;font-family:Menlo,'DejaVu Sans Mono',consolas,'Courier New',monospace\"><span style=\"color: #808000; text-decoration-color: #808000\">     ━━━━━━━━━━━━━━━━━━━━━━━━━━━━━━━━━━━━━━━ 10.0/10.0 MB 235.7 MB/s eta 0:00:00\n",
       "</span></pre>\n"
      ],
      "text/plain": [
       "\u001b[33m     ━━━━━━━━━━━━━━━━━━━━━━━━━━━━━━━━━━━━━━━ 10.0/10.0 MB 235.7 MB/s eta 0:00:00\n",
       "\u001b[0m"
      ]
     },
     "metadata": {},
     "output_type": "display_data"
    },
    {
     "data": {
      "text/html": [
       "<pre style=\"white-space:pre;overflow-x:auto;line-height:normal;font-family:Menlo,'DejaVu Sans Mono',consolas,'Courier New',monospace\"><span style=\"color: #808000; text-decoration-color: #808000\">Collecting jupyter-ydoc~=0.2.3\n",
       "</span></pre>\n"
      ],
      "text/plain": [
       "\u001b[33mCollecting jupyter-ydoc~=0.2.3\n",
       "\u001b[0m"
      ]
     },
     "metadata": {},
     "output_type": "display_data"
    },
    {
     "data": {
      "text/html": [
       "<pre style=\"white-space:pre;overflow-x:auto;line-height:normal;font-family:Menlo,'DejaVu Sans Mono',consolas,'Courier New',monospace\"><span style=\"color: #808000; text-decoration-color: #808000\">  Downloading jupyter_ydoc-0.2.4-py3-none-any.whl (5.9 kB)\n",
       "</span></pre>\n"
      ],
      "text/plain": [
       "\u001b[33m  Downloading jupyter_ydoc-0.2.4-py3-none-any.whl (5.9 kB)\n",
       "\u001b[0m"
      ]
     },
     "metadata": {},
     "output_type": "display_data"
    },
    {
     "data": {
      "text/html": [
       "<pre style=\"white-space:pre;overflow-x:auto;line-height:normal;font-family:Menlo,'DejaVu Sans Mono',consolas,'Courier New',monospace\"><span style=\"color: #808000; text-decoration-color: #808000\">Collecting contourpy&gt;=1.0.1\n",
       "</span></pre>\n"
      ],
      "text/plain": [
       "\u001b[33mCollecting contourpy>=1.0.1\n",
       "\u001b[0m"
      ]
     },
     "metadata": {},
     "output_type": "display_data"
    },
    {
     "data": {
      "text/html": [
       "<pre style=\"white-space:pre;overflow-x:auto;line-height:normal;font-family:Menlo,'DejaVu Sans Mono',consolas,'Courier New',monospace\"><span style=\"color: #808000; text-decoration-color: #808000\">  Downloading contourpy-1.0.7-cp38-cp38-manylinux_2_17_x86_64.manylinux2014_x86_64.whl (300 kB)\n",
       "</span></pre>\n"
      ],
      "text/plain": [
       "\u001b[33m  Downloading contourpy-1.0.7-cp38-cp38-manylinux_2_17_x86_64.manylinux2014_x86_64.whl (300 kB)\n",
       "\u001b[0m"
      ]
     },
     "metadata": {},
     "output_type": "display_data"
    },
    {
     "data": {
      "text/html": [
       "<pre style=\"white-space:pre;overflow-x:auto;line-height:normal;font-family:Menlo,'DejaVu Sans Mono',consolas,'Courier New',monospace\"><span style=\"color: #808000; text-decoration-color: #808000\">     ━━━━━━━━━━━━━━━━━━━━━━━━━━━━━━━━━━━━━ 300.0/300.0 kB 294.4 MB/s eta 0:00:00\n",
       "</span></pre>\n"
      ],
      "text/plain": [
       "\u001b[33m     ━━━━━━━━━━━━━━━━━━━━━━━━━━━━━━━━━━━━━ 300.0/300.0 kB 294.4 MB/s eta 0:00:00\n",
       "\u001b[0m"
      ]
     },
     "metadata": {},
     "output_type": "display_data"
    },
    {
     "data": {
      "text/html": [
       "<pre style=\"white-space:pre;overflow-x:auto;line-height:normal;font-family:Menlo,'DejaVu Sans Mono',consolas,'Courier New',monospace\"><span style=\"color: #808000; text-decoration-color: #808000\">Collecting python-dateutil&gt;=2.7\n",
       "</span></pre>\n"
      ],
      "text/plain": [
       "\u001b[33mCollecting python-dateutil>=2.7\n",
       "\u001b[0m"
      ]
     },
     "metadata": {},
     "output_type": "display_data"
    },
    {
     "data": {
      "text/html": [
       "<pre style=\"white-space:pre;overflow-x:auto;line-height:normal;font-family:Menlo,'DejaVu Sans Mono',consolas,'Courier New',monospace\"><span style=\"color: #808000; text-decoration-color: #808000\">  Downloading python_dateutil-2.8.2-py2.py3-none-any.whl (247 kB)\n",
       "</span></pre>\n"
      ],
      "text/plain": [
       "\u001b[33m  Downloading python_dateutil-2.8.2-py2.py3-none-any.whl (247 kB)\n",
       "\u001b[0m"
      ]
     },
     "metadata": {},
     "output_type": "display_data"
    },
    {
     "data": {
      "text/html": [
       "<pre style=\"white-space:pre;overflow-x:auto;line-height:normal;font-family:Menlo,'DejaVu Sans Mono',consolas,'Courier New',monospace\"><span style=\"color: #808000; text-decoration-color: #808000\">     ━━━━━━━━━━━━━━━━━━━━━━━━━━━━━━━━━━━━━ 247.7/247.7 kB 294.2 MB/s eta 0:00:00\n",
       "</span></pre>\n"
      ],
      "text/plain": [
       "\u001b[33m     ━━━━━━━━━━━━━━━━━━━━━━━━━━━━━━━━━━━━━ 247.7/247.7 kB 294.2 MB/s eta 0:00:00\n",
       "\u001b[0m"
      ]
     },
     "metadata": {},
     "output_type": "display_data"
    },
    {
     "data": {
      "text/html": [
       "<pre style=\"white-space:pre;overflow-x:auto;line-height:normal;font-family:Menlo,'DejaVu Sans Mono',consolas,'Courier New',monospace\"><span style=\"color: #808000; text-decoration-color: #808000\">Collecting fonttools&gt;=4.22.0\n",
       "</span></pre>\n"
      ],
      "text/plain": [
       "\u001b[33mCollecting fonttools>=4.22.0\n",
       "\u001b[0m"
      ]
     },
     "metadata": {},
     "output_type": "display_data"
    },
    {
     "data": {
      "text/html": [
       "<pre style=\"white-space:pre;overflow-x:auto;line-height:normal;font-family:Menlo,'DejaVu Sans Mono',consolas,'Courier New',monospace\"><span style=\"color: #808000; text-decoration-color: #808000\">  Downloading fonttools-4.39.3-py3-none-any.whl (1.0 MB)\n",
       "</span></pre>\n"
      ],
      "text/plain": [
       "\u001b[33m  Downloading fonttools-4.39.3-py3-none-any.whl (1.0 MB)\n",
       "\u001b[0m"
      ]
     },
     "metadata": {},
     "output_type": "display_data"
    },
    {
     "data": {
      "text/html": [
       "<pre style=\"white-space:pre;overflow-x:auto;line-height:normal;font-family:Menlo,'DejaVu Sans Mono',consolas,'Courier New',monospace\"><span style=\"color: #808000; text-decoration-color: #808000\">     ━━━━━━━━━━━━━━━━━━━━━━━━━━━━━━━━━━━━━━━━ 1.0/1.0 MB 291.7 MB/s eta 0:00:00\n",
       "</span></pre>\n"
      ],
      "text/plain": [
       "\u001b[33m     ━━━━━━━━━━━━━━━━━━━━━━━━━━━━━━━━━━━━━━━━ 1.0/1.0 MB 291.7 MB/s eta 0:00:00\n",
       "\u001b[0m"
      ]
     },
     "metadata": {},
     "output_type": "display_data"
    },
    {
     "data": {
      "text/html": [
       "<pre style=\"white-space:pre;overflow-x:auto;line-height:normal;font-family:Menlo,'DejaVu Sans Mono',consolas,'Courier New',monospace\"><span style=\"color: #808000; text-decoration-color: #808000\">Collecting kiwisolver&gt;=1.0.1\n",
       "</span></pre>\n"
      ],
      "text/plain": [
       "\u001b[33mCollecting kiwisolver>=1.0.1\n",
       "\u001b[0m"
      ]
     },
     "metadata": {},
     "output_type": "display_data"
    },
    {
     "data": {
      "text/html": [
       "<pre style=\"white-space:pre;overflow-x:auto;line-height:normal;font-family:Menlo,'DejaVu Sans Mono',consolas,'Courier New',monospace\"><span style=\"color: #808000; text-decoration-color: #808000\">  Downloading kiwisolver-1.4.4-cp38-cp38-manylinux_2_5_x86_64.manylinux1_x86_64.whl (1.2 MB)\n",
       "</span></pre>\n"
      ],
      "text/plain": [
       "\u001b[33m  Downloading kiwisolver-1.4.4-cp38-cp38-manylinux_2_5_x86_64.manylinux1_x86_64.whl (1.2 MB)\n",
       "\u001b[0m"
      ]
     },
     "metadata": {},
     "output_type": "display_data"
    },
    {
     "data": {
      "text/html": [
       "<pre style=\"white-space:pre;overflow-x:auto;line-height:normal;font-family:Menlo,'DejaVu Sans Mono',consolas,'Courier New',monospace\"><span style=\"color: #808000; text-decoration-color: #808000\">     ━━━━━━━━━━━━━━━━━━━━━━━━━━━━━━━━━━━━━━━━ 1.2/1.2 MB 282.4 MB/s eta 0:00:00\n",
       "</span></pre>\n"
      ],
      "text/plain": [
       "\u001b[33m     ━━━━━━━━━━━━━━━━━━━━━━━━━━━━━━━━━━━━━━━━ 1.2/1.2 MB 282.4 MB/s eta 0:00:00\n",
       "\u001b[0m"
      ]
     },
     "metadata": {},
     "output_type": "display_data"
    },
    {
     "data": {
      "text/html": [
       "<pre style=\"white-space:pre;overflow-x:auto;line-height:normal;font-family:Menlo,'DejaVu Sans Mono',consolas,'Courier New',monospace\"><span style=\"color: #808000; text-decoration-color: #808000\">Collecting cycler&gt;=0.10\n",
       "</span></pre>\n"
      ],
      "text/plain": [
       "\u001b[33mCollecting cycler>=0.10\n",
       "\u001b[0m"
      ]
     },
     "metadata": {},
     "output_type": "display_data"
    },
    {
     "data": {
      "text/html": [
       "<pre style=\"white-space:pre;overflow-x:auto;line-height:normal;font-family:Menlo,'DejaVu Sans Mono',consolas,'Courier New',monospace\"><span style=\"color: #808000; text-decoration-color: #808000\">  Downloading cycler-0.11.0-py3-none-any.whl (6.4 kB)\n",
       "</span></pre>\n"
      ],
      "text/plain": [
       "\u001b[33m  Downloading cycler-0.11.0-py3-none-any.whl (6.4 kB)\n",
       "\u001b[0m"
      ]
     },
     "metadata": {},
     "output_type": "display_data"
    },
    {
     "data": {
      "text/html": [
       "<pre style=\"white-space:pre;overflow-x:auto;line-height:normal;font-family:Menlo,'DejaVu Sans Mono',consolas,'Courier New',monospace\"><span style=\"color: #808000; text-decoration-color: #808000\">Collecting pyparsing&gt;=2.3.1\n",
       "</span></pre>\n"
      ],
      "text/plain": [
       "\u001b[33mCollecting pyparsing>=2.3.1\n",
       "\u001b[0m"
      ]
     },
     "metadata": {},
     "output_type": "display_data"
    },
    {
     "data": {
      "text/html": [
       "<pre style=\"white-space:pre;overflow-x:auto;line-height:normal;font-family:Menlo,'DejaVu Sans Mono',consolas,'Courier New',monospace\"><span style=\"color: #808000; text-decoration-color: #808000\">  Downloading pyparsing-3.0.9-py3-none-any.whl (98 kB)\n",
       "</span></pre>\n"
      ],
      "text/plain": [
       "\u001b[33m  Downloading pyparsing-3.0.9-py3-none-any.whl (98 kB)\n",
       "\u001b[0m"
      ]
     },
     "metadata": {},
     "output_type": "display_data"
    },
    {
     "data": {
      "text/html": [
       "<pre style=\"white-space:pre;overflow-x:auto;line-height:normal;font-family:Menlo,'DejaVu Sans Mono',consolas,'Courier New',monospace\"><span style=\"color: #808000; text-decoration-color: #808000\">     ━━━━━━━━━━━━━━━━━━━━━━━━━━━━━━━━━━━━━━━ 98.3/98.3 kB 268.7 MB/s eta 0:00:00\n",
       "</span></pre>\n"
      ],
      "text/plain": [
       "\u001b[33m     ━━━━━━━━━━━━━━━━━━━━━━━━━━━━━━━━━━━━━━━ 98.3/98.3 kB 268.7 MB/s eta 0:00:00\n",
       "\u001b[0m"
      ]
     },
     "metadata": {},
     "output_type": "display_data"
    },
    {
     "data": {
      "text/html": [
       "<pre style=\"white-space:pre;overflow-x:auto;line-height:normal;font-family:Menlo,'DejaVu Sans Mono',consolas,'Courier New',monospace\"><span style=\"color: #808000; text-decoration-color: #808000\">Collecting pillow&gt;=6.2.0\n",
       "</span></pre>\n"
      ],
      "text/plain": [
       "\u001b[33mCollecting pillow>=6.2.0\n",
       "\u001b[0m"
      ]
     },
     "metadata": {},
     "output_type": "display_data"
    },
    {
     "data": {
      "text/html": [
       "<pre style=\"white-space:pre;overflow-x:auto;line-height:normal;font-family:Menlo,'DejaVu Sans Mono',consolas,'Courier New',monospace\"><span style=\"color: #808000; text-decoration-color: #808000\">  Downloading Pillow-9.5.0-cp38-cp38-manylinux_2_28_x86_64.whl (3.4 MB)\n",
       "</span></pre>\n"
      ],
      "text/plain": [
       "\u001b[33m  Downloading Pillow-9.5.0-cp38-cp38-manylinux_2_28_x86_64.whl (3.4 MB)\n",
       "\u001b[0m"
      ]
     },
     "metadata": {},
     "output_type": "display_data"
    },
    {
     "data": {
      "text/html": [
       "<pre style=\"white-space:pre;overflow-x:auto;line-height:normal;font-family:Menlo,'DejaVu Sans Mono',consolas,'Courier New',monospace\"><span style=\"color: #808000; text-decoration-color: #808000\">     ━━━━━━━━━━━━━━━━━━━━━━━━━━━━━━━━━━━━━━━━ 3.4/3.4 MB 248.7 MB/s eta 0:00:00\n",
       "</span></pre>\n"
      ],
      "text/plain": [
       "\u001b[33m     ━━━━━━━━━━━━━━━━━━━━━━━━━━━━━━━━━━━━━━━━ 3.4/3.4 MB 248.7 MB/s eta 0:00:00\n",
       "\u001b[0m"
      ]
     },
     "metadata": {},
     "output_type": "display_data"
    },
    {
     "data": {
      "text/html": [
       "<pre style=\"white-space:pre;overflow-x:auto;line-height:normal;font-family:Menlo,'DejaVu Sans Mono',consolas,'Courier New',monospace\"><span style=\"color: #808000; text-decoration-color: #808000\">Requirement already satisfied: importlib-resources&gt;=3.2.0 in /usr/local/lib/python3.8/site-packages (from matplotlib-&gt;-r /.requirements.txt (line 6)) (5.12.0)\n",
       "</span></pre>\n"
      ],
      "text/plain": [
       "\u001b[33mRequirement already satisfied: importlib-resources>=3.2.0 in /usr/local/lib/python3.8/site-packages (from matplotlib->-r /.requirements.txt (line 6)) (5.12.0)\n",
       "\u001b[0m"
      ]
     },
     "metadata": {},
     "output_type": "display_data"
    },
    {
     "data": {
      "text/html": [
       "<pre style=\"white-space:pre;overflow-x:auto;line-height:normal;font-family:Menlo,'DejaVu Sans Mono',consolas,'Courier New',monospace\"><span style=\"color: #808000; text-decoration-color: #808000\">Requirement already satisfied: types-toml in /usr/local/lib/python3.8/site-packages (from modal-client-&gt;-r /.requirements.txt (line 7)) (0.10.4)\n",
       "</span></pre>\n"
      ],
      "text/plain": [
       "\u001b[33mRequirement already satisfied: types-toml in /usr/local/lib/python3.8/site-packages (from modal-client->-r /.requirements.txt (line 7)) (0.10.4)\n",
       "\u001b[0m"
      ]
     },
     "metadata": {},
     "output_type": "display_data"
    },
    {
     "data": {
      "text/html": [
       "<pre style=\"white-space:pre;overflow-x:auto;line-height:normal;font-family:Menlo,'DejaVu Sans Mono',consolas,'Courier New',monospace\"><span style=\"color: #808000; text-decoration-color: #808000\">Requirement already satisfied: certifi in /usr/local/lib/python3.8/site-packages (from modal-client-&gt;-r /.requirements.txt (line 7)) (2022.12.7)\n",
       "</span></pre>\n"
      ],
      "text/plain": [
       "\u001b[33mRequirement already satisfied: certifi in /usr/local/lib/python3.8/site-packages (from modal-client->-r /.requirements.txt (line 7)) (2022.12.7)\n",
       "\u001b[0m"
      ]
     },
     "metadata": {},
     "output_type": "display_data"
    },
    {
     "data": {
      "text/html": [
       "<pre style=\"white-space:pre;overflow-x:auto;line-height:normal;font-family:Menlo,'DejaVu Sans Mono',consolas,'Courier New',monospace\"><span style=\"color: #808000; text-decoration-color: #808000\">Requirement already satisfied: asgiref in /usr/local/lib/python3.8/site-packages (from modal-client-&gt;-r /.requirements.txt (line 7)) (3.5.2)\n",
       "</span></pre>\n"
      ],
      "text/plain": [
       "\u001b[33mRequirement already satisfied: asgiref in /usr/local/lib/python3.8/site-packages (from modal-client->-r /.requirements.txt (line 7)) (3.5.2)\n",
       "\u001b[0m"
      ]
     },
     "metadata": {},
     "output_type": "display_data"
    },
    {
     "data": {
      "text/html": [
       "<pre style=\"white-space:pre;overflow-x:auto;line-height:normal;font-family:Menlo,'DejaVu Sans Mono',consolas,'Courier New',monospace\"><span style=\"color: #808000; text-decoration-color: #808000\">Requirement already satisfied: protobuf&lt;5.0,&gt;=3.19 in /usr/local/lib/python3.8/site-packages (from modal-client-&gt;-r /.requirements.txt (line 7)) (4.22.1)\n",
       "</span></pre>\n"
      ],
      "text/plain": [
       "\u001b[33mRequirement already satisfied: protobuf<5.0,>=3.19 in /usr/local/lib/python3.8/site-packages (from modal-client->-r /.requirements.txt (line 7)) (4.22.1)\n",
       "\u001b[0m"
      ]
     },
     "metadata": {},
     "output_type": "display_data"
    },
    {
     "data": {
      "text/html": [
       "<pre style=\"white-space:pre;overflow-x:auto;line-height:normal;font-family:Menlo,'DejaVu Sans Mono',consolas,'Courier New',monospace\"><span style=\"color: #808000; text-decoration-color: #808000\">Requirement already satisfied: types-certifi in /usr/local/lib/python3.8/site-packages (from modal-client-&gt;-r /.requirements.txt (line 7)) (2021.10.8.3)\n",
       "</span></pre>\n"
      ],
      "text/plain": [
       "\u001b[33mRequirement already satisfied: types-certifi in /usr/local/lib/python3.8/site-packages (from modal-client->-r /.requirements.txt (line 7)) (2021.10.8.3)\n",
       "\u001b[0m"
      ]
     },
     "metadata": {},
     "output_type": "display_data"
    },
    {
     "data": {
      "text/html": [
       "<pre style=\"white-space:pre;overflow-x:auto;line-height:normal;font-family:Menlo,'DejaVu Sans Mono',consolas,'Courier New',monospace\"><span style=\"color: #808000; text-decoration-color: #808000\">Requirement already satisfied: aiohttp in /usr/local/lib/python3.8/site-packages (from modal-client-&gt;-r /.requirements.txt (line 7)) (3.8.3)\n",
       "</span></pre>\n"
      ],
      "text/plain": [
       "\u001b[33mRequirement already satisfied: aiohttp in /usr/local/lib/python3.8/site-packages (from modal-client->-r /.requirements.txt (line 7)) (3.8.3)\n",
       "\u001b[0m"
      ]
     },
     "metadata": {},
     "output_type": "display_data"
    },
    {
     "data": {
      "text/html": [
       "<pre style=\"white-space:pre;overflow-x:auto;line-height:normal;font-family:Menlo,'DejaVu Sans Mono',consolas,'Courier New',monospace\"><span style=\"color: #808000; text-decoration-color: #808000\">Requirement already satisfied: grpclib==0.4.3 in /usr/local/lib/python3.8/site-packages (from modal-client-&gt;-r /.requirements.txt (line 7)) (0.4.3)\n",
       "</span></pre>\n"
      ],
      "text/plain": [
       "\u001b[33mRequirement already satisfied: grpclib==0.4.3 in /usr/local/lib/python3.8/site-packages (from modal-client->-r /.requirements.txt (line 7)) (0.4.3)\n",
       "\u001b[0m"
      ]
     },
     "metadata": {},
     "output_type": "display_data"
    },
    {
     "data": {
      "text/html": [
       "<pre style=\"white-space:pre;overflow-x:auto;line-height:normal;font-family:Menlo,'DejaVu Sans Mono',consolas,'Courier New',monospace\"><span style=\"color: #808000; text-decoration-color: #808000\">Requirement already satisfied: click&gt;=8.1.0 in /usr/local/lib/python3.8/site-packages (from modal-client-&gt;-r /.requirements.txt (line 7)) (8.1.3)\n",
       "</span></pre>\n"
      ],
      "text/plain": [
       "\u001b[33mRequirement already satisfied: click>=8.1.0 in /usr/local/lib/python3.8/site-packages (from modal-client->-r /.requirements.txt (line 7)) (8.1.3)\n",
       "\u001b[0m"
      ]
     },
     "metadata": {},
     "output_type": "display_data"
    },
    {
     "data": {
      "text/html": [
       "<pre style=\"white-space:pre;overflow-x:auto;line-height:normal;font-family:Menlo,'DejaVu Sans Mono',consolas,'Courier New',monospace\"><span style=\"color: #808000; text-decoration-color: #808000\">Requirement already satisfied: typer&gt;=0.6.1 in /usr/local/lib/python3.8/site-packages (from modal-client-&gt;-r /.requirements.txt (line 7)) (0.6.1)\n",
       "</span></pre>\n"
      ],
      "text/plain": [
       "\u001b[33mRequirement already satisfied: typer>=0.6.1 in /usr/local/lib/python3.8/site-packages (from modal-client->-r /.requirements.txt (line 7)) (0.6.1)\n",
       "\u001b[0m"
      ]
     },
     "metadata": {},
     "output_type": "display_data"
    },
    {
     "data": {
      "text/html": [
       "<pre style=\"white-space:pre;overflow-x:auto;line-height:normal;font-family:Menlo,'DejaVu Sans Mono',consolas,'Courier New',monospace\"><span style=\"color: #808000; text-decoration-color: #808000\">Requirement already satisfied: rich&gt;=12.0.0 in /usr/local/lib/python3.8/site-packages (from modal-client-&gt;-r /.requirements.txt (line 7)) (12.3.0)\n",
       "</span></pre>\n"
      ],
      "text/plain": [
       "\u001b[33mRequirement already satisfied: rich>=12.0.0 in /usr/local/lib/python3.8/site-packages (from modal-client->-r /.requirements.txt (line 7)) (12.3.0)\n",
       "\u001b[0m"
      ]
     },
     "metadata": {},
     "output_type": "display_data"
    },
    {
     "data": {
      "text/html": [
       "<pre style=\"white-space:pre;overflow-x:auto;line-height:normal;font-family:Menlo,'DejaVu Sans Mono',consolas,'Courier New',monospace\"><span style=\"color: #808000; text-decoration-color: #808000\">Requirement already satisfied: importlib-metadata&gt;=3.6.0 in /usr/local/lib/python3.8/site-packages (from modal-client-&gt;-r /.requirements.txt (line 7)) (4.8.1)\n",
       "</span></pre>\n"
      ],
      "text/plain": [
       "\u001b[33mRequirement already satisfied: importlib-metadata>=3.6.0 in /usr/local/lib/python3.8/site-packages (from modal-client->-r /.requirements.txt (line 7)) (4.8.1)\n",
       "\u001b[0m"
      ]
     },
     "metadata": {},
     "output_type": "display_data"
    },
    {
     "data": {
      "text/html": [
       "<pre style=\"white-space:pre;overflow-x:auto;line-height:normal;font-family:Menlo,'DejaVu Sans Mono',consolas,'Courier New',monospace\"><span style=\"color: #808000; text-decoration-color: #808000\">Requirement already satisfied: cloudpickle&lt;2.1.0,&gt;=2.0.0 in /usr/local/lib/python3.8/site-packages (from modal-client-&gt;-r /.requirements.txt (line 7)) (2.0.0)\n",
       "</span></pre>\n"
      ],
      "text/plain": [
       "\u001b[33mRequirement already satisfied: cloudpickle<2.1.0,>=2.0.0 in /usr/local/lib/python3.8/site-packages (from modal-client->-r /.requirements.txt (line 7)) (2.0.0)\n",
       "\u001b[0m"
      ]
     },
     "metadata": {},
     "output_type": "display_data"
    },
    {
     "data": {
      "text/html": [
       "<pre style=\"white-space:pre;overflow-x:auto;line-height:normal;font-family:Menlo,'DejaVu Sans Mono',consolas,'Courier New',monospace\"><span style=\"color: #808000; text-decoration-color: #808000\">Collecting watchfiles\n",
       "</span></pre>\n"
      ],
      "text/plain": [
       "\u001b[33mCollecting watchfiles\n",
       "\u001b[0m"
      ]
     },
     "metadata": {},
     "output_type": "display_data"
    },
    {
     "data": {
      "text/html": [
       "<pre style=\"white-space:pre;overflow-x:auto;line-height:normal;font-family:Menlo,'DejaVu Sans Mono',consolas,'Courier New',monospace\"><span style=\"color: #808000; text-decoration-color: #808000\">  Downloading watchfiles-0.19.0-cp37-abi3-manylinux_2_17_x86_64.manylinux2014_x86_64.whl (1.3 MB)\n",
       "</span></pre>\n"
      ],
      "text/plain": [
       "\u001b[33m  Downloading watchfiles-0.19.0-cp37-abi3-manylinux_2_17_x86_64.manylinux2014_x86_64.whl (1.3 MB)\n",
       "\u001b[0m"
      ]
     },
     "metadata": {},
     "output_type": "display_data"
    },
    {
     "data": {
      "text/html": [
       "<pre style=\"white-space:pre;overflow-x:auto;line-height:normal;font-family:Menlo,'DejaVu Sans Mono',consolas,'Courier New',monospace\"><span style=\"color: #808000; text-decoration-color: #808000\">     ━━━━━━━━━━━━━━━━━━━━━━━━━━━━━━━━━━━━━━━━ 1.3/1.3 MB 282.3 MB/s eta 0:00:00\n",
       "</span></pre>\n"
      ],
      "text/plain": [
       "\u001b[33m     ━━━━━━━━━━━━━━━━━━━━━━━━━━━━━━━━━━━━━━━━ 1.3/1.3 MB 282.3 MB/s eta 0:00:00\n",
       "\u001b[0m"
      ]
     },
     "metadata": {},
     "output_type": "display_data"
    },
    {
     "data": {
      "text/html": [
       "<pre style=\"white-space:pre;overflow-x:auto;line-height:normal;font-family:Menlo,'DejaVu Sans Mono',consolas,'Courier New',monospace\"><span style=\"color: #808000; text-decoration-color: #808000\">Requirement already satisfied: toml in /usr/local/lib/python3.8/site-packages (from modal-client-&gt;-r /.requirements.txt (line 7)) (0.10.2)\n",
       "</span></pre>\n"
      ],
      "text/plain": [
       "\u001b[33mRequirement already satisfied: toml in /usr/local/lib/python3.8/site-packages (from modal-client->-r /.requirements.txt (line 7)) (0.10.2)\n",
       "\u001b[0m"
      ]
     },
     "metadata": {},
     "output_type": "display_data"
    },
    {
     "data": {
      "text/html": [
       "<pre style=\"white-space:pre;overflow-x:auto;line-height:normal;font-family:Menlo,'DejaVu Sans Mono',consolas,'Courier New',monospace\"><span style=\"color: #808000; text-decoration-color: #808000\">Requirement already satisfied: tblib&gt;=1.7.0 in /usr/local/lib/python3.8/site-packages (from modal-client-&gt;-r /.requirements.txt (line 7)) (1.7.0)\n",
       "</span></pre>\n"
      ],
      "text/plain": [
       "\u001b[33mRequirement already satisfied: tblib>=1.7.0 in /usr/local/lib/python3.8/site-packages (from modal-client->-r /.requirements.txt (line 7)) (1.7.0)\n",
       "\u001b[0m"
      ]
     },
     "metadata": {},
     "output_type": "display_data"
    },
    {
     "data": {
      "text/html": [
       "<pre style=\"white-space:pre;overflow-x:auto;line-height:normal;font-family:Menlo,'DejaVu Sans Mono',consolas,'Courier New',monospace\"><span style=\"color: #808000; text-decoration-color: #808000\">Collecting synchronicity==0.4.2\n",
       "</span></pre>\n"
      ],
      "text/plain": [
       "\u001b[33mCollecting synchronicity==0.4.2\n",
       "\u001b[0m"
      ]
     },
     "metadata": {},
     "output_type": "display_data"
    },
    {
     "data": {
      "text/html": [
       "<pre style=\"white-space:pre;overflow-x:auto;line-height:normal;font-family:Menlo,'DejaVu Sans Mono',consolas,'Courier New',monospace\"><span style=\"color: #808000; text-decoration-color: #808000\">  Downloading synchronicity-0.4.2-py3-none-any.whl (36 kB)\n",
       "</span></pre>\n"
      ],
      "text/plain": [
       "\u001b[33m  Downloading synchronicity-0.4.2-py3-none-any.whl (36 kB)\n",
       "\u001b[0m"
      ]
     },
     "metadata": {},
     "output_type": "display_data"
    },
    {
     "data": {
      "text/html": [
       "<pre style=\"white-space:pre;overflow-x:auto;line-height:normal;font-family:Menlo,'DejaVu Sans Mono',consolas,'Courier New',monospace\"><span style=\"color: #808000; text-decoration-color: #808000\">Requirement already satisfied: fastapi in /usr/local/lib/python3.8/site-packages (from modal-client-&gt;-r /.requirements.txt (line 7)) (0.88.0)\n",
       "</span></pre>\n"
      ],
      "text/plain": [
       "\u001b[33mRequirement already satisfied: fastapi in /usr/local/lib/python3.8/site-packages (from modal-client->-r /.requirements.txt (line 7)) (0.88.0)\n",
       "\u001b[0m"
      ]
     },
     "metadata": {},
     "output_type": "display_data"
    },
    {
     "data": {
      "text/html": [
       "<pre style=\"white-space:pre;overflow-x:auto;line-height:normal;font-family:Menlo,'DejaVu Sans Mono',consolas,'Courier New',monospace\"><span style=\"color: #808000; text-decoration-color: #808000\">Requirement already satisfied: aiostream in /usr/local/lib/python3.8/site-packages (from modal-client-&gt;-r /.requirements.txt (line 7)) (0.4.4)\n",
       "</span></pre>\n"
      ],
      "text/plain": [
       "\u001b[33mRequirement already satisfied: aiostream in /usr/local/lib/python3.8/site-packages (from modal-client->-r /.requirements.txt (line 7)) (0.4.4)\n",
       "\u001b[0m"
      ]
     },
     "metadata": {},
     "output_type": "display_data"
    },
    {
     "data": {
      "text/html": [
       "<pre style=\"white-space:pre;overflow-x:auto;line-height:normal;font-family:Menlo,'DejaVu Sans Mono',consolas,'Courier New',monospace\"><span style=\"color: #808000; text-decoration-color: #808000\">Requirement already satisfied: h2&lt;5,&gt;=3.1.0 in /usr/local/lib/python3.8/site-packages (from grpclib==0.4.3-&gt;modal-client-&gt;-r /.requirements.txt (line 7)) (4.1.0)\n",
       "</span></pre>\n"
      ],
      "text/plain": [
       "\u001b[33mRequirement already satisfied: h2<5,>=3.1.0 in /usr/local/lib/python3.8/site-packages (from grpclib==0.4.3->modal-client->-r /.requirements.txt (line 7)) (4.1.0)\n",
       "\u001b[0m"
      ]
     },
     "metadata": {},
     "output_type": "display_data"
    },
    {
     "data": {
      "text/html": [
       "<pre style=\"white-space:pre;overflow-x:auto;line-height:normal;font-family:Menlo,'DejaVu Sans Mono',consolas,'Courier New',monospace\"><span style=\"color: #808000; text-decoration-color: #808000\">Requirement already satisfied: multidict in /usr/local/lib/python3.8/site-packages (from grpclib==0.4.3-&gt;modal-client-&gt;-r /.requirements.txt (line 7)) (6.0.4)\n",
       "</span></pre>\n"
      ],
      "text/plain": [
       "\u001b[33mRequirement already satisfied: multidict in /usr/local/lib/python3.8/site-packages (from grpclib==0.4.3->modal-client->-r /.requirements.txt (line 7)) (6.0.4)\n",
       "\u001b[0m"
      ]
     },
     "metadata": {},
     "output_type": "display_data"
    },
    {
     "data": {
      "text/html": [
       "<pre style=\"white-space:pre;overflow-x:auto;line-height:normal;font-family:Menlo,'DejaVu Sans Mono',consolas,'Courier New',monospace\"><span style=\"color: #808000; text-decoration-color: #808000\">Collecting sigtools==4.0.1\n",
       "</span></pre>\n"
      ],
      "text/plain": [
       "\u001b[33mCollecting sigtools==4.0.1\n",
       "\u001b[0m"
      ]
     },
     "metadata": {},
     "output_type": "display_data"
    },
    {
     "data": {
      "text/html": [
       "<pre style=\"white-space:pre;overflow-x:auto;line-height:normal;font-family:Menlo,'DejaVu Sans Mono',consolas,'Courier New',monospace\"><span style=\"color: #808000; text-decoration-color: #808000\">  Downloading sigtools-4.0.1-py2.py3-none-any.whl (76 kB)\n",
       "</span></pre>\n"
      ],
      "text/plain": [
       "\u001b[33m  Downloading sigtools-4.0.1-py2.py3-none-any.whl (76 kB)\n",
       "\u001b[0m"
      ]
     },
     "metadata": {},
     "output_type": "display_data"
    },
    {
     "data": {
      "text/html": [
       "<pre style=\"white-space:pre;overflow-x:auto;line-height:normal;font-family:Menlo,'DejaVu Sans Mono',consolas,'Courier New',monospace\"><span style=\"color: #808000; text-decoration-color: #808000\">     ━━━━━━━━━━━━━━━━━━━━━━━━━━━━━━━━━━━━━━━ 76.4/76.4 kB 243.3 MB/s eta 0:00:00\n",
       "</span></pre>\n"
      ],
      "text/plain": [
       "\u001b[33m     ━━━━━━━━━━━━━━━━━━━━━━━━━━━━━━━━━━━━━━━ 76.4/76.4 kB 243.3 MB/s eta 0:00:00\n",
       "\u001b[0m"
      ]
     },
     "metadata": {},
     "output_type": "display_data"
    },
    {
     "data": {
      "text/html": [
       "<pre style=\"white-space:pre;overflow-x:auto;line-height:normal;font-family:Menlo,'DejaVu Sans Mono',consolas,'Courier New',monospace\"><span style=\"color: #808000; text-decoration-color: #808000\">Requirement already satisfied: attrs in /usr/local/lib/python3.8/site-packages (from sigtools==4.0.1-&gt;synchronicity==0.4.2-&gt;modal-client-&gt;-r /.requirements.txt (line 7)) (22.2.0)\n",
       "</span></pre>\n"
      ],
      "text/plain": [
       "\u001b[33mRequirement already satisfied: attrs in /usr/local/lib/python3.8/site-packages (from sigtools==4.0.1->synchronicity==0.4.2->modal-client->-r /.requirements.txt (line 7)) (22.2.0)\n",
       "\u001b[0m"
      ]
     },
     "metadata": {},
     "output_type": "display_data"
    },
    {
     "data": {
      "text/html": [
       "<pre style=\"white-space:pre;overflow-x:auto;line-height:normal;font-family:Menlo,'DejaVu Sans Mono',consolas,'Courier New',monospace\"><span style=\"color: #808000; text-decoration-color: #808000\">Collecting tzdata&gt;=2022.1\n",
       "</span></pre>\n"
      ],
      "text/plain": [
       "\u001b[33mCollecting tzdata>=2022.1\n",
       "\u001b[0m"
      ]
     },
     "metadata": {},
     "output_type": "display_data"
    },
    {
     "data": {
      "text/html": [
       "<pre style=\"white-space:pre;overflow-x:auto;line-height:normal;font-family:Menlo,'DejaVu Sans Mono',consolas,'Courier New',monospace\"><span style=\"color: #808000; text-decoration-color: #808000\">  Downloading tzdata-2023.3-py2.py3-none-any.whl (341 kB)\n",
       "</span></pre>\n"
      ],
      "text/plain": [
       "\u001b[33m  Downloading tzdata-2023.3-py2.py3-none-any.whl (341 kB)\n",
       "\u001b[0m"
      ]
     },
     "metadata": {},
     "output_type": "display_data"
    },
    {
     "data": {
      "text/html": [
       "<pre style=\"white-space:pre;overflow-x:auto;line-height:normal;font-family:Menlo,'DejaVu Sans Mono',consolas,'Courier New',monospace\"><span style=\"color: #808000; text-decoration-color: #808000\">     ━━━━━━━━━━━━━━━━━━━━━━━━━━━━━━━━━━━━━ 341.8/341.8 kB 282.6 MB/s eta 0:00:00\n",
       "</span></pre>\n"
      ],
      "text/plain": [
       "\u001b[33m     ━━━━━━━━━━━━━━━━━━━━━━━━━━━━━━━━━━━━━ 341.8/341.8 kB 282.6 MB/s eta 0:00:00\n",
       "\u001b[0m"
      ]
     },
     "metadata": {},
     "output_type": "display_data"
    },
    {
     "data": {
      "text/html": [
       "<pre style=\"white-space:pre;overflow-x:auto;line-height:normal;font-family:Menlo,'DejaVu Sans Mono',consolas,'Courier New',monospace\"><span style=\"color: #808000; text-decoration-color: #808000\">Collecting pytz&gt;=2020.1\n",
       "</span></pre>\n"
      ],
      "text/plain": [
       "\u001b[33mCollecting pytz>=2020.1\n",
       "\u001b[0m"
      ]
     },
     "metadata": {},
     "output_type": "display_data"
    },
    {
     "data": {
      "text/html": [
       "<pre style=\"white-space:pre;overflow-x:auto;line-height:normal;font-family:Menlo,'DejaVu Sans Mono',consolas,'Courier New',monospace\"><span style=\"color: #808000; text-decoration-color: #808000\">  Downloading pytz-2023.3-py2.py3-none-any.whl (502 kB)\n",
       "</span></pre>\n"
      ],
      "text/plain": [
       "\u001b[33m  Downloading pytz-2023.3-py2.py3-none-any.whl (502 kB)\n",
       "\u001b[0m"
      ]
     },
     "metadata": {},
     "output_type": "display_data"
    },
    {
     "data": {
      "text/html": [
       "<pre style=\"white-space:pre;overflow-x:auto;line-height:normal;font-family:Menlo,'DejaVu Sans Mono',consolas,'Courier New',monospace\"><span style=\"color: #808000; text-decoration-color: #808000\">     ━━━━━━━━━━━━━━━━━━━━━━━━━━━━━━━━━━━━━ 502.3/502.3 kB 276.5 MB/s eta 0:00:00\n",
       "</span></pre>\n"
      ],
      "text/plain": [
       "\u001b[33m     ━━━━━━━━━━━━━━━━━━━━━━━━━━━━━━━━━━━━━ 502.3/502.3 kB 276.5 MB/s eta 0:00:00\n",
       "\u001b[0m"
      ]
     },
     "metadata": {},
     "output_type": "display_data"
    },
    {
     "data": {
      "text/html": [
       "<pre style=\"white-space:pre;overflow-x:auto;line-height:normal;font-family:Menlo,'DejaVu Sans Mono',consolas,'Courier New',monospace\"><span style=\"color: #808000; text-decoration-color: #808000\">Collecting joblib&gt;=1.1.1\n",
       "</span></pre>\n"
      ],
      "text/plain": [
       "\u001b[33mCollecting joblib>=1.1.1\n",
       "\u001b[0m"
      ]
     },
     "metadata": {},
     "output_type": "display_data"
    },
    {
     "data": {
      "text/html": [
       "<pre style=\"white-space:pre;overflow-x:auto;line-height:normal;font-family:Menlo,'DejaVu Sans Mono',consolas,'Courier New',monospace\"><span style=\"color: #808000; text-decoration-color: #808000\">  Downloading joblib-1.2.0-py3-none-any.whl (297 kB)\n",
       "</span></pre>\n"
      ],
      "text/plain": [
       "\u001b[33m  Downloading joblib-1.2.0-py3-none-any.whl (297 kB)\n",
       "\u001b[0m"
      ]
     },
     "metadata": {},
     "output_type": "display_data"
    },
    {
     "data": {
      "text/html": [
       "<pre style=\"white-space:pre;overflow-x:auto;line-height:normal;font-family:Menlo,'DejaVu Sans Mono',consolas,'Courier New',monospace\"><span style=\"color: #808000; text-decoration-color: #808000\">     ━━━━━━━━━━━━━━━━━━━━━━━━━━━━━━━━━━━━━ 298.0/298.0 kB 263.5 MB/s eta 0:00:00\n",
       "</span></pre>\n"
      ],
      "text/plain": [
       "\u001b[33m     ━━━━━━━━━━━━━━━━━━━━━━━━━━━━━━━━━━━━━ 298.0/298.0 kB 263.5 MB/s eta 0:00:00\n",
       "\u001b[0m"
      ]
     },
     "metadata": {},
     "output_type": "display_data"
    },
    {
     "data": {
      "text/html": [
       "<pre style=\"white-space:pre;overflow-x:auto;line-height:normal;font-family:Menlo,'DejaVu Sans Mono',consolas,'Courier New',monospace\"><span style=\"color: #808000; text-decoration-color: #808000\">Collecting threadpoolctl&gt;=2.0.0\n",
       "</span></pre>\n"
      ],
      "text/plain": [
       "\u001b[33mCollecting threadpoolctl>=2.0.0\n",
       "\u001b[0m"
      ]
     },
     "metadata": {},
     "output_type": "display_data"
    },
    {
     "data": {
      "text/html": [
       "<pre style=\"white-space:pre;overflow-x:auto;line-height:normal;font-family:Menlo,'DejaVu Sans Mono',consolas,'Courier New',monospace\"><span style=\"color: #808000; text-decoration-color: #808000\">  Downloading threadpoolctl-3.1.0-py3-none-any.whl (14 kB)\n",
       "</span></pre>\n"
      ],
      "text/plain": [
       "\u001b[33m  Downloading threadpoolctl-3.1.0-py3-none-any.whl (14 kB)\n",
       "\u001b[0m"
      ]
     },
     "metadata": {},
     "output_type": "display_data"
    },
    {
     "data": {
      "text/html": [
       "<pre style=\"white-space:pre;overflow-x:auto;line-height:normal;font-family:Menlo,'DejaVu Sans Mono',consolas,'Courier New',monospace\"><span style=\"color: #808000; text-decoration-color: #808000\">Collecting sentence-transformers&lt;3.0.0,&gt;=2.2.2\n",
       "</span></pre>\n"
      ],
      "text/plain": [
       "\u001b[33mCollecting sentence-transformers<3.0.0,>=2.2.2\n",
       "\u001b[0m"
      ]
     },
     "metadata": {},
     "output_type": "display_data"
    },
    {
     "data": {
      "text/html": [
       "<pre style=\"white-space:pre;overflow-x:auto;line-height:normal;font-family:Menlo,'DejaVu Sans Mono',consolas,'Courier New',monospace\"><span style=\"color: #808000; text-decoration-color: #808000\">  Downloading sentence-transformers-2.2.2.tar.gz (85 kB)\n",
       "</span></pre>\n"
      ],
      "text/plain": [
       "\u001b[33m  Downloading sentence-transformers-2.2.2.tar.gz (85 kB)\n",
       "\u001b[0m"
      ]
     },
     "metadata": {},
     "output_type": "display_data"
    },
    {
     "data": {
      "text/html": [
       "<pre style=\"white-space:pre;overflow-x:auto;line-height:normal;font-family:Menlo,'DejaVu Sans Mono',consolas,'Courier New',monospace\"><span style=\"color: #808000; text-decoration-color: #808000\">     ━━━━━━━━━━━━━━━━━━━━━━━━━━━━━━━━━━━━━━━ 86.0/86.0 kB 248.7 MB/s eta 0:00:00\n",
       "</span></pre>\n"
      ],
      "text/plain": [
       "\u001b[33m     ━━━━━━━━━━━━━━━━━━━━━━━━━━━━━━━━━━━━━━━ 86.0/86.0 kB 248.7 MB/s eta 0:00:00\n",
       "\u001b[0m"
      ]
     },
     "metadata": {},
     "output_type": "display_data"
    },
    {
     "data": {
      "text/html": [
       "<pre style=\"white-space:pre;overflow-x:auto;line-height:normal;font-family:Menlo,'DejaVu Sans Mono',consolas,'Courier New',monospace\"><span style=\"color: #808000; text-decoration-color: #808000\">  Preparing metadata (setup.py): started\n",
       "</span></pre>\n"
      ],
      "text/plain": [
       "\u001b[33m  Preparing metadata (setup.py): started\n",
       "\u001b[0m"
      ]
     },
     "metadata": {},
     "output_type": "display_data"
    },
    {
     "data": {
      "text/html": [
       "<pre style=\"white-space:pre;overflow-x:auto;line-height:normal;font-family:Menlo,'DejaVu Sans Mono',consolas,'Courier New',monospace\"><span style=\"color: #808000; text-decoration-color: #808000\">  Preparing metadata (setup.py): finished with status 'done'\n",
       "</span></pre>\n"
      ],
      "text/plain": [
       "\u001b[33m  Preparing metadata (setup.py): finished with status 'done'\n",
       "\u001b[0m"
      ]
     },
     "metadata": {},
     "output_type": "display_data"
    },
    {
     "data": {
      "text/html": [
       "<pre style=\"white-space:pre;overflow-x:auto;line-height:normal;font-family:Menlo,'DejaVu Sans Mono',consolas,'Courier New',monospace\"><span style=\"color: #808000; text-decoration-color: #808000\">Collecting pyarrow&lt;12.0.0,&gt;=11.0.0\n",
       "</span></pre>\n"
      ],
      "text/plain": [
       "\u001b[33mCollecting pyarrow<12.0.0,>=11.0.0\n",
       "\u001b[0m"
      ]
     },
     "metadata": {},
     "output_type": "display_data"
    },
    {
     "data": {
      "text/html": [
       "<pre style=\"white-space:pre;overflow-x:auto;line-height:normal;font-family:Menlo,'DejaVu Sans Mono',consolas,'Courier New',monospace\"><span style=\"color: #808000; text-decoration-color: #808000\">  Downloading pyarrow-11.0.0-cp38-cp38-manylinux_2_17_x86_64.manylinux2014_x86_64.whl (35.0 MB)\n",
       "</span></pre>\n"
      ],
      "text/plain": [
       "\u001b[33m  Downloading pyarrow-11.0.0-cp38-cp38-manylinux_2_17_x86_64.manylinux2014_x86_64.whl (35.0 MB)\n",
       "\u001b[0m"
      ]
     },
     "metadata": {},
     "output_type": "display_data"
    },
    {
     "data": {
      "text/html": [
       "<pre style=\"white-space:pre;overflow-x:auto;line-height:normal;font-family:Menlo,'DejaVu Sans Mono',consolas,'Courier New',monospace\"><span style=\"color: #808000; text-decoration-color: #808000\">     ━━━━━━━━━━━━━━━━━━━━━━━━━━━━━━━━━━━━━━━ 35.0/35.0 MB 173.6 MB/s eta 0:00:00\n",
       "</span></pre>\n"
      ],
      "text/plain": [
       "\u001b[33m     ━━━━━━━━━━━━━━━━━━━━━━━━━━━━━━━━━━━━━━━ 35.0/35.0 MB 173.6 MB/s eta 0:00:00\n",
       "\u001b[0m"
      ]
     },
     "metadata": {},
     "output_type": "display_data"
    },
    {
     "data": {
      "text/html": [
       "<pre style=\"white-space:pre;overflow-x:auto;line-height:normal;font-family:Menlo,'DejaVu Sans Mono',consolas,'Courier New',monospace\"><span style=\"color: #808000; text-decoration-color: #808000\">Collecting polars&lt;0.18.0,&gt;=0.17.5\n",
       "</span></pre>\n"
      ],
      "text/plain": [
       "\u001b[33mCollecting polars<0.18.0,>=0.17.5\n",
       "\u001b[0m"
      ]
     },
     "metadata": {},
     "output_type": "display_data"
    },
    {
     "data": {
      "text/html": [
       "<pre style=\"white-space:pre;overflow-x:auto;line-height:normal;font-family:Menlo,'DejaVu Sans Mono',consolas,'Courier New',monospace\"><span style=\"color: #808000; text-decoration-color: #808000\">  Downloading polars-0.17.10-cp37-abi3-manylinux_2_17_x86_64.manylinux2014_x86_64.whl (17.9 MB)\n",
       "</span></pre>\n"
      ],
      "text/plain": [
       "\u001b[33m  Downloading polars-0.17.10-cp37-abi3-manylinux_2_17_x86_64.manylinux2014_x86_64.whl (17.9 MB)\n",
       "\u001b[0m"
      ]
     },
     "metadata": {},
     "output_type": "display_data"
    },
    {
     "data": {
      "text/html": [
       "<pre style=\"white-space:pre;overflow-x:auto;line-height:normal;font-family:Menlo,'DejaVu Sans Mono',consolas,'Courier New',monospace\"><span style=\"color: #808000; text-decoration-color: #808000\">     ━━━━━━━━━━━━━━━━━━━━━━━━━━━━━━━━━━━━━━━ 17.9/17.9 MB 209.7 MB/s eta 0:00:00\n",
       "</span></pre>\n"
      ],
      "text/plain": [
       "\u001b[33m     ━━━━━━━━━━━━━━━━━━━━━━━━━━━━━━━━━━━━━━━ 17.9/17.9 MB 209.7 MB/s eta 0:00:00\n",
       "\u001b[0m"
      ]
     },
     "metadata": {},
     "output_type": "display_data"
    },
    {
     "data": {
      "text/html": [
       "<pre style=\"white-space:pre;overflow-x:auto;line-height:normal;font-family:Menlo,'DejaVu Sans Mono',consolas,'Courier New',monospace\"><span style=\"color: #808000; text-decoration-color: #808000\">Requirement already satisfied: zipp&gt;=0.5 in /usr/local/lib/python3.8/site-packages (from importlib-metadata&gt;=3.6.0-&gt;modal-client-&gt;-r /.requirements.txt (line 7)) (3.15.0)\n",
       "</span></pre>\n"
      ],
      "text/plain": [
       "\u001b[33mRequirement already satisfied: zipp>=0.5 in /usr/local/lib/python3.8/site-packages (from importlib-metadata>=3.6.0->modal-client->-r /.requirements.txt (line 7)) (3.15.0)\n",
       "\u001b[0m"
      ]
     },
     "metadata": {},
     "output_type": "display_data"
    },
    {
     "data": {
      "text/html": [
       "<pre style=\"white-space:pre;overflow-x:auto;line-height:normal;font-family:Menlo,'DejaVu Sans Mono',consolas,'Courier New',monospace\"><span style=\"color: #808000; text-decoration-color: #808000\">Requirement already satisfied: pygments&gt;=2.4.0 in /usr/local/lib/python3.8/site-packages (from ipython&gt;=7.23.1-&gt;ipykernel-&gt;-r /.requirements.txt (line 3)) (2.14.0)\n",
       "</span></pre>\n"
      ],
      "text/plain": [
       "\u001b[33mRequirement already satisfied: pygments>=2.4.0 in /usr/local/lib/python3.8/site-packages (from ipython>=7.23.1->ipykernel->-r /.requirements.txt (line 3)) (2.14.0)\n",
       "\u001b[0m"
      ]
     },
     "metadata": {},
     "output_type": "display_data"
    },
    {
     "data": {
      "text/html": [
       "<pre style=\"white-space:pre;overflow-x:auto;line-height:normal;font-family:Menlo,'DejaVu Sans Mono',consolas,'Courier New',monospace\"><span style=\"color: #808000; text-decoration-color: #808000\">Requirement already satisfied: jedi&gt;=0.16 in /usr/local/lib/python3.8/site-packages (from ipython&gt;=7.23.1-&gt;ipykernel-&gt;-r /.requirements.txt (line 3)) (0.18.2)\n",
       "</span></pre>\n"
      ],
      "text/plain": [
       "\u001b[33mRequirement already satisfied: jedi>=0.16 in /usr/local/lib/python3.8/site-packages (from ipython>=7.23.1->ipykernel->-r /.requirements.txt (line 3)) (0.18.2)\n",
       "\u001b[0m"
      ]
     },
     "metadata": {},
     "output_type": "display_data"
    },
    {
     "data": {
      "text/html": [
       "<pre style=\"white-space:pre;overflow-x:auto;line-height:normal;font-family:Menlo,'DejaVu Sans Mono',consolas,'Courier New',monospace\"><span style=\"color: #808000; text-decoration-color: #808000\">Requirement already satisfied: stack-data in /usr/local/lib/python3.8/site-packages (from ipython&gt;=7.23.1-&gt;ipykernel-&gt;-r /.requirements.txt (line 3)) (0.6.2)\n",
       "</span></pre>\n"
      ],
      "text/plain": [
       "\u001b[33mRequirement already satisfied: stack-data in /usr/local/lib/python3.8/site-packages (from ipython>=7.23.1->ipykernel->-r /.requirements.txt (line 3)) (0.6.2)\n",
       "\u001b[0m"
      ]
     },
     "metadata": {},
     "output_type": "display_data"
    },
    {
     "data": {
      "text/html": [
       "<pre style=\"white-space:pre;overflow-x:auto;line-height:normal;font-family:Menlo,'DejaVu Sans Mono',consolas,'Courier New',monospace\"><span style=\"color: #808000; text-decoration-color: #808000\">Requirement already satisfied: pickleshare in /usr/local/lib/python3.8/site-packages (from ipython&gt;=7.23.1-&gt;ipykernel-&gt;-r /.requirements.txt (line 3)) (0.7.5)\n",
       "</span></pre>\n"
      ],
      "text/plain": [
       "\u001b[33mRequirement already satisfied: pickleshare in /usr/local/lib/python3.8/site-packages (from ipython>=7.23.1->ipykernel->-r /.requirements.txt (line 3)) (0.7.5)\n",
       "\u001b[0m"
      ]
     },
     "metadata": {},
     "output_type": "display_data"
    },
    {
     "data": {
      "text/html": [
       "<pre style=\"white-space:pre;overflow-x:auto;line-height:normal;font-family:Menlo,'DejaVu Sans Mono',consolas,'Courier New',monospace\"><span style=\"color: #808000; text-decoration-color: #808000\">Requirement already satisfied: prompt-toolkit!=3.0.37,&lt;3.1.0,&gt;=3.0.30 in /usr/local/lib/python3.8/site-packages (from ipython&gt;=7.23.1-&gt;ipykernel-&gt;-r /.requirements.txt (line 3)) (3.0.38)\n",
       "</span></pre>\n"
      ],
      "text/plain": [
       "\u001b[33mRequirement already satisfied: prompt-toolkit!=3.0.37,<3.1.0,>=3.0.30 in /usr/local/lib/python3.8/site-packages (from ipython>=7.23.1->ipykernel->-r /.requirements.txt (line 3)) (3.0.38)\n",
       "\u001b[0m"
      ]
     },
     "metadata": {},
     "output_type": "display_data"
    },
    {
     "data": {
      "text/html": [
       "<pre style=\"white-space:pre;overflow-x:auto;line-height:normal;font-family:Menlo,'DejaVu Sans Mono',consolas,'Courier New',monospace\"><span style=\"color: #808000; text-decoration-color: #808000\">Requirement already satisfied: pexpect&gt;4.3 in /usr/local/lib/python3.8/site-packages (from ipython&gt;=7.23.1-&gt;ipykernel-&gt;-r /.requirements.txt (line 3)) (4.8.0)\n",
       "</span></pre>\n"
      ],
      "text/plain": [
       "\u001b[33mRequirement already satisfied: pexpect>4.3 in /usr/local/lib/python3.8/site-packages (from ipython>=7.23.1->ipykernel->-r /.requirements.txt (line 3)) (4.8.0)\n",
       "\u001b[0m"
      ]
     },
     "metadata": {},
     "output_type": "display_data"
    },
    {
     "data": {
      "text/html": [
       "<pre style=\"white-space:pre;overflow-x:auto;line-height:normal;font-family:Menlo,'DejaVu Sans Mono',consolas,'Courier New',monospace\"><span style=\"color: #808000; text-decoration-color: #808000\">Requirement already satisfied: decorator in /usr/local/lib/python3.8/site-packages (from ipython&gt;=7.23.1-&gt;ipykernel-&gt;-r /.requirements.txt (line 3)) (5.1.1)\n",
       "</span></pre>\n"
      ],
      "text/plain": [
       "\u001b[33mRequirement already satisfied: decorator in /usr/local/lib/python3.8/site-packages (from ipython>=7.23.1->ipykernel->-r /.requirements.txt (line 3)) (5.1.1)\n",
       "\u001b[0m"
      ]
     },
     "metadata": {},
     "output_type": "display_data"
    },
    {
     "data": {
      "text/html": [
       "<pre style=\"white-space:pre;overflow-x:auto;line-height:normal;font-family:Menlo,'DejaVu Sans Mono',consolas,'Courier New',monospace\"><span style=\"color: #808000; text-decoration-color: #808000\">Requirement already satisfied: backcall in /usr/local/lib/python3.8/site-packages (from ipython&gt;=7.23.1-&gt;ipykernel-&gt;-r /.requirements.txt (line 3)) (0.2.0)\n",
       "</span></pre>\n"
      ],
      "text/plain": [
       "\u001b[33mRequirement already satisfied: backcall in /usr/local/lib/python3.8/site-packages (from ipython>=7.23.1->ipykernel->-r /.requirements.txt (line 3)) (0.2.0)\n",
       "\u001b[0m"
      ]
     },
     "metadata": {},
     "output_type": "display_data"
    },
    {
     "data": {
      "text/html": [
       "<pre style=\"white-space:pre;overflow-x:auto;line-height:normal;font-family:Menlo,'DejaVu Sans Mono',consolas,'Courier New',monospace\"><span style=\"color: #808000; text-decoration-color: #808000\">Collecting MarkupSafe&gt;=2.0\n",
       "</span></pre>\n"
      ],
      "text/plain": [
       "\u001b[33mCollecting MarkupSafe>=2.0\n",
       "\u001b[0m"
      ]
     },
     "metadata": {},
     "output_type": "display_data"
    },
    {
     "data": {
      "text/html": [
       "<pre style=\"white-space:pre;overflow-x:auto;line-height:normal;font-family:Menlo,'DejaVu Sans Mono',consolas,'Courier New',monospace\"><span style=\"color: #808000; text-decoration-color: #808000\">  Downloading MarkupSafe-2.1.2-cp38-cp38-manylinux_2_17_x86_64.manylinux2014_x86_64.whl (25 kB)\n",
       "</span></pre>\n"
      ],
      "text/plain": [
       "\u001b[33m  Downloading MarkupSafe-2.1.2-cp38-cp38-manylinux_2_17_x86_64.manylinux2014_x86_64.whl (25 kB)\n",
       "\u001b[0m"
      ]
     },
     "metadata": {},
     "output_type": "display_data"
    },
    {
     "data": {
      "text/html": [
       "<pre style=\"white-space:pre;overflow-x:auto;line-height:normal;font-family:Menlo,'DejaVu Sans Mono',consolas,'Courier New',monospace\"><span style=\"color: #808000; text-decoration-color: #808000\">Collecting importlib-metadata&gt;=3.6.0\n",
       "</span></pre>\n"
      ],
      "text/plain": [
       "\u001b[33mCollecting importlib-metadata>=3.6.0\n",
       "\u001b[0m"
      ]
     },
     "metadata": {},
     "output_type": "display_data"
    },
    {
     "data": {
      "text/html": [
       "<pre style=\"white-space:pre;overflow-x:auto;line-height:normal;font-family:Menlo,'DejaVu Sans Mono',consolas,'Courier New',monospace\"><span style=\"color: #808000; text-decoration-color: #808000\">  Downloading importlib_metadata-6.6.0-py3-none-any.whl (22 kB)\n",
       "</span></pre>\n"
      ],
      "text/plain": [
       "\u001b[33m  Downloading importlib_metadata-6.6.0-py3-none-any.whl (22 kB)\n",
       "\u001b[0m"
      ]
     },
     "metadata": {},
     "output_type": "display_data"
    },
    {
     "data": {
      "text/html": [
       "<pre style=\"white-space:pre;overflow-x:auto;line-height:normal;font-family:Menlo,'DejaVu Sans Mono',consolas,'Courier New',monospace\"><span style=\"color: #808000; text-decoration-color: #808000\">Collecting platformdirs&gt;=2.5\n",
       "</span></pre>\n"
      ],
      "text/plain": [
       "\u001b[33mCollecting platformdirs>=2.5\n",
       "\u001b[0m"
      ]
     },
     "metadata": {},
     "output_type": "display_data"
    },
    {
     "data": {
      "text/html": [
       "<pre style=\"white-space:pre;overflow-x:auto;line-height:normal;font-family:Menlo,'DejaVu Sans Mono',consolas,'Courier New',monospace\"><span style=\"color: #808000; text-decoration-color: #808000\">  Downloading platformdirs-3.5.0-py3-none-any.whl (15 kB)\n",
       "</span></pre>\n"
      ],
      "text/plain": [
       "\u001b[33m  Downloading platformdirs-3.5.0-py3-none-any.whl (15 kB)\n",
       "\u001b[0m"
      ]
     },
     "metadata": {},
     "output_type": "display_data"
    },
    {
     "data": {
      "text/html": [
       "<pre style=\"white-space:pre;overflow-x:auto;line-height:normal;font-family:Menlo,'DejaVu Sans Mono',consolas,'Courier New',monospace\"><span style=\"color: #808000; text-decoration-color: #808000\">Collecting nbconvert&gt;=6.4.4\n",
       "</span></pre>\n"
      ],
      "text/plain": [
       "\u001b[33mCollecting nbconvert>=6.4.4\n",
       "\u001b[0m"
      ]
     },
     "metadata": {},
     "output_type": "display_data"
    },
    {
     "data": {
      "text/html": [
       "<pre style=\"white-space:pre;overflow-x:auto;line-height:normal;font-family:Menlo,'DejaVu Sans Mono',consolas,'Courier New',monospace\"><span style=\"color: #808000; text-decoration-color: #808000\">  Downloading nbconvert-7.3.1-py3-none-any.whl (284 kB)\n",
       "</span></pre>\n"
      ],
      "text/plain": [
       "\u001b[33m  Downloading nbconvert-7.3.1-py3-none-any.whl (284 kB)\n",
       "\u001b[0m"
      ]
     },
     "metadata": {},
     "output_type": "display_data"
    },
    {
     "data": {
      "text/html": [
       "<pre style=\"white-space:pre;overflow-x:auto;line-height:normal;font-family:Menlo,'DejaVu Sans Mono',consolas,'Courier New',monospace\"><span style=\"color: #808000; text-decoration-color: #808000\">     ━━━━━━━━━━━━━━━━━━━━━━━━━━━━━━━━━━━━━ 284.1/284.1 kB 275.9 MB/s eta 0:00:00\n",
       "</span></pre>\n"
      ],
      "text/plain": [
       "\u001b[33m     ━━━━━━━━━━━━━━━━━━━━━━━━━━━━━━━━━━━━━ 284.1/284.1 kB 275.9 MB/s eta 0:00:00\n",
       "\u001b[0m"
      ]
     },
     "metadata": {},
     "output_type": "display_data"
    },
    {
     "data": {
      "text/html": [
       "<pre style=\"white-space:pre;overflow-x:auto;line-height:normal;font-family:Menlo,'DejaVu Sans Mono',consolas,'Courier New',monospace\"><span style=\"color: #808000; text-decoration-color: #808000\">Collecting websocket-client\n",
       "</span></pre>\n"
      ],
      "text/plain": [
       "\u001b[33mCollecting websocket-client\n",
       "\u001b[0m"
      ]
     },
     "metadata": {},
     "output_type": "display_data"
    },
    {
     "data": {
      "text/html": [
       "<pre style=\"white-space:pre;overflow-x:auto;line-height:normal;font-family:Menlo,'DejaVu Sans Mono',consolas,'Courier New',monospace\"><span style=\"color: #808000; text-decoration-color: #808000\">  Downloading websocket_client-1.5.1-py3-none-any.whl (55 kB)\n",
       "</span></pre>\n"
      ],
      "text/plain": [
       "\u001b[33m  Downloading websocket_client-1.5.1-py3-none-any.whl (55 kB)\n",
       "\u001b[0m"
      ]
     },
     "metadata": {},
     "output_type": "display_data"
    },
    {
     "data": {
      "text/html": [
       "<pre style=\"white-space:pre;overflow-x:auto;line-height:normal;font-family:Menlo,'DejaVu Sans Mono',consolas,'Courier New',monospace\"><span style=\"color: #808000; text-decoration-color: #808000\">     ━━━━━━━━━━━━━━━━━━━━━━━━━━━━━━━━━━━━━━━ 55.9/55.9 kB 232.4 MB/s eta 0:00:00\n",
       "</span></pre>\n"
      ],
      "text/plain": [
       "\u001b[33m     ━━━━━━━━━━━━━━━━━━━━━━━━━━━━━━━━━━━━━━━ 55.9/55.9 kB 232.4 MB/s eta 0:00:00\n",
       "\u001b[0m"
      ]
     },
     "metadata": {},
     "output_type": "display_data"
    },
    {
     "data": {
      "text/html": [
       "<pre style=\"white-space:pre;overflow-x:auto;line-height:normal;font-family:Menlo,'DejaVu Sans Mono',consolas,'Courier New',monospace\"><span style=\"color: #808000; text-decoration-color: #808000\">Requirement already satisfied: anyio&gt;=3.1.0 in /usr/local/lib/python3.8/site-packages (from jupyter-server&lt;3,&gt;=1.16.0-&gt;jupyterlab-&gt;-r /.requirements.txt (line 5)) (3.6.2)\n",
       "</span></pre>\n"
      ],
      "text/plain": [
       "\u001b[33mRequirement already satisfied: anyio>=3.1.0 in /usr/local/lib/python3.8/site-packages (from jupyter-server<3,>=1.16.0->jupyterlab->-r /.requirements.txt (line 5)) (3.6.2)\n",
       "\u001b[0m"
      ]
     },
     "metadata": {},
     "output_type": "display_data"
    },
    {
     "data": {
      "text/html": [
       "<pre style=\"white-space:pre;overflow-x:auto;line-height:normal;font-family:Menlo,'DejaVu Sans Mono',consolas,'Courier New',monospace\"><span style=\"color: #808000; text-decoration-color: #808000\">Collecting jupyter-server-terminals\n",
       "</span></pre>\n"
      ],
      "text/plain": [
       "\u001b[33mCollecting jupyter-server-terminals\n",
       "\u001b[0m"
      ]
     },
     "metadata": {},
     "output_type": "display_data"
    },
    {
     "data": {
      "text/html": [
       "<pre style=\"white-space:pre;overflow-x:auto;line-height:normal;font-family:Menlo,'DejaVu Sans Mono',consolas,'Courier New',monospace\"><span style=\"color: #808000; text-decoration-color: #808000\">  Downloading jupyter_server_terminals-0.4.4-py3-none-any.whl (13 kB)\n",
       "</span></pre>\n"
      ],
      "text/plain": [
       "\u001b[33m  Downloading jupyter_server_terminals-0.4.4-py3-none-any.whl (13 kB)\n",
       "\u001b[0m"
      ]
     },
     "metadata": {},
     "output_type": "display_data"
    },
    {
     "data": {
      "text/html": [
       "<pre style=\"white-space:pre;overflow-x:auto;line-height:normal;font-family:Menlo,'DejaVu Sans Mono',consolas,'Courier New',monospace\"><span style=\"color: #808000; text-decoration-color: #808000\">Collecting nbformat&gt;=5.3.0\n",
       "</span></pre>\n"
      ],
      "text/plain": [
       "\u001b[33mCollecting nbformat>=5.3.0\n",
       "\u001b[0m"
      ]
     },
     "metadata": {},
     "output_type": "display_data"
    },
    {
     "data": {
      "text/html": [
       "<pre style=\"white-space:pre;overflow-x:auto;line-height:normal;font-family:Menlo,'DejaVu Sans Mono',consolas,'Courier New',monospace\"><span style=\"color: #808000; text-decoration-color: #808000\">  Downloading nbformat-5.8.0-py3-none-any.whl (77 kB)\n",
       "</span></pre>\n"
      ],
      "text/plain": [
       "\u001b[33m  Downloading nbformat-5.8.0-py3-none-any.whl (77 kB)\n",
       "\u001b[0m"
      ]
     },
     "metadata": {},
     "output_type": "display_data"
    },
    {
     "data": {
      "text/html": [
       "<pre style=\"white-space:pre;overflow-x:auto;line-height:normal;font-family:Menlo,'DejaVu Sans Mono',consolas,'Courier New',monospace\"><span style=\"color: #808000; text-decoration-color: #808000\">     ━━━━━━━━━━━━━━━━━━━━━━━━━━━━━━━━━━━━━━━ 77.4/77.4 kB 255.8 MB/s eta 0:00:00\n",
       "</span></pre>\n"
      ],
      "text/plain": [
       "\u001b[33m     ━━━━━━━━━━━━━━━━━━━━━━━━━━━━━━━━━━━━━━━ 77.4/77.4 kB 255.8 MB/s eta 0:00:00\n",
       "\u001b[0m"
      ]
     },
     "metadata": {},
     "output_type": "display_data"
    },
    {
     "data": {
      "text/html": [
       "<pre style=\"white-space:pre;overflow-x:auto;line-height:normal;font-family:Menlo,'DejaVu Sans Mono',consolas,'Courier New',monospace\"><span style=\"color: #808000; text-decoration-color: #808000\">Collecting send2trash\n",
       "</span></pre>\n"
      ],
      "text/plain": [
       "\u001b[33mCollecting send2trash\n",
       "\u001b[0m"
      ]
     },
     "metadata": {},
     "output_type": "display_data"
    },
    {
     "data": {
      "text/html": [
       "<pre style=\"white-space:pre;overflow-x:auto;line-height:normal;font-family:Menlo,'DejaVu Sans Mono',consolas,'Courier New',monospace\"><span style=\"color: #808000; text-decoration-color: #808000\">  Downloading Send2Trash-1.8.2-py3-none-any.whl (18 kB)\n",
       "</span></pre>\n"
      ],
      "text/plain": [
       "\u001b[33m  Downloading Send2Trash-1.8.2-py3-none-any.whl (18 kB)\n",
       "\u001b[0m"
      ]
     },
     "metadata": {},
     "output_type": "display_data"
    },
    {
     "data": {
      "text/html": [
       "<pre style=\"white-space:pre;overflow-x:auto;line-height:normal;font-family:Menlo,'DejaVu Sans Mono',consolas,'Courier New',monospace\"><span style=\"color: #808000; text-decoration-color: #808000\">Collecting terminado&gt;=0.8.3\n",
       "</span></pre>\n"
      ],
      "text/plain": [
       "\u001b[33mCollecting terminado>=0.8.3\n",
       "\u001b[0m"
      ]
     },
     "metadata": {},
     "output_type": "display_data"
    },
    {
     "data": {
      "text/html": [
       "<pre style=\"white-space:pre;overflow-x:auto;line-height:normal;font-family:Menlo,'DejaVu Sans Mono',consolas,'Courier New',monospace\"><span style=\"color: #808000; text-decoration-color: #808000\">  Downloading terminado-0.17.1-py3-none-any.whl (17 kB)\n",
       "</span></pre>\n"
      ],
      "text/plain": [
       "\u001b[33m  Downloading terminado-0.17.1-py3-none-any.whl (17 kB)\n",
       "\u001b[0m"
      ]
     },
     "metadata": {},
     "output_type": "display_data"
    },
    {
     "data": {
      "text/html": [
       "<pre style=\"white-space:pre;overflow-x:auto;line-height:normal;font-family:Menlo,'DejaVu Sans Mono',consolas,'Courier New',monospace\"><span style=\"color: #808000; text-decoration-color: #808000\">Collecting argon2-cffi\n",
       "</span></pre>\n"
      ],
      "text/plain": [
       "\u001b[33mCollecting argon2-cffi\n",
       "\u001b[0m"
      ]
     },
     "metadata": {},
     "output_type": "display_data"
    },
    {
     "data": {
      "text/html": [
       "<pre style=\"white-space:pre;overflow-x:auto;line-height:normal;font-family:Menlo,'DejaVu Sans Mono',consolas,'Courier New',monospace\"><span style=\"color: #808000; text-decoration-color: #808000\">  Downloading argon2_cffi-21.3.0-py3-none-any.whl (14 kB)\n",
       "</span></pre>\n"
      ],
      "text/plain": [
       "\u001b[33m  Downloading argon2_cffi-21.3.0-py3-none-any.whl (14 kB)\n",
       "\u001b[0m"
      ]
     },
     "metadata": {},
     "output_type": "display_data"
    },
    {
     "data": {
      "text/html": [
       "<pre style=\"white-space:pre;overflow-x:auto;line-height:normal;font-family:Menlo,'DejaVu Sans Mono',consolas,'Courier New',monospace\"><span style=\"color: #808000; text-decoration-color: #808000\">Collecting jupyter-events&gt;=0.4.0\n",
       "</span></pre>\n"
      ],
      "text/plain": [
       "\u001b[33mCollecting jupyter-events>=0.4.0\n",
       "\u001b[0m"
      ]
     },
     "metadata": {},
     "output_type": "display_data"
    },
    {
     "data": {
      "text/html": [
       "<pre style=\"white-space:pre;overflow-x:auto;line-height:normal;font-family:Menlo,'DejaVu Sans Mono',consolas,'Courier New',monospace\"><span style=\"color: #808000; text-decoration-color: #808000\">  Downloading jupyter_events-0.6.3-py3-none-any.whl (18 kB)\n",
       "</span></pre>\n"
      ],
      "text/plain": [
       "\u001b[33m  Downloading jupyter_events-0.6.3-py3-none-any.whl (18 kB)\n",
       "\u001b[0m"
      ]
     },
     "metadata": {},
     "output_type": "display_data"
    },
    {
     "data": {
      "text/html": [
       "<pre style=\"white-space:pre;overflow-x:auto;line-height:normal;font-family:Menlo,'DejaVu Sans Mono',consolas,'Courier New',monospace\"><span style=\"color: #808000; text-decoration-color: #808000\">Collecting ypy-websocket&lt;0.9.0,&gt;=0.8.2\n",
       "</span></pre>\n"
      ],
      "text/plain": [
       "\u001b[33mCollecting ypy-websocket<0.9.0,>=0.8.2\n",
       "\u001b[0m"
      ]
     },
     "metadata": {},
     "output_type": "display_data"
    },
    {
     "data": {
      "text/html": [
       "<pre style=\"white-space:pre;overflow-x:auto;line-height:normal;font-family:Menlo,'DejaVu Sans Mono',consolas,'Courier New',monospace\"><span style=\"color: #808000; text-decoration-color: #808000\">  Downloading ypy_websocket-0.8.4-py3-none-any.whl (10 kB)\n",
       "</span></pre>\n"
      ],
      "text/plain": [
       "\u001b[33m  Downloading ypy_websocket-0.8.4-py3-none-any.whl (10 kB)\n",
       "\u001b[0m"
      ]
     },
     "metadata": {},
     "output_type": "display_data"
    },
    {
     "data": {
      "text/html": [
       "<pre style=\"white-space:pre;overflow-x:auto;line-height:normal;font-family:Menlo,'DejaVu Sans Mono',consolas,'Courier New',monospace\"><span style=\"color: #808000; text-decoration-color: #808000\">Collecting jupyter-server-fileid&lt;1,&gt;=0.6.0\n",
       "</span></pre>\n"
      ],
      "text/plain": [
       "\u001b[33mCollecting jupyter-server-fileid<1,>=0.6.0\n",
       "\u001b[0m"
      ]
     },
     "metadata": {},
     "output_type": "display_data"
    },
    {
     "data": {
      "text/html": [
       "<pre style=\"white-space:pre;overflow-x:auto;line-height:normal;font-family:Menlo,'DejaVu Sans Mono',consolas,'Courier New',monospace\"><span style=\"color: #808000; text-decoration-color: #808000\">  Downloading jupyter_server_fileid-0.9.0-py3-none-any.whl (15 kB)\n",
       "</span></pre>\n"
      ],
      "text/plain": [
       "\u001b[33m  Downloading jupyter_server_fileid-0.9.0-py3-none-any.whl (15 kB)\n",
       "\u001b[0m"
      ]
     },
     "metadata": {},
     "output_type": "display_data"
    },
    {
     "data": {
      "text/html": [
       "<pre style=\"white-space:pre;overflow-x:auto;line-height:normal;font-family:Menlo,'DejaVu Sans Mono',consolas,'Courier New',monospace\"><span style=\"color: #808000; text-decoration-color: #808000\">Collecting y-py&lt;0.6.0,&gt;=0.5.3\n",
       "</span></pre>\n"
      ],
      "text/plain": [
       "\u001b[33mCollecting y-py<0.6.0,>=0.5.3\n",
       "\u001b[0m"
      ]
     },
     "metadata": {},
     "output_type": "display_data"
    },
    {
     "data": {
      "text/html": [
       "<pre style=\"white-space:pre;overflow-x:auto;line-height:normal;font-family:Menlo,'DejaVu Sans Mono',consolas,'Courier New',monospace\"><span style=\"color: #808000; text-decoration-color: #808000\">Requirement already satisfied: jsonschema&gt;=4.17.3 in /usr/local/lib/python3.8/site-packages (from jupyterlab-server~=2.19-&gt;jupyterlab-&gt;-r /.requirements.txt (line 5)) (4.17.3)\n",
       "</span></pre>\n"
      ],
      "text/plain": [
       "\u001b[33mRequirement already satisfied: jsonschema>=4.17.3 in /usr/local/lib/python3.8/site-packages (from jupyterlab-server~=2.19->jupyterlab->-r /.requirements.txt (line 5)) (4.17.3)\n",
       "\u001b[0m"
      ]
     },
     "metadata": {},
     "output_type": "display_data"
    },
    {
     "data": {
      "text/html": [
       "<pre style=\"white-space:pre;overflow-x:auto;line-height:normal;font-family:Menlo,'DejaVu Sans Mono',consolas,'Courier New',monospace\"><span style=\"color: #808000; text-decoration-color: #808000\">Collecting babel&gt;=2.10\n",
       "</span></pre>\n"
      ],
      "text/plain": [
       "\u001b[33mCollecting babel>=2.10\n",
       "\u001b[0m"
      ]
     },
     "metadata": {},
     "output_type": "display_data"
    },
    {
     "data": {
      "text/html": [
       "<pre style=\"white-space:pre;overflow-x:auto;line-height:normal;font-family:Menlo,'DejaVu Sans Mono',consolas,'Courier New',monospace\"><span style=\"color: #808000; text-decoration-color: #808000\">  Downloading Babel-2.12.1-py3-none-any.whl (10.1 MB)\n",
       "</span></pre>\n"
      ],
      "text/plain": [
       "\u001b[33m  Downloading Babel-2.12.1-py3-none-any.whl (10.1 MB)\n",
       "\u001b[0m"
      ]
     },
     "metadata": {},
     "output_type": "display_data"
    },
    {
     "data": {
      "text/html": [
       "<pre style=\"white-space:pre;overflow-x:auto;line-height:normal;font-family:Menlo,'DejaVu Sans Mono',consolas,'Courier New',monospace\"><span style=\"color: #808000; text-decoration-color: #808000\">     ━━━━━━━━━━━━━━━━━━━━━━━━━━━━━━━━━━━━━━━ 10.1/10.1 MB 114.5 MB/s eta 0:00:00\n",
       "</span></pre>\n"
      ],
      "text/plain": [
       "\u001b[33m     ━━━━━━━━━━━━━━━━━━━━━━━━━━━━━━━━━━━━━━━ 10.1/10.1 MB 114.5 MB/s eta 0:00:00\n",
       "\u001b[0m"
      ]
     },
     "metadata": {},
     "output_type": "display_data"
    },
    {
     "data": {
      "text/html": [
       "<pre style=\"white-space:pre;overflow-x:auto;line-height:normal;font-family:Menlo,'DejaVu Sans Mono',consolas,'Courier New',monospace\"><span style=\"color: #808000; text-decoration-color: #808000\">Collecting json5&gt;=0.9.0\n",
       "</span></pre>\n"
      ],
      "text/plain": [
       "\u001b[33mCollecting json5>=0.9.0\n",
       "\u001b[0m"
      ]
     },
     "metadata": {},
     "output_type": "display_data"
    },
    {
     "data": {
      "text/html": [
       "<pre style=\"white-space:pre;overflow-x:auto;line-height:normal;font-family:Menlo,'DejaVu Sans Mono',consolas,'Courier New',monospace\"><span style=\"color: #808000; text-decoration-color: #808000\">Collecting requests&gt;=2.28\n",
       "</span></pre>\n"
      ],
      "text/plain": [
       "\u001b[33mCollecting requests>=2.28\n",
       "\u001b[0m"
      ]
     },
     "metadata": {},
     "output_type": "display_data"
    },
    {
     "data": {
      "text/html": [
       "<pre style=\"white-space:pre;overflow-x:auto;line-height:normal;font-family:Menlo,'DejaVu Sans Mono',consolas,'Courier New',monospace\"><span style=\"color: #808000; text-decoration-color: #808000\">  Downloading requests-2.29.0-py3-none-any.whl (62 kB)\n",
       "</span></pre>\n"
      ],
      "text/plain": [
       "\u001b[33m  Downloading requests-2.29.0-py3-none-any.whl (62 kB)\n",
       "\u001b[0m"
      ]
     },
     "metadata": {},
     "output_type": "display_data"
    },
    {
     "data": {
      "text/html": [
       "<pre style=\"white-space:pre;overflow-x:auto;line-height:normal;font-family:Menlo,'DejaVu Sans Mono',consolas,'Courier New',monospace\"><span style=\"color: #808000; text-decoration-color: #808000\">     ━━━━━━━━━━━━━━━━━━━━━━━━━━━━━━━━━━━━━━━ 62.5/62.5 kB 193.0 MB/s eta 0:00:00\n",
       "</span></pre>\n"
      ],
      "text/plain": [
       "\u001b[33m     ━━━━━━━━━━━━━━━━━━━━━━━━━━━━━━━━━━━━━━━ 62.5/62.5 kB 193.0 MB/s eta 0:00:00\n",
       "\u001b[0m"
      ]
     },
     "metadata": {},
     "output_type": "display_data"
    },
    {
     "data": {
      "text/html": [
       "<pre style=\"white-space:pre;overflow-x:auto;line-height:normal;font-family:Menlo,'DejaVu Sans Mono',consolas,'Courier New',monospace\"><span style=\"color: #808000; text-decoration-color: #808000\">Collecting ipython-genutils\n",
       "</span></pre>\n"
      ],
      "text/plain": [
       "\u001b[33mCollecting ipython-genutils\n",
       "\u001b[0m"
      ]
     },
     "metadata": {},
     "output_type": "display_data"
    },
    {
     "data": {
      "text/html": [
       "<pre style=\"white-space:pre;overflow-x:auto;line-height:normal;font-family:Menlo,'DejaVu Sans Mono',consolas,'Courier New',monospace\"><span style=\"color: #808000; text-decoration-color: #808000\">  Downloading ipython_genutils-0.2.0-py2.py3-none-any.whl (26 kB)\n",
       "</span></pre>\n"
      ],
      "text/plain": [
       "\u001b[33m  Downloading ipython_genutils-0.2.0-py2.py3-none-any.whl (26 kB)\n",
       "\u001b[0m"
      ]
     },
     "metadata": {},
     "output_type": "display_data"
    },
    {
     "data": {
      "text/html": [
       "<pre style=\"white-space:pre;overflow-x:auto;line-height:normal;font-family:Menlo,'DejaVu Sans Mono',consolas,'Courier New',monospace\"><span style=\"color: #808000; text-decoration-color: #808000\">Collecting notebook-shim&gt;=0.2.3\n",
       "</span></pre>\n"
      ],
      "text/plain": [
       "\u001b[33mCollecting notebook-shim>=0.2.3\n",
       "\u001b[0m"
      ]
     },
     "metadata": {},
     "output_type": "display_data"
    },
    {
     "data": {
      "text/html": [
       "<pre style=\"white-space:pre;overflow-x:auto;line-height:normal;font-family:Menlo,'DejaVu Sans Mono',consolas,'Courier New',monospace\"><span style=\"color: #808000; text-decoration-color: #808000\">  Downloading notebook_shim-0.2.3-py3-none-any.whl (13 kB)\n",
       "</span></pre>\n"
      ],
      "text/plain": [
       "\u001b[33m  Downloading notebook_shim-0.2.3-py3-none-any.whl (13 kB)\n",
       "\u001b[0m"
      ]
     },
     "metadata": {},
     "output_type": "display_data"
    },
    {
     "data": {
      "text/html": [
       "<pre style=\"white-space:pre;overflow-x:auto;line-height:normal;font-family:Menlo,'DejaVu Sans Mono',consolas,'Courier New',monospace\"><span style=\"color: #808000; text-decoration-color: #808000\">Requirement already satisfied: typing_extensions&gt;=4.0.1 in /usr/local/lib/python3.8/site-packages (from polars&lt;0.18.0,&gt;=0.17.5-&gt;gate-drift-&gt;-r /.requirements.txt (line 11)) (4.5.0)\n",
       "</span></pre>\n"
      ],
      "text/plain": [
       "\u001b[33mRequirement already satisfied: typing_extensions>=4.0.1 in /usr/local/lib/python3.8/site-packages (from polars<0.18.0,>=0.17.5->gate-drift->-r /.requirements.txt (line 11)) (4.5.0)\n",
       "\u001b[0m"
      ]
     },
     "metadata": {},
     "output_type": "display_data"
    },
    {
     "data": {
      "text/html": [
       "<pre style=\"white-space:pre;overflow-x:auto;line-height:normal;font-family:Menlo,'DejaVu Sans Mono',consolas,'Courier New',monospace\"><span style=\"color: #808000; text-decoration-color: #808000\">Requirement already satisfied: commonmark&lt;0.10.0,&gt;=0.9.0 in /usr/local/lib/python3.8/site-packages (from rich&gt;=12.0.0-&gt;modal-client-&gt;-r /.requirements.txt (line 7)) (0.9.1)\n",
       "</span></pre>\n"
      ],
      "text/plain": [
       "\u001b[33mRequirement already satisfied: commonmark<0.10.0,>=0.9.0 in /usr/local/lib/python3.8/site-packages (from rich>=12.0.0->modal-client->-r /.requirements.txt (line 7)) (0.9.1)\n",
       "\u001b[0m"
      ]
     },
     "metadata": {},
     "output_type": "display_data"
    },
    {
     "data": {
      "text/html": [
       "<pre style=\"white-space:pre;overflow-x:auto;line-height:normal;font-family:Menlo,'DejaVu Sans Mono',consolas,'Courier New',monospace\"><span style=\"color: #808000; text-decoration-color: #808000\">Collecting transformers&lt;5.0.0,&gt;=4.6.0\n",
       "</span></pre>\n"
      ],
      "text/plain": [
       "\u001b[33mCollecting transformers<5.0.0,>=4.6.0\n",
       "\u001b[0m"
      ]
     },
     "metadata": {},
     "output_type": "display_data"
    },
    {
     "data": {
      "text/html": [
       "<pre style=\"white-space:pre;overflow-x:auto;line-height:normal;font-family:Menlo,'DejaVu Sans Mono',consolas,'Courier New',monospace\"><span style=\"color: #808000; text-decoration-color: #808000\">  Downloading transformers-4.28.1-py3-none-any.whl (7.0 MB)\n",
       "</span></pre>\n"
      ],
      "text/plain": [
       "\u001b[33m  Downloading transformers-4.28.1-py3-none-any.whl (7.0 MB)\n",
       "\u001b[0m"
      ]
     },
     "metadata": {},
     "output_type": "display_data"
    },
    {
     "data": {
      "text/html": [
       "<pre style=\"white-space:pre;overflow-x:auto;line-height:normal;font-family:Menlo,'DejaVu Sans Mono',consolas,'Courier New',monospace\"><span style=\"color: #808000; text-decoration-color: #808000\">     ━━━━━━━━━━━━━━━━━━━━━━━━━━━━━━━━━━━━━━━━ 7.0/7.0 MB 224.3 MB/s eta 0:00:00\n",
       "</span></pre>\n"
      ],
      "text/plain": [
       "\u001b[33m     ━━━━━━━━━━━━━━━━━━━━━━━━━━━━━━━━━━━━━━━━ 7.0/7.0 MB 224.3 MB/s eta 0:00:00\n",
       "\u001b[0m"
      ]
     },
     "metadata": {},
     "output_type": "display_data"
    },
    {
     "data": {
      "text/html": [
       "<pre style=\"white-space:pre;overflow-x:auto;line-height:normal;font-family:Menlo,'DejaVu Sans Mono',consolas,'Courier New',monospace\"><span style=\"color: #808000; text-decoration-color: #808000\">Collecting tqdm\n",
       "</span></pre>\n"
      ],
      "text/plain": [
       "\u001b[33mCollecting tqdm\n",
       "\u001b[0m"
      ]
     },
     "metadata": {},
     "output_type": "display_data"
    },
    {
     "data": {
      "text/html": [
       "<pre style=\"white-space:pre;overflow-x:auto;line-height:normal;font-family:Menlo,'DejaVu Sans Mono',consolas,'Courier New',monospace\"><span style=\"color: #808000; text-decoration-color: #808000\">  Downloading tqdm-4.65.0-py3-none-any.whl (77 kB)\n",
       "</span></pre>\n"
      ],
      "text/plain": [
       "\u001b[33m  Downloading tqdm-4.65.0-py3-none-any.whl (77 kB)\n",
       "\u001b[0m"
      ]
     },
     "metadata": {},
     "output_type": "display_data"
    },
    {
     "data": {
      "text/html": [
       "<pre style=\"white-space:pre;overflow-x:auto;line-height:normal;font-family:Menlo,'DejaVu Sans Mono',consolas,'Courier New',monospace\"><span style=\"color: #808000; text-decoration-color: #808000\">     ━━━━━━━━━━━━━━━━━━━━━━━━━━━━━━━━━━━━━━━ 77.1/77.1 kB 257.6 MB/s eta 0:00:00\n",
       "</span></pre>\n"
      ],
      "text/plain": [
       "\u001b[33m     ━━━━━━━━━━━━━━━━━━━━━━━━━━━━━━━━━━━━━━━ 77.1/77.1 kB 257.6 MB/s eta 0:00:00\n",
       "\u001b[0m"
      ]
     },
     "metadata": {},
     "output_type": "display_data"
    },
    {
     "data": {
      "text/html": [
       "<pre style=\"white-space:pre;overflow-x:auto;line-height:normal;font-family:Menlo,'DejaVu Sans Mono',consolas,'Courier New',monospace\"><span style=\"color: #808000; text-decoration-color: #808000\">Collecting torch&gt;=1.6.0\n",
       "</span></pre>\n"
      ],
      "text/plain": [
       "\u001b[33mCollecting torch>=1.6.0\n",
       "\u001b[0m"
      ]
     },
     "metadata": {},
     "output_type": "display_data"
    },
    {
     "data": {
      "text/html": [
       "<pre style=\"white-space:pre;overflow-x:auto;line-height:normal;font-family:Menlo,'DejaVu Sans Mono',consolas,'Courier New',monospace\"><span style=\"color: #808000; text-decoration-color: #808000\">  Downloading torch-2.0.0-cp38-cp38-manylinux1_x86_64.whl (619.9 MB)\n",
       "</span></pre>\n"
      ],
      "text/plain": [
       "\u001b[33m  Downloading torch-2.0.0-cp38-cp38-manylinux1_x86_64.whl (619.9 MB)\n",
       "\u001b[0m"
      ]
     },
     "metadata": {},
     "output_type": "display_data"
    },
    {
     "data": {
      "text/html": [
       "<pre style=\"white-space:pre;overflow-x:auto;line-height:normal;font-family:Menlo,'DejaVu Sans Mono',consolas,'Courier New',monospace\"><span style=\"color: #808000; text-decoration-color: #808000\">     ━━━━━━━━━━━━━━━━━━━━━━━━━━━━━━━━━━━━━ 619.9/619.9 MB 208.6 MB/s eta 0:00:00\n",
       "</span></pre>\n"
      ],
      "text/plain": [
       "\u001b[33m     ━━━━━━━━━━━━━━━━━━━━━━━━━━━━━━━━━━━━━ 619.9/619.9 MB 208.6 MB/s eta 0:00:00\n",
       "\u001b[0m"
      ]
     },
     "metadata": {},
     "output_type": "display_data"
    },
    {
     "data": {
      "text/html": [
       "<pre style=\"white-space:pre;overflow-x:auto;line-height:normal;font-family:Menlo,'DejaVu Sans Mono',consolas,'Courier New',monospace\"><span style=\"color: #808000; text-decoration-color: #808000\">Collecting torchvision\n",
       "</span></pre>\n"
      ],
      "text/plain": [
       "\u001b[33mCollecting torchvision\n",
       "\u001b[0m"
      ]
     },
     "metadata": {},
     "output_type": "display_data"
    },
    {
     "data": {
      "text/html": [
       "<pre style=\"white-space:pre;overflow-x:auto;line-height:normal;font-family:Menlo,'DejaVu Sans Mono',consolas,'Courier New',monospace\"><span style=\"color: #808000; text-decoration-color: #808000\">  Downloading torchvision-0.15.1-cp38-cp38-manylinux1_x86_64.whl (33.8 MB)\n",
       "</span></pre>\n"
      ],
      "text/plain": [
       "\u001b[33m  Downloading torchvision-0.15.1-cp38-cp38-manylinux1_x86_64.whl (33.8 MB)\n",
       "\u001b[0m"
      ]
     },
     "metadata": {},
     "output_type": "display_data"
    },
    {
     "data": {
      "text/html": [
       "<pre style=\"white-space:pre;overflow-x:auto;line-height:normal;font-family:Menlo,'DejaVu Sans Mono',consolas,'Courier New',monospace\"><span style=\"color: #808000; text-decoration-color: #808000\">     ━━━━━━━━━━━━━━━━━━━━━━━━━━━━━━━━━━━━━━━ 33.8/33.8 MB 191.3 MB/s eta 0:00:00\n",
       "</span></pre>\n"
      ],
      "text/plain": [
       "\u001b[33m     ━━━━━━━━━━━━━━━━━━━━━━━━━━━━━━━━━━━━━━━ 33.8/33.8 MB 191.3 MB/s eta 0:00:00\n",
       "\u001b[0m"
      ]
     },
     "metadata": {},
     "output_type": "display_data"
    },
    {
     "data": {
      "text/html": [
       "<pre style=\"white-space:pre;overflow-x:auto;line-height:normal;font-family:Menlo,'DejaVu Sans Mono',consolas,'Courier New',monospace\"><span style=\"color: #808000; text-decoration-color: #808000\">Collecting nltk\n",
       "</span></pre>\n"
      ],
      "text/plain": [
       "\u001b[33mCollecting nltk\n",
       "\u001b[0m"
      ]
     },
     "metadata": {},
     "output_type": "display_data"
    },
    {
     "data": {
      "text/html": [
       "<pre style=\"white-space:pre;overflow-x:auto;line-height:normal;font-family:Menlo,'DejaVu Sans Mono',consolas,'Courier New',monospace\"><span style=\"color: #808000; text-decoration-color: #808000\">  Downloading nltk-3.8.1-py3-none-any.whl (1.5 MB)\n",
       "</span></pre>\n"
      ],
      "text/plain": [
       "\u001b[33m  Downloading nltk-3.8.1-py3-none-any.whl (1.5 MB)\n",
       "\u001b[0m"
      ]
     },
     "metadata": {},
     "output_type": "display_data"
    },
    {
     "data": {
      "text/html": [
       "<pre style=\"white-space:pre;overflow-x:auto;line-height:normal;font-family:Menlo,'DejaVu Sans Mono',consolas,'Courier New',monospace\"><span style=\"color: #808000; text-decoration-color: #808000\">     ━━━━━━━━━━━━━━━━━━━━━━━━━━━━━━━━━━━━━━━━ 1.5/1.5 MB 288.3 MB/s eta 0:00:00\n",
       "</span></pre>\n"
      ],
      "text/plain": [
       "\u001b[33m     ━━━━━━━━━━━━━━━━━━━━━━━━━━━━━━━━━━━━━━━━ 1.5/1.5 MB 288.3 MB/s eta 0:00:00\n",
       "\u001b[0m"
      ]
     },
     "metadata": {},
     "output_type": "display_data"
    },
    {
     "data": {
      "text/html": [
       "<pre style=\"white-space:pre;overflow-x:auto;line-height:normal;font-family:Menlo,'DejaVu Sans Mono',consolas,'Courier New',monospace\"><span style=\"color: #808000; text-decoration-color: #808000\">Collecting sentencepiece\n",
       "</span></pre>\n"
      ],
      "text/plain": [
       "\u001b[33mCollecting sentencepiece\n",
       "\u001b[0m"
      ]
     },
     "metadata": {},
     "output_type": "display_data"
    },
    {
     "data": {
      "text/html": [
       "<pre style=\"white-space:pre;overflow-x:auto;line-height:normal;font-family:Menlo,'DejaVu Sans Mono',consolas,'Courier New',monospace\"><span style=\"color: #808000; text-decoration-color: #808000\">  Downloading sentencepiece-0.1.98-cp38-cp38-manylinux_2_17_x86_64.manylinux2014_x86_64.whl (1.3 MB)\n",
       "</span></pre>\n"
      ],
      "text/plain": [
       "\u001b[33m  Downloading sentencepiece-0.1.98-cp38-cp38-manylinux_2_17_x86_64.manylinux2014_x86_64.whl (1.3 MB)\n",
       "\u001b[0m"
      ]
     },
     "metadata": {},
     "output_type": "display_data"
    },
    {
     "data": {
      "text/html": [
       "<pre style=\"white-space:pre;overflow-x:auto;line-height:normal;font-family:Menlo,'DejaVu Sans Mono',consolas,'Courier New',monospace\"><span style=\"color: #808000; text-decoration-color: #808000\">     ━━━━━━━━━━━━━━━━━━━━━━━━━━━━━━━━━━━━━━━━ 1.3/1.3 MB 288.9 MB/s eta 0:00:00\n",
       "</span></pre>\n"
      ],
      "text/plain": [
       "\u001b[33m     ━━━━━━━━━━━━━━━━━━━━━━━━━━━━━━━━━━━━━━━━ 1.3/1.3 MB 288.9 MB/s eta 0:00:00\n",
       "\u001b[0m"
      ]
     },
     "metadata": {},
     "output_type": "display_data"
    },
    {
     "data": {
      "text/html": [
       "<pre style=\"white-space:pre;overflow-x:auto;line-height:normal;font-family:Menlo,'DejaVu Sans Mono',consolas,'Courier New',monospace\"><span style=\"color: #808000; text-decoration-color: #808000\">Collecting huggingface-hub&gt;=0.4.0\n",
       "</span></pre>\n"
      ],
      "text/plain": [
       "\u001b[33mCollecting huggingface-hub>=0.4.0\n",
       "\u001b[0m"
      ]
     },
     "metadata": {},
     "output_type": "display_data"
    },
    {
     "data": {
      "text/html": [
       "<pre style=\"white-space:pre;overflow-x:auto;line-height:normal;font-family:Menlo,'DejaVu Sans Mono',consolas,'Courier New',monospace\"><span style=\"color: #808000; text-decoration-color: #808000\">  Downloading huggingface_hub-0.14.1-py3-none-any.whl (224 kB)\n",
       "</span></pre>\n"
      ],
      "text/plain": [
       "\u001b[33m  Downloading huggingface_hub-0.14.1-py3-none-any.whl (224 kB)\n",
       "\u001b[0m"
      ]
     },
     "metadata": {},
     "output_type": "display_data"
    },
    {
     "data": {
      "text/html": [
       "<pre style=\"white-space:pre;overflow-x:auto;line-height:normal;font-family:Menlo,'DejaVu Sans Mono',consolas,'Courier New',monospace\"><span style=\"color: #808000; text-decoration-color: #808000\">     ━━━━━━━━━━━━━━━━━━━━━━━━━━━━━━━━━━━━━ 224.5/224.5 kB 281.2 MB/s eta 0:00:00\n",
       "</span></pre>\n"
      ],
      "text/plain": [
       "\u001b[33m     ━━━━━━━━━━━━━━━━━━━━━━━━━━━━━━━━━━━━━ 224.5/224.5 kB 281.2 MB/s eta 0:00:00\n",
       "\u001b[0m"
      ]
     },
     "metadata": {},
     "output_type": "display_data"
    },
    {
     "data": {
      "text/html": [
       "<pre style=\"white-space:pre;overflow-x:auto;line-height:normal;font-family:Menlo,'DejaVu Sans Mono',consolas,'Courier New',monospace\"><span style=\"color: #808000; text-decoration-color: #808000\">Requirement already satisfied: yarl&lt;2.0,&gt;=1.0 in /usr/local/lib/python3.8/site-packages (from aiohttp-&gt;modal-client-&gt;-r /.requirements.txt (line 7)) (1.8.2)\n",
       "</span></pre>\n"
      ],
      "text/plain": [
       "\u001b[33mRequirement already satisfied: yarl<2.0,>=1.0 in /usr/local/lib/python3.8/site-packages (from aiohttp->modal-client->-r /.requirements.txt (line 7)) (1.8.2)\n",
       "\u001b[0m"
      ]
     },
     "metadata": {},
     "output_type": "display_data"
    },
    {
     "data": {
      "text/html": [
       "<pre style=\"white-space:pre;overflow-x:auto;line-height:normal;font-family:Menlo,'DejaVu Sans Mono',consolas,'Courier New',monospace\"><span style=\"color: #808000; text-decoration-color: #808000\">Requirement already satisfied: frozenlist&gt;=1.1.1 in /usr/local/lib/python3.8/site-packages (from aiohttp-&gt;modal-client-&gt;-r /.requirements.txt (line 7)) (1.3.3)\n",
       "</span></pre>\n"
      ],
      "text/plain": [
       "\u001b[33mRequirement already satisfied: frozenlist>=1.1.1 in /usr/local/lib/python3.8/site-packages (from aiohttp->modal-client->-r /.requirements.txt (line 7)) (1.3.3)\n",
       "\u001b[0m"
      ]
     },
     "metadata": {},
     "output_type": "display_data"
    },
    {
     "data": {
      "text/html": [
       "<pre style=\"white-space:pre;overflow-x:auto;line-height:normal;font-family:Menlo,'DejaVu Sans Mono',consolas,'Courier New',monospace\"><span style=\"color: #808000; text-decoration-color: #808000\">Requirement already satisfied: aiosignal&gt;=1.1.2 in /usr/local/lib/python3.8/site-packages (from aiohttp-&gt;modal-client-&gt;-r /.requirements.txt (line 7)) (1.3.1)\n",
       "</span></pre>\n"
      ],
      "text/plain": [
       "\u001b[33mRequirement already satisfied: aiosignal>=1.1.2 in /usr/local/lib/python3.8/site-packages (from aiohttp->modal-client->-r /.requirements.txt (line 7)) (1.3.1)\n",
       "\u001b[0m"
      ]
     },
     "metadata": {},
     "output_type": "display_data"
    },
    {
     "data": {
      "text/html": [
       "<pre style=\"white-space:pre;overflow-x:auto;line-height:normal;font-family:Menlo,'DejaVu Sans Mono',consolas,'Courier New',monospace\"><span style=\"color: #808000; text-decoration-color: #808000\">Requirement already satisfied: charset-normalizer&lt;3.0,&gt;=2.0 in /usr/local/lib/python3.8/site-packages (from aiohttp-&gt;modal-client-&gt;-r /.requirements.txt (line 7)) (2.1.1)\n",
       "</span></pre>\n"
      ],
      "text/plain": [
       "\u001b[33mRequirement already satisfied: charset-normalizer<3.0,>=2.0 in /usr/local/lib/python3.8/site-packages (from aiohttp->modal-client->-r /.requirements.txt (line 7)) (2.1.1)\n",
       "\u001b[0m"
      ]
     },
     "metadata": {},
     "output_type": "display_data"
    },
    {
     "data": {
      "text/html": [
       "<pre style=\"white-space:pre;overflow-x:auto;line-height:normal;font-family:Menlo,'DejaVu Sans Mono',consolas,'Courier New',monospace\"><span style=\"color: #808000; text-decoration-color: #808000\">Requirement already satisfied: async-timeout&lt;5.0,&gt;=4.0.0a3 in /usr/local/lib/python3.8/site-packages (from aiohttp-&gt;modal-client-&gt;-r /.requirements.txt (line 7)) (4.0.2)\n",
       "</span></pre>\n"
      ],
      "text/plain": [
       "\u001b[33mRequirement already satisfied: async-timeout<5.0,>=4.0.0a3 in /usr/local/lib/python3.8/site-packages (from aiohttp->modal-client->-r /.requirements.txt (line 7)) (4.0.2)\n",
       "\u001b[0m"
      ]
     },
     "metadata": {},
     "output_type": "display_data"
    },
    {
     "data": {
      "text/html": [
       "<pre style=\"white-space:pre;overflow-x:auto;line-height:normal;font-family:Menlo,'DejaVu Sans Mono',consolas,'Courier New',monospace\"><span style=\"color: #808000; text-decoration-color: #808000\">Requirement already satisfied: pydantic!=1.7,!=1.7.1,!=1.7.2,!=1.7.3,!=1.8,!=1.8.1,&lt;2.0.0,&gt;=1.6.2 in /usr/local/lib/python3.8/site-packages (from fastapi-&gt;modal-client-&gt;-r /.requirements.txt (line 7)) (1.10.6)\n",
       "</span></pre>\n"
      ],
      "text/plain": [
       "\u001b[33mRequirement already satisfied: pydantic!=1.7,!=1.7.1,!=1.7.2,!=1.7.3,!=1.8,!=1.8.1,<2.0.0,>=1.6.2 in /usr/local/lib/python3.8/site-packages (from fastapi->modal-client->-r /.requirements.txt (line 7)) (1.10.6)\n",
       "\u001b[0m"
      ]
     },
     "metadata": {},
     "output_type": "display_data"
    },
    {
     "data": {
      "text/html": [
       "<pre style=\"white-space:pre;overflow-x:auto;line-height:normal;font-family:Menlo,'DejaVu Sans Mono',consolas,'Courier New',monospace\"><span style=\"color: #808000; text-decoration-color: #808000\">Requirement already satisfied: starlette==0.22.0 in /usr/local/lib/python3.8/site-packages (from fastapi-&gt;modal-client-&gt;-r /.requirements.txt (line 7)) (0.22.0)\n",
       "</span></pre>\n"
      ],
      "text/plain": [
       "\u001b[33mRequirement already satisfied: starlette==0.22.0 in /usr/local/lib/python3.8/site-packages (from fastapi->modal-client->-r /.requirements.txt (line 7)) (0.22.0)\n",
       "\u001b[0m"
      ]
     },
     "metadata": {},
     "output_type": "display_data"
    },
    {
     "data": {
      "text/html": [
       "<pre style=\"white-space:pre;overflow-x:auto;line-height:normal;font-family:Menlo,'DejaVu Sans Mono',consolas,'Courier New',monospace\"><span style=\"color: #808000; text-decoration-color: #808000\">Requirement already satisfied: tenacity&gt;=6.2.0 in /usr/local/lib/python3.8/site-packages (from plotly-&gt;catboost-&gt;-r /.requirements.txt (line 1)) (8.2.2)\n",
       "</span></pre>\n"
      ],
      "text/plain": [
       "\u001b[33mRequirement already satisfied: tenacity>=6.2.0 in /usr/local/lib/python3.8/site-packages (from plotly->catboost->-r /.requirements.txt (line 1)) (8.2.2)\n",
       "\u001b[0m"
      ]
     },
     "metadata": {},
     "output_type": "display_data"
    },
    {
     "data": {
      "text/html": [
       "<pre style=\"white-space:pre;overflow-x:auto;line-height:normal;font-family:Menlo,'DejaVu Sans Mono',consolas,'Courier New',monospace\"><span style=\"color: #808000; text-decoration-color: #808000\">Requirement already satisfied: idna&gt;=2.8 in /usr/local/lib/python3.8/site-packages (from anyio&gt;=3.1.0-&gt;jupyter-server&lt;3,&gt;=1.16.0-&gt;jupyterlab-&gt;-r /.requirements.txt (line 5)) (3.4)\n",
       "</span></pre>\n"
      ],
      "text/plain": [
       "\u001b[33mRequirement already satisfied: idna>=2.8 in /usr/local/lib/python3.8/site-packages (from anyio>=3.1.0->jupyter-server<3,>=1.16.0->jupyterlab->-r /.requirements.txt (line 5)) (3.4)\n",
       "\u001b[0m"
      ]
     },
     "metadata": {},
     "output_type": "display_data"
    },
    {
     "data": {
      "text/html": [
       "<pre style=\"white-space:pre;overflow-x:auto;line-height:normal;font-family:Menlo,'DejaVu Sans Mono',consolas,'Courier New',monospace\"><span style=\"color: #808000; text-decoration-color: #808000\">Requirement already satisfied: sniffio&gt;=1.1 in /usr/local/lib/python3.8/site-packages (from anyio&gt;=3.1.0-&gt;jupyter-server&lt;3,&gt;=1.16.0-&gt;jupyterlab-&gt;-r /.requirements.txt (line 5)) (1.3.0)\n",
       "</span></pre>\n"
      ],
      "text/plain": [
       "\u001b[33mRequirement already satisfied: sniffio>=1.1 in /usr/local/lib/python3.8/site-packages (from anyio>=3.1.0->jupyter-server<3,>=1.16.0->jupyterlab->-r /.requirements.txt (line 5)) (1.3.0)\n",
       "\u001b[0m"
      ]
     },
     "metadata": {},
     "output_type": "display_data"
    },
    {
     "data": {
      "text/html": [
       "<pre style=\"white-space:pre;overflow-x:auto;line-height:normal;font-family:Menlo,'DejaVu Sans Mono',consolas,'Courier New',monospace\"><span style=\"color: #808000; text-decoration-color: #808000\">Requirement already satisfied: hpack&lt;5,&gt;=4.0 in /usr/local/lib/python3.8/site-packages (from h2&lt;5,&gt;=3.1.0-&gt;grpclib==0.4.3-&gt;modal-client-&gt;-r /.requirements.txt (line 7)) (4.0.0)\n",
       "</span></pre>\n"
      ],
      "text/plain": [
       "\u001b[33mRequirement already satisfied: hpack<5,>=4.0 in /usr/local/lib/python3.8/site-packages (from h2<5,>=3.1.0->grpclib==0.4.3->modal-client->-r /.requirements.txt (line 7)) (4.0.0)\n",
       "\u001b[0m"
      ]
     },
     "metadata": {},
     "output_type": "display_data"
    },
    {
     "data": {
      "text/html": [
       "<pre style=\"white-space:pre;overflow-x:auto;line-height:normal;font-family:Menlo,'DejaVu Sans Mono',consolas,'Courier New',monospace\"><span style=\"color: #808000; text-decoration-color: #808000\">Requirement already satisfied: hyperframe&lt;7,&gt;=6.0 in /usr/local/lib/python3.8/site-packages (from h2&lt;5,&gt;=3.1.0-&gt;grpclib==0.4.3-&gt;modal-client-&gt;-r /.requirements.txt (line 7)) (6.0.1)\n",
       "</span></pre>\n"
      ],
      "text/plain": [
       "\u001b[33mRequirement already satisfied: hyperframe<7,>=6.0 in /usr/local/lib/python3.8/site-packages (from h2<5,>=3.1.0->grpclib==0.4.3->modal-client->-r /.requirements.txt (line 7)) (6.0.1)\n",
       "\u001b[0m"
      ]
     },
     "metadata": {},
     "output_type": "display_data"
    },
    {
     "data": {
      "text/html": [
       "<pre style=\"white-space:pre;overflow-x:auto;line-height:normal;font-family:Menlo,'DejaVu Sans Mono',consolas,'Courier New',monospace\"><span style=\"color: #808000; text-decoration-color: #808000\">Collecting pyyaml&gt;=5.1\n",
       "</span></pre>\n"
      ],
      "text/plain": [
       "\u001b[33mCollecting pyyaml>=5.1\n",
       "\u001b[0m"
      ]
     },
     "metadata": {},
     "output_type": "display_data"
    },
    {
     "data": {
      "text/html": [
       "<pre style=\"white-space:pre;overflow-x:auto;line-height:normal;font-family:Menlo,'DejaVu Sans Mono',consolas,'Courier New',monospace\"><span style=\"color: #808000; text-decoration-color: #808000\">  Downloading PyYAML-6.0-cp38-cp38-manylinux_2_5_x86_64.manylinux1_x86_64.manylinux_2_12_x86_64.manylinux2010_x86_64.whl (701 kB)\n",
       "</span></pre>\n"
      ],
      "text/plain": [
       "\u001b[33m  Downloading PyYAML-6.0-cp38-cp38-manylinux_2_5_x86_64.manylinux1_x86_64.manylinux_2_12_x86_64.manylinux2010_x86_64.whl (701 kB)\n",
       "\u001b[0m"
      ]
     },
     "metadata": {},
     "output_type": "display_data"
    },
    {
     "data": {
      "text/html": [
       "<pre style=\"white-space:pre;overflow-x:auto;line-height:normal;font-family:Menlo,'DejaVu Sans Mono',consolas,'Courier New',monospace\"><span style=\"color: #808000; text-decoration-color: #808000\">     ━━━━━━━━━━━━━━━━━━━━━━━━━━━━━━━━━━━━━ 701.2/701.2 kB 277.2 MB/s eta 0:00:00\n",
       "</span></pre>\n"
      ],
      "text/plain": [
       "\u001b[33m     ━━━━━━━━━━━━━━━━━━━━━━━━━━━━━━━━━━━━━ 701.2/701.2 kB 277.2 MB/s eta 0:00:00\n",
       "\u001b[0m"
      ]
     },
     "metadata": {},
     "output_type": "display_data"
    },
    {
     "data": {
      "text/html": [
       "<pre style=\"white-space:pre;overflow-x:auto;line-height:normal;font-family:Menlo,'DejaVu Sans Mono',consolas,'Courier New',monospace\"><span style=\"color: #808000; text-decoration-color: #808000\">Collecting filelock\n",
       "</span></pre>\n"
      ],
      "text/plain": [
       "\u001b[33mCollecting filelock\n",
       "\u001b[0m"
      ]
     },
     "metadata": {},
     "output_type": "display_data"
    },
    {
     "data": {
      "text/html": [
       "<pre style=\"white-space:pre;overflow-x:auto;line-height:normal;font-family:Menlo,'DejaVu Sans Mono',consolas,'Courier New',monospace\"><span style=\"color: #808000; text-decoration-color: #808000\">  Downloading filelock-3.12.0-py3-none-any.whl (10 kB)\n",
       "</span></pre>\n"
      ],
      "text/plain": [
       "\u001b[33m  Downloading filelock-3.12.0-py3-none-any.whl (10 kB)\n",
       "\u001b[0m"
      ]
     },
     "metadata": {},
     "output_type": "display_data"
    },
    {
     "data": {
      "text/html": [
       "<pre style=\"white-space:pre;overflow-x:auto;line-height:normal;font-family:Menlo,'DejaVu Sans Mono',consolas,'Courier New',monospace\"><span style=\"color: #808000; text-decoration-color: #808000\">Collecting fsspec\n",
       "</span></pre>\n"
      ],
      "text/plain": [
       "\u001b[33mCollecting fsspec\n",
       "\u001b[0m"
      ]
     },
     "metadata": {},
     "output_type": "display_data"
    },
    {
     "data": {
      "text/html": [
       "<pre style=\"white-space:pre;overflow-x:auto;line-height:normal;font-family:Menlo,'DejaVu Sans Mono',consolas,'Courier New',monospace\"><span style=\"color: #808000; text-decoration-color: #808000\">  Downloading fsspec-2023.4.0-py3-none-any.whl (153 kB)\n",
       "</span></pre>\n"
      ],
      "text/plain": [
       "\u001b[33m  Downloading fsspec-2023.4.0-py3-none-any.whl (153 kB)\n",
       "\u001b[0m"
      ]
     },
     "metadata": {},
     "output_type": "display_data"
    },
    {
     "data": {
      "text/html": [
       "<pre style=\"white-space:pre;overflow-x:auto;line-height:normal;font-family:Menlo,'DejaVu Sans Mono',consolas,'Courier New',monospace\"><span style=\"color: #808000; text-decoration-color: #808000\">     ━━━━━━━━━━━━━━━━━━━━━━━━━━━━━━━━━━━━━ 154.0/154.0 kB 276.3 MB/s eta 0:00:00\n",
       "</span></pre>\n"
      ],
      "text/plain": [
       "\u001b[33m     ━━━━━━━━━━━━━━━━━━━━━━━━━━━━━━━━━━━━━ 154.0/154.0 kB 276.3 MB/s eta 0:00:00\n",
       "\u001b[0m"
      ]
     },
     "metadata": {},
     "output_type": "display_data"
    },
    {
     "data": {
      "text/html": [
       "<pre style=\"white-space:pre;overflow-x:auto;line-height:normal;font-family:Menlo,'DejaVu Sans Mono',consolas,'Courier New',monospace\"><span style=\"color: #808000; text-decoration-color: #808000\">Requirement already satisfied: parso&lt;0.9.0,&gt;=0.8.0 in /usr/local/lib/python3.8/site-packages (from jedi&gt;=0.16-&gt;ipython&gt;=7.23.1-&gt;ipykernel-&gt;-r /.requirements.txt (line 3)) (0.8.3)\n",
       "</span></pre>\n"
      ],
      "text/plain": [
       "\u001b[33mRequirement already satisfied: parso<0.9.0,>=0.8.0 in /usr/local/lib/python3.8/site-packages (from jedi>=0.16->ipython>=7.23.1->ipykernel->-r /.requirements.txt (line 3)) (0.8.3)\n",
       "\u001b[0m"
      ]
     },
     "metadata": {},
     "output_type": "display_data"
    },
    {
     "data": {
      "text/html": [
       "<pre style=\"white-space:pre;overflow-x:auto;line-height:normal;font-family:Menlo,'DejaVu Sans Mono',consolas,'Courier New',monospace\"><span style=\"color: #808000; text-decoration-color: #808000\">Requirement already satisfied: pyrsistent!=0.17.0,!=0.17.1,!=0.17.2,&gt;=0.14.0 in /usr/local/lib/python3.8/site-packages (from jsonschema&gt;=4.17.3-&gt;jupyterlab-server~=2.19-&gt;jupyterlab-&gt;-r /.requirements.txt (line 5)) (0.19.3)\n",
       "</span></pre>\n"
      ],
      "text/plain": [
       "\u001b[33mRequirement already satisfied: pyrsistent!=0.17.0,!=0.17.1,!=0.17.2,>=0.14.0 in /usr/local/lib/python3.8/site-packages (from jsonschema>=4.17.3->jupyterlab-server~=2.19->jupyterlab->-r /.requirements.txt (line 5)) (0.19.3)\n",
       "\u001b[0m"
      ]
     },
     "metadata": {},
     "output_type": "display_data"
    },
    {
     "data": {
      "text/html": [
       "<pre style=\"white-space:pre;overflow-x:auto;line-height:normal;font-family:Menlo,'DejaVu Sans Mono',consolas,'Courier New',monospace\"><span style=\"color: #808000; text-decoration-color: #808000\">Requirement already satisfied: pkgutil-resolve-name&gt;=1.3.10 in /usr/local/lib/python3.8/site-packages (from jsonschema&gt;=4.17.3-&gt;jupyterlab-server~=2.19-&gt;jupyterlab-&gt;-r /.requirements.txt (line 5)) (1.3.10)\n",
       "</span></pre>\n"
      ],
      "text/plain": [
       "\u001b[33mRequirement already satisfied: pkgutil-resolve-name>=1.3.10 in /usr/local/lib/python3.8/site-packages (from jsonschema>=4.17.3->jupyterlab-server~=2.19->jupyterlab->-r /.requirements.txt (line 5)) (1.3.10)\n",
       "\u001b[0m"
      ]
     },
     "metadata": {},
     "output_type": "display_data"
    },
    {
     "data": {
      "text/html": [
       "<pre style=\"white-space:pre;overflow-x:auto;line-height:normal;font-family:Menlo,'DejaVu Sans Mono',consolas,'Courier New',monospace\"><span style=\"color: #808000; text-decoration-color: #808000\">Collecting rfc3339-validator\n",
       "</span></pre>\n"
      ],
      "text/plain": [
       "\u001b[33mCollecting rfc3339-validator\n",
       "\u001b[0m"
      ]
     },
     "metadata": {},
     "output_type": "display_data"
    },
    {
     "data": {
      "text/html": [
       "<pre style=\"white-space:pre;overflow-x:auto;line-height:normal;font-family:Menlo,'DejaVu Sans Mono',consolas,'Courier New',monospace\"><span style=\"color: #808000; text-decoration-color: #808000\">  Downloading rfc3339_validator-0.1.4-py2.py3-none-any.whl (3.5 kB)\n",
       "</span></pre>\n"
      ],
      "text/plain": [
       "\u001b[33m  Downloading rfc3339_validator-0.1.4-py2.py3-none-any.whl (3.5 kB)\n",
       "\u001b[0m"
      ]
     },
     "metadata": {},
     "output_type": "display_data"
    },
    {
     "data": {
      "text/html": [
       "<pre style=\"white-space:pre;overflow-x:auto;line-height:normal;font-family:Menlo,'DejaVu Sans Mono',consolas,'Courier New',monospace\"><span style=\"color: #808000; text-decoration-color: #808000\">Collecting python-json-logger&gt;=2.0.4\n",
       "</span></pre>\n"
      ],
      "text/plain": [
       "\u001b[33mCollecting python-json-logger>=2.0.4\n",
       "\u001b[0m"
      ]
     },
     "metadata": {},
     "output_type": "display_data"
    },
    {
     "data": {
      "text/html": [
       "<pre style=\"white-space:pre;overflow-x:auto;line-height:normal;font-family:Menlo,'DejaVu Sans Mono',consolas,'Courier New',monospace\"><span style=\"color: #808000; text-decoration-color: #808000\">  Downloading python_json_logger-2.0.7-py3-none-any.whl (8.1 kB)\n",
       "</span></pre>\n"
      ],
      "text/plain": [
       "\u001b[33m  Downloading python_json_logger-2.0.7-py3-none-any.whl (8.1 kB)\n",
       "\u001b[0m"
      ]
     },
     "metadata": {},
     "output_type": "display_data"
    },
    {
     "data": {
      "text/html": [
       "<pre style=\"white-space:pre;overflow-x:auto;line-height:normal;font-family:Menlo,'DejaVu Sans Mono',consolas,'Courier New',monospace\"><span style=\"color: #808000; text-decoration-color: #808000\">Collecting rfc3986-validator&gt;=0.1.1\n",
       "</span></pre>\n"
      ],
      "text/plain": [
       "\u001b[33mCollecting rfc3986-validator>=0.1.1\n",
       "\u001b[0m"
      ]
     },
     "metadata": {},
     "output_type": "display_data"
    },
    {
     "data": {
      "text/html": [
       "<pre style=\"white-space:pre;overflow-x:auto;line-height:normal;font-family:Menlo,'DejaVu Sans Mono',consolas,'Courier New',monospace\"><span style=\"color: #808000; text-decoration-color: #808000\">  Downloading rfc3986_validator-0.1.1-py2.py3-none-any.whl (4.2 kB)\n",
       "</span></pre>\n"
      ],
      "text/plain": [
       "\u001b[33m  Downloading rfc3986_validator-0.1.1-py2.py3-none-any.whl (4.2 kB)\n",
       "\u001b[0m"
      ]
     },
     "metadata": {},
     "output_type": "display_data"
    },
    {
     "data": {
      "text/html": [
       "<pre style=\"white-space:pre;overflow-x:auto;line-height:normal;font-family:Menlo,'DejaVu Sans Mono',consolas,'Courier New',monospace\"><span style=\"color: #808000; text-decoration-color: #808000\">Collecting bleach\n",
       "</span></pre>\n"
      ],
      "text/plain": [
       "\u001b[33mCollecting bleach\n",
       "\u001b[0m"
      ]
     },
     "metadata": {},
     "output_type": "display_data"
    },
    {
     "data": {
      "text/html": [
       "<pre style=\"white-space:pre;overflow-x:auto;line-height:normal;font-family:Menlo,'DejaVu Sans Mono',consolas,'Courier New',monospace\"><span style=\"color: #808000; text-decoration-color: #808000\">  Downloading bleach-6.0.0-py3-none-any.whl (162 kB)\n",
       "</span></pre>\n"
      ],
      "text/plain": [
       "\u001b[33m  Downloading bleach-6.0.0-py3-none-any.whl (162 kB)\n",
       "\u001b[0m"
      ]
     },
     "metadata": {},
     "output_type": "display_data"
    },
    {
     "data": {
      "text/html": [
       "<pre style=\"white-space:pre;overflow-x:auto;line-height:normal;font-family:Menlo,'DejaVu Sans Mono',consolas,'Courier New',monospace\"><span style=\"color: #808000; text-decoration-color: #808000\">     ━━━━━━━━━━━━━━━━━━━━━━━━━━━━━━━━━━━━━ 162.5/162.5 kB 264.3 MB/s eta 0:00:00\n",
       "</span></pre>\n"
      ],
      "text/plain": [
       "\u001b[33m     ━━━━━━━━━━━━━━━━━━━━━━━━━━━━━━━━━━━━━ 162.5/162.5 kB 264.3 MB/s eta 0:00:00\n",
       "\u001b[0m"
      ]
     },
     "metadata": {},
     "output_type": "display_data"
    },
    {
     "data": {
      "text/html": [
       "<pre style=\"white-space:pre;overflow-x:auto;line-height:normal;font-family:Menlo,'DejaVu Sans Mono',consolas,'Courier New',monospace\"><span style=\"color: #808000; text-decoration-color: #808000\">Collecting beautifulsoup4\n",
       "</span></pre>\n"
      ],
      "text/plain": [
       "\u001b[33mCollecting beautifulsoup4\n",
       "\u001b[0m"
      ]
     },
     "metadata": {},
     "output_type": "display_data"
    },
    {
     "data": {
      "text/html": [
       "<pre style=\"white-space:pre;overflow-x:auto;line-height:normal;font-family:Menlo,'DejaVu Sans Mono',consolas,'Courier New',monospace\"><span style=\"color: #808000; text-decoration-color: #808000\">  Downloading beautifulsoup4-4.12.2-py3-none-any.whl (142 kB)\n",
       "</span></pre>\n"
      ],
      "text/plain": [
       "\u001b[33m  Downloading beautifulsoup4-4.12.2-py3-none-any.whl (142 kB)\n",
       "\u001b[0m"
      ]
     },
     "metadata": {},
     "output_type": "display_data"
    },
    {
     "data": {
      "text/html": [
       "<pre style=\"white-space:pre;overflow-x:auto;line-height:normal;font-family:Menlo,'DejaVu Sans Mono',consolas,'Courier New',monospace\"><span style=\"color: #808000; text-decoration-color: #808000\">     ━━━━━━━━━━━━━━━━━━━━━━━━━━━━━━━━━━━━━ 143.0/143.0 kB 287.1 MB/s eta 0:00:00\n",
       "</span></pre>\n"
      ],
      "text/plain": [
       "\u001b[33m     ━━━━━━━━━━━━━━━━━━━━━━━━━━━━━━━━━━━━━ 143.0/143.0 kB 287.1 MB/s eta 0:00:00\n",
       "\u001b[0m"
      ]
     },
     "metadata": {},
     "output_type": "display_data"
    },
    {
     "data": {
      "text/html": [
       "<pre style=\"white-space:pre;overflow-x:auto;line-height:normal;font-family:Menlo,'DejaVu Sans Mono',consolas,'Courier New',monospace\"><span style=\"color: #808000; text-decoration-color: #808000\">Collecting defusedxml\n",
       "</span></pre>\n"
      ],
      "text/plain": [
       "\u001b[33mCollecting defusedxml\n",
       "\u001b[0m"
      ]
     },
     "metadata": {},
     "output_type": "display_data"
    },
    {
     "data": {
      "text/html": [
       "<pre style=\"white-space:pre;overflow-x:auto;line-height:normal;font-family:Menlo,'DejaVu Sans Mono',consolas,'Courier New',monospace\"><span style=\"color: #808000; text-decoration-color: #808000\">  Downloading defusedxml-0.7.1-py2.py3-none-any.whl (25 kB)\n",
       "</span></pre>\n"
      ],
      "text/plain": [
       "\u001b[33m  Downloading defusedxml-0.7.1-py2.py3-none-any.whl (25 kB)\n",
       "\u001b[0m"
      ]
     },
     "metadata": {},
     "output_type": "display_data"
    },
    {
     "data": {
      "text/html": [
       "<pre style=\"white-space:pre;overflow-x:auto;line-height:normal;font-family:Menlo,'DejaVu Sans Mono',consolas,'Courier New',monospace\"><span style=\"color: #808000; text-decoration-color: #808000\">Collecting jupyterlab-pygments\n",
       "</span></pre>\n"
      ],
      "text/plain": [
       "\u001b[33mCollecting jupyterlab-pygments\n",
       "\u001b[0m"
      ]
     },
     "metadata": {},
     "output_type": "display_data"
    },
    {
     "data": {
      "text/html": [
       "<pre style=\"white-space:pre;overflow-x:auto;line-height:normal;font-family:Menlo,'DejaVu Sans Mono',consolas,'Courier New',monospace\"><span style=\"color: #808000; text-decoration-color: #808000\">  Downloading jupyterlab_pygments-0.2.2-py2.py3-none-any.whl (21 kB)\n",
       "</span></pre>\n"
      ],
      "text/plain": [
       "\u001b[33m  Downloading jupyterlab_pygments-0.2.2-py2.py3-none-any.whl (21 kB)\n",
       "\u001b[0m"
      ]
     },
     "metadata": {},
     "output_type": "display_data"
    },
    {
     "data": {
      "text/html": [
       "<pre style=\"white-space:pre;overflow-x:auto;line-height:normal;font-family:Menlo,'DejaVu Sans Mono',consolas,'Courier New',monospace\"><span style=\"color: #808000; text-decoration-color: #808000\">Collecting tinycss2\n",
       "</span></pre>\n"
      ],
      "text/plain": [
       "\u001b[33mCollecting tinycss2\n",
       "\u001b[0m"
      ]
     },
     "metadata": {},
     "output_type": "display_data"
    },
    {
     "data": {
      "text/html": [
       "<pre style=\"white-space:pre;overflow-x:auto;line-height:normal;font-family:Menlo,'DejaVu Sans Mono',consolas,'Courier New',monospace\"><span style=\"color: #808000; text-decoration-color: #808000\">  Downloading tinycss2-1.2.1-py3-none-any.whl (21 kB)\n",
       "</span></pre>\n"
      ],
      "text/plain": [
       "\u001b[33m  Downloading tinycss2-1.2.1-py3-none-any.whl (21 kB)\n",
       "\u001b[0m"
      ]
     },
     "metadata": {},
     "output_type": "display_data"
    },
    {
     "data": {
      "text/html": [
       "<pre style=\"white-space:pre;overflow-x:auto;line-height:normal;font-family:Menlo,'DejaVu Sans Mono',consolas,'Courier New',monospace\"><span style=\"color: #808000; text-decoration-color: #808000\">Collecting mistune&lt;3,&gt;=2.0.3\n",
       "</span></pre>\n"
      ],
      "text/plain": [
       "\u001b[33mCollecting mistune<3,>=2.0.3\n",
       "\u001b[0m"
      ]
     },
     "metadata": {},
     "output_type": "display_data"
    },
    {
     "data": {
      "text/html": [
       "<pre style=\"white-space:pre;overflow-x:auto;line-height:normal;font-family:Menlo,'DejaVu Sans Mono',consolas,'Courier New',monospace\"><span style=\"color: #808000; text-decoration-color: #808000\">  Downloading mistune-2.0.5-py2.py3-none-any.whl (24 kB)\n",
       "</span></pre>\n"
      ],
      "text/plain": [
       "\u001b[33m  Downloading mistune-2.0.5-py2.py3-none-any.whl (24 kB)\n",
       "\u001b[0m"
      ]
     },
     "metadata": {},
     "output_type": "display_data"
    },
    {
     "data": {
      "text/html": [
       "<pre style=\"white-space:pre;overflow-x:auto;line-height:normal;font-family:Menlo,'DejaVu Sans Mono',consolas,'Courier New',monospace\"><span style=\"color: #808000; text-decoration-color: #808000\">Collecting nbclient&gt;=0.5.0\n",
       "</span></pre>\n"
      ],
      "text/plain": [
       "\u001b[33mCollecting nbclient>=0.5.0\n",
       "\u001b[0m"
      ]
     },
     "metadata": {},
     "output_type": "display_data"
    },
    {
     "data": {
      "text/html": [
       "<pre style=\"white-space:pre;overflow-x:auto;line-height:normal;font-family:Menlo,'DejaVu Sans Mono',consolas,'Courier New',monospace\"><span style=\"color: #808000; text-decoration-color: #808000\">  Downloading nbclient-0.7.4-py3-none-any.whl (73 kB)\n",
       "</span></pre>\n"
      ],
      "text/plain": [
       "\u001b[33m  Downloading nbclient-0.7.4-py3-none-any.whl (73 kB)\n",
       "\u001b[0m"
      ]
     },
     "metadata": {},
     "output_type": "display_data"
    },
    {
     "data": {
      "text/html": [
       "<pre style=\"white-space:pre;overflow-x:auto;line-height:normal;font-family:Menlo,'DejaVu Sans Mono',consolas,'Courier New',monospace\"><span style=\"color: #808000; text-decoration-color: #808000\">     ━━━━━━━━━━━━━━━━━━━━━━━━━━━━━━━━━━━━━━━ 73.1/73.1 kB 234.0 MB/s eta 0:00:00\n",
       "</span></pre>\n"
      ],
      "text/plain": [
       "\u001b[33m     ━━━━━━━━━━━━━━━━━━━━━━━━━━━━━━━━━━━━━━━ 73.1/73.1 kB 234.0 MB/s eta 0:00:00\n",
       "\u001b[0m"
      ]
     },
     "metadata": {},
     "output_type": "display_data"
    },
    {
     "data": {
      "text/html": [
       "<pre style=\"white-space:pre;overflow-x:auto;line-height:normal;font-family:Menlo,'DejaVu Sans Mono',consolas,'Courier New',monospace\"><span style=\"color: #808000; text-decoration-color: #808000\">Collecting pandocfilters&gt;=1.4.1\n",
       "</span></pre>\n"
      ],
      "text/plain": [
       "\u001b[33mCollecting pandocfilters>=1.4.1\n",
       "\u001b[0m"
      ]
     },
     "metadata": {},
     "output_type": "display_data"
    },
    {
     "data": {
      "text/html": [
       "<pre style=\"white-space:pre;overflow-x:auto;line-height:normal;font-family:Menlo,'DejaVu Sans Mono',consolas,'Courier New',monospace\"><span style=\"color: #808000; text-decoration-color: #808000\">  Downloading pandocfilters-1.5.0-py2.py3-none-any.whl (8.7 kB)\n",
       "</span></pre>\n"
      ],
      "text/plain": [
       "\u001b[33m  Downloading pandocfilters-1.5.0-py2.py3-none-any.whl (8.7 kB)\n",
       "\u001b[0m"
      ]
     },
     "metadata": {},
     "output_type": "display_data"
    },
    {
     "data": {
      "text/html": [
       "<pre style=\"white-space:pre;overflow-x:auto;line-height:normal;font-family:Menlo,'DejaVu Sans Mono',consolas,'Courier New',monospace\"><span style=\"color: #808000; text-decoration-color: #808000\">Collecting fastjsonschema\n",
       "</span></pre>\n"
      ],
      "text/plain": [
       "\u001b[33mCollecting fastjsonschema\n",
       "\u001b[0m"
      ]
     },
     "metadata": {},
     "output_type": "display_data"
    },
    {
     "data": {
      "text/html": [
       "<pre style=\"white-space:pre;overflow-x:auto;line-height:normal;font-family:Menlo,'DejaVu Sans Mono',consolas,'Courier New',monospace\"><span style=\"color: #808000; text-decoration-color: #808000\">  Downloading fastjsonschema-2.16.3-py3-none-any.whl (23 kB)\n",
       "</span></pre>\n"
      ],
      "text/plain": [
       "\u001b[33m  Downloading fastjsonschema-2.16.3-py3-none-any.whl (23 kB)\n",
       "\u001b[0m"
      ]
     },
     "metadata": {},
     "output_type": "display_data"
    },
    {
     "data": {
      "text/html": [
       "<pre style=\"white-space:pre;overflow-x:auto;line-height:normal;font-family:Menlo,'DejaVu Sans Mono',consolas,'Courier New',monospace\"><span style=\"color: #808000; text-decoration-color: #808000\">Requirement already satisfied: wcwidth in /usr/local/lib/python3.8/site-packages (from prompt-toolkit!=3.0.37,&lt;3.1.0,&gt;=3.0.30-&gt;ipython&gt;=7.23.1-&gt;ipykernel-&gt;-r /.requirements.txt (line 3)) (0.2.6)\n",
       "</span></pre>\n"
      ],
      "text/plain": [
       "\u001b[33mRequirement already satisfied: wcwidth in /usr/local/lib/python3.8/site-packages (from prompt-toolkit!=3.0.37,<3.1.0,>=3.0.30->ipython>=7.23.1->ipykernel->-r /.requirements.txt (line 3)) (0.2.6)\n",
       "\u001b[0m"
      ]
     },
     "metadata": {},
     "output_type": "display_data"
    },
    {
     "data": {
      "text/html": [
       "<pre style=\"white-space:pre;overflow-x:auto;line-height:normal;font-family:Menlo,'DejaVu Sans Mono',consolas,'Courier New',monospace\"><span style=\"color: #808000; text-decoration-color: #808000\">Collecting urllib3&lt;1.27,&gt;=1.21.1\n",
       "</span></pre>\n"
      ],
      "text/plain": [
       "\u001b[33mCollecting urllib3<1.27,>=1.21.1\n",
       "\u001b[0m"
      ]
     },
     "metadata": {},
     "output_type": "display_data"
    },
    {
     "data": {
      "text/html": [
       "<pre style=\"white-space:pre;overflow-x:auto;line-height:normal;font-family:Menlo,'DejaVu Sans Mono',consolas,'Courier New',monospace\"><span style=\"color: #808000; text-decoration-color: #808000\">  Downloading urllib3-1.26.15-py2.py3-none-any.whl (140 kB)\n",
       "</span></pre>\n"
      ],
      "text/plain": [
       "\u001b[33m  Downloading urllib3-1.26.15-py2.py3-none-any.whl (140 kB)\n",
       "\u001b[0m"
      ]
     },
     "metadata": {},
     "output_type": "display_data"
    },
    {
     "data": {
      "text/html": [
       "<pre style=\"white-space:pre;overflow-x:auto;line-height:normal;font-family:Menlo,'DejaVu Sans Mono',consolas,'Courier New',monospace\"><span style=\"color: #808000; text-decoration-color: #808000\">     ━━━━━━━━━━━━━━━━━━━━━━━━━━━━━━━━━━━━━ 140.9/140.9 kB 262.2 MB/s eta 0:00:00\n",
       "</span></pre>\n"
      ],
      "text/plain": [
       "\u001b[33m     ━━━━━━━━━━━━━━━━━━━━━━━━━━━━━━━━━━━━━ 140.9/140.9 kB 262.2 MB/s eta 0:00:00\n",
       "\u001b[0m"
      ]
     },
     "metadata": {},
     "output_type": "display_data"
    },
    {
     "data": {
      "text/html": [
       "<pre style=\"white-space:pre;overflow-x:auto;line-height:normal;font-family:Menlo,'DejaVu Sans Mono',consolas,'Courier New',monospace\"><span style=\"color: #808000; text-decoration-color: #808000\">Collecting nvidia-cusolver-cu11==11.4.0.1\n",
       "</span></pre>\n"
      ],
      "text/plain": [
       "\u001b[33mCollecting nvidia-cusolver-cu11==11.4.0.1\n",
       "\u001b[0m"
      ]
     },
     "metadata": {},
     "output_type": "display_data"
    },
    {
     "data": {
      "text/html": [
       "<pre style=\"white-space:pre;overflow-x:auto;line-height:normal;font-family:Menlo,'DejaVu Sans Mono',consolas,'Courier New',monospace\"><span style=\"color: #808000; text-decoration-color: #808000\">  Downloading nvidia_cusolver_cu11-11.4.0.1-2-py3-none-manylinux1_x86_64.whl (102.6 MB)\n",
       "</span></pre>\n"
      ],
      "text/plain": [
       "\u001b[33m  Downloading nvidia_cusolver_cu11-11.4.0.1-2-py3-none-manylinux1_x86_64.whl (102.6 MB)\n",
       "\u001b[0m"
      ]
     },
     "metadata": {},
     "output_type": "display_data"
    },
    {
     "data": {
      "text/html": [
       "<pre style=\"white-space:pre;overflow-x:auto;line-height:normal;font-family:Menlo,'DejaVu Sans Mono',consolas,'Courier New',monospace\"><span style=\"color: #808000; text-decoration-color: #808000\">     ━━━━━━━━━━━━━━━━━━━━━━━━━━━━━━━━━━━━━ 102.6/102.6 MB 130.3 MB/s eta 0:00:00\n",
       "</span></pre>\n"
      ],
      "text/plain": [
       "\u001b[33m     ━━━━━━━━━━━━━━━━━━━━━━━━━━━━━━━━━━━━━ 102.6/102.6 MB 130.3 MB/s eta 0:00:00\n",
       "\u001b[0m"
      ]
     },
     "metadata": {},
     "output_type": "display_data"
    },
    {
     "data": {
      "text/html": [
       "<pre style=\"white-space:pre;overflow-x:auto;line-height:normal;font-family:Menlo,'DejaVu Sans Mono',consolas,'Courier New',monospace\"><span style=\"color: #808000; text-decoration-color: #808000\">Collecting nvidia-nvtx-cu11==11.7.91\n",
       "</span></pre>\n"
      ],
      "text/plain": [
       "\u001b[33mCollecting nvidia-nvtx-cu11==11.7.91\n",
       "\u001b[0m"
      ]
     },
     "metadata": {},
     "output_type": "display_data"
    },
    {
     "data": {
      "text/html": [
       "<pre style=\"white-space:pre;overflow-x:auto;line-height:normal;font-family:Menlo,'DejaVu Sans Mono',consolas,'Courier New',monospace\"><span style=\"color: #808000; text-decoration-color: #808000\">  Downloading nvidia_nvtx_cu11-11.7.91-py3-none-manylinux1_x86_64.whl (98 kB)\n",
       "</span></pre>\n"
      ],
      "text/plain": [
       "\u001b[33m  Downloading nvidia_nvtx_cu11-11.7.91-py3-none-manylinux1_x86_64.whl (98 kB)\n",
       "\u001b[0m"
      ]
     },
     "metadata": {},
     "output_type": "display_data"
    },
    {
     "data": {
      "text/html": [
       "<pre style=\"white-space:pre;overflow-x:auto;line-height:normal;font-family:Menlo,'DejaVu Sans Mono',consolas,'Courier New',monospace\"><span style=\"color: #808000; text-decoration-color: #808000\">     ━━━━━━━━━━━━━━━━━━━━━━━━━━━━━━━━━━━━━━━ 98.6/98.6 kB 250.7 MB/s eta 0:00:00\n",
       "</span></pre>\n"
      ],
      "text/plain": [
       "\u001b[33m     ━━━━━━━━━━━━━━━━━━━━━━━━━━━━━━━━━━━━━━━ 98.6/98.6 kB 250.7 MB/s eta 0:00:00\n",
       "\u001b[0m"
      ]
     },
     "metadata": {},
     "output_type": "display_data"
    },
    {
     "data": {
      "text/html": [
       "<pre style=\"white-space:pre;overflow-x:auto;line-height:normal;font-family:Menlo,'DejaVu Sans Mono',consolas,'Courier New',monospace\"><span style=\"color: #808000; text-decoration-color: #808000\">Collecting nvidia-cuda-nvrtc-cu11==11.7.99\n",
       "</span></pre>\n"
      ],
      "text/plain": [
       "\u001b[33mCollecting nvidia-cuda-nvrtc-cu11==11.7.99\n",
       "\u001b[0m"
      ]
     },
     "metadata": {},
     "output_type": "display_data"
    },
    {
     "data": {
      "text/html": [
       "<pre style=\"white-space:pre;overflow-x:auto;line-height:normal;font-family:Menlo,'DejaVu Sans Mono',consolas,'Courier New',monospace\"><span style=\"color: #808000; text-decoration-color: #808000\">  Downloading nvidia_cuda_nvrtc_cu11-11.7.99-2-py3-none-manylinux1_x86_64.whl (21.0 MB)\n",
       "</span></pre>\n"
      ],
      "text/plain": [
       "\u001b[33m  Downloading nvidia_cuda_nvrtc_cu11-11.7.99-2-py3-none-manylinux1_x86_64.whl (21.0 MB)\n",
       "\u001b[0m"
      ]
     },
     "metadata": {},
     "output_type": "display_data"
    },
    {
     "data": {
      "text/html": [
       "<pre style=\"white-space:pre;overflow-x:auto;line-height:normal;font-family:Menlo,'DejaVu Sans Mono',consolas,'Courier New',monospace\"><span style=\"color: #808000; text-decoration-color: #808000\">     ━━━━━━━━━━━━━━━━━━━━━━━━━━━━━━━━━━━━━━━ 21.0/21.0 MB 220.8 MB/s eta 0:00:00\n",
       "</span></pre>\n"
      ],
      "text/plain": [
       "\u001b[33m     ━━━━━━━━━━━━━━━━━━━━━━━━━━━━━━━━━━━━━━━ 21.0/21.0 MB 220.8 MB/s eta 0:00:00\n",
       "\u001b[0m"
      ]
     },
     "metadata": {},
     "output_type": "display_data"
    },
    {
     "data": {
      "text/html": [
       "<pre style=\"white-space:pre;overflow-x:auto;line-height:normal;font-family:Menlo,'DejaVu Sans Mono',consolas,'Courier New',monospace\"><span style=\"color: #808000; text-decoration-color: #808000\">Collecting nvidia-cuda-runtime-cu11==11.7.99\n",
       "</span></pre>\n"
      ],
      "text/plain": [
       "\u001b[33mCollecting nvidia-cuda-runtime-cu11==11.7.99\n",
       "\u001b[0m"
      ]
     },
     "metadata": {},
     "output_type": "display_data"
    },
    {
     "data": {
      "text/html": [
       "<pre style=\"white-space:pre;overflow-x:auto;line-height:normal;font-family:Menlo,'DejaVu Sans Mono',consolas,'Courier New',monospace\"><span style=\"color: #808000; text-decoration-color: #808000\">  Downloading nvidia_cuda_runtime_cu11-11.7.99-py3-none-manylinux1_x86_64.whl (849 kB)\n",
       "</span></pre>\n"
      ],
      "text/plain": [
       "\u001b[33m  Downloading nvidia_cuda_runtime_cu11-11.7.99-py3-none-manylinux1_x86_64.whl (849 kB)\n",
       "\u001b[0m"
      ]
     },
     "metadata": {},
     "output_type": "display_data"
    },
    {
     "data": {
      "text/html": [
       "<pre style=\"white-space:pre;overflow-x:auto;line-height:normal;font-family:Menlo,'DejaVu Sans Mono',consolas,'Courier New',monospace\"><span style=\"color: #808000; text-decoration-color: #808000\">     ━━━━━━━━━━━━━━━━━━━━━━━━━━━━━━━━━━━━━ 849.3/849.3 kB 292.7 MB/s eta 0:00:00\n",
       "</span></pre>\n"
      ],
      "text/plain": [
       "\u001b[33m     ━━━━━━━━━━━━━━━━━━━━━━━━━━━━━━━━━━━━━ 849.3/849.3 kB 292.7 MB/s eta 0:00:00\n",
       "\u001b[0m"
      ]
     },
     "metadata": {},
     "output_type": "display_data"
    },
    {
     "data": {
      "text/html": [
       "<pre style=\"white-space:pre;overflow-x:auto;line-height:normal;font-family:Menlo,'DejaVu Sans Mono',consolas,'Courier New',monospace\"><span style=\"color: #808000; text-decoration-color: #808000\">Collecting nvidia-cudnn-cu11==8.5.0.96\n",
       "</span></pre>\n"
      ],
      "text/plain": [
       "\u001b[33mCollecting nvidia-cudnn-cu11==8.5.0.96\n",
       "\u001b[0m"
      ]
     },
     "metadata": {},
     "output_type": "display_data"
    },
    {
     "data": {
      "text/html": [
       "<pre style=\"white-space:pre;overflow-x:auto;line-height:normal;font-family:Menlo,'DejaVu Sans Mono',consolas,'Courier New',monospace\"><span style=\"color: #808000; text-decoration-color: #808000\">  Downloading nvidia_cudnn_cu11-8.5.0.96-2-py3-none-manylinux1_x86_64.whl (557.1 MB)\n",
       "</span></pre>\n"
      ],
      "text/plain": [
       "\u001b[33m  Downloading nvidia_cudnn_cu11-8.5.0.96-2-py3-none-manylinux1_x86_64.whl (557.1 MB)\n",
       "\u001b[0m"
      ]
     },
     "metadata": {},
     "output_type": "display_data"
    },
    {
     "data": {
      "text/html": [
       "<pre style=\"white-space:pre;overflow-x:auto;line-height:normal;font-family:Menlo,'DejaVu Sans Mono',consolas,'Courier New',monospace\"><span style=\"color: #808000; text-decoration-color: #808000\">     ━━━━━━━━━━━━━━━━━━━━━━━━━━━━━━━━━━━━━ 557.1/557.1 MB 204.3 MB/s eta 0:00:00\n",
       "</span></pre>\n"
      ],
      "text/plain": [
       "\u001b[33m     ━━━━━━━━━━━━━━━━━━━━━━━━━━━━━━━━━━━━━ 557.1/557.1 MB 204.3 MB/s eta 0:00:00\n",
       "\u001b[0m"
      ]
     },
     "metadata": {},
     "output_type": "display_data"
    },
    {
     "data": {
      "text/html": [
       "<pre style=\"white-space:pre;overflow-x:auto;line-height:normal;font-family:Menlo,'DejaVu Sans Mono',consolas,'Courier New',monospace\"><span style=\"color: #808000; text-decoration-color: #808000\">Collecting nvidia-cublas-cu11==11.10.3.66\n",
       "</span></pre>\n"
      ],
      "text/plain": [
       "\u001b[33mCollecting nvidia-cublas-cu11==11.10.3.66\n",
       "\u001b[0m"
      ]
     },
     "metadata": {},
     "output_type": "display_data"
    },
    {
     "data": {
      "text/html": [
       "<pre style=\"white-space:pre;overflow-x:auto;line-height:normal;font-family:Menlo,'DejaVu Sans Mono',consolas,'Courier New',monospace\"><span style=\"color: #808000; text-decoration-color: #808000\">  Downloading nvidia_cublas_cu11-11.10.3.66-py3-none-manylinux1_x86_64.whl (317.1 MB)\n",
       "</span></pre>\n"
      ],
      "text/plain": [
       "\u001b[33m  Downloading nvidia_cublas_cu11-11.10.3.66-py3-none-manylinux1_x86_64.whl (317.1 MB)\n",
       "\u001b[0m"
      ]
     },
     "metadata": {},
     "output_type": "display_data"
    },
    {
     "data": {
      "text/html": [
       "<pre style=\"white-space:pre;overflow-x:auto;line-height:normal;font-family:Menlo,'DejaVu Sans Mono',consolas,'Courier New',monospace\"><span style=\"color: #808000; text-decoration-color: #808000\">     ━━━━━━━━━━━━━━━━━━━━━━━━━━━━━━━━━━━━━ 317.1/317.1 MB 171.3 MB/s eta 0:00:00\n",
       "</span></pre>\n"
      ],
      "text/plain": [
       "\u001b[33m     ━━━━━━━━━━━━━━━━━━━━━━━━━━━━━━━━━━━━━ 317.1/317.1 MB 171.3 MB/s eta 0:00:00\n",
       "\u001b[0m"
      ]
     },
     "metadata": {},
     "output_type": "display_data"
    },
    {
     "data": {
      "text/html": [
       "<pre style=\"white-space:pre;overflow-x:auto;line-height:normal;font-family:Menlo,'DejaVu Sans Mono',consolas,'Courier New',monospace\"><span style=\"color: #808000; text-decoration-color: #808000\">Collecting nvidia-cufft-cu11==10.9.0.58\n",
       "</span></pre>\n"
      ],
      "text/plain": [
       "\u001b[33mCollecting nvidia-cufft-cu11==10.9.0.58\n",
       "\u001b[0m"
      ]
     },
     "metadata": {},
     "output_type": "display_data"
    },
    {
     "data": {
      "text/html": [
       "<pre style=\"white-space:pre;overflow-x:auto;line-height:normal;font-family:Menlo,'DejaVu Sans Mono',consolas,'Courier New',monospace\"><span style=\"color: #808000; text-decoration-color: #808000\">  Downloading nvidia_cufft_cu11-10.9.0.58-py3-none-manylinux1_x86_64.whl (168.4 MB)\n",
       "</span></pre>\n"
      ],
      "text/plain": [
       "\u001b[33m  Downloading nvidia_cufft_cu11-10.9.0.58-py3-none-manylinux1_x86_64.whl (168.4 MB)\n",
       "\u001b[0m"
      ]
     },
     "metadata": {},
     "output_type": "display_data"
    },
    {
     "data": {
      "text/html": [
       "<pre style=\"white-space:pre;overflow-x:auto;line-height:normal;font-family:Menlo,'DejaVu Sans Mono',consolas,'Courier New',monospace\"><span style=\"color: #808000; text-decoration-color: #808000\">     ━━━━━━━━━━━━━━━━━━━━━━━━━━━━━━━━━━━━━ 168.4/168.4 MB 177.6 MB/s eta 0:00:00\n",
       "</span></pre>\n"
      ],
      "text/plain": [
       "\u001b[33m     ━━━━━━━━━━━━━━━━━━━━━━━━━━━━━━━━━━━━━ 168.4/168.4 MB 177.6 MB/s eta 0:00:00\n",
       "\u001b[0m"
      ]
     },
     "metadata": {},
     "output_type": "display_data"
    },
    {
     "data": {
      "text/html": [
       "<pre style=\"white-space:pre;overflow-x:auto;line-height:normal;font-family:Menlo,'DejaVu Sans Mono',consolas,'Courier New',monospace\"><span style=\"color: #808000; text-decoration-color: #808000\">Collecting nvidia-curand-cu11==10.2.10.91\n",
       "</span></pre>\n"
      ],
      "text/plain": [
       "\u001b[33mCollecting nvidia-curand-cu11==10.2.10.91\n",
       "\u001b[0m"
      ]
     },
     "metadata": {},
     "output_type": "display_data"
    },
    {
     "data": {
      "text/html": [
       "<pre style=\"white-space:pre;overflow-x:auto;line-height:normal;font-family:Menlo,'DejaVu Sans Mono',consolas,'Courier New',monospace\"><span style=\"color: #808000; text-decoration-color: #808000\">  Downloading nvidia_curand_cu11-10.2.10.91-py3-none-manylinux1_x86_64.whl (54.6 MB)\n",
       "</span></pre>\n"
      ],
      "text/plain": [
       "\u001b[33m  Downloading nvidia_curand_cu11-10.2.10.91-py3-none-manylinux1_x86_64.whl (54.6 MB)\n",
       "\u001b[0m"
      ]
     },
     "metadata": {},
     "output_type": "display_data"
    },
    {
     "data": {
      "text/html": [
       "<pre style=\"white-space:pre;overflow-x:auto;line-height:normal;font-family:Menlo,'DejaVu Sans Mono',consolas,'Courier New',monospace\"><span style=\"color: #808000; text-decoration-color: #808000\">     ━━━━━━━━━━━━━━━━━━━━━━━━━━━━━━━━━━━━━━━ 54.6/54.6 MB 207.5 MB/s eta 0:00:00\n",
       "</span></pre>\n"
      ],
      "text/plain": [
       "\u001b[33m     ━━━━━━━━━━━━━━━━━━━━━━━━━━━━━━━━━━━━━━━ 54.6/54.6 MB 207.5 MB/s eta 0:00:00\n",
       "\u001b[0m"
      ]
     },
     "metadata": {},
     "output_type": "display_data"
    },
    {
     "data": {
      "text/html": [
       "<pre style=\"white-space:pre;overflow-x:auto;line-height:normal;font-family:Menlo,'DejaVu Sans Mono',consolas,'Courier New',monospace\"><span style=\"color: #808000; text-decoration-color: #808000\">Collecting nvidia-cusparse-cu11==11.7.4.91\n",
       "</span></pre>\n"
      ],
      "text/plain": [
       "\u001b[33mCollecting nvidia-cusparse-cu11==11.7.4.91\n",
       "\u001b[0m"
      ]
     },
     "metadata": {},
     "output_type": "display_data"
    },
    {
     "data": {
      "text/html": [
       "<pre style=\"white-space:pre;overflow-x:auto;line-height:normal;font-family:Menlo,'DejaVu Sans Mono',consolas,'Courier New',monospace\"><span style=\"color: #808000; text-decoration-color: #808000\">  Downloading nvidia_cusparse_cu11-11.7.4.91-py3-none-manylinux1_x86_64.whl (173.2 MB)\n",
       "</span></pre>\n"
      ],
      "text/plain": [
       "\u001b[33m  Downloading nvidia_cusparse_cu11-11.7.4.91-py3-none-manylinux1_x86_64.whl (173.2 MB)\n",
       "\u001b[0m"
      ]
     },
     "metadata": {},
     "output_type": "display_data"
    },
    {
     "data": {
      "text/html": [
       "<pre style=\"white-space:pre;overflow-x:auto;line-height:normal;font-family:Menlo,'DejaVu Sans Mono',consolas,'Courier New',monospace\"><span style=\"color: #808000; text-decoration-color: #808000\">     ━━━━━━━━━━━━━━━━━━━━━━━━━━━━━━━━━━━━━ 173.2/173.2 MB 164.4 MB/s eta 0:00:00\n",
       "</span></pre>\n"
      ],
      "text/plain": [
       "\u001b[33m     ━━━━━━━━━━━━━━━━━━━━━━━━━━━━━━━━━━━━━ 173.2/173.2 MB 164.4 MB/s eta 0:00:00\n",
       "\u001b[0m"
      ]
     },
     "metadata": {},
     "output_type": "display_data"
    },
    {
     "data": {
      "text/html": [
       "<pre style=\"white-space:pre;overflow-x:auto;line-height:normal;font-family:Menlo,'DejaVu Sans Mono',consolas,'Courier New',monospace\"><span style=\"color: #808000; text-decoration-color: #808000\">Collecting sympy\n",
       "</span></pre>\n"
      ],
      "text/plain": [
       "\u001b[33mCollecting sympy\n",
       "\u001b[0m"
      ]
     },
     "metadata": {},
     "output_type": "display_data"
    },
    {
     "data": {
      "text/html": [
       "<pre style=\"white-space:pre;overflow-x:auto;line-height:normal;font-family:Menlo,'DejaVu Sans Mono',consolas,'Courier New',monospace\"><span style=\"color: #808000; text-decoration-color: #808000\">  Downloading sympy-1.11.1-py3-none-any.whl (6.5 MB)\n",
       "</span></pre>\n"
      ],
      "text/plain": [
       "\u001b[33m  Downloading sympy-1.11.1-py3-none-any.whl (6.5 MB)\n",
       "\u001b[0m"
      ]
     },
     "metadata": {},
     "output_type": "display_data"
    },
    {
     "data": {
      "text/html": [
       "<pre style=\"white-space:pre;overflow-x:auto;line-height:normal;font-family:Menlo,'DejaVu Sans Mono',consolas,'Courier New',monospace\"><span style=\"color: #808000; text-decoration-color: #808000\">     ━━━━━━━━━━━━━━━━━━━━━━━━━━━━━━━━━━━━━━━━ 6.5/6.5 MB 238.7 MB/s eta 0:00:00\n",
       "</span></pre>\n"
      ],
      "text/plain": [
       "\u001b[33m     ━━━━━━━━━━━━━━━━━━━━━━━━━━━━━━━━━━━━━━━━ 6.5/6.5 MB 238.7 MB/s eta 0:00:00\n",
       "\u001b[0m"
      ]
     },
     "metadata": {},
     "output_type": "display_data"
    },
    {
     "data": {
      "text/html": [
       "<pre style=\"white-space:pre;overflow-x:auto;line-height:normal;font-family:Menlo,'DejaVu Sans Mono',consolas,'Courier New',monospace\"><span style=\"color: #808000; text-decoration-color: #808000\">Collecting nvidia-cuda-cupti-cu11==11.7.101\n",
       "</span></pre>\n"
      ],
      "text/plain": [
       "\u001b[33mCollecting nvidia-cuda-cupti-cu11==11.7.101\n",
       "\u001b[0m"
      ]
     },
     "metadata": {},
     "output_type": "display_data"
    },
    {
     "data": {
      "text/html": [
       "<pre style=\"white-space:pre;overflow-x:auto;line-height:normal;font-family:Menlo,'DejaVu Sans Mono',consolas,'Courier New',monospace\"><span style=\"color: #808000; text-decoration-color: #808000\">  Downloading nvidia_cuda_cupti_cu11-11.7.101-py3-none-manylinux1_x86_64.whl (11.8 MB)\n",
       "</span></pre>\n"
      ],
      "text/plain": [
       "\u001b[33m  Downloading nvidia_cuda_cupti_cu11-11.7.101-py3-none-manylinux1_x86_64.whl (11.8 MB)\n",
       "\u001b[0m"
      ]
     },
     "metadata": {},
     "output_type": "display_data"
    },
    {
     "data": {
      "text/html": [
       "<pre style=\"white-space:pre;overflow-x:auto;line-height:normal;font-family:Menlo,'DejaVu Sans Mono',consolas,'Courier New',monospace\"><span style=\"color: #808000; text-decoration-color: #808000\">     ━━━━━━━━━━━━━━━━━━━━━━━━━━━━━━━━━━━━━━━ 11.8/11.8 MB 200.2 MB/s eta 0:00:00\n",
       "</span></pre>\n"
      ],
      "text/plain": [
       "\u001b[33m     ━━━━━━━━━━━━━━━━━━━━━━━━━━━━━━━━━━━━━━━ 11.8/11.8 MB 200.2 MB/s eta 0:00:00\n",
       "\u001b[0m"
      ]
     },
     "metadata": {},
     "output_type": "display_data"
    },
    {
     "data": {
      "text/html": [
       "<pre style=\"white-space:pre;overflow-x:auto;line-height:normal;font-family:Menlo,'DejaVu Sans Mono',consolas,'Courier New',monospace\"><span style=\"color: #808000; text-decoration-color: #808000\">Collecting networkx\n",
       "</span></pre>\n"
      ],
      "text/plain": [
       "\u001b[33mCollecting networkx\n",
       "\u001b[0m"
      ]
     },
     "metadata": {},
     "output_type": "display_data"
    },
    {
     "data": {
      "text/html": [
       "<pre style=\"white-space:pre;overflow-x:auto;line-height:normal;font-family:Menlo,'DejaVu Sans Mono',consolas,'Courier New',monospace\"><span style=\"color: #808000; text-decoration-color: #808000\">  Downloading networkx-3.1-py3-none-any.whl (2.1 MB)\n",
       "</span></pre>\n"
      ],
      "text/plain": [
       "\u001b[33m  Downloading networkx-3.1-py3-none-any.whl (2.1 MB)\n",
       "\u001b[0m"
      ]
     },
     "metadata": {},
     "output_type": "display_data"
    },
    {
     "data": {
      "text/html": [
       "<pre style=\"white-space:pre;overflow-x:auto;line-height:normal;font-family:Menlo,'DejaVu Sans Mono',consolas,'Courier New',monospace\"><span style=\"color: #808000; text-decoration-color: #808000\">     ━━━━━━━━━━━━━━━━━━━━━━━━━━━━━━━━━━━━━━━━ 2.1/2.1 MB 220.5 MB/s eta 0:00:00\n",
       "</span></pre>\n"
      ],
      "text/plain": [
       "\u001b[33m     ━━━━━━━━━━━━━━━━━━━━━━━━━━━━━━━━━━━━━━━━ 2.1/2.1 MB 220.5 MB/s eta 0:00:00\n",
       "\u001b[0m"
      ]
     },
     "metadata": {},
     "output_type": "display_data"
    },
    {
     "data": {
      "text/html": [
       "<pre style=\"white-space:pre;overflow-x:auto;line-height:normal;font-family:Menlo,'DejaVu Sans Mono',consolas,'Courier New',monospace\"><span style=\"color: #808000; text-decoration-color: #808000\">Collecting nvidia-nccl-cu11==2.14.3\n",
       "</span></pre>\n"
      ],
      "text/plain": [
       "\u001b[33mCollecting nvidia-nccl-cu11==2.14.3\n",
       "\u001b[0m"
      ]
     },
     "metadata": {},
     "output_type": "display_data"
    },
    {
     "data": {
      "text/html": [
       "<pre style=\"white-space:pre;overflow-x:auto;line-height:normal;font-family:Menlo,'DejaVu Sans Mono',consolas,'Courier New',monospace\"><span style=\"color: #808000; text-decoration-color: #808000\">  Downloading nvidia_nccl_cu11-2.14.3-py3-none-manylinux1_x86_64.whl (177.1 MB)\n",
       "</span></pre>\n"
      ],
      "text/plain": [
       "\u001b[33m  Downloading nvidia_nccl_cu11-2.14.3-py3-none-manylinux1_x86_64.whl (177.1 MB)\n",
       "\u001b[0m"
      ]
     },
     "metadata": {},
     "output_type": "display_data"
    },
    {
     "data": {
      "text/html": [
       "<pre style=\"white-space:pre;overflow-x:auto;line-height:normal;font-family:Menlo,'DejaVu Sans Mono',consolas,'Courier New',monospace\"><span style=\"color: #808000; text-decoration-color: #808000\">     ━━━━━━━━━━━━━━━━━━━━━━━━━━━━━━━━━━━━━ 177.1/177.1 MB 215.0 MB/s eta 0:00:00\n",
       "</span></pre>\n"
      ],
      "text/plain": [
       "\u001b[33m     ━━━━━━━━━━━━━━━━━━━━━━━━━━━━━━━━━━━━━ 177.1/177.1 MB 215.0 MB/s eta 0:00:00\n",
       "\u001b[0m"
      ]
     },
     "metadata": {},
     "output_type": "display_data"
    },
    {
     "data": {
      "text/html": [
       "<pre style=\"white-space:pre;overflow-x:auto;line-height:normal;font-family:Menlo,'DejaVu Sans Mono',consolas,'Courier New',monospace\"><span style=\"color: #808000; text-decoration-color: #808000\">Collecting triton==2.0.0\n",
       "</span></pre>\n"
      ],
      "text/plain": [
       "\u001b[33mCollecting triton==2.0.0\n",
       "\u001b[0m"
      ]
     },
     "metadata": {},
     "output_type": "display_data"
    },
    {
     "data": {
      "text/html": [
       "<pre style=\"white-space:pre;overflow-x:auto;line-height:normal;font-family:Menlo,'DejaVu Sans Mono',consolas,'Courier New',monospace\"><span style=\"color: #808000; text-decoration-color: #808000\">  Downloading triton-2.0.0-1-cp38-cp38-manylinux2014_x86_64.manylinux_2_17_x86_64.whl (63.2 MB)\n",
       "</span></pre>\n"
      ],
      "text/plain": [
       "\u001b[33m  Downloading triton-2.0.0-1-cp38-cp38-manylinux2014_x86_64.manylinux_2_17_x86_64.whl (63.2 MB)\n",
       "\u001b[0m"
      ]
     },
     "metadata": {},
     "output_type": "display_data"
    },
    {
     "data": {
      "text/html": [
       "<pre style=\"white-space:pre;overflow-x:auto;line-height:normal;font-family:Menlo,'DejaVu Sans Mono',consolas,'Courier New',monospace\"><span style=\"color: #808000; text-decoration-color: #808000\">     ━━━━━━━━━━━━━━━━━━━━━━━━━━━━━━━━━━━━━━━ 63.2/63.2 MB 145.8 MB/s eta 0:00:00\n",
       "</span></pre>\n"
      ],
      "text/plain": [
       "\u001b[33m     ━━━━━━━━━━━━━━━━━━━━━━━━━━━━━━━━━━━━━━━ 63.2/63.2 MB 145.8 MB/s eta 0:00:00\n",
       "\u001b[0m"
      ]
     },
     "metadata": {},
     "output_type": "display_data"
    },
    {
     "data": {
      "text/html": [
       "<pre style=\"white-space:pre;overflow-x:auto;line-height:normal;font-family:Menlo,'DejaVu Sans Mono',consolas,'Courier New',monospace\"><span style=\"color: #808000; text-decoration-color: #808000\">Requirement already satisfied: wheel in /usr/local/lib/python3.8/site-packages (from nvidia-cublas-cu11==11.10.3.66-&gt;torch&gt;=1.6.0-&gt;sentence-transformers&lt;3.0.0,&gt;=2.2.2-&gt;gate-drift-&gt;-r /.requirements.txt (line 11)) (0.38.4)\n",
       "</span></pre>\n"
      ],
      "text/plain": [
       "\u001b[33mRequirement already satisfied: wheel in /usr/local/lib/python3.8/site-packages (from nvidia-cublas-cu11==11.10.3.66->torch>=1.6.0->sentence-transformers<3.0.0,>=2.2.2->gate-drift->-r /.requirements.txt (line 11)) (0.38.4)\n",
       "\u001b[0m"
      ]
     },
     "metadata": {},
     "output_type": "display_data"
    },
    {
     "data": {
      "text/html": [
       "<pre style=\"white-space:pre;overflow-x:auto;line-height:normal;font-family:Menlo,'DejaVu Sans Mono',consolas,'Courier New',monospace\"><span style=\"color: #808000; text-decoration-color: #808000\">Requirement already satisfied: setuptools in /usr/local/lib/python3.8/site-packages (from nvidia-cublas-cu11==11.10.3.66-&gt;torch&gt;=1.6.0-&gt;sentence-transformers&lt;3.0.0,&gt;=2.2.2-&gt;gate-drift-&gt;-r /.requirements.txt (line 11)) (57.5.0)\n",
       "</span></pre>\n"
      ],
      "text/plain": [
       "\u001b[33mRequirement already satisfied: setuptools in /usr/local/lib/python3.8/site-packages (from nvidia-cublas-cu11==11.10.3.66->torch>=1.6.0->sentence-transformers<3.0.0,>=2.2.2->gate-drift->-r /.requirements.txt (line 11)) (57.5.0)\n",
       "\u001b[0m"
      ]
     },
     "metadata": {},
     "output_type": "display_data"
    },
    {
     "data": {
      "text/html": [
       "<pre style=\"white-space:pre;overflow-x:auto;line-height:normal;font-family:Menlo,'DejaVu Sans Mono',consolas,'Courier New',monospace\"><span style=\"color: #808000; text-decoration-color: #808000\">Collecting cmake\n",
       "</span></pre>\n"
      ],
      "text/plain": [
       "\u001b[33mCollecting cmake\n",
       "\u001b[0m"
      ]
     },
     "metadata": {},
     "output_type": "display_data"
    },
    {
     "data": {
      "text/html": [
       "<pre style=\"white-space:pre;overflow-x:auto;line-height:normal;font-family:Menlo,'DejaVu Sans Mono',consolas,'Courier New',monospace\"><span style=\"color: #808000; text-decoration-color: #808000\">  Downloading cmake-3.26.3-py2.py3-none-manylinux2014_x86_64.manylinux_2_17_x86_64.whl (24.0 MB)\n",
       "</span></pre>\n"
      ],
      "text/plain": [
       "\u001b[33m  Downloading cmake-3.26.3-py2.py3-none-manylinux2014_x86_64.manylinux_2_17_x86_64.whl (24.0 MB)\n",
       "\u001b[0m"
      ]
     },
     "metadata": {},
     "output_type": "display_data"
    },
    {
     "data": {
      "text/html": [
       "<pre style=\"white-space:pre;overflow-x:auto;line-height:normal;font-family:Menlo,'DejaVu Sans Mono',consolas,'Courier New',monospace\"><span style=\"color: #808000; text-decoration-color: #808000\">     ━━━━━━━━━━━━━━━━━━━━━━━━━━━━━━━━━━━━━━━ 24.0/24.0 MB 200.6 MB/s eta 0:00:00\n",
       "</span></pre>\n"
      ],
      "text/plain": [
       "\u001b[33m     ━━━━━━━━━━━━━━━━━━━━━━━━━━━━━━━━━━━━━━━ 24.0/24.0 MB 200.6 MB/s eta 0:00:00\n",
       "\u001b[0m"
      ]
     },
     "metadata": {},
     "output_type": "display_data"
    },
    {
     "data": {
      "text/html": [
       "<pre style=\"white-space:pre;overflow-x:auto;line-height:normal;font-family:Menlo,'DejaVu Sans Mono',consolas,'Courier New',monospace\"><span style=\"color: #808000; text-decoration-color: #808000\">Collecting lit\n",
       "</span></pre>\n"
      ],
      "text/plain": [
       "\u001b[33mCollecting lit\n",
       "\u001b[0m"
      ]
     },
     "metadata": {},
     "output_type": "display_data"
    },
    {
     "data": {
      "text/html": [
       "<pre style=\"white-space:pre;overflow-x:auto;line-height:normal;font-family:Menlo,'DejaVu Sans Mono',consolas,'Courier New',monospace\"><span style=\"color: #808000; text-decoration-color: #808000\">  Downloading lit-16.0.2.tar.gz (137 kB)\n",
       "</span></pre>\n"
      ],
      "text/plain": [
       "\u001b[33m  Downloading lit-16.0.2.tar.gz (137 kB)\n",
       "\u001b[0m"
      ]
     },
     "metadata": {},
     "output_type": "display_data"
    },
    {
     "data": {
      "text/html": [
       "<pre style=\"white-space:pre;overflow-x:auto;line-height:normal;font-family:Menlo,'DejaVu Sans Mono',consolas,'Courier New',monospace\"><span style=\"color: #808000; text-decoration-color: #808000\">     ━━━━━━━━━━━━━━━━━━━━━━━━━━━━━━━━━━━━━ 137.9/137.9 kB 270.1 MB/s eta 0:00:00\n",
       "</span></pre>\n"
      ],
      "text/plain": [
       "\u001b[33m     ━━━━━━━━━━━━━━━━━━━━━━━━━━━━━━━━━━━━━ 137.9/137.9 kB 270.1 MB/s eta 0:00:00\n",
       "\u001b[0m"
      ]
     },
     "metadata": {},
     "output_type": "display_data"
    },
    {
     "data": {
      "text/html": [
       "<pre style=\"white-space:pre;overflow-x:auto;line-height:normal;font-family:Menlo,'DejaVu Sans Mono',consolas,'Courier New',monospace\"><span style=\"color: #808000; text-decoration-color: #808000\">  Preparing metadata (setup.py): started\n",
       "</span></pre>\n"
      ],
      "text/plain": [
       "\u001b[33m  Preparing metadata (setup.py): started\n",
       "\u001b[0m"
      ]
     },
     "metadata": {},
     "output_type": "display_data"
    },
    {
     "data": {
      "text/html": [
       "<pre style=\"white-space:pre;overflow-x:auto;line-height:normal;font-family:Menlo,'DejaVu Sans Mono',consolas,'Courier New',monospace\"><span style=\"color: #808000; text-decoration-color: #808000\">  Preparing metadata (setup.py): finished with status 'done'\n",
       "</span></pre>\n"
      ],
      "text/plain": [
       "\u001b[33m  Preparing metadata (setup.py): finished with status 'done'\n",
       "\u001b[0m"
      ]
     },
     "metadata": {},
     "output_type": "display_data"
    },
    {
     "data": {
      "text/html": [
       "<pre style=\"white-space:pre;overflow-x:auto;line-height:normal;font-family:Menlo,'DejaVu Sans Mono',consolas,'Courier New',monospace\"><span style=\"color: #808000; text-decoration-color: #808000\">Collecting tokenizers!=0.11.3,&lt;0.14,&gt;=0.11.1\n",
       "</span></pre>\n"
      ],
      "text/plain": [
       "\u001b[33mCollecting tokenizers!=0.11.3,<0.14,>=0.11.1\n",
       "\u001b[0m"
      ]
     },
     "metadata": {},
     "output_type": "display_data"
    },
    {
     "data": {
      "text/html": [
       "<pre style=\"white-space:pre;overflow-x:auto;line-height:normal;font-family:Menlo,'DejaVu Sans Mono',consolas,'Courier New',monospace\"><span style=\"color: #808000; text-decoration-color: #808000\">  Downloading tokenizers-0.13.3-cp38-cp38-manylinux_2_17_x86_64.manylinux2014_x86_64.whl (7.8 MB)\n",
       "</span></pre>\n"
      ],
      "text/plain": [
       "\u001b[33m  Downloading tokenizers-0.13.3-cp38-cp38-manylinux_2_17_x86_64.manylinux2014_x86_64.whl (7.8 MB)\n",
       "\u001b[0m"
      ]
     },
     "metadata": {},
     "output_type": "display_data"
    },
    {
     "data": {
      "text/html": [
       "<pre style=\"white-space:pre;overflow-x:auto;line-height:normal;font-family:Menlo,'DejaVu Sans Mono',consolas,'Courier New',monospace\"><span style=\"color: #808000; text-decoration-color: #808000\">     ━━━━━━━━━━━━━━━━━━━━━━━━━━━━━━━━━━━━━━━━ 7.8/7.8 MB 172.6 MB/s eta 0:00:00\n",
       "</span></pre>\n"
      ],
      "text/plain": [
       "\u001b[33m     ━━━━━━━━━━━━━━━━━━━━━━━━━━━━━━━━━━━━━━━━ 7.8/7.8 MB 172.6 MB/s eta 0:00:00\n",
       "\u001b[0m"
      ]
     },
     "metadata": {},
     "output_type": "display_data"
    },
    {
     "data": {
      "text/html": [
       "<pre style=\"white-space:pre;overflow-x:auto;line-height:normal;font-family:Menlo,'DejaVu Sans Mono',consolas,'Courier New',monospace\"><span style=\"color: #808000; text-decoration-color: #808000\">Collecting regex!=2019.12.17\n",
       "</span></pre>\n"
      ],
      "text/plain": [
       "\u001b[33mCollecting regex!=2019.12.17\n",
       "\u001b[0m"
      ]
     },
     "metadata": {},
     "output_type": "display_data"
    },
    {
     "data": {
      "text/html": [
       "<pre style=\"white-space:pre;overflow-x:auto;line-height:normal;font-family:Menlo,'DejaVu Sans Mono',consolas,'Courier New',monospace\"><span style=\"color: #808000; text-decoration-color: #808000\">  Downloading regex-2023.3.23-cp38-cp38-manylinux_2_17_x86_64.manylinux2014_x86_64.whl (771 kB)\n",
       "</span></pre>\n"
      ],
      "text/plain": [
       "\u001b[33m  Downloading regex-2023.3.23-cp38-cp38-manylinux_2_17_x86_64.manylinux2014_x86_64.whl (771 kB)\n",
       "\u001b[0m"
      ]
     },
     "metadata": {},
     "output_type": "display_data"
    },
    {
     "data": {
      "text/html": [
       "<pre style=\"white-space:pre;overflow-x:auto;line-height:normal;font-family:Menlo,'DejaVu Sans Mono',consolas,'Courier New',monospace\"><span style=\"color: #808000; text-decoration-color: #808000\">     ━━━━━━━━━━━━━━━━━━━━━━━━━━━━━━━━━━━━━ 771.9/771.9 kB 277.9 MB/s eta 0:00:00\n",
       "</span></pre>\n"
      ],
      "text/plain": [
       "\u001b[33m     ━━━━━━━━━━━━━━━━━━━━━━━━━━━━━━━━━━━━━ 771.9/771.9 kB 277.9 MB/s eta 0:00:00\n",
       "\u001b[0m"
      ]
     },
     "metadata": {},
     "output_type": "display_data"
    },
    {
     "data": {
      "text/html": [
       "<pre style=\"white-space:pre;overflow-x:auto;line-height:normal;font-family:Menlo,'DejaVu Sans Mono',consolas,'Courier New',monospace\"><span style=\"color: #808000; text-decoration-color: #808000\">Collecting aiosqlite&lt;1,&gt;=0.17.0\n",
       "</span></pre>\n"
      ],
      "text/plain": [
       "\u001b[33mCollecting aiosqlite<1,>=0.17.0\n",
       "\u001b[0m"
      ]
     },
     "metadata": {},
     "output_type": "display_data"
    },
    {
     "data": {
      "text/html": [
       "<pre style=\"white-space:pre;overflow-x:auto;line-height:normal;font-family:Menlo,'DejaVu Sans Mono',consolas,'Courier New',monospace\"><span style=\"color: #808000; text-decoration-color: #808000\">  Downloading aiosqlite-0.19.0-py3-none-any.whl (15 kB)\n",
       "</span></pre>\n"
      ],
      "text/plain": [
       "\u001b[33m  Downloading aiosqlite-0.19.0-py3-none-any.whl (15 kB)\n",
       "\u001b[0m"
      ]
     },
     "metadata": {},
     "output_type": "display_data"
    },
    {
     "data": {
      "text/html": [
       "<pre style=\"white-space:pre;overflow-x:auto;line-height:normal;font-family:Menlo,'DejaVu Sans Mono',consolas,'Courier New',monospace\"><span style=\"color: #808000; text-decoration-color: #808000\">Collecting ypy-websocket&lt;0.9.0,&gt;=0.8.2\n",
       "</span></pre>\n"
      ],
      "text/plain": [
       "\u001b[33mCollecting ypy-websocket<0.9.0,>=0.8.2\n",
       "\u001b[0m"
      ]
     },
     "metadata": {},
     "output_type": "display_data"
    },
    {
     "data": {
      "text/html": [
       "<pre style=\"white-space:pre;overflow-x:auto;line-height:normal;font-family:Menlo,'DejaVu Sans Mono',consolas,'Courier New',monospace\"><span style=\"color: #808000; text-decoration-color: #808000\">  Downloading ypy_websocket-0.8.3-py3-none-any.whl (10 kB)\n",
       "</span></pre>\n"
      ],
      "text/plain": [
       "\u001b[33m  Downloading ypy_websocket-0.8.3-py3-none-any.whl (10 kB)\n",
       "\u001b[0m"
      ]
     },
     "metadata": {},
     "output_type": "display_data"
    },
    {
     "data": {
      "text/html": [
       "<pre style=\"white-space:pre;overflow-x:auto;line-height:normal;font-family:Menlo,'DejaVu Sans Mono',consolas,'Courier New',monospace\"><span style=\"color: #808000; text-decoration-color: #808000\">  Downloading ypy_websocket-0.8.2-py3-none-any.whl (10 kB)\n",
       "</span></pre>\n"
      ],
      "text/plain": [
       "\u001b[33m  Downloading ypy_websocket-0.8.2-py3-none-any.whl (10 kB)\n",
       "\u001b[0m"
      ]
     },
     "metadata": {},
     "output_type": "display_data"
    },
    {
     "data": {
      "text/html": [
       "<pre style=\"white-space:pre;overflow-x:auto;line-height:normal;font-family:Menlo,'DejaVu Sans Mono',consolas,'Courier New',monospace\"><span style=\"color: #808000; text-decoration-color: #808000\">Collecting aiofiles&lt;23,&gt;=22.1.0\n",
       "</span></pre>\n"
      ],
      "text/plain": [
       "\u001b[33mCollecting aiofiles<23,>=22.1.0\n",
       "\u001b[0m"
      ]
     },
     "metadata": {},
     "output_type": "display_data"
    },
    {
     "data": {
      "text/html": [
       "<pre style=\"white-space:pre;overflow-x:auto;line-height:normal;font-family:Menlo,'DejaVu Sans Mono',consolas,'Courier New',monospace\"><span style=\"color: #808000; text-decoration-color: #808000\">  Downloading aiofiles-22.1.0-py3-none-any.whl (14 kB)\n",
       "</span></pre>\n"
      ],
      "text/plain": [
       "\u001b[33m  Downloading aiofiles-22.1.0-py3-none-any.whl (14 kB)\n",
       "\u001b[0m"
      ]
     },
     "metadata": {},
     "output_type": "display_data"
    },
    {
     "data": {
      "text/html": [
       "<pre style=\"white-space:pre;overflow-x:auto;line-height:normal;font-family:Menlo,'DejaVu Sans Mono',consolas,'Courier New',monospace\"><span style=\"color: #808000; text-decoration-color: #808000\">Collecting argon2-cffi-bindings\n",
       "</span></pre>\n"
      ],
      "text/plain": [
       "\u001b[33mCollecting argon2-cffi-bindings\n",
       "\u001b[0m"
      ]
     },
     "metadata": {},
     "output_type": "display_data"
    },
    {
     "data": {
      "text/html": [
       "<pre style=\"white-space:pre;overflow-x:auto;line-height:normal;font-family:Menlo,'DejaVu Sans Mono',consolas,'Courier New',monospace\"><span style=\"color: #808000; text-decoration-color: #808000\">  Downloading argon2_cffi_bindings-21.2.0-cp36-abi3-manylinux_2_17_x86_64.manylinux2014_x86_64.whl (86 kB)\n",
       "</span></pre>\n"
      ],
      "text/plain": [
       "\u001b[33m  Downloading argon2_cffi_bindings-21.2.0-cp36-abi3-manylinux_2_17_x86_64.manylinux2014_x86_64.whl (86 kB)\n",
       "\u001b[0m"
      ]
     },
     "metadata": {},
     "output_type": "display_data"
    },
    {
     "data": {
      "text/html": [
       "<pre style=\"white-space:pre;overflow-x:auto;line-height:normal;font-family:Menlo,'DejaVu Sans Mono',consolas,'Courier New',monospace\"><span style=\"color: #808000; text-decoration-color: #808000\">     ━━━━━━━━━━━━━━━━━━━━━━━━━━━━━━━━━━━━━━━ 86.2/86.2 kB 188.1 MB/s eta 0:00:00\n",
       "</span></pre>\n"
      ],
      "text/plain": [
       "\u001b[33m     ━━━━━━━━━━━━━━━━━━━━━━━━━━━━━━━━━━━━━━━ 86.2/86.2 kB 188.1 MB/s eta 0:00:00\n",
       "\u001b[0m"
      ]
     },
     "metadata": {},
     "output_type": "display_data"
    },
    {
     "data": {
      "text/html": [
       "<pre style=\"white-space:pre;overflow-x:auto;line-height:normal;font-family:Menlo,'DejaVu Sans Mono',consolas,'Courier New',monospace\"><span style=\"color: #808000; text-decoration-color: #808000\">Requirement already satisfied: pure-eval in /usr/local/lib/python3.8/site-packages (from stack-data-&gt;ipython&gt;=7.23.1-&gt;ipykernel-&gt;-r /.requirements.txt (line 3)) (0.2.2)\n",
       "</span></pre>\n"
      ],
      "text/plain": [
       "\u001b[33mRequirement already satisfied: pure-eval in /usr/local/lib/python3.8/site-packages (from stack-data->ipython>=7.23.1->ipykernel->-r /.requirements.txt (line 3)) (0.2.2)\n",
       "\u001b[0m"
      ]
     },
     "metadata": {},
     "output_type": "display_data"
    },
    {
     "data": {
      "text/html": [
       "<pre style=\"white-space:pre;overflow-x:auto;line-height:normal;font-family:Menlo,'DejaVu Sans Mono',consolas,'Courier New',monospace\"><span style=\"color: #808000; text-decoration-color: #808000\">Requirement already satisfied: executing&gt;=1.2.0 in /usr/local/lib/python3.8/site-packages (from stack-data-&gt;ipython&gt;=7.23.1-&gt;ipykernel-&gt;-r /.requirements.txt (line 3)) (1.2.0)\n",
       "</span></pre>\n"
      ],
      "text/plain": [
       "\u001b[33mRequirement already satisfied: executing>=1.2.0 in /usr/local/lib/python3.8/site-packages (from stack-data->ipython>=7.23.1->ipykernel->-r /.requirements.txt (line 3)) (1.2.0)\n",
       "\u001b[0m"
      ]
     },
     "metadata": {},
     "output_type": "display_data"
    },
    {
     "data": {
      "text/html": [
       "<pre style=\"white-space:pre;overflow-x:auto;line-height:normal;font-family:Menlo,'DejaVu Sans Mono',consolas,'Courier New',monospace\"><span style=\"color: #808000; text-decoration-color: #808000\">Requirement already satisfied: asttokens&gt;=2.1.0 in /usr/local/lib/python3.8/site-packages (from stack-data-&gt;ipython&gt;=7.23.1-&gt;ipykernel-&gt;-r /.requirements.txt (line 3)) (2.2.1)\n",
       "</span></pre>\n"
      ],
      "text/plain": [
       "\u001b[33mRequirement already satisfied: asttokens>=2.1.0 in /usr/local/lib/python3.8/site-packages (from stack-data->ipython>=7.23.1->ipykernel->-r /.requirements.txt (line 3)) (2.2.1)\n",
       "\u001b[0m"
      ]
     },
     "metadata": {},
     "output_type": "display_data"
    },
    {
     "data": {
      "text/html": [
       "<pre style=\"white-space:pre;overflow-x:auto;line-height:normal;font-family:Menlo,'DejaVu Sans Mono',consolas,'Courier New',monospace\"><span style=\"color: #808000; text-decoration-color: #808000\">Collecting webcolors&gt;=1.11\n",
       "</span></pre>\n"
      ],
      "text/plain": [
       "\u001b[33mCollecting webcolors>=1.11\n",
       "\u001b[0m"
      ]
     },
     "metadata": {},
     "output_type": "display_data"
    },
    {
     "data": {
      "text/html": [
       "<pre style=\"white-space:pre;overflow-x:auto;line-height:normal;font-family:Menlo,'DejaVu Sans Mono',consolas,'Courier New',monospace\"><span style=\"color: #808000; text-decoration-color: #808000\">  Downloading webcolors-1.13-py3-none-any.whl (14 kB)\n",
       "</span></pre>\n"
      ],
      "text/plain": [
       "\u001b[33m  Downloading webcolors-1.13-py3-none-any.whl (14 kB)\n",
       "\u001b[0m"
      ]
     },
     "metadata": {},
     "output_type": "display_data"
    },
    {
     "data": {
      "text/html": [
       "<pre style=\"white-space:pre;overflow-x:auto;line-height:normal;font-family:Menlo,'DejaVu Sans Mono',consolas,'Courier New',monospace\"><span style=\"color: #808000; text-decoration-color: #808000\">Collecting jsonpointer&gt;1.13\n",
       "</span></pre>\n"
      ],
      "text/plain": [
       "\u001b[33mCollecting jsonpointer>1.13\n",
       "\u001b[0m"
      ]
     },
     "metadata": {},
     "output_type": "display_data"
    },
    {
     "data": {
      "text/html": [
       "<pre style=\"white-space:pre;overflow-x:auto;line-height:normal;font-family:Menlo,'DejaVu Sans Mono',consolas,'Courier New',monospace\"><span style=\"color: #808000; text-decoration-color: #808000\">  Downloading jsonpointer-2.3-py2.py3-none-any.whl (7.8 kB)\n",
       "</span></pre>\n"
      ],
      "text/plain": [
       "\u001b[33m  Downloading jsonpointer-2.3-py2.py3-none-any.whl (7.8 kB)\n",
       "\u001b[0m"
      ]
     },
     "metadata": {},
     "output_type": "display_data"
    },
    {
     "data": {
      "text/html": [
       "<pre style=\"white-space:pre;overflow-x:auto;line-height:normal;font-family:Menlo,'DejaVu Sans Mono',consolas,'Courier New',monospace\"><span style=\"color: #808000; text-decoration-color: #808000\">Collecting fqdn\n",
       "</span></pre>\n"
      ],
      "text/plain": [
       "\u001b[33mCollecting fqdn\n",
       "\u001b[0m"
      ]
     },
     "metadata": {},
     "output_type": "display_data"
    },
    {
     "data": {
      "text/html": [
       "<pre style=\"white-space:pre;overflow-x:auto;line-height:normal;font-family:Menlo,'DejaVu Sans Mono',consolas,'Courier New',monospace\"><span style=\"color: #808000; text-decoration-color: #808000\">  Downloading fqdn-1.5.1-py3-none-any.whl (9.1 kB)\n",
       "</span></pre>\n"
      ],
      "text/plain": [
       "\u001b[33m  Downloading fqdn-1.5.1-py3-none-any.whl (9.1 kB)\n",
       "\u001b[0m"
      ]
     },
     "metadata": {},
     "output_type": "display_data"
    },
    {
     "data": {
      "text/html": [
       "<pre style=\"white-space:pre;overflow-x:auto;line-height:normal;font-family:Menlo,'DejaVu Sans Mono',consolas,'Courier New',monospace\"><span style=\"color: #808000; text-decoration-color: #808000\">Collecting uri-template\n",
       "</span></pre>\n"
      ],
      "text/plain": [
       "\u001b[33mCollecting uri-template\n",
       "\u001b[0m"
      ]
     },
     "metadata": {},
     "output_type": "display_data"
    },
    {
     "data": {
      "text/html": [
       "<pre style=\"white-space:pre;overflow-x:auto;line-height:normal;font-family:Menlo,'DejaVu Sans Mono',consolas,'Courier New',monospace\"><span style=\"color: #808000; text-decoration-color: #808000\">  Downloading uri_template-1.2.0-py3-none-any.whl (10 kB)\n",
       "</span></pre>\n"
      ],
      "text/plain": [
       "\u001b[33m  Downloading uri_template-1.2.0-py3-none-any.whl (10 kB)\n",
       "\u001b[0m"
      ]
     },
     "metadata": {},
     "output_type": "display_data"
    },
    {
     "data": {
      "text/html": [
       "<pre style=\"white-space:pre;overflow-x:auto;line-height:normal;font-family:Menlo,'DejaVu Sans Mono',consolas,'Courier New',monospace\"><span style=\"color: #808000; text-decoration-color: #808000\">Collecting isoduration\n",
       "</span></pre>\n"
      ],
      "text/plain": [
       "\u001b[33mCollecting isoduration\n",
       "\u001b[0m"
      ]
     },
     "metadata": {},
     "output_type": "display_data"
    },
    {
     "data": {
      "text/html": [
       "<pre style=\"white-space:pre;overflow-x:auto;line-height:normal;font-family:Menlo,'DejaVu Sans Mono',consolas,'Courier New',monospace\"><span style=\"color: #808000; text-decoration-color: #808000\">  Downloading isoduration-20.11.0-py3-none-any.whl (11 kB)\n",
       "</span></pre>\n"
      ],
      "text/plain": [
       "\u001b[33m  Downloading isoduration-20.11.0-py3-none-any.whl (11 kB)\n",
       "\u001b[0m"
      ]
     },
     "metadata": {},
     "output_type": "display_data"
    },
    {
     "data": {
      "text/html": [
       "<pre style=\"white-space:pre;overflow-x:auto;line-height:normal;font-family:Menlo,'DejaVu Sans Mono',consolas,'Courier New',monospace\"><span style=\"color: #808000; text-decoration-color: #808000\">Collecting cffi&gt;=1.0.1\n",
       "</span></pre>\n"
      ],
      "text/plain": [
       "\u001b[33mCollecting cffi>=1.0.1\n",
       "\u001b[0m"
      ]
     },
     "metadata": {},
     "output_type": "display_data"
    },
    {
     "data": {
      "text/html": [
       "<pre style=\"white-space:pre;overflow-x:auto;line-height:normal;font-family:Menlo,'DejaVu Sans Mono',consolas,'Courier New',monospace\"><span style=\"color: #808000; text-decoration-color: #808000\">Collecting soupsieve&gt;1.2\n",
       "</span></pre>\n"
      ],
      "text/plain": [
       "\u001b[33mCollecting soupsieve>1.2\n",
       "\u001b[0m"
      ]
     },
     "metadata": {},
     "output_type": "display_data"
    },
    {
     "data": {
      "text/html": [
       "<pre style=\"white-space:pre;overflow-x:auto;line-height:normal;font-family:Menlo,'DejaVu Sans Mono',consolas,'Courier New',monospace\"><span style=\"color: #808000; text-decoration-color: #808000\">  Downloading soupsieve-2.4.1-py3-none-any.whl (36 kB)\n",
       "</span></pre>\n"
      ],
      "text/plain": [
       "\u001b[33m  Downloading soupsieve-2.4.1-py3-none-any.whl (36 kB)\n",
       "\u001b[0m"
      ]
     },
     "metadata": {},
     "output_type": "display_data"
    },
    {
     "data": {
      "text/html": [
       "<pre style=\"white-space:pre;overflow-x:auto;line-height:normal;font-family:Menlo,'DejaVu Sans Mono',consolas,'Courier New',monospace\"><span style=\"color: #808000; text-decoration-color: #808000\">Collecting webencodings\n",
       "</span></pre>\n"
      ],
      "text/plain": [
       "\u001b[33mCollecting webencodings\n",
       "\u001b[0m"
      ]
     },
     "metadata": {},
     "output_type": "display_data"
    },
    {
     "data": {
      "text/html": [
       "<pre style=\"white-space:pre;overflow-x:auto;line-height:normal;font-family:Menlo,'DejaVu Sans Mono',consolas,'Courier New',monospace\"><span style=\"color: #808000; text-decoration-color: #808000\">  Downloading webencodings-0.5.1-py2.py3-none-any.whl (11 kB)\n",
       "</span></pre>\n"
      ],
      "text/plain": [
       "\u001b[33m  Downloading webencodings-0.5.1-py2.py3-none-any.whl (11 kB)\n",
       "\u001b[0m"
      ]
     },
     "metadata": {},
     "output_type": "display_data"
    },
    {
     "data": {
      "text/html": [
       "<pre style=\"white-space:pre;overflow-x:auto;line-height:normal;font-family:Menlo,'DejaVu Sans Mono',consolas,'Courier New',monospace\"><span style=\"color: #808000; text-decoration-color: #808000\">Collecting mpmath&gt;=0.19\n",
       "</span></pre>\n"
      ],
      "text/plain": [
       "\u001b[33mCollecting mpmath>=0.19\n",
       "\u001b[0m"
      ]
     },
     "metadata": {},
     "output_type": "display_data"
    },
    {
     "data": {
      "text/html": [
       "<pre style=\"white-space:pre;overflow-x:auto;line-height:normal;font-family:Menlo,'DejaVu Sans Mono',consolas,'Courier New',monospace\"><span style=\"color: #808000; text-decoration-color: #808000\">  Downloading mpmath-1.3.0-py3-none-any.whl (536 kB)\n",
       "</span></pre>\n"
      ],
      "text/plain": [
       "\u001b[33m  Downloading mpmath-1.3.0-py3-none-any.whl (536 kB)\n",
       "\u001b[0m"
      ]
     },
     "metadata": {},
     "output_type": "display_data"
    },
    {
     "data": {
      "text/html": [
       "<pre style=\"white-space:pre;overflow-x:auto;line-height:normal;font-family:Menlo,'DejaVu Sans Mono',consolas,'Courier New',monospace\"><span style=\"color: #808000; text-decoration-color: #808000\">     ━━━━━━━━━━━━━━━━━━━━━━━━━━━━━━━━━━━━━ 536.2/536.2 kB 263.6 MB/s eta 0:00:00\n",
       "</span></pre>\n"
      ],
      "text/plain": [
       "\u001b[33m     ━━━━━━━━━━━━━━━━━━━━━━━━━━━━━━━━━━━━━ 536.2/536.2 kB 263.6 MB/s eta 0:00:00\n",
       "\u001b[0m"
      ]
     },
     "metadata": {},
     "output_type": "display_data"
    },
    {
     "data": {
      "text/html": [
       "<pre style=\"white-space:pre;overflow-x:auto;line-height:normal;font-family:Menlo,'DejaVu Sans Mono',consolas,'Courier New',monospace\"><span style=\"color: #808000; text-decoration-color: #808000\">Collecting pycparser\n",
       "</span></pre>\n"
      ],
      "text/plain": [
       "\u001b[33mCollecting pycparser\n",
       "\u001b[0m"
      ]
     },
     "metadata": {},
     "output_type": "display_data"
    },
    {
     "data": {
      "text/html": [
       "<pre style=\"white-space:pre;overflow-x:auto;line-height:normal;font-family:Menlo,'DejaVu Sans Mono',consolas,'Courier New',monospace\"><span style=\"color: #808000; text-decoration-color: #808000\">  Downloading pycparser-2.21-py2.py3-none-any.whl (118 kB)\n",
       "</span></pre>\n"
      ],
      "text/plain": [
       "\u001b[33m  Downloading pycparser-2.21-py2.py3-none-any.whl (118 kB)\n",
       "\u001b[0m"
      ]
     },
     "metadata": {},
     "output_type": "display_data"
    },
    {
     "data": {
      "text/html": [
       "<pre style=\"white-space:pre;overflow-x:auto;line-height:normal;font-family:Menlo,'DejaVu Sans Mono',consolas,'Courier New',monospace\"><span style=\"color: #808000; text-decoration-color: #808000\">     ━━━━━━━━━━━━━━━━━━━━━━━━━━━━━━━━━━━━━ 118.7/118.7 kB 243.2 MB/s eta 0:00:00\n",
       "</span></pre>\n"
      ],
      "text/plain": [
       "\u001b[33m     ━━━━━━━━━━━━━━━━━━━━━━━━━━━━━━━━━━━━━ 118.7/118.7 kB 243.2 MB/s eta 0:00:00\n",
       "\u001b[0m"
      ]
     },
     "metadata": {},
     "output_type": "display_data"
    },
    {
     "data": {
      "text/html": [
       "<pre style=\"white-space:pre;overflow-x:auto;line-height:normal;font-family:Menlo,'DejaVu Sans Mono',consolas,'Courier New',monospace\"><span style=\"color: #808000; text-decoration-color: #808000\">Collecting arrow&gt;=0.15.0\n",
       "</span></pre>\n"
      ],
      "text/plain": [
       "\u001b[33mCollecting arrow>=0.15.0\n",
       "\u001b[0m"
      ]
     },
     "metadata": {},
     "output_type": "display_data"
    },
    {
     "data": {
      "text/html": [
       "<pre style=\"white-space:pre;overflow-x:auto;line-height:normal;font-family:Menlo,'DejaVu Sans Mono',consolas,'Courier New',monospace\"><span style=\"color: #808000; text-decoration-color: #808000\">  Downloading arrow-1.2.3-py3-none-any.whl (66 kB)\n",
       "</span></pre>\n"
      ],
      "text/plain": [
       "\u001b[33m  Downloading arrow-1.2.3-py3-none-any.whl (66 kB)\n",
       "\u001b[0m"
      ]
     },
     "metadata": {},
     "output_type": "display_data"
    },
    {
     "data": {
      "text/html": [
       "<pre style=\"white-space:pre;overflow-x:auto;line-height:normal;font-family:Menlo,'DejaVu Sans Mono',consolas,'Courier New',monospace\"><span style=\"color: #808000; text-decoration-color: #808000\">     ━━━━━━━━━━━━━━━━━━━━━━━━━━━━━━━━━━━━━━━ 66.4/66.4 kB 227.7 MB/s eta 0:00:00\n",
       "</span></pre>\n"
      ],
      "text/plain": [
       "\u001b[33m     ━━━━━━━━━━━━━━━━━━━━━━━━━━━━━━━━━━━━━━━ 66.4/66.4 kB 227.7 MB/s eta 0:00:00\n",
       "\u001b[0m"
      ]
     },
     "metadata": {},
     "output_type": "display_data"
    },
    {
     "data": {
      "text/html": [
       "<pre style=\"white-space:pre;overflow-x:auto;line-height:normal;font-family:Menlo,'DejaVu Sans Mono',consolas,'Courier New',monospace\"><span style=\"color: #808000; text-decoration-color: #808000\">Building wheels for collected packages: sentence-transformers, lit\n",
       "</span></pre>\n"
      ],
      "text/plain": [
       "\u001b[33mBuilding wheels for collected packages: sentence-transformers, lit\n",
       "\u001b[0m"
      ]
     },
     "metadata": {},
     "output_type": "display_data"
    },
    {
     "data": {
      "text/html": [
       "<pre style=\"white-space:pre;overflow-x:auto;line-height:normal;font-family:Menlo,'DejaVu Sans Mono',consolas,'Courier New',monospace\"><span style=\"color: #808000; text-decoration-color: #808000\">  Building wheel for sentence-transformers (setup.py): started\n",
       "</span></pre>\n"
      ],
      "text/plain": [
       "\u001b[33m  Building wheel for sentence-transformers (setup.py): started\n",
       "\u001b[0m"
      ]
     },
     "metadata": {},
     "output_type": "display_data"
    },
    {
     "data": {
      "text/html": [
       "<pre style=\"white-space:pre;overflow-x:auto;line-height:normal;font-family:Menlo,'DejaVu Sans Mono',consolas,'Courier New',monospace\"><span style=\"color: #808000; text-decoration-color: #808000\">  Building wheel for sentence-transformers (setup.py): finished with status 'done'\n",
       "</span></pre>\n"
      ],
      "text/plain": [
       "\u001b[33m  Building wheel for sentence-transformers (setup.py): finished with status 'done'\n",
       "\u001b[0m"
      ]
     },
     "metadata": {},
     "output_type": "display_data"
    },
    {
     "data": {
      "text/html": [
       "<pre style=\"white-space:pre;overflow-x:auto;line-height:normal;font-family:Menlo,'DejaVu Sans Mono',consolas,'Courier New',monospace\"><span style=\"color: #808000; text-decoration-color: #808000\">  Created wheel for sentence-transformers: filename=sentence_transformers-2.2.2-py3-none-any.whl size=125938 sha256=fea2a83454a42e4b143cb86f2177de280b08b23aaa355d29cb1c9e55894eb446\n",
       "</span></pre>\n"
      ],
      "text/plain": [
       "\u001b[33m  Created wheel for sentence-transformers: filename=sentence_transformers-2.2.2-py3-none-any.whl size=125938 sha256=fea2a83454a42e4b143cb86f2177de280b08b23aaa355d29cb1c9e55894eb446\n",
       "\u001b[0m"
      ]
     },
     "metadata": {},
     "output_type": "display_data"
    },
    {
     "data": {
      "text/html": [
       "<pre style=\"white-space:pre;overflow-x:auto;line-height:normal;font-family:Menlo,'DejaVu Sans Mono',consolas,'Courier New',monospace\"><span style=\"color: #808000; text-decoration-color: #808000\">  Stored in directory: /tmp/pip-ephem-wheel-cache-rqdfh4h8/wheels/5e/6f/8c/d88aec621f3f542d26fac0342bef5e693335d125f4e54aeffe\n",
       "</span></pre>\n"
      ],
      "text/plain": [
       "\u001b[33m  Stored in directory: /tmp/pip-ephem-wheel-cache-rqdfh4h8/wheels/5e/6f/8c/d88aec621f3f542d26fac0342bef5e693335d125f4e54aeffe\n",
       "\u001b[0m"
      ]
     },
     "metadata": {},
     "output_type": "display_data"
    },
    {
     "data": {
      "text/html": [
       "<pre style=\"white-space:pre;overflow-x:auto;line-height:normal;font-family:Menlo,'DejaVu Sans Mono',consolas,'Courier New',monospace\"><span style=\"color: #808000; text-decoration-color: #808000\">  Building wheel for lit (setup.py): started\n",
       "</span></pre>\n"
      ],
      "text/plain": [
       "\u001b[33m  Building wheel for lit (setup.py): started\n",
       "\u001b[0m"
      ]
     },
     "metadata": {},
     "output_type": "display_data"
    },
    {
     "data": {
      "text/html": [
       "<pre style=\"white-space:pre;overflow-x:auto;line-height:normal;font-family:Menlo,'DejaVu Sans Mono',consolas,'Courier New',monospace\"><span style=\"color: #808000; text-decoration-color: #808000\">  Building wheel for lit (setup.py): finished with status 'done'\n",
       "</span></pre>\n"
      ],
      "text/plain": [
       "\u001b[33m  Building wheel for lit (setup.py): finished with status 'done'\n",
       "\u001b[0m"
      ]
     },
     "metadata": {},
     "output_type": "display_data"
    },
    {
     "data": {
      "text/html": [
       "<pre style=\"white-space:pre;overflow-x:auto;line-height:normal;font-family:Menlo,'DejaVu Sans Mono',consolas,'Courier New',monospace\"><span style=\"color: #808000; text-decoration-color: #808000\">  Created wheel for lit: filename=lit-16.0.2-py3-none-any.whl size=88191 sha256=8f2fe35d64a9a5220d5ce1f36d5e6100fbdfdd59f81d3bbe45f062534c53bbdc\n",
       "</span></pre>\n"
      ],
      "text/plain": [
       "\u001b[33m  Created wheel for lit: filename=lit-16.0.2-py3-none-any.whl size=88191 sha256=8f2fe35d64a9a5220d5ce1f36d5e6100fbdfdd59f81d3bbe45f062534c53bbdc\n",
       "\u001b[0m"
      ]
     },
     "metadata": {},
     "output_type": "display_data"
    },
    {
     "data": {
      "text/html": [
       "<pre style=\"white-space:pre;overflow-x:auto;line-height:normal;font-family:Menlo,'DejaVu Sans Mono',consolas,'Courier New',monospace\"><span style=\"color: #808000; text-decoration-color: #808000\">  Stored in directory: /tmp/pip-ephem-wheel-cache-rqdfh4h8/wheels/95/c7/22/b5f7f87114ad88f574f954818e0b83326c4cd15c875daa72dd\n",
       "</span></pre>\n"
      ],
      "text/plain": [
       "\u001b[33m  Stored in directory: /tmp/pip-ephem-wheel-cache-rqdfh4h8/wheels/95/c7/22/b5f7f87114ad88f574f954818e0b83326c4cd15c875daa72dd\n",
       "\u001b[0m"
      ]
     },
     "metadata": {},
     "output_type": "display_data"
    },
    {
     "data": {
      "text/html": [
       "<pre style=\"white-space:pre;overflow-x:auto;line-height:normal;font-family:Menlo,'DejaVu Sans Mono',consolas,'Courier New',monospace\"><span style=\"color: #808000; text-decoration-color: #808000\">Successfully built sentence-transformers lit\n",
       "</span></pre>\n"
      ],
      "text/plain": [
       "\u001b[33mSuccessfully built sentence-transformers lit\n",
       "\u001b[0m"
      ]
     },
     "metadata": {},
     "output_type": "display_data"
    },
    {
     "data": {
      "text/html": [
       "<pre style=\"white-space:pre;overflow-x:auto;line-height:normal;font-family:Menlo,'DejaVu Sans Mono',consolas,'Courier New',monospace\"><span style=\"color: #808000; text-decoration-color: #808000\">Installing collected packages: y-py, webencodings, tokenizers, sentencepiece, pytz, mpmath, mistune, lit, json5, ipython-genutils, fastjsonschema, duckdb, cmake, widgetsnbextension, websocket-client, webcolors, urllib3, uri-template, tzdata, tqdm, tornado, tomli, tinycss2, threadpoolctl, sympy, soupsieve, sigtools, send2trash, scipy, rfc3986-validator, rfc3339-validator, regex, pyzmq, pyyaml, python-json-logger, python-dateutil, pyparsing, pycparser, pyarrow, psutil, prometheus-client, polars, plotly, platformdirs, pillow, pandocfilters, nvidia-nvtx-cu11, nvidia-nccl-cu11, nvidia-cusparse-cu11, nvidia-curand-cu11, nvidia-cufft-cu11, nvidia-cuda-runtime-cu11, nvidia-cuda-nvrtc-cu11, nvidia-cuda-cupti-cu11, nvidia-cublas-cu11, networkx, nest-asyncio, MarkupSafe, kiwisolver, jupyterlab-widgets, jupyterlab-pygments, jsonpointer, joblib, importlib-metadata, graphviz, fsspec, fqdn, fonttools, filelock, defusedxml, debugpy, cycler, contourpy, comm, bleach, babel, aiosqlite, aiofiles, ypy-websocket, watchfiles, terminado, synchronicity, scikit-learn, requests, pandas, nvidia-cusolver-cu11, nvidia-cudnn-cu11, nltk, matplotlib, jupyter-ydoc, jupyter-core, jinja2, cffi, beautifulsoup4, arrow, nbformat, jupyter-server-terminals, jupyter-client, isoduration, huggingface-hub, catboost, argon2-cffi-bindings, transformers, nbclient, modal-client, ipykernel, argon2-cffi, nbconvert, jupyter-events, ipywidgets, jupyter-server, notebook-shim, jupyterlab-server, jupyter-server-fileid, nbclassic, jupyter-server-ydoc, notebook, jupyterlab, triton, torch, torchvision, sentence-transformers, gate-drift\n",
       "</span></pre>\n"
      ],
      "text/plain": [
       "\u001b[33mInstalling collected packages: y-py, webencodings, tokenizers, sentencepiece, pytz, mpmath, mistune, lit, json5, ipython-genutils, fastjsonschema, duckdb, cmake, widgetsnbextension, websocket-client, webcolors, urllib3, uri-template, tzdata, tqdm, tornado, tomli, tinycss2, threadpoolctl, sympy, soupsieve, sigtools, send2trash, scipy, rfc3986-validator, rfc3339-validator, regex, pyzmq, pyyaml, python-json-logger, python-dateutil, pyparsing, pycparser, pyarrow, psutil, prometheus-client, polars, plotly, platformdirs, pillow, pandocfilters, nvidia-nvtx-cu11, nvidia-nccl-cu11, nvidia-cusparse-cu11, nvidia-curand-cu11, nvidia-cufft-cu11, nvidia-cuda-runtime-cu11, nvidia-cuda-nvrtc-cu11, nvidia-cuda-cupti-cu11, nvidia-cublas-cu11, networkx, nest-asyncio, MarkupSafe, kiwisolver, jupyterlab-widgets, jupyterlab-pygments, jsonpointer, joblib, importlib-metadata, graphviz, fsspec, fqdn, fonttools, filelock, defusedxml, debugpy, cycler, contourpy, comm, bleach, babel, aiosqlite, aiofiles, ypy-websocket, watchfiles, terminado, synchronicity, scikit-learn, requests, pandas, nvidia-cusolver-cu11, nvidia-cudnn-cu11, nltk, matplotlib, jupyter-ydoc, jupyter-core, jinja2, cffi, beautifulsoup4, arrow, nbformat, jupyter-server-terminals, jupyter-client, isoduration, huggingface-hub, catboost, argon2-cffi-bindings, transformers, nbclient, modal-client, ipykernel, argon2-cffi, nbconvert, jupyter-events, ipywidgets, jupyter-server, notebook-shim, jupyterlab-server, jupyter-server-fileid, nbclassic, jupyter-server-ydoc, notebook, jupyterlab, triton, torch, torchvision, sentence-transformers, gate-drift\n",
       "\u001b[0m"
      ]
     },
     "metadata": {},
     "output_type": "display_data"
    },
    {
     "data": {
      "text/html": [
       "<pre style=\"white-space:pre;overflow-x:auto;line-height:normal;font-family:Menlo,'DejaVu Sans Mono',consolas,'Courier New',monospace\"><span style=\"color: #808000; text-decoration-color: #808000\">  Attempting uninstall: importlib-metadata\n",
       "</span></pre>\n"
      ],
      "text/plain": [
       "\u001b[33m  Attempting uninstall: importlib-metadata\n",
       "\u001b[0m"
      ]
     },
     "metadata": {},
     "output_type": "display_data"
    },
    {
     "data": {
      "text/html": [
       "<pre style=\"white-space:pre;overflow-x:auto;line-height:normal;font-family:Menlo,'DejaVu Sans Mono',consolas,'Courier New',monospace\"><span style=\"color: #808000; text-decoration-color: #808000\">    Found existing installation: importlib-metadata 4.8.1\n",
       "</span></pre>\n"
      ],
      "text/plain": [
       "\u001b[33m    Found existing installation: importlib-metadata 4.8.1\n",
       "\u001b[0m"
      ]
     },
     "metadata": {},
     "output_type": "display_data"
    },
    {
     "data": {
      "text/html": [
       "<pre style=\"white-space:pre;overflow-x:auto;line-height:normal;font-family:Menlo,'DejaVu Sans Mono',consolas,'Courier New',monospace\"><span style=\"color: #808000; text-decoration-color: #808000\">    Uninstalling importlib-metadata-4.8.1:\n",
       "</span></pre>\n"
      ],
      "text/plain": [
       "\u001b[33m    Uninstalling importlib-metadata-4.8.1:\n",
       "\u001b[0m"
      ]
     },
     "metadata": {},
     "output_type": "display_data"
    },
    {
     "data": {
      "text/html": [
       "<pre style=\"white-space:pre;overflow-x:auto;line-height:normal;font-family:Menlo,'DejaVu Sans Mono',consolas,'Courier New',monospace\"><span style=\"color: #808000; text-decoration-color: #808000\">      Successfully uninstalled importlib-metadata-4.8.1\n",
       "</span></pre>\n"
      ],
      "text/plain": [
       "\u001b[33m      Successfully uninstalled importlib-metadata-4.8.1\n",
       "\u001b[0m"
      ]
     },
     "metadata": {},
     "output_type": "display_data"
    },
    {
     "data": {
      "text/html": [
       "<pre style=\"white-space:pre;overflow-x:auto;line-height:normal;font-family:Menlo,'DejaVu Sans Mono',consolas,'Courier New',monospace\"><span style=\"color: #808000; text-decoration-color: #808000\">  Attempting uninstall: synchronicity\n",
       "</span></pre>\n"
      ],
      "text/plain": [
       "\u001b[33m  Attempting uninstall: synchronicity\n",
       "\u001b[0m"
      ]
     },
     "metadata": {},
     "output_type": "display_data"
    },
    {
     "data": {
      "text/html": [
       "<pre style=\"white-space:pre;overflow-x:auto;line-height:normal;font-family:Menlo,'DejaVu Sans Mono',consolas,'Courier New',monospace\"><span style=\"color: #808000; text-decoration-color: #808000\">    Found existing installation: synchronicity 0.2.14\n",
       "</span></pre>\n"
      ],
      "text/plain": [
       "\u001b[33m    Found existing installation: synchronicity 0.2.14\n",
       "\u001b[0m"
      ]
     },
     "metadata": {},
     "output_type": "display_data"
    },
    {
     "data": {
      "text/html": [
       "<pre style=\"white-space:pre;overflow-x:auto;line-height:normal;font-family:Menlo,'DejaVu Sans Mono',consolas,'Courier New',monospace\"><span style=\"color: #808000; text-decoration-color: #808000\">    Uninstalling synchronicity-0.2.14:\n",
       "</span></pre>\n"
      ],
      "text/plain": [
       "\u001b[33m    Uninstalling synchronicity-0.2.14:\n",
       "\u001b[0m"
      ]
     },
     "metadata": {},
     "output_type": "display_data"
    },
    {
     "data": {
      "text/html": [
       "<pre style=\"white-space:pre;overflow-x:auto;line-height:normal;font-family:Menlo,'DejaVu Sans Mono',consolas,'Courier New',monospace\"><span style=\"color: #808000; text-decoration-color: #808000\">      Successfully uninstalled synchronicity-0.2.14\n",
       "</span></pre>\n"
      ],
      "text/plain": [
       "\u001b[33m      Successfully uninstalled synchronicity-0.2.14\n",
       "\u001b[0m"
      ]
     },
     "metadata": {},
     "output_type": "display_data"
    },
    {
     "data": {
      "text/html": [
       "<pre style=\"white-space:pre;overflow-x:auto;line-height:normal;font-family:Menlo,'DejaVu Sans Mono',consolas,'Courier New',monospace\"><span style=\"color: #808000; text-decoration-color: #808000\">Successfully installed MarkupSafe-2.1.2 aiofiles-22.1.0 aiosqlite-0.19.0 argon2-cffi-21.3.0 argon2-cffi-bindings-21.2.0 arrow-1.2.3 babel-2.12.1 beautifulsoup4-4.12.2 bleach-6.0.0 catboost-1.1.1 cffi-1.15.1 cmake-3.26.3 comm-0.1.3 contourpy-1.0.7 cycler-0.11.0 debugpy-1.6.7 defusedxml-0.7.1 duckdb-0.7.1 fastjsonschema-2.16.3 filelock-3.12.0 fonttools-4.39.3 fqdn-1.5.1 fsspec-2023.4.0 gate-drift-0.1.5 graphviz-0.20.1 huggingface-hub-0.14.1 importlib-metadata-6.6.0 ipykernel-6.22.0 ipython-genutils-0.2.0 ipywidgets-8.0.6 isoduration-20.11.0 jinja2-3.1.2 joblib-1.2.0 json5-0.9.11 jsonpointer-2.3 jupyter-client-8.2.0 jupyter-core-5.3.0 jupyter-events-0.6.3 jupyter-server-2.5.0 jupyter-server-fileid-0.9.0 jupyter-server-terminals-0.4.4 jupyter-server-ydoc-0.8.0 jupyter-ydoc-0.2.4 jupyterlab-3.6.3 jupyterlab-pygments-0.2.2 jupyterlab-server-2.22.1 jupyterlab-widgets-3.0.7 kiwisolver-1.4.4 lit-16.0.2 matplotlib-3.7.1 mistune-2.0.5 modal-client-0.49.2059 mpmath-1.3.0 nbclassic-0.5.6 nbclient-0.7.4 nbconvert-7.3.1 nbformat-5.8.0 nest-asyncio-1.5.6 networkx-3.1 nltk-3.8.1 notebook-6.5.4 notebook-shim-0.2.3 nvidia-cublas-cu11-11.10.3.66 nvidia-cuda-cupti-cu11-11.7.101 nvidia-cuda-nvrtc-cu11-11.7.99 nvidia-cuda-runtime-cu11-11.7.99 nvidia-cudnn-cu11-8.5.0.96 nvidia-cufft-cu11-10.9.0.58 nvidia-curand-cu11-10.2.10.91 nvidia-cusolver-cu11-11.4.0.1 nvidia-cusparse-cu11-11.7.4.91 nvidia-nccl-cu11-2.14.3 nvidia-nvtx-cu11-11.7.91 pandas-2.0.1 pandocfilters-1.5.0 pillow-9.5.0 platformdirs-3.5.0 plotly-5.14.1 polars-0.17.10 prometheus-client-0.16.0 psutil-5.9.5 pyarrow-11.0.0 pycparser-2.21 pyparsing-3.0.9 python-dateutil-2.8.2 python-json-logger-2.0.7 pytz-2023.3 pyyaml-6.0 pyzmq-25.0.2 regex-2023.3.23 requests-2.29.0 rfc3339-validator-0.1.4 rfc3986-validator-0.1.1 scikit-learn-1.2.2 scipy-1.10.1 send2trash-1.8.2 sentence-transformers-2.2.2 sentencepiece-0.1.98 sigtools-4.0.1 soupsieve-2.4.1 sympy-1.11.1 synchronicity-0.4.2 terminado-0.17.1 threadpoolctl-3.1.0 tinycss2-1.2.1 tokenizers-0.13.3 tomli-2.0.1 torch-2.0.0 torchvision-0.15.1 tornado-6.3.1 tqdm-4.65.0 transformers-4.28.1 triton-2.0.0 tzdata-2023.3 uri-template-1.2.0 urllib3-1.26.15 watchfiles-0.19.0 webcolors-1.13 webencodings-0.5.1 websocket-client-1.5.1 widgetsnbextension-4.0.7 y-py-0.5.9 ypy-websocket-0.8.2\n",
       "</span></pre>\n"
      ],
      "text/plain": [
       "\u001b[33mSuccessfully installed MarkupSafe-2.1.2 aiofiles-22.1.0 aiosqlite-0.19.0 argon2-cffi-21.3.0 argon2-cffi-bindings-21.2.0 arrow-1.2.3 babel-2.12.1 beautifulsoup4-4.12.2 bleach-6.0.0 catboost-1.1.1 cffi-1.15.1 cmake-3.26.3 comm-0.1.3 contourpy-1.0.7 cycler-0.11.0 debugpy-1.6.7 defusedxml-0.7.1 duckdb-0.7.1 fastjsonschema-2.16.3 filelock-3.12.0 fonttools-4.39.3 fqdn-1.5.1 fsspec-2023.4.0 gate-drift-0.1.5 graphviz-0.20.1 huggingface-hub-0.14.1 importlib-metadata-6.6.0 ipykernel-6.22.0 ipython-genutils-0.2.0 ipywidgets-8.0.6 isoduration-20.11.0 jinja2-3.1.2 joblib-1.2.0 json5-0.9.11 jsonpointer-2.3 jupyter-client-8.2.0 jupyter-core-5.3.0 jupyter-events-0.6.3 jupyter-server-2.5.0 jupyter-server-fileid-0.9.0 jupyter-server-terminals-0.4.4 jupyter-server-ydoc-0.8.0 jupyter-ydoc-0.2.4 jupyterlab-3.6.3 jupyterlab-pygments-0.2.2 jupyterlab-server-2.22.1 jupyterlab-widgets-3.0.7 kiwisolver-1.4.4 lit-16.0.2 matplotlib-3.7.1 mistune-2.0.5 modal-client-0.49.2059 mpmath-1.3.0 nbclassic-0.5.6 nbclient-0.7.4 nbconvert-7.3.1 nbformat-5.8.0 nest-asyncio-1.5.6 networkx-3.1 nltk-3.8.1 notebook-6.5.4 notebook-shim-0.2.3 nvidia-cublas-cu11-11.10.3.66 nvidia-cuda-cupti-cu11-11.7.101 nvidia-cuda-nvrtc-cu11-11.7.99 nvidia-cuda-runtime-cu11-11.7.99 nvidia-cudnn-cu11-8.5.0.96 nvidia-cufft-cu11-10.9.0.58 nvidia-curand-cu11-10.2.10.91 nvidia-cusolver-cu11-11.4.0.1 nvidia-cusparse-cu11-11.7.4.91 nvidia-nccl-cu11-2.14.3 nvidia-nvtx-cu11-11.7.91 pandas-2.0.1 pandocfilters-1.5.0 pillow-9.5.0 platformdirs-3.5.0 plotly-5.14.1 polars-0.17.10 prometheus-client-0.16.0 psutil-5.9.5 pyarrow-11.0.0 pycparser-2.21 pyparsing-3.0.9 python-dateutil-2.8.2 python-json-logger-2.0.7 pytz-2023.3 pyyaml-6.0 pyzmq-25.0.2 regex-2023.3.23 requests-2.29.0 rfc3339-validator-0.1.4 rfc3986-validator-0.1.1 scikit-learn-1.2.2 scipy-1.10.1 send2trash-1.8.2 sentence-transformers-2.2.2 sentencepiece-0.1.98 sigtools-4.0.1 soupsieve-2.4.1 sympy-1.11.1 synchronicity-0.4.2 terminado-0.17.1 threadpoolctl-3.1.0 tinycss2-1.2.1 tokenizers-0.13.3 tomli-2.0.1 torch-2.0.0 torchvision-0.15.1 tornado-6.3.1 tqdm-4.65.0 transformers-4.28.1 triton-2.0.0 tzdata-2023.3 uri-template-1.2.0 urllib3-1.26.15 watchfiles-0.19.0 webcolors-1.13 webencodings-0.5.1 websocket-client-1.5.1 widgetsnbextension-4.0.7 y-py-0.5.9 ypy-websocket-0.8.2\n",
       "\u001b[0m"
      ]
     },
     "metadata": {},
     "output_type": "display_data"
    },
    {
     "data": {
      "text/html": [
       "<pre style=\"white-space:pre;overflow-x:auto;line-height:normal;font-family:Menlo,'DejaVu Sans Mono',consolas,'Courier New',monospace\"><span style=\"color: #808000; text-decoration-color: #808000\">WARNING: Running pip as the 'root' user can result in broken permissions and conflicting behaviour with the system package manager. It is recommended to use a virtual environment instead: https://pip.pypa.io/warnings/venv\n",
       "</span></pre>\n"
      ],
      "text/plain": [
       "\u001b[33mWARNING: Running pip as the 'root' user can result in broken permissions and conflicting behaviour with the system package manager. It is recommended to use a virtual environment instead: https://pip.pypa.io/warnings/venv\n",
       "\u001b[0m"
      ]
     },
     "metadata": {},
     "output_type": "display_data"
    },
    {
     "data": {
      "text/html": [
       "<pre style=\"white-space:pre;overflow-x:auto;line-height:normal;font-family:Menlo,'DejaVu Sans Mono',consolas,'Courier New',monospace\"><span style=\"color: #808000; text-decoration-color: #808000\">\n",
       "</span></pre>\n"
      ],
      "text/plain": [
       "\u001b[33m\n",
       "\u001b[0m"
      ]
     },
     "metadata": {},
     "output_type": "display_data"
    },
    {
     "data": {
      "text/html": [
       "<pre style=\"white-space:pre;overflow-x:auto;line-height:normal;font-family:Menlo,'DejaVu Sans Mono',consolas,'Courier New',monospace\"><span style=\"color: #808000; text-decoration-color: #808000\">[notice] A new release of pip is available: 23.0.1 -&gt; 23.1.2\n",
       "</span></pre>\n"
      ],
      "text/plain": [
       "\u001b[33m[notice] A new release of pip is available: 23.0.1 -> 23.1.2\n",
       "\u001b[0m"
      ]
     },
     "metadata": {},
     "output_type": "display_data"
    },
    {
     "data": {
      "text/html": [
       "<pre style=\"white-space:pre;overflow-x:auto;line-height:normal;font-family:Menlo,'DejaVu Sans Mono',consolas,'Courier New',monospace\"><span style=\"color: #808000; text-decoration-color: #808000\">[notice] To update, run: pip install --upgrade pip\n",
       "</span></pre>\n"
      ],
      "text/plain": [
       "\u001b[33m[notice] To update, run: pip install --upgrade pip\n",
       "\u001b[0m"
      ]
     },
     "metadata": {},
     "output_type": "display_data"
    },
    {
     "data": {
      "text/html": [
       "<pre style=\"white-space:pre;overflow-x:auto;line-height:normal;font-family:Menlo,'DejaVu Sans Mono',consolas,'Courier New',monospace\"><span style=\"color: #808000; text-decoration-color: #808000\">Creating image snapshot...\n",
       "</span></pre>\n"
      ],
      "text/plain": [
       "\u001b[33mCreating image snapshot...\n",
       "\u001b[0m"
      ]
     },
     "metadata": {},
     "output_type": "display_data"
    },
    {
     "data": {
      "text/html": [
       "<pre style=\"white-space:pre;overflow-x:auto;line-height:normal;font-family:Menlo,'DejaVu Sans Mono',consolas,'Courier New',monospace\"><span style=\"color: #808000; text-decoration-color: #808000\">Finished snapshot; took 10.14s\n",
       "</span></pre>\n"
      ],
      "text/plain": [
       "\u001b[33mFinished snapshot; took 10.14s\n",
       "\u001b[0m"
      ]
     },
     "metadata": {},
     "output_type": "display_data"
    },
    {
     "data": {
      "text/html": [
       "<pre style=\"white-space:pre;overflow-x:auto;line-height:normal;font-family:Menlo,'DejaVu Sans Mono',consolas,'Courier New',monospace\"><span style=\"color: #808000; text-decoration-color: #808000\">\n",
       "Built image im-xxkuadsrsgdopllbonxycxklhlji in 120.69s\n",
       "</span></pre>\n"
      ],
      "text/plain": [
       "\u001b[33m\n",
       "Built image im-xxkuadsrsgdopllbonxycxklhlji in 120.69s\n",
       "\u001b[0m"
      ]
     },
     "metadata": {},
     "output_type": "display_data"
    },
    {
     "data": {
      "text/html": [
       "<pre style=\"white-space:pre;overflow-x:auto;line-height:normal;font-family:Menlo,'DejaVu Sans Mono',consolas,'Courier New',monospace\"><span style=\"color: #808000; text-decoration-color: #808000\">Building image im-rmmglxajxqmttorrwdkkiqanflet\n",
       "</span></pre>\n"
      ],
      "text/plain": [
       "\u001b[33mBuilding image im-rmmglxajxqmttorrwdkkiqanflet\n",
       "\u001b[0m"
      ]
     },
     "metadata": {},
     "output_type": "display_data"
    },
    {
     "data": {
      "text/html": [
       "<pre style=\"white-space:pre;overflow-x:auto;line-height:normal;font-family:Menlo,'DejaVu Sans Mono',consolas,'Courier New',monospace\"><span style=\"color: #808000; text-decoration-color: #808000\">\n",
       "=&gt; Step 0: FROM base\n",
       "</span></pre>\n"
      ],
      "text/plain": [
       "\u001b[33m\n",
       "=> Step 0: FROM base\n",
       "\u001b[0m"
      ]
     },
     "metadata": {},
     "output_type": "display_data"
    },
    {
     "data": {
      "text/html": [
       "<pre style=\"white-space:pre;overflow-x:auto;line-height:normal;font-family:Menlo,'DejaVu Sans Mono',consolas,'Courier New',monospace\"><span style=\"color: #808000; text-decoration-color: #808000\">\n",
       "=&gt; Step 1: RUN python -m pip install tensorflow-data-validation tensorflow_metadata \n",
       "</span></pre>\n"
      ],
      "text/plain": [
       "\u001b[33m\n",
       "=> Step 1: RUN python -m pip install tensorflow-data-validation tensorflow_metadata \n",
       "\u001b[0m"
      ]
     },
     "metadata": {},
     "output_type": "display_data"
    },
    {
     "data": {
      "text/html": [
       "<pre style=\"white-space:pre;overflow-x:auto;line-height:normal;font-family:Menlo,'DejaVu Sans Mono',consolas,'Courier New',monospace\"><span style=\"color: #808000; text-decoration-color: #808000\">Collecting tensorflow-data-validation\n",
       "</span></pre>\n"
      ],
      "text/plain": [
       "\u001b[33mCollecting tensorflow-data-validation\n",
       "\u001b[0m"
      ]
     },
     "metadata": {},
     "output_type": "display_data"
    },
    {
     "data": {
      "text/html": [
       "<pre style=\"white-space:pre;overflow-x:auto;line-height:normal;font-family:Menlo,'DejaVu Sans Mono',consolas,'Courier New',monospace\"><span style=\"color: #808000; text-decoration-color: #808000\">  Downloading tensorflow_data_validation-1.13.0-cp38-cp38-manylinux_2_17_x86_64.manylinux2014_x86_64.whl (19.2 MB)\n",
       "</span></pre>\n"
      ],
      "text/plain": [
       "\u001b[33m  Downloading tensorflow_data_validation-1.13.0-cp38-cp38-manylinux_2_17_x86_64.manylinux2014_x86_64.whl (19.2 MB)\n",
       "\u001b[0m"
      ]
     },
     "metadata": {},
     "output_type": "display_data"
    },
    {
     "data": {
      "text/html": [
       "<pre style=\"white-space:pre;overflow-x:auto;line-height:normal;font-family:Menlo,'DejaVu Sans Mono',consolas,'Courier New',monospace\"><span style=\"color: #808000; text-decoration-color: #808000\">     ━━━━━━━━━━━━━━━━━━━━━━━━━━━━━━━━━━━━━━━ 19.2/19.2 MB 107.8 MB/s eta 0:00:00\n",
       "</span></pre>\n"
      ],
      "text/plain": [
       "\u001b[33m     ━━━━━━━━━━━━━━━━━━━━━━━━━━━━━━━━━━━━━━━ 19.2/19.2 MB 107.8 MB/s eta 0:00:00\n",
       "\u001b[0m"
      ]
     },
     "metadata": {},
     "output_type": "display_data"
    },
    {
     "data": {
      "text/html": [
       "<pre style=\"white-space:pre;overflow-x:auto;line-height:normal;font-family:Menlo,'DejaVu Sans Mono',consolas,'Courier New',monospace\"><span style=\"color: #808000; text-decoration-color: #808000\">Collecting tensorflow_metadata\n",
       "</span></pre>\n"
      ],
      "text/plain": [
       "\u001b[33mCollecting tensorflow_metadata\n",
       "\u001b[0m"
      ]
     },
     "metadata": {},
     "output_type": "display_data"
    },
    {
     "data": {
      "text/html": [
       "<pre style=\"white-space:pre;overflow-x:auto;line-height:normal;font-family:Menlo,'DejaVu Sans Mono',consolas,'Courier New',monospace\"><span style=\"color: #808000; text-decoration-color: #808000\">  Downloading tensorflow_metadata-1.13.1-py3-none-any.whl (28 kB)\n",
       "</span></pre>\n"
      ],
      "text/plain": [
       "\u001b[33m  Downloading tensorflow_metadata-1.13.1-py3-none-any.whl (28 kB)\n",
       "\u001b[0m"
      ]
     },
     "metadata": {},
     "output_type": "display_data"
    },
    {
     "data": {
      "text/html": [
       "<pre style=\"white-space:pre;overflow-x:auto;line-height:normal;font-family:Menlo,'DejaVu Sans Mono',consolas,'Courier New',monospace\"><span style=\"color: #808000; text-decoration-color: #808000\">Collecting apache-beam[gcp]&lt;3,&gt;=2.40\n",
       "</span></pre>\n"
      ],
      "text/plain": [
       "\u001b[33mCollecting apache-beam[gcp]<3,>=2.40\n",
       "\u001b[0m"
      ]
     },
     "metadata": {},
     "output_type": "display_data"
    },
    {
     "data": {
      "text/html": [
       "<pre style=\"white-space:pre;overflow-x:auto;line-height:normal;font-family:Menlo,'DejaVu Sans Mono',consolas,'Courier New',monospace\"><span style=\"color: #808000; text-decoration-color: #808000\">  Downloading apache_beam-2.46.0-cp38-cp38-manylinux_2_17_x86_64.manylinux2014_x86_64.whl (14.8 MB)\n",
       "</span></pre>\n"
      ],
      "text/plain": [
       "\u001b[33m  Downloading apache_beam-2.46.0-cp38-cp38-manylinux_2_17_x86_64.manylinux2014_x86_64.whl (14.8 MB)\n",
       "\u001b[0m"
      ]
     },
     "metadata": {},
     "output_type": "display_data"
    },
    {
     "data": {
      "text/html": [
       "<pre style=\"white-space:pre;overflow-x:auto;line-height:normal;font-family:Menlo,'DejaVu Sans Mono',consolas,'Courier New',monospace\"><span style=\"color: #808000; text-decoration-color: #808000\">     ━━━━━━━━━━━━━━━━━━━━━━━━━━━━━━━━━━━━━━━ 14.8/14.8 MB 160.7 MB/s eta 0:00:00\n",
       "</span></pre>\n"
      ],
      "text/plain": [
       "\u001b[33m     ━━━━━━━━━━━━━━━━━━━━━━━━━━━━━━━━━━━━━━━ 14.8/14.8 MB 160.7 MB/s eta 0:00:00\n",
       "\u001b[0m"
      ]
     },
     "metadata": {},
     "output_type": "display_data"
    },
    {
     "data": {
      "text/html": [
       "<pre style=\"white-space:pre;overflow-x:auto;line-height:normal;font-family:Menlo,'DejaVu Sans Mono',consolas,'Courier New',monospace\"><span style=\"color: #808000; text-decoration-color: #808000\">Collecting tfx-bsl&lt;1.14,&gt;=1.13.0\n",
       "</span></pre>\n"
      ],
      "text/plain": [
       "\u001b[33mCollecting tfx-bsl<1.14,>=1.13.0\n",
       "\u001b[0m"
      ]
     },
     "metadata": {},
     "output_type": "display_data"
    },
    {
     "data": {
      "text/html": [
       "<pre style=\"white-space:pre;overflow-x:auto;line-height:normal;font-family:Menlo,'DejaVu Sans Mono',consolas,'Courier New',monospace\"><span style=\"color: #808000; text-decoration-color: #808000\">  Downloading tfx_bsl-1.13.0-cp38-cp38-manylinux_2_17_x86_64.manylinux2014_x86_64.whl (22.5 MB)\n",
       "</span></pre>\n"
      ],
      "text/plain": [
       "\u001b[33m  Downloading tfx_bsl-1.13.0-cp38-cp38-manylinux_2_17_x86_64.manylinux2014_x86_64.whl (22.5 MB)\n",
       "\u001b[0m"
      ]
     },
     "metadata": {},
     "output_type": "display_data"
    },
    {
     "data": {
      "text/html": [
       "<pre style=\"white-space:pre;overflow-x:auto;line-height:normal;font-family:Menlo,'DejaVu Sans Mono',consolas,'Courier New',monospace\"><span style=\"color: #808000; text-decoration-color: #808000\">     ━━━━━━━━━━━━━━━━━━━━━━━━━━━━━━━━━━━━━━━ 22.5/22.5 MB 149.6 MB/s eta 0:00:00\n",
       "</span></pre>\n"
      ],
      "text/plain": [
       "\u001b[33m     ━━━━━━━━━━━━━━━━━━━━━━━━━━━━━━━━━━━━━━━ 22.5/22.5 MB 149.6 MB/s eta 0:00:00\n",
       "\u001b[0m"
      ]
     },
     "metadata": {},
     "output_type": "display_data"
    },
    {
     "data": {
      "text/html": [
       "<pre style=\"white-space:pre;overflow-x:auto;line-height:normal;font-family:Menlo,'DejaVu Sans Mono',consolas,'Courier New',monospace\"><span style=\"color: #808000; text-decoration-color: #808000\">Collecting pyfarmhash&lt;0.4,&gt;=0.2.2\n",
       "</span></pre>\n"
      ],
      "text/plain": [
       "\u001b[33mCollecting pyfarmhash<0.4,>=0.2.2\n",
       "\u001b[0m"
      ]
     },
     "metadata": {},
     "output_type": "display_data"
    },
    {
     "data": {
      "text/html": [
       "<pre style=\"white-space:pre;overflow-x:auto;line-height:normal;font-family:Menlo,'DejaVu Sans Mono',consolas,'Courier New',monospace\"><span style=\"color: #808000; text-decoration-color: #808000\">  Downloading pyfarmhash-0.3.2.tar.gz (99 kB)\n",
       "</span></pre>\n"
      ],
      "text/plain": [
       "\u001b[33m  Downloading pyfarmhash-0.3.2.tar.gz (99 kB)\n",
       "\u001b[0m"
      ]
     },
     "metadata": {},
     "output_type": "display_data"
    },
    {
     "data": {
      "text/html": [
       "<pre style=\"white-space:pre;overflow-x:auto;line-height:normal;font-family:Menlo,'DejaVu Sans Mono',consolas,'Courier New',monospace\"><span style=\"color: #808000; text-decoration-color: #808000\">     ━━━━━━━━━━━━━━━━━━━━━━━━━━━━━━━━━━━━━━━ 99.9/99.9 kB 257.7 MB/s eta 0:00:00\n",
       "</span></pre>\n"
      ],
      "text/plain": [
       "\u001b[33m     ━━━━━━━━━━━━━━━━━━━━━━━━━━━━━━━━━━━━━━━ 99.9/99.9 kB 257.7 MB/s eta 0:00:00\n",
       "\u001b[0m"
      ]
     },
     "metadata": {},
     "output_type": "display_data"
    },
    {
     "data": {
      "text/html": [
       "<pre style=\"white-space:pre;overflow-x:auto;line-height:normal;font-family:Menlo,'DejaVu Sans Mono',consolas,'Courier New',monospace\"><span style=\"color: #808000; text-decoration-color: #808000\">  Preparing metadata (setup.py): started\n",
       "</span></pre>\n"
      ],
      "text/plain": [
       "\u001b[33m  Preparing metadata (setup.py): started\n",
       "\u001b[0m"
      ]
     },
     "metadata": {},
     "output_type": "display_data"
    },
    {
     "data": {
      "text/html": [
       "<pre style=\"white-space:pre;overflow-x:auto;line-height:normal;font-family:Menlo,'DejaVu Sans Mono',consolas,'Courier New',monospace\"><span style=\"color: #808000; text-decoration-color: #808000\">  Preparing metadata (setup.py): finished with status 'done'\n",
       "</span></pre>\n"
      ],
      "text/plain": [
       "\u001b[33m  Preparing metadata (setup.py): finished with status 'done'\n",
       "\u001b[0m"
      ]
     },
     "metadata": {},
     "output_type": "display_data"
    },
    {
     "data": {
      "text/html": [
       "<pre style=\"white-space:pre;overflow-x:auto;line-height:normal;font-family:Menlo,'DejaVu Sans Mono',consolas,'Courier New',monospace\"><span style=\"color: #808000; text-decoration-color: #808000\">Collecting numpy~=1.22.0\n",
       "</span></pre>\n"
      ],
      "text/plain": [
       "\u001b[33mCollecting numpy~=1.22.0\n",
       "\u001b[0m"
      ]
     },
     "metadata": {},
     "output_type": "display_data"
    },
    {
     "data": {
      "text/html": [
       "<pre style=\"white-space:pre;overflow-x:auto;line-height:normal;font-family:Menlo,'DejaVu Sans Mono',consolas,'Courier New',monospace\"><span style=\"color: #808000; text-decoration-color: #808000\">  Downloading numpy-1.22.4-cp38-cp38-manylinux_2_17_x86_64.manylinux2014_x86_64.whl (16.9 MB)\n",
       "</span></pre>\n"
      ],
      "text/plain": [
       "\u001b[33m  Downloading numpy-1.22.4-cp38-cp38-manylinux_2_17_x86_64.manylinux2014_x86_64.whl (16.9 MB)\n",
       "\u001b[0m"
      ]
     },
     "metadata": {},
     "output_type": "display_data"
    },
    {
     "data": {
      "text/html": [
       "<pre style=\"white-space:pre;overflow-x:auto;line-height:normal;font-family:Menlo,'DejaVu Sans Mono',consolas,'Courier New',monospace\"><span style=\"color: #808000; text-decoration-color: #808000\">     ━━━━━━━━━━━━━━━━━━━━━━━━━━━━━━━━━━━━━━━ 16.9/16.9 MB 145.8 MB/s eta 0:00:00\n",
       "</span></pre>\n"
      ],
      "text/plain": [
       "\u001b[33m     ━━━━━━━━━━━━━━━━━━━━━━━━━━━━━━━━━━━━━━━ 16.9/16.9 MB 145.8 MB/s eta 0:00:00\n",
       "\u001b[0m"
      ]
     },
     "metadata": {},
     "output_type": "display_data"
    },
    {
     "data": {
      "text/html": [
       "<pre style=\"white-space:pre;overflow-x:auto;line-height:normal;font-family:Menlo,'DejaVu Sans Mono',consolas,'Courier New',monospace\"><span style=\"color: #808000; text-decoration-color: #808000\">Collecting pandas&lt;2,&gt;=1.0\n",
       "</span></pre>\n"
      ],
      "text/plain": [
       "\u001b[33mCollecting pandas<2,>=1.0\n",
       "\u001b[0m"
      ]
     },
     "metadata": {},
     "output_type": "display_data"
    },
    {
     "data": {
      "text/html": [
       "<pre style=\"white-space:pre;overflow-x:auto;line-height:normal;font-family:Menlo,'DejaVu Sans Mono',consolas,'Courier New',monospace\"><span style=\"color: #808000; text-decoration-color: #808000\">  Downloading pandas-1.5.3-cp38-cp38-manylinux_2_17_x86_64.manylinux2014_x86_64.whl (12.2 MB)\n",
       "</span></pre>\n"
      ],
      "text/plain": [
       "\u001b[33m  Downloading pandas-1.5.3-cp38-cp38-manylinux_2_17_x86_64.manylinux2014_x86_64.whl (12.2 MB)\n",
       "\u001b[0m"
      ]
     },
     "metadata": {},
     "output_type": "display_data"
    },
    {
     "data": {
      "text/html": [
       "<pre style=\"white-space:pre;overflow-x:auto;line-height:normal;font-family:Menlo,'DejaVu Sans Mono',consolas,'Courier New',monospace\"><span style=\"color: #808000; text-decoration-color: #808000\">     ━━━━━━━━━━━━━━━━━━━━━━━━━━━━━━━━━━━━━━━ 12.2/12.2 MB 177.0 MB/s eta 0:00:00\n",
       "</span></pre>\n"
      ],
      "text/plain": [
       "\u001b[33m     ━━━━━━━━━━━━━━━━━━━━━━━━━━━━━━━━━━━━━━━ 12.2/12.2 MB 177.0 MB/s eta 0:00:00\n",
       "\u001b[0m"
      ]
     },
     "metadata": {},
     "output_type": "display_data"
    },
    {
     "data": {
      "text/html": [
       "<pre style=\"white-space:pre;overflow-x:auto;line-height:normal;font-family:Menlo,'DejaVu Sans Mono',consolas,'Courier New',monospace\"><span style=\"color: #808000; text-decoration-color: #808000\">Requirement already satisfied: protobuf&lt;5,&gt;=3.20.3 in /usr/local/lib/python3.8/site-packages (from tensorflow-data-validation) (4.22.1)\n",
       "</span></pre>\n"
      ],
      "text/plain": [
       "\u001b[33mRequirement already satisfied: protobuf<5,>=3.20.3 in /usr/local/lib/python3.8/site-packages (from tensorflow-data-validation) (4.22.1)\n",
       "\u001b[0m"
      ]
     },
     "metadata": {},
     "output_type": "display_data"
    },
    {
     "data": {
      "text/html": [
       "<pre style=\"white-space:pre;overflow-x:auto;line-height:normal;font-family:Menlo,'DejaVu Sans Mono',consolas,'Courier New',monospace\"><span style=\"color: #808000; text-decoration-color: #808000\">Collecting absl-py&lt;2.0.0,&gt;=0.9\n",
       "</span></pre>\n"
      ],
      "text/plain": [
       "\u001b[33mCollecting absl-py<2.0.0,>=0.9\n",
       "\u001b[0m"
      ]
     },
     "metadata": {},
     "output_type": "display_data"
    },
    {
     "data": {
      "text/html": [
       "<pre style=\"white-space:pre;overflow-x:auto;line-height:normal;font-family:Menlo,'DejaVu Sans Mono',consolas,'Courier New',monospace\"><span style=\"color: #808000; text-decoration-color: #808000\">  Downloading absl_py-1.4.0-py3-none-any.whl (126 kB)\n",
       "</span></pre>\n"
      ],
      "text/plain": [
       "\u001b[33m  Downloading absl_py-1.4.0-py3-none-any.whl (126 kB)\n",
       "\u001b[0m"
      ]
     },
     "metadata": {},
     "output_type": "display_data"
    },
    {
     "data": {
      "text/html": [
       "<pre style=\"white-space:pre;overflow-x:auto;line-height:normal;font-family:Menlo,'DejaVu Sans Mono',consolas,'Courier New',monospace\"><span style=\"color: #808000; text-decoration-color: #808000\">     ━━━━━━━━━━━━━━━━━━━━━━━━━━━━━━━━━━━━━ 126.5/126.5 kB 284.7 MB/s eta 0:00:00\n",
       "</span></pre>\n"
      ],
      "text/plain": [
       "\u001b[33m     ━━━━━━━━━━━━━━━━━━━━━━━━━━━━━━━━━━━━━ 126.5/126.5 kB 284.7 MB/s eta 0:00:00\n",
       "\u001b[0m"
      ]
     },
     "metadata": {},
     "output_type": "display_data"
    },
    {
     "data": {
      "text/html": [
       "<pre style=\"white-space:pre;overflow-x:auto;line-height:normal;font-family:Menlo,'DejaVu Sans Mono',consolas,'Courier New',monospace\"><span style=\"color: #808000; text-decoration-color: #808000\">Requirement already satisfied: joblib&gt;=1.2.0 in /usr/local/lib/python3.8/site-packages (from tensorflow-data-validation) (1.2.0)\n",
       "</span></pre>\n"
      ],
      "text/plain": [
       "\u001b[33mRequirement already satisfied: joblib>=1.2.0 in /usr/local/lib/python3.8/site-packages (from tensorflow-data-validation) (1.2.0)\n",
       "\u001b[0m"
      ]
     },
     "metadata": {},
     "output_type": "display_data"
    },
    {
     "data": {
      "text/html": [
       "<pre style=\"white-space:pre;overflow-x:auto;line-height:normal;font-family:Menlo,'DejaVu Sans Mono',consolas,'Courier New',monospace\"><span style=\"color: #808000; text-decoration-color: #808000\">Collecting tensorflow&lt;3,&gt;=2.12\n",
       "</span></pre>\n"
      ],
      "text/plain": [
       "\u001b[33mCollecting tensorflow<3,>=2.12\n",
       "\u001b[0m"
      ]
     },
     "metadata": {},
     "output_type": "display_data"
    },
    {
     "data": {
      "text/html": [
       "<pre style=\"white-space:pre;overflow-x:auto;line-height:normal;font-family:Menlo,'DejaVu Sans Mono',consolas,'Courier New',monospace\"><span style=\"color: #808000; text-decoration-color: #808000\">  Downloading tensorflow-2.12.0-cp38-cp38-manylinux_2_17_x86_64.manylinux2014_x86_64.whl (585.9 MB)\n",
       "</span></pre>\n"
      ],
      "text/plain": [
       "\u001b[33m  Downloading tensorflow-2.12.0-cp38-cp38-manylinux_2_17_x86_64.manylinux2014_x86_64.whl (585.9 MB)\n",
       "\u001b[0m"
      ]
     },
     "metadata": {},
     "output_type": "display_data"
    },
    {
     "data": {
      "text/html": [
       "<pre style=\"white-space:pre;overflow-x:auto;line-height:normal;font-family:Menlo,'DejaVu Sans Mono',consolas,'Courier New',monospace\"><span style=\"color: #808000; text-decoration-color: #808000\">     ━━━━━━━━━━━━━━━━━━━━━━━━━━━━━━━━━━━━━ 585.9/585.9 MB 226.7 MB/s eta 0:00:00\n",
       "</span></pre>\n"
      ],
      "text/plain": [
       "\u001b[33m     ━━━━━━━━━━━━━━━━━━━━━━━━━━━━━━━━━━━━━ 585.9/585.9 MB 226.7 MB/s eta 0:00:00\n",
       "\u001b[0m"
      ]
     },
     "metadata": {},
     "output_type": "display_data"
    },
    {
     "data": {
      "text/html": [
       "<pre style=\"white-space:pre;overflow-x:auto;line-height:normal;font-family:Menlo,'DejaVu Sans Mono',consolas,'Courier New',monospace\"><span style=\"color: #808000; text-decoration-color: #808000\">Collecting pyarrow&lt;7,&gt;=6\n",
       "</span></pre>\n"
      ],
      "text/plain": [
       "\u001b[33mCollecting pyarrow<7,>=6\n",
       "\u001b[0m"
      ]
     },
     "metadata": {},
     "output_type": "display_data"
    },
    {
     "data": {
      "text/html": [
       "<pre style=\"white-space:pre;overflow-x:auto;line-height:normal;font-family:Menlo,'DejaVu Sans Mono',consolas,'Courier New',monospace\"><span style=\"color: #808000; text-decoration-color: #808000\">  Downloading pyarrow-6.0.1-cp38-cp38-manylinux_2_17_x86_64.manylinux2014_x86_64.whl (25.6 MB)\n",
       "</span></pre>\n"
      ],
      "text/plain": [
       "\u001b[33m  Downloading pyarrow-6.0.1-cp38-cp38-manylinux_2_17_x86_64.manylinux2014_x86_64.whl (25.6 MB)\n",
       "\u001b[0m"
      ]
     },
     "metadata": {},
     "output_type": "display_data"
    },
    {
     "data": {
      "text/html": [
       "<pre style=\"white-space:pre;overflow-x:auto;line-height:normal;font-family:Menlo,'DejaVu Sans Mono',consolas,'Courier New',monospace\"><span style=\"color: #808000; text-decoration-color: #808000\">     ━━━━━━━━━━━━━━━━━━━━━━━━━━━━━━━━━━━━━━━ 25.6/25.6 MB 201.7 MB/s eta 0:00:00\n",
       "</span></pre>\n"
      ],
      "text/plain": [
       "\u001b[33m     ━━━━━━━━━━━━━━━━━━━━━━━━━━━━━━━━━━━━━━━ 25.6/25.6 MB 201.7 MB/s eta 0:00:00\n",
       "\u001b[0m"
      ]
     },
     "metadata": {},
     "output_type": "display_data"
    },
    {
     "data": {
      "text/html": [
       "<pre style=\"white-space:pre;overflow-x:auto;line-height:normal;font-family:Menlo,'DejaVu Sans Mono',consolas,'Courier New',monospace\"><span style=\"color: #808000; text-decoration-color: #808000\">Requirement already satisfied: six&lt;2,&gt;=1.12 in /usr/local/lib/python3.8/site-packages (from tensorflow-data-validation) (1.16.0)\n",
       "</span></pre>\n"
      ],
      "text/plain": [
       "\u001b[33mRequirement already satisfied: six<2,>=1.12 in /usr/local/lib/python3.8/site-packages (from tensorflow-data-validation) (1.16.0)\n",
       "\u001b[0m"
      ]
     },
     "metadata": {},
     "output_type": "display_data"
    },
    {
     "data": {
      "text/html": [
       "<pre style=\"white-space:pre;overflow-x:auto;line-height:normal;font-family:Menlo,'DejaVu Sans Mono',consolas,'Courier New',monospace\"><span style=\"color: #808000; text-decoration-color: #808000\">Collecting googleapis-common-protos&lt;2,&gt;=1.52.0\n",
       "</span></pre>\n"
      ],
      "text/plain": [
       "\u001b[33mCollecting googleapis-common-protos<2,>=1.52.0\n",
       "\u001b[0m"
      ]
     },
     "metadata": {},
     "output_type": "display_data"
    },
    {
     "data": {
      "text/html": [
       "<pre style=\"white-space:pre;overflow-x:auto;line-height:normal;font-family:Menlo,'DejaVu Sans Mono',consolas,'Courier New',monospace\"><span style=\"color: #808000; text-decoration-color: #808000\">  Downloading googleapis_common_protos-1.59.0-py2.py3-none-any.whl (223 kB)\n",
       "</span></pre>\n"
      ],
      "text/plain": [
       "\u001b[33m  Downloading googleapis_common_protos-1.59.0-py2.py3-none-any.whl (223 kB)\n",
       "\u001b[0m"
      ]
     },
     "metadata": {},
     "output_type": "display_data"
    },
    {
     "data": {
      "text/html": [
       "<pre style=\"white-space:pre;overflow-x:auto;line-height:normal;font-family:Menlo,'DejaVu Sans Mono',consolas,'Courier New',monospace\"><span style=\"color: #808000; text-decoration-color: #808000\">     ━━━━━━━━━━━━━━━━━━━━━━━━━━━━━━━━━━━━━ 223.6/223.6 kB 292.5 MB/s eta 0:00:00\n",
       "</span></pre>\n"
      ],
      "text/plain": [
       "\u001b[33m     ━━━━━━━━━━━━━━━━━━━━━━━━━━━━━━━━━━━━━ 223.6/223.6 kB 292.5 MB/s eta 0:00:00\n",
       "\u001b[0m"
      ]
     },
     "metadata": {},
     "output_type": "display_data"
    },
    {
     "data": {
      "text/html": [
       "<pre style=\"white-space:pre;overflow-x:auto;line-height:normal;font-family:Menlo,'DejaVu Sans Mono',consolas,'Courier New',monospace\"><span style=\"color: #808000; text-decoration-color: #808000\">Collecting fastavro&lt;2,&gt;=0.23.6\n",
       "</span></pre>\n"
      ],
      "text/plain": [
       "\u001b[33mCollecting fastavro<2,>=0.23.6\n",
       "\u001b[0m"
      ]
     },
     "metadata": {},
     "output_type": "display_data"
    },
    {
     "data": {
      "text/html": [
       "<pre style=\"white-space:pre;overflow-x:auto;line-height:normal;font-family:Menlo,'DejaVu Sans Mono',consolas,'Courier New',monospace\"><span style=\"color: #808000; text-decoration-color: #808000\">  Downloading fastavro-1.7.3-cp38-cp38-manylinux_2_17_x86_64.manylinux2014_x86_64.whl (2.7 MB)\n",
       "</span></pre>\n"
      ],
      "text/plain": [
       "\u001b[33m  Downloading fastavro-1.7.3-cp38-cp38-manylinux_2_17_x86_64.manylinux2014_x86_64.whl (2.7 MB)\n",
       "\u001b[0m"
      ]
     },
     "metadata": {},
     "output_type": "display_data"
    },
    {
     "data": {
      "text/html": [
       "<pre style=\"white-space:pre;overflow-x:auto;line-height:normal;font-family:Menlo,'DejaVu Sans Mono',consolas,'Courier New',monospace\"><span style=\"color: #808000; text-decoration-color: #808000\">     ━━━━━━━━━━━━━━━━━━━━━━━━━━━━━━━━━━━━━━━━ 2.7/2.7 MB 278.6 MB/s eta 0:00:00\n",
       "</span></pre>\n"
      ],
      "text/plain": [
       "\u001b[33m     ━━━━━━━━━━━━━━━━━━━━━━━━━━━━━━━━━━━━━━━━ 2.7/2.7 MB 278.6 MB/s eta 0:00:00\n",
       "\u001b[0m"
      ]
     },
     "metadata": {},
     "output_type": "display_data"
    },
    {
     "data": {
      "text/html": [
       "<pre style=\"white-space:pre;overflow-x:auto;line-height:normal;font-family:Menlo,'DejaVu Sans Mono',consolas,'Courier New',monospace\"><span style=\"color: #808000; text-decoration-color: #808000\">Requirement already satisfied: requests&lt;3.0.0,&gt;=2.24.0 in /usr/local/lib/python3.8/site-packages (from apache-beam[gcp]&lt;3,&gt;=2.40-&gt;tensorflow-data-validation) (2.29.0)\n",
       "</span></pre>\n"
      ],
      "text/plain": [
       "\u001b[33mRequirement already satisfied: requests<3.0.0,>=2.24.0 in /usr/local/lib/python3.8/site-packages (from apache-beam[gcp]<3,>=2.40->tensorflow-data-validation) (2.29.0)\n",
       "\u001b[0m"
      ]
     },
     "metadata": {},
     "output_type": "display_data"
    },
    {
     "data": {
      "text/html": [
       "<pre style=\"white-space:pre;overflow-x:auto;line-height:normal;font-family:Menlo,'DejaVu Sans Mono',consolas,'Courier New',monospace\"><span style=\"color: #808000; text-decoration-color: #808000\">Collecting pymongo&lt;4.0.0,&gt;=3.8.0\n",
       "</span></pre>\n"
      ],
      "text/plain": [
       "\u001b[33mCollecting pymongo<4.0.0,>=3.8.0\n",
       "\u001b[0m"
      ]
     },
     "metadata": {},
     "output_type": "display_data"
    },
    {
     "data": {
      "text/html": [
       "<pre style=\"white-space:pre;overflow-x:auto;line-height:normal;font-family:Menlo,'DejaVu Sans Mono',consolas,'Courier New',monospace\"><span style=\"color: #808000; text-decoration-color: #808000\">  Downloading pymongo-3.13.0-cp38-cp38-manylinux_2_17_x86_64.manylinux2014_x86_64.whl (526 kB)\n",
       "</span></pre>\n"
      ],
      "text/plain": [
       "\u001b[33m  Downloading pymongo-3.13.0-cp38-cp38-manylinux_2_17_x86_64.manylinux2014_x86_64.whl (526 kB)\n",
       "\u001b[0m"
      ]
     },
     "metadata": {},
     "output_type": "display_data"
    },
    {
     "data": {
      "text/html": [
       "<pre style=\"white-space:pre;overflow-x:auto;line-height:normal;font-family:Menlo,'DejaVu Sans Mono',consolas,'Courier New',monospace\"><span style=\"color: #808000; text-decoration-color: #808000\">     ━━━━━━━━━━━━━━━━━━━━━━━━━━━━━━━━━━━━━ 526.2/526.2 kB 306.4 MB/s eta 0:00:00\n",
       "</span></pre>\n"
      ],
      "text/plain": [
       "\u001b[33m     ━━━━━━━━━━━━━━━━━━━━━━━━━━━━━━━━━━━━━ 526.2/526.2 kB 306.4 MB/s eta 0:00:00\n",
       "\u001b[0m"
      ]
     },
     "metadata": {},
     "output_type": "display_data"
    },
    {
     "data": {
      "text/html": [
       "<pre style=\"white-space:pre;overflow-x:auto;line-height:normal;font-family:Menlo,'DejaVu Sans Mono',consolas,'Courier New',monospace\"><span style=\"color: #808000; text-decoration-color: #808000\">Collecting objsize&lt;0.7.0,&gt;=0.6.1\n",
       "</span></pre>\n"
      ],
      "text/plain": [
       "\u001b[33mCollecting objsize<0.7.0,>=0.6.1\n",
       "\u001b[0m"
      ]
     },
     "metadata": {},
     "output_type": "display_data"
    },
    {
     "data": {
      "text/html": [
       "<pre style=\"white-space:pre;overflow-x:auto;line-height:normal;font-family:Menlo,'DejaVu Sans Mono',consolas,'Courier New',monospace\"><span style=\"color: #808000; text-decoration-color: #808000\">  Downloading objsize-0.6.1-py3-none-any.whl (9.3 kB)\n",
       "</span></pre>\n"
      ],
      "text/plain": [
       "\u001b[33m  Downloading objsize-0.6.1-py3-none-any.whl (9.3 kB)\n",
       "\u001b[0m"
      ]
     },
     "metadata": {},
     "output_type": "display_data"
    },
    {
     "data": {
      "text/html": [
       "<pre style=\"white-space:pre;overflow-x:auto;line-height:normal;font-family:Menlo,'DejaVu Sans Mono',consolas,'Courier New',monospace\"><span style=\"color: #808000; text-decoration-color: #808000\">Collecting hdfs&lt;3.0.0,&gt;=2.1.0\n",
       "</span></pre>\n"
      ],
      "text/plain": [
       "\u001b[33mCollecting hdfs<3.0.0,>=2.1.0\n",
       "\u001b[0m"
      ]
     },
     "metadata": {},
     "output_type": "display_data"
    },
    {
     "data": {
      "text/html": [
       "<pre style=\"white-space:pre;overflow-x:auto;line-height:normal;font-family:Menlo,'DejaVu Sans Mono',consolas,'Courier New',monospace\"><span style=\"color: #808000; text-decoration-color: #808000\">  Downloading hdfs-2.7.0-py3-none-any.whl (34 kB)\n",
       "</span></pre>\n"
      ],
      "text/plain": [
       "\u001b[33m  Downloading hdfs-2.7.0-py3-none-any.whl (34 kB)\n",
       "\u001b[0m"
      ]
     },
     "metadata": {},
     "output_type": "display_data"
    },
    {
     "data": {
      "text/html": [
       "<pre style=\"white-space:pre;overflow-x:auto;line-height:normal;font-family:Menlo,'DejaVu Sans Mono',consolas,'Courier New',monospace\"><span style=\"color: #808000; text-decoration-color: #808000\">Requirement already satisfied: python-dateutil&lt;3,&gt;=2.8.0 in /usr/local/lib/python3.8/site-packages (from apache-beam[gcp]&lt;3,&gt;=2.40-&gt;tensorflow-data-validation) (2.8.2)\n",
       "</span></pre>\n"
      ],
      "text/plain": [
       "\u001b[33mRequirement already satisfied: python-dateutil<3,>=2.8.0 in /usr/local/lib/python3.8/site-packages (from apache-beam[gcp]<3,>=2.40->tensorflow-data-validation) (2.8.2)\n",
       "\u001b[0m"
      ]
     },
     "metadata": {},
     "output_type": "display_data"
    },
    {
     "data": {
      "text/html": [
       "<pre style=\"white-space:pre;overflow-x:auto;line-height:normal;font-family:Menlo,'DejaVu Sans Mono',consolas,'Courier New',monospace\"><span style=\"color: #808000; text-decoration-color: #808000\">Collecting proto-plus&lt;2,&gt;=1.7.1\n",
       "</span></pre>\n"
      ],
      "text/plain": [
       "\u001b[33mCollecting proto-plus<2,>=1.7.1\n",
       "\u001b[0m"
      ]
     },
     "metadata": {},
     "output_type": "display_data"
    },
    {
     "data": {
      "text/html": [
       "<pre style=\"white-space:pre;overflow-x:auto;line-height:normal;font-family:Menlo,'DejaVu Sans Mono',consolas,'Courier New',monospace\"><span style=\"color: #808000; text-decoration-color: #808000\">  Downloading proto_plus-1.22.2-py3-none-any.whl (47 kB)\n",
       "</span></pre>\n"
      ],
      "text/plain": [
       "\u001b[33m  Downloading proto_plus-1.22.2-py3-none-any.whl (47 kB)\n",
       "\u001b[0m"
      ]
     },
     "metadata": {},
     "output_type": "display_data"
    },
    {
     "data": {
      "text/html": [
       "<pre style=\"white-space:pre;overflow-x:auto;line-height:normal;font-family:Menlo,'DejaVu Sans Mono',consolas,'Courier New',monospace\"><span style=\"color: #808000; text-decoration-color: #808000\">     ━━━━━━━━━━━━━━━━━━━━━━━━━━━━━━━━━━━━━━━ 47.9/47.9 kB 230.0 MB/s eta 0:00:00\n",
       "</span></pre>\n"
      ],
      "text/plain": [
       "\u001b[33m     ━━━━━━━━━━━━━━━━━━━━━━━━━━━━━━━━━━━━━━━ 47.9/47.9 kB 230.0 MB/s eta 0:00:00\n",
       "\u001b[0m"
      ]
     },
     "metadata": {},
     "output_type": "display_data"
    },
    {
     "data": {
      "text/html": [
       "<pre style=\"white-space:pre;overflow-x:auto;line-height:normal;font-family:Menlo,'DejaVu Sans Mono',consolas,'Courier New',monospace\"><span style=\"color: #808000; text-decoration-color: #808000\">Collecting dill&lt;0.3.2,&gt;=0.3.1.1\n",
       "</span></pre>\n"
      ],
      "text/plain": [
       "\u001b[33mCollecting dill<0.3.2,>=0.3.1.1\n",
       "\u001b[0m"
      ]
     },
     "metadata": {},
     "output_type": "display_data"
    },
    {
     "data": {
      "text/html": [
       "<pre style=\"white-space:pre;overflow-x:auto;line-height:normal;font-family:Menlo,'DejaVu Sans Mono',consolas,'Courier New',monospace\"><span style=\"color: #808000; text-decoration-color: #808000\">  Downloading dill-0.3.1.1.tar.gz (151 kB)\n",
       "</span></pre>\n"
      ],
      "text/plain": [
       "\u001b[33m  Downloading dill-0.3.1.1.tar.gz (151 kB)\n",
       "\u001b[0m"
      ]
     },
     "metadata": {},
     "output_type": "display_data"
    },
    {
     "data": {
      "text/html": [
       "<pre style=\"white-space:pre;overflow-x:auto;line-height:normal;font-family:Menlo,'DejaVu Sans Mono',consolas,'Courier New',monospace\"><span style=\"color: #808000; text-decoration-color: #808000\">     ━━━━━━━━━━━━━━━━━━━━━━━━━━━━━━━━━━━━━ 152.0/152.0 kB 226.1 MB/s eta 0:00:00\n",
       "</span></pre>\n"
      ],
      "text/plain": [
       "\u001b[33m     ━━━━━━━━━━━━━━━━━━━━━━━━━━━━━━━━━━━━━ 152.0/152.0 kB 226.1 MB/s eta 0:00:00\n",
       "\u001b[0m"
      ]
     },
     "metadata": {},
     "output_type": "display_data"
    },
    {
     "data": {
      "text/html": [
       "<pre style=\"white-space:pre;overflow-x:auto;line-height:normal;font-family:Menlo,'DejaVu Sans Mono',consolas,'Courier New',monospace\"><span style=\"color: #808000; text-decoration-color: #808000\">  Preparing metadata (setup.py): started\n",
       "</span></pre>\n"
      ],
      "text/plain": [
       "\u001b[33m  Preparing metadata (setup.py): started\n",
       "\u001b[0m"
      ]
     },
     "metadata": {},
     "output_type": "display_data"
    },
    {
     "data": {
      "text/html": [
       "<pre style=\"white-space:pre;overflow-x:auto;line-height:normal;font-family:Menlo,'DejaVu Sans Mono',consolas,'Courier New',monospace\"><span style=\"color: #808000; text-decoration-color: #808000\">  Preparing metadata (setup.py): finished with status 'done'\n",
       "</span></pre>\n"
      ],
      "text/plain": [
       "\u001b[33m  Preparing metadata (setup.py): finished with status 'done'\n",
       "\u001b[0m"
      ]
     },
     "metadata": {},
     "output_type": "display_data"
    },
    {
     "data": {
      "text/html": [
       "<pre style=\"white-space:pre;overflow-x:auto;line-height:normal;font-family:Menlo,'DejaVu Sans Mono',consolas,'Courier New',monospace\"><span style=\"color: #808000; text-decoration-color: #808000\">Collecting pydot&lt;2,&gt;=1.2.0\n",
       "</span></pre>\n"
      ],
      "text/plain": [
       "\u001b[33mCollecting pydot<2,>=1.2.0\n",
       "\u001b[0m"
      ]
     },
     "metadata": {},
     "output_type": "display_data"
    },
    {
     "data": {
      "text/html": [
       "<pre style=\"white-space:pre;overflow-x:auto;line-height:normal;font-family:Menlo,'DejaVu Sans Mono',consolas,'Courier New',monospace\"><span style=\"color: #808000; text-decoration-color: #808000\">  Downloading pydot-1.4.2-py2.py3-none-any.whl (21 kB)\n",
       "</span></pre>\n"
      ],
      "text/plain": [
       "\u001b[33m  Downloading pydot-1.4.2-py2.py3-none-any.whl (21 kB)\n",
       "\u001b[0m"
      ]
     },
     "metadata": {},
     "output_type": "display_data"
    },
    {
     "data": {
      "text/html": [
       "<pre style=\"white-space:pre;overflow-x:auto;line-height:normal;font-family:Menlo,'DejaVu Sans Mono',consolas,'Courier New',monospace\"><span style=\"color: #808000; text-decoration-color: #808000\">Collecting httplib2&lt;0.22.0,&gt;=0.8\n",
       "</span></pre>\n"
      ],
      "text/plain": [
       "\u001b[33mCollecting httplib2<0.22.0,>=0.8\n",
       "\u001b[0m"
      ]
     },
     "metadata": {},
     "output_type": "display_data"
    },
    {
     "data": {
      "text/html": [
       "<pre style=\"white-space:pre;overflow-x:auto;line-height:normal;font-family:Menlo,'DejaVu Sans Mono',consolas,'Courier New',monospace\"><span style=\"color: #808000; text-decoration-color: #808000\">  Downloading httplib2-0.21.0-py3-none-any.whl (96 kB)\n",
       "</span></pre>\n"
      ],
      "text/plain": [
       "\u001b[33m  Downloading httplib2-0.21.0-py3-none-any.whl (96 kB)\n",
       "\u001b[0m"
      ]
     },
     "metadata": {},
     "output_type": "display_data"
    },
    {
     "data": {
      "text/html": [
       "<pre style=\"white-space:pre;overflow-x:auto;line-height:normal;font-family:Menlo,'DejaVu Sans Mono',consolas,'Courier New',monospace\"><span style=\"color: #808000; text-decoration-color: #808000\">     ━━━━━━━━━━━━━━━━━━━━━━━━━━━━━━━━━━━━━━━ 96.8/96.8 kB 229.2 MB/s eta 0:00:00\n",
       "</span></pre>\n"
      ],
      "text/plain": [
       "\u001b[33m     ━━━━━━━━━━━━━━━━━━━━━━━━━━━━━━━━━━━━━━━ 96.8/96.8 kB 229.2 MB/s eta 0:00:00\n",
       "\u001b[0m"
      ]
     },
     "metadata": {},
     "output_type": "display_data"
    },
    {
     "data": {
      "text/html": [
       "<pre style=\"white-space:pre;overflow-x:auto;line-height:normal;font-family:Menlo,'DejaVu Sans Mono',consolas,'Courier New',monospace\"><span style=\"color: #808000; text-decoration-color: #808000\">Collecting protobuf&lt;5,&gt;=3.20.3\n",
       "</span></pre>\n"
      ],
      "text/plain": [
       "\u001b[33mCollecting protobuf<5,>=3.20.3\n",
       "\u001b[0m"
      ]
     },
     "metadata": {},
     "output_type": "display_data"
    },
    {
     "data": {
      "text/html": [
       "<pre style=\"white-space:pre;overflow-x:auto;line-height:normal;font-family:Menlo,'DejaVu Sans Mono',consolas,'Courier New',monospace\"><span style=\"color: #808000; text-decoration-color: #808000\">  Downloading protobuf-3.20.3-cp38-cp38-manylinux_2_5_x86_64.manylinux1_x86_64.whl (1.0 MB)\n",
       "</span></pre>\n"
      ],
      "text/plain": [
       "\u001b[33m  Downloading protobuf-3.20.3-cp38-cp38-manylinux_2_5_x86_64.manylinux1_x86_64.whl (1.0 MB)\n",
       "\u001b[0m"
      ]
     },
     "metadata": {},
     "output_type": "display_data"
    },
    {
     "data": {
      "text/html": [
       "<pre style=\"white-space:pre;overflow-x:auto;line-height:normal;font-family:Menlo,'DejaVu Sans Mono',consolas,'Courier New',monospace\"><span style=\"color: #808000; text-decoration-color: #808000\">     ━━━━━━━━━━━━━━━━━━━━━━━━━━━━━━━━━━━━━━━━ 1.0/1.0 MB 287.1 MB/s eta 0:00:00\n",
       "</span></pre>\n"
      ],
      "text/plain": [
       "\u001b[33m     ━━━━━━━━━━━━━━━━━━━━━━━━━━━━━━━━━━━━━━━━ 1.0/1.0 MB 287.1 MB/s eta 0:00:00\n",
       "\u001b[0m"
      ]
     },
     "metadata": {},
     "output_type": "display_data"
    },
    {
     "data": {
      "text/html": [
       "<pre style=\"white-space:pre;overflow-x:auto;line-height:normal;font-family:Menlo,'DejaVu Sans Mono',consolas,'Courier New',monospace\"><span style=\"color: #808000; text-decoration-color: #808000\">Requirement already satisfied: pytz&gt;=2018.3 in /usr/local/lib/python3.8/site-packages (from apache-beam[gcp]&lt;3,&gt;=2.40-&gt;tensorflow-data-validation) (2023.3)\n",
       "</span></pre>\n"
      ],
      "text/plain": [
       "\u001b[33mRequirement already satisfied: pytz>=2018.3 in /usr/local/lib/python3.8/site-packages (from apache-beam[gcp]<3,>=2.40->tensorflow-data-validation) (2023.3)\n",
       "\u001b[0m"
      ]
     },
     "metadata": {},
     "output_type": "display_data"
    },
    {
     "data": {
      "text/html": [
       "<pre style=\"white-space:pre;overflow-x:auto;line-height:normal;font-family:Menlo,'DejaVu Sans Mono',consolas,'Courier New',monospace\"><span style=\"color: #808000; text-decoration-color: #808000\">Collecting fasteners&lt;1.0,&gt;=0.3\n",
       "</span></pre>\n"
      ],
      "text/plain": [
       "\u001b[33mCollecting fasteners<1.0,>=0.3\n",
       "\u001b[0m"
      ]
     },
     "metadata": {},
     "output_type": "display_data"
    },
    {
     "data": {
      "text/html": [
       "<pre style=\"white-space:pre;overflow-x:auto;line-height:normal;font-family:Menlo,'DejaVu Sans Mono',consolas,'Courier New',monospace\"><span style=\"color: #808000; text-decoration-color: #808000\">  Downloading fasteners-0.18-py3-none-any.whl (18 kB)\n",
       "</span></pre>\n"
      ],
      "text/plain": [
       "\u001b[33m  Downloading fasteners-0.18-py3-none-any.whl (18 kB)\n",
       "\u001b[0m"
      ]
     },
     "metadata": {},
     "output_type": "display_data"
    },
    {
     "data": {
      "text/html": [
       "<pre style=\"white-space:pre;overflow-x:auto;line-height:normal;font-family:Menlo,'DejaVu Sans Mono',consolas,'Courier New',monospace\"><span style=\"color: #808000; text-decoration-color: #808000\">Collecting zstandard&lt;1,&gt;=0.18.0\n",
       "</span></pre>\n"
      ],
      "text/plain": [
       "\u001b[33mCollecting zstandard<1,>=0.18.0\n",
       "\u001b[0m"
      ]
     },
     "metadata": {},
     "output_type": "display_data"
    },
    {
     "data": {
      "text/html": [
       "<pre style=\"white-space:pre;overflow-x:auto;line-height:normal;font-family:Menlo,'DejaVu Sans Mono',consolas,'Courier New',monospace\"><span style=\"color: #808000; text-decoration-color: #808000\">  Downloading zstandard-0.21.0-cp38-cp38-manylinux_2_17_x86_64.manylinux2014_x86_64.whl (2.7 MB)\n",
       "</span></pre>\n"
      ],
      "text/plain": [
       "\u001b[33m  Downloading zstandard-0.21.0-cp38-cp38-manylinux_2_17_x86_64.manylinux2014_x86_64.whl (2.7 MB)\n",
       "\u001b[0m"
      ]
     },
     "metadata": {},
     "output_type": "display_data"
    },
    {
     "data": {
      "text/html": [
       "<pre style=\"white-space:pre;overflow-x:auto;line-height:normal;font-family:Menlo,'DejaVu Sans Mono',consolas,'Courier New',monospace\"><span style=\"color: #808000; text-decoration-color: #808000\">     ━━━━━━━━━━━━━━━━━━━━━━━━━━━━━━━━━━━━━━━━ 2.7/2.7 MB 118.6 MB/s eta 0:00:00\n",
       "</span></pre>\n"
      ],
      "text/plain": [
       "\u001b[33m     ━━━━━━━━━━━━━━━━━━━━━━━━━━━━━━━━━━━━━━━━ 2.7/2.7 MB 118.6 MB/s eta 0:00:00\n",
       "\u001b[0m"
      ]
     },
     "metadata": {},
     "output_type": "display_data"
    },
    {
     "data": {
      "text/html": [
       "<pre style=\"white-space:pre;overflow-x:auto;line-height:normal;font-family:Menlo,'DejaVu Sans Mono',consolas,'Courier New',monospace\"><span style=\"color: #808000; text-decoration-color: #808000\">Collecting cloudpickle~=2.2.1\n",
       "</span></pre>\n"
      ],
      "text/plain": [
       "\u001b[33mCollecting cloudpickle~=2.2.1\n",
       "\u001b[0m"
      ]
     },
     "metadata": {},
     "output_type": "display_data"
    },
    {
     "data": {
      "text/html": [
       "<pre style=\"white-space:pre;overflow-x:auto;line-height:normal;font-family:Menlo,'DejaVu Sans Mono',consolas,'Courier New',monospace\"><span style=\"color: #808000; text-decoration-color: #808000\">  Downloading cloudpickle-2.2.1-py3-none-any.whl (25 kB)\n",
       "</span></pre>\n"
      ],
      "text/plain": [
       "\u001b[33m  Downloading cloudpickle-2.2.1-py3-none-any.whl (25 kB)\n",
       "\u001b[0m"
      ]
     },
     "metadata": {},
     "output_type": "display_data"
    },
    {
     "data": {
      "text/html": [
       "<pre style=\"white-space:pre;overflow-x:auto;line-height:normal;font-family:Menlo,'DejaVu Sans Mono',consolas,'Courier New',monospace\"><span style=\"color: #808000; text-decoration-color: #808000\">Requirement already satisfied: typing-extensions&gt;=3.7.0 in /usr/local/lib/python3.8/site-packages (from apache-beam[gcp]&lt;3,&gt;=2.40-&gt;tensorflow-data-validation) (4.5.0)\n",
       "</span></pre>\n"
      ],
      "text/plain": [
       "\u001b[33mRequirement already satisfied: typing-extensions>=3.7.0 in /usr/local/lib/python3.8/site-packages (from apache-beam[gcp]<3,>=2.40->tensorflow-data-validation) (4.5.0)\n",
       "\u001b[0m"
      ]
     },
     "metadata": {},
     "output_type": "display_data"
    },
    {
     "data": {
      "text/html": [
       "<pre style=\"white-space:pre;overflow-x:auto;line-height:normal;font-family:Menlo,'DejaVu Sans Mono',consolas,'Courier New',monospace\"><span style=\"color: #808000; text-decoration-color: #808000\">Collecting orjson&lt;4.0\n",
       "</span></pre>\n"
      ],
      "text/plain": [
       "\u001b[33mCollecting orjson<4.0\n",
       "\u001b[0m"
      ]
     },
     "metadata": {},
     "output_type": "display_data"
    },
    {
     "data": {
      "text/html": [
       "<pre style=\"white-space:pre;overflow-x:auto;line-height:normal;font-family:Menlo,'DejaVu Sans Mono',consolas,'Courier New',monospace\"><span style=\"color: #808000; text-decoration-color: #808000\">  Downloading orjson-3.8.11-cp38-cp38-manylinux_2_28_x86_64.whl (135 kB)\n",
       "</span></pre>\n"
      ],
      "text/plain": [
       "\u001b[33m  Downloading orjson-3.8.11-cp38-cp38-manylinux_2_28_x86_64.whl (135 kB)\n",
       "\u001b[0m"
      ]
     },
     "metadata": {},
     "output_type": "display_data"
    },
    {
     "data": {
      "text/html": [
       "<pre style=\"white-space:pre;overflow-x:auto;line-height:normal;font-family:Menlo,'DejaVu Sans Mono',consolas,'Courier New',monospace\"><span style=\"color: #808000; text-decoration-color: #808000\">     ━━━━━━━━━━━━━━━━━━━━━━━━━━━━━━━━━━━━━ 135.5/135.5 kB 196.4 MB/s eta 0:00:00\n",
       "</span></pre>\n"
      ],
      "text/plain": [
       "\u001b[33m     ━━━━━━━━━━━━━━━━━━━━━━━━━━━━━━━━━━━━━ 135.5/135.5 kB 196.4 MB/s eta 0:00:00\n",
       "\u001b[0m"
      ]
     },
     "metadata": {},
     "output_type": "display_data"
    },
    {
     "data": {
      "text/html": [
       "<pre style=\"white-space:pre;overflow-x:auto;line-height:normal;font-family:Menlo,'DejaVu Sans Mono',consolas,'Courier New',monospace\"><span style=\"color: #808000; text-decoration-color: #808000\">Collecting grpcio!=1.48.0,&lt;2,&gt;=1.33.1\n",
       "</span></pre>\n"
      ],
      "text/plain": [
       "\u001b[33mCollecting grpcio!=1.48.0,<2,>=1.33.1\n",
       "\u001b[0m"
      ]
     },
     "metadata": {},
     "output_type": "display_data"
    },
    {
     "data": {
      "text/html": [
       "<pre style=\"white-space:pre;overflow-x:auto;line-height:normal;font-family:Menlo,'DejaVu Sans Mono',consolas,'Courier New',monospace\"><span style=\"color: #808000; text-decoration-color: #808000\">  Downloading grpcio-1.54.0-cp38-cp38-manylinux_2_17_x86_64.manylinux2014_x86_64.whl (5.1 MB)\n",
       "</span></pre>\n"
      ],
      "text/plain": [
       "\u001b[33m  Downloading grpcio-1.54.0-cp38-cp38-manylinux_2_17_x86_64.manylinux2014_x86_64.whl (5.1 MB)\n",
       "\u001b[0m"
      ]
     },
     "metadata": {},
     "output_type": "display_data"
    },
    {
     "data": {
      "text/html": [
       "<pre style=\"white-space:pre;overflow-x:auto;line-height:normal;font-family:Menlo,'DejaVu Sans Mono',consolas,'Courier New',monospace\"><span style=\"color: #808000; text-decoration-color: #808000\">     ━━━━━━━━━━━━━━━━━━━━━━━━━━━━━━━━━━━━━━━━ 5.1/5.1 MB 203.5 MB/s eta 0:00:00\n",
       "</span></pre>\n"
      ],
      "text/plain": [
       "\u001b[33m     ━━━━━━━━━━━━━━━━━━━━━━━━━━━━━━━━━━━━━━━━ 5.1/5.1 MB 203.5 MB/s eta 0:00:00\n",
       "\u001b[0m"
      ]
     },
     "metadata": {},
     "output_type": "display_data"
    },
    {
     "data": {
      "text/html": [
       "<pre style=\"white-space:pre;overflow-x:auto;line-height:normal;font-family:Menlo,'DejaVu Sans Mono',consolas,'Courier New',monospace\"><span style=\"color: #808000; text-decoration-color: #808000\">Requirement already satisfied: regex&gt;=2020.6.8 in /usr/local/lib/python3.8/site-packages (from apache-beam[gcp]&lt;3,&gt;=2.40-&gt;tensorflow-data-validation) (2023.3.23)\n",
       "</span></pre>\n"
      ],
      "text/plain": [
       "\u001b[33mRequirement already satisfied: regex>=2020.6.8 in /usr/local/lib/python3.8/site-packages (from apache-beam[gcp]<3,>=2.40->tensorflow-data-validation) (2023.3.23)\n",
       "\u001b[0m"
      ]
     },
     "metadata": {},
     "output_type": "display_data"
    },
    {
     "data": {
      "text/html": [
       "<pre style=\"white-space:pre;overflow-x:auto;line-height:normal;font-family:Menlo,'DejaVu Sans Mono',consolas,'Courier New',monospace\"><span style=\"color: #808000; text-decoration-color: #808000\">Collecting crcmod&lt;2.0,&gt;=1.7\n",
       "</span></pre>\n"
      ],
      "text/plain": [
       "\u001b[33mCollecting crcmod<2.0,>=1.7\n",
       "\u001b[0m"
      ]
     },
     "metadata": {},
     "output_type": "display_data"
    },
    {
     "data": {
      "text/html": [
       "<pre style=\"white-space:pre;overflow-x:auto;line-height:normal;font-family:Menlo,'DejaVu Sans Mono',consolas,'Courier New',monospace\"><span style=\"color: #808000; text-decoration-color: #808000\">  Downloading crcmod-1.7.tar.gz (89 kB)\n",
       "</span></pre>\n"
      ],
      "text/plain": [
       "\u001b[33m  Downloading crcmod-1.7.tar.gz (89 kB)\n",
       "\u001b[0m"
      ]
     },
     "metadata": {},
     "output_type": "display_data"
    },
    {
     "data": {
      "text/html": [
       "<pre style=\"white-space:pre;overflow-x:auto;line-height:normal;font-family:Menlo,'DejaVu Sans Mono',consolas,'Courier New',monospace\"><span style=\"color: #808000; text-decoration-color: #808000\">     ━━━━━━━━━━━━━━━━━━━━━━━━━━━━━━━━━━━━━━━ 89.7/89.7 kB 257.1 MB/s eta 0:00:00\n",
       "</span></pre>\n"
      ],
      "text/plain": [
       "\u001b[33m     ━━━━━━━━━━━━━━━━━━━━━━━━━━━━━━━━━━━━━━━ 89.7/89.7 kB 257.1 MB/s eta 0:00:00\n",
       "\u001b[0m"
      ]
     },
     "metadata": {},
     "output_type": "display_data"
    },
    {
     "data": {
      "text/html": [
       "<pre style=\"white-space:pre;overflow-x:auto;line-height:normal;font-family:Menlo,'DejaVu Sans Mono',consolas,'Courier New',monospace\"><span style=\"color: #808000; text-decoration-color: #808000\">  Preparing metadata (setup.py): started\n",
       "</span></pre>\n"
      ],
      "text/plain": [
       "\u001b[33m  Preparing metadata (setup.py): started\n",
       "\u001b[0m"
      ]
     },
     "metadata": {},
     "output_type": "display_data"
    },
    {
     "data": {
      "text/html": [
       "<pre style=\"white-space:pre;overflow-x:auto;line-height:normal;font-family:Menlo,'DejaVu Sans Mono',consolas,'Courier New',monospace\"><span style=\"color: #808000; text-decoration-color: #808000\">  Preparing metadata (setup.py): finished with status 'done'\n",
       "</span></pre>\n"
      ],
      "text/plain": [
       "\u001b[33m  Preparing metadata (setup.py): finished with status 'done'\n",
       "\u001b[0m"
      ]
     },
     "metadata": {},
     "output_type": "display_data"
    },
    {
     "data": {
      "text/html": [
       "<pre style=\"white-space:pre;overflow-x:auto;line-height:normal;font-family:Menlo,'DejaVu Sans Mono',consolas,'Courier New',monospace\"><span style=\"color: #808000; text-decoration-color: #808000\">Collecting google-cloud-vision&lt;4,&gt;=2\n",
       "</span></pre>\n"
      ],
      "text/plain": [
       "\u001b[33mCollecting google-cloud-vision<4,>=2\n",
       "\u001b[0m"
      ]
     },
     "metadata": {},
     "output_type": "display_data"
    },
    {
     "data": {
      "text/html": [
       "<pre style=\"white-space:pre;overflow-x:auto;line-height:normal;font-family:Menlo,'DejaVu Sans Mono',consolas,'Courier New',monospace\"><span style=\"color: #808000; text-decoration-color: #808000\">  Downloading google_cloud_vision-3.4.1-py2.py3-none-any.whl (444 kB)\n",
       "</span></pre>\n"
      ],
      "text/plain": [
       "\u001b[33m  Downloading google_cloud_vision-3.4.1-py2.py3-none-any.whl (444 kB)\n",
       "\u001b[0m"
      ]
     },
     "metadata": {},
     "output_type": "display_data"
    },
    {
     "data": {
      "text/html": [
       "<pre style=\"white-space:pre;overflow-x:auto;line-height:normal;font-family:Menlo,'DejaVu Sans Mono',consolas,'Courier New',monospace\"><span style=\"color: #808000; text-decoration-color: #808000\">     ━━━━━━━━━━━━━━━━━━━━━━━━━━━━━━━━━━━━━ 444.3/444.3 kB 290.2 MB/s eta 0:00:00\n",
       "</span></pre>\n"
      ],
      "text/plain": [
       "\u001b[33m     ━━━━━━━━━━━━━━━━━━━━━━━━━━━━━━━━━━━━━ 444.3/444.3 kB 290.2 MB/s eta 0:00:00\n",
       "\u001b[0m"
      ]
     },
     "metadata": {},
     "output_type": "display_data"
    },
    {
     "data": {
      "text/html": [
       "<pre style=\"white-space:pre;overflow-x:auto;line-height:normal;font-family:Menlo,'DejaVu Sans Mono',consolas,'Courier New',monospace\"><span style=\"color: #808000; text-decoration-color: #808000\">Collecting cachetools&lt;5,&gt;=3.1.0\n",
       "</span></pre>\n"
      ],
      "text/plain": [
       "\u001b[33mCollecting cachetools<5,>=3.1.0\n",
       "\u001b[0m"
      ]
     },
     "metadata": {},
     "output_type": "display_data"
    },
    {
     "data": {
      "text/html": [
       "<pre style=\"white-space:pre;overflow-x:auto;line-height:normal;font-family:Menlo,'DejaVu Sans Mono',consolas,'Courier New',monospace\"><span style=\"color: #808000; text-decoration-color: #808000\">  Downloading cachetools-4.2.4-py3-none-any.whl (10 kB)\n",
       "</span></pre>\n"
      ],
      "text/plain": [
       "\u001b[33m  Downloading cachetools-4.2.4-py3-none-any.whl (10 kB)\n",
       "\u001b[0m"
      ]
     },
     "metadata": {},
     "output_type": "display_data"
    },
    {
     "data": {
      "text/html": [
       "<pre style=\"white-space:pre;overflow-x:auto;line-height:normal;font-family:Menlo,'DejaVu Sans Mono',consolas,'Courier New',monospace\"><span style=\"color: #808000; text-decoration-color: #808000\">Collecting google-cloud-datastore&lt;2,&gt;=1.8.0\n",
       "</span></pre>\n"
      ],
      "text/plain": [
       "\u001b[33mCollecting google-cloud-datastore<2,>=1.8.0\n",
       "\u001b[0m"
      ]
     },
     "metadata": {},
     "output_type": "display_data"
    },
    {
     "data": {
      "text/html": [
       "<pre style=\"white-space:pre;overflow-x:auto;line-height:normal;font-family:Menlo,'DejaVu Sans Mono',consolas,'Courier New',monospace\"><span style=\"color: #808000; text-decoration-color: #808000\">  Downloading google_cloud_datastore-1.15.5-py2.py3-none-any.whl (134 kB)\n",
       "</span></pre>\n"
      ],
      "text/plain": [
       "\u001b[33m  Downloading google_cloud_datastore-1.15.5-py2.py3-none-any.whl (134 kB)\n",
       "\u001b[0m"
      ]
     },
     "metadata": {},
     "output_type": "display_data"
    },
    {
     "data": {
      "text/html": [
       "<pre style=\"white-space:pre;overflow-x:auto;line-height:normal;font-family:Menlo,'DejaVu Sans Mono',consolas,'Courier New',monospace\"><span style=\"color: #808000; text-decoration-color: #808000\">     ━━━━━━━━━━━━━━━━━━━━━━━━━━━━━━━━━━━━━ 134.2/134.2 kB 267.8 MB/s eta 0:00:00\n",
       "</span></pre>\n"
      ],
      "text/plain": [
       "\u001b[33m     ━━━━━━━━━━━━━━━━━━━━━━━━━━━━━━━━━━━━━ 134.2/134.2 kB 267.8 MB/s eta 0:00:00\n",
       "\u001b[0m"
      ]
     },
     "metadata": {},
     "output_type": "display_data"
    },
    {
     "data": {
      "text/html": [
       "<pre style=\"white-space:pre;overflow-x:auto;line-height:normal;font-family:Menlo,'DejaVu Sans Mono',consolas,'Courier New',monospace\"><span style=\"color: #808000; text-decoration-color: #808000\">Collecting google-auth&lt;3,&gt;=1.18.0\n",
       "</span></pre>\n"
      ],
      "text/plain": [
       "\u001b[33mCollecting google-auth<3,>=1.18.0\n",
       "\u001b[0m"
      ]
     },
     "metadata": {},
     "output_type": "display_data"
    },
    {
     "data": {
      "text/html": [
       "<pre style=\"white-space:pre;overflow-x:auto;line-height:normal;font-family:Menlo,'DejaVu Sans Mono',consolas,'Courier New',monospace\"><span style=\"color: #808000; text-decoration-color: #808000\">  Downloading google_auth-2.17.3-py2.py3-none-any.whl (178 kB)\n",
       "</span></pre>\n"
      ],
      "text/plain": [
       "\u001b[33m  Downloading google_auth-2.17.3-py2.py3-none-any.whl (178 kB)\n",
       "\u001b[0m"
      ]
     },
     "metadata": {},
     "output_type": "display_data"
    },
    {
     "data": {
      "text/html": [
       "<pre style=\"white-space:pre;overflow-x:auto;line-height:normal;font-family:Menlo,'DejaVu Sans Mono',consolas,'Courier New',monospace\"><span style=\"color: #808000; text-decoration-color: #808000\">     ━━━━━━━━━━━━━━━━━━━━━━━━━━━━━━━━━━━━━ 178.2/178.2 kB 271.8 MB/s eta 0:00:00\n",
       "</span></pre>\n"
      ],
      "text/plain": [
       "\u001b[33m     ━━━━━━━━━━━━━━━━━━━━━━━━━━━━━━━━━━━━━ 178.2/178.2 kB 271.8 MB/s eta 0:00:00\n",
       "\u001b[0m"
      ]
     },
     "metadata": {},
     "output_type": "display_data"
    },
    {
     "data": {
      "text/html": [
       "<pre style=\"white-space:pre;overflow-x:auto;line-height:normal;font-family:Menlo,'DejaVu Sans Mono',consolas,'Courier New',monospace\"><span style=\"color: #808000; text-decoration-color: #808000\">Collecting google-cloud-core&lt;3,&gt;=0.28.1\n",
       "</span></pre>\n"
      ],
      "text/plain": [
       "\u001b[33mCollecting google-cloud-core<3,>=0.28.1\n",
       "\u001b[0m"
      ]
     },
     "metadata": {},
     "output_type": "display_data"
    },
    {
     "data": {
      "text/html": [
       "<pre style=\"white-space:pre;overflow-x:auto;line-height:normal;font-family:Menlo,'DejaVu Sans Mono',consolas,'Courier New',monospace\"><span style=\"color: #808000; text-decoration-color: #808000\">  Downloading google_cloud_core-2.3.2-py2.py3-none-any.whl (29 kB)\n",
       "</span></pre>\n"
      ],
      "text/plain": [
       "\u001b[33m  Downloading google_cloud_core-2.3.2-py2.py3-none-any.whl (29 kB)\n",
       "\u001b[0m"
      ]
     },
     "metadata": {},
     "output_type": "display_data"
    },
    {
     "data": {
      "text/html": [
       "<pre style=\"white-space:pre;overflow-x:auto;line-height:normal;font-family:Menlo,'DejaVu Sans Mono',consolas,'Courier New',monospace\"><span style=\"color: #808000; text-decoration-color: #808000\">Collecting google-auth-httplib2&lt;0.2.0,&gt;=0.1.0\n",
       "</span></pre>\n"
      ],
      "text/plain": [
       "\u001b[33mCollecting google-auth-httplib2<0.2.0,>=0.1.0\n",
       "\u001b[0m"
      ]
     },
     "metadata": {},
     "output_type": "display_data"
    },
    {
     "data": {
      "text/html": [
       "<pre style=\"white-space:pre;overflow-x:auto;line-height:normal;font-family:Menlo,'DejaVu Sans Mono',consolas,'Courier New',monospace\"><span style=\"color: #808000; text-decoration-color: #808000\">  Downloading google_auth_httplib2-0.1.0-py2.py3-none-any.whl (9.3 kB)\n",
       "</span></pre>\n"
      ],
      "text/plain": [
       "\u001b[33m  Downloading google_auth_httplib2-0.1.0-py2.py3-none-any.whl (9.3 kB)\n",
       "\u001b[0m"
      ]
     },
     "metadata": {},
     "output_type": "display_data"
    },
    {
     "data": {
      "text/html": [
       "<pre style=\"white-space:pre;overflow-x:auto;line-height:normal;font-family:Menlo,'DejaVu Sans Mono',consolas,'Courier New',monospace\"><span style=\"color: #808000; text-decoration-color: #808000\">Collecting google-cloud-bigtable&lt;2,&gt;=0.31.1\n",
       "</span></pre>\n"
      ],
      "text/plain": [
       "\u001b[33mCollecting google-cloud-bigtable<2,>=0.31.1\n",
       "\u001b[0m"
      ]
     },
     "metadata": {},
     "output_type": "display_data"
    },
    {
     "data": {
      "text/html": [
       "<pre style=\"white-space:pre;overflow-x:auto;line-height:normal;font-family:Menlo,'DejaVu Sans Mono',consolas,'Courier New',monospace\"><span style=\"color: #808000; text-decoration-color: #808000\">  Downloading google_cloud_bigtable-1.7.3-py2.py3-none-any.whl (268 kB)\n",
       "</span></pre>\n"
      ],
      "text/plain": [
       "\u001b[33m  Downloading google_cloud_bigtable-1.7.3-py2.py3-none-any.whl (268 kB)\n",
       "\u001b[0m"
      ]
     },
     "metadata": {},
     "output_type": "display_data"
    },
    {
     "data": {
      "text/html": [
       "<pre style=\"white-space:pre;overflow-x:auto;line-height:normal;font-family:Menlo,'DejaVu Sans Mono',consolas,'Courier New',monospace\"><span style=\"color: #808000; text-decoration-color: #808000\">     ━━━━━━━━━━━━━━━━━━━━━━━━━━━━━━━━━━━━━ 268.7/268.7 kB 287.8 MB/s eta 0:00:00\n",
       "</span></pre>\n"
      ],
      "text/plain": [
       "\u001b[33m     ━━━━━━━━━━━━━━━━━━━━━━━━━━━━━━━━━━━━━ 268.7/268.7 kB 287.8 MB/s eta 0:00:00\n",
       "\u001b[0m"
      ]
     },
     "metadata": {},
     "output_type": "display_data"
    },
    {
     "data": {
      "text/html": [
       "<pre style=\"white-space:pre;overflow-x:auto;line-height:normal;font-family:Menlo,'DejaVu Sans Mono',consolas,'Courier New',monospace\"><span style=\"color: #808000; text-decoration-color: #808000\">Collecting google-cloud-language&lt;2,&gt;=1.3.0\n",
       "</span></pre>\n"
      ],
      "text/plain": [
       "\u001b[33mCollecting google-cloud-language<2,>=1.3.0\n",
       "\u001b[0m"
      ]
     },
     "metadata": {},
     "output_type": "display_data"
    },
    {
     "data": {
      "text/html": [
       "<pre style=\"white-space:pre;overflow-x:auto;line-height:normal;font-family:Menlo,'DejaVu Sans Mono',consolas,'Courier New',monospace\"><span style=\"color: #808000; text-decoration-color: #808000\">  Downloading google_cloud_language-1.3.2-py2.py3-none-any.whl (83 kB)\n",
       "</span></pre>\n"
      ],
      "text/plain": [
       "\u001b[33m  Downloading google_cloud_language-1.3.2-py2.py3-none-any.whl (83 kB)\n",
       "\u001b[0m"
      ]
     },
     "metadata": {},
     "output_type": "display_data"
    },
    {
     "data": {
      "text/html": [
       "<pre style=\"white-space:pre;overflow-x:auto;line-height:normal;font-family:Menlo,'DejaVu Sans Mono',consolas,'Courier New',monospace\"><span style=\"color: #808000; text-decoration-color: #808000\">     ━━━━━━━━━━━━━━━━━━━━━━━━━━━━━━━━━━━━━━━ 83.6/83.6 kB 242.3 MB/s eta 0:00:00\n",
       "</span></pre>\n"
      ],
      "text/plain": [
       "\u001b[33m     ━━━━━━━━━━━━━━━━━━━━━━━━━━━━━━━━━━━━━━━ 83.6/83.6 kB 242.3 MB/s eta 0:00:00\n",
       "\u001b[0m"
      ]
     },
     "metadata": {},
     "output_type": "display_data"
    },
    {
     "data": {
      "text/html": [
       "<pre style=\"white-space:pre;overflow-x:auto;line-height:normal;font-family:Menlo,'DejaVu Sans Mono',consolas,'Courier New',monospace\"><span style=\"color: #808000; text-decoration-color: #808000\">Collecting google-apitools&lt;0.5.32,&gt;=0.5.31\n",
       "</span></pre>\n"
      ],
      "text/plain": [
       "\u001b[33mCollecting google-apitools<0.5.32,>=0.5.31\n",
       "\u001b[0m"
      ]
     },
     "metadata": {},
     "output_type": "display_data"
    },
    {
     "data": {
      "text/html": [
       "<pre style=\"white-space:pre;overflow-x:auto;line-height:normal;font-family:Menlo,'DejaVu Sans Mono',consolas,'Courier New',monospace\"><span style=\"color: #808000; text-decoration-color: #808000\">  Downloading google-apitools-0.5.31.tar.gz (173 kB)\n",
       "</span></pre>\n"
      ],
      "text/plain": [
       "\u001b[33m  Downloading google-apitools-0.5.31.tar.gz (173 kB)\n",
       "\u001b[0m"
      ]
     },
     "metadata": {},
     "output_type": "display_data"
    },
    {
     "data": {
      "text/html": [
       "<pre style=\"white-space:pre;overflow-x:auto;line-height:normal;font-family:Menlo,'DejaVu Sans Mono',consolas,'Courier New',monospace\"><span style=\"color: #808000; text-decoration-color: #808000\">     ━━━━━━━━━━━━━━━━━━━━━━━━━━━━━━━━━━━━━ 173.5/173.5 kB 279.9 MB/s eta 0:00:00\n",
       "</span></pre>\n"
      ],
      "text/plain": [
       "\u001b[33m     ━━━━━━━━━━━━━━━━━━━━━━━━━━━━━━━━━━━━━ 173.5/173.5 kB 279.9 MB/s eta 0:00:00\n",
       "\u001b[0m"
      ]
     },
     "metadata": {},
     "output_type": "display_data"
    },
    {
     "data": {
      "text/html": [
       "<pre style=\"white-space:pre;overflow-x:auto;line-height:normal;font-family:Menlo,'DejaVu Sans Mono',consolas,'Courier New',monospace\"><span style=\"color: #808000; text-decoration-color: #808000\">  Preparing metadata (setup.py): started\n",
       "</span></pre>\n"
      ],
      "text/plain": [
       "\u001b[33m  Preparing metadata (setup.py): started\n",
       "\u001b[0m"
      ]
     },
     "metadata": {},
     "output_type": "display_data"
    },
    {
     "data": {
      "text/html": [
       "<pre style=\"white-space:pre;overflow-x:auto;line-height:normal;font-family:Menlo,'DejaVu Sans Mono',consolas,'Courier New',monospace\"><span style=\"color: #808000; text-decoration-color: #808000\">  Preparing metadata (setup.py): finished with status 'done'\n",
       "</span></pre>\n"
      ],
      "text/plain": [
       "\u001b[33m  Preparing metadata (setup.py): finished with status 'done'\n",
       "\u001b[0m"
      ]
     },
     "metadata": {},
     "output_type": "display_data"
    },
    {
     "data": {
      "text/html": [
       "<pre style=\"white-space:pre;overflow-x:auto;line-height:normal;font-family:Menlo,'DejaVu Sans Mono',consolas,'Courier New',monospace\"><span style=\"color: #808000; text-decoration-color: #808000\">Collecting google-cloud-bigquery-storage&lt;2.17,&gt;=2.6.3\n",
       "</span></pre>\n"
      ],
      "text/plain": [
       "\u001b[33mCollecting google-cloud-bigquery-storage<2.17,>=2.6.3\n",
       "\u001b[0m"
      ]
     },
     "metadata": {},
     "output_type": "display_data"
    },
    {
     "data": {
      "text/html": [
       "<pre style=\"white-space:pre;overflow-x:auto;line-height:normal;font-family:Menlo,'DejaVu Sans Mono',consolas,'Courier New',monospace\"><span style=\"color: #808000; text-decoration-color: #808000\">Collecting google-cloud-bigquery&lt;4,&gt;=1.6.0\n",
       "</span></pre>\n"
      ],
      "text/plain": [
       "\u001b[33mCollecting google-cloud-bigquery<4,>=1.6.0\n",
       "\u001b[0m"
      ]
     },
     "metadata": {},
     "output_type": "display_data"
    },
    {
     "data": {
      "text/html": [
       "<pre style=\"white-space:pre;overflow-x:auto;line-height:normal;font-family:Menlo,'DejaVu Sans Mono',consolas,'Courier New',monospace\"><span style=\"color: #808000; text-decoration-color: #808000\">  Downloading google_cloud_bigquery-3.10.0-py2.py3-none-any.whl (218 kB)\n",
       "</span></pre>\n"
      ],
      "text/plain": [
       "\u001b[33m  Downloading google_cloud_bigquery-3.10.0-py2.py3-none-any.whl (218 kB)\n",
       "\u001b[0m"
      ]
     },
     "metadata": {},
     "output_type": "display_data"
    },
    {
     "data": {
      "text/html": [
       "<pre style=\"white-space:pre;overflow-x:auto;line-height:normal;font-family:Menlo,'DejaVu Sans Mono',consolas,'Courier New',monospace\"><span style=\"color: #808000; text-decoration-color: #808000\">     ━━━━━━━━━━━━━━━━━━━━━━━━━━━━━━━━━━━━━ 218.4/218.4 kB 255.3 MB/s eta 0:00:00\n",
       "</span></pre>\n"
      ],
      "text/plain": [
       "\u001b[33m     ━━━━━━━━━━━━━━━━━━━━━━━━━━━━━━━━━━━━━ 218.4/218.4 kB 255.3 MB/s eta 0:00:00\n",
       "\u001b[0m"
      ]
     },
     "metadata": {},
     "output_type": "display_data"
    },
    {
     "data": {
      "text/html": [
       "<pre style=\"white-space:pre;overflow-x:auto;line-height:normal;font-family:Menlo,'DejaVu Sans Mono',consolas,'Courier New',monospace\"><span style=\"color: #808000; text-decoration-color: #808000\">Collecting google-cloud-pubsub&lt;3,&gt;=2.1.0\n",
       "</span></pre>\n"
      ],
      "text/plain": [
       "\u001b[33mCollecting google-cloud-pubsub<3,>=2.1.0\n",
       "\u001b[0m"
      ]
     },
     "metadata": {},
     "output_type": "display_data"
    },
    {
     "data": {
      "text/html": [
       "<pre style=\"white-space:pre;overflow-x:auto;line-height:normal;font-family:Menlo,'DejaVu Sans Mono',consolas,'Courier New',monospace\"><span style=\"color: #808000; text-decoration-color: #808000\">  Downloading google_cloud_pubsub-2.16.0-py2.py3-none-any.whl (263 kB)\n",
       "</span></pre>\n"
      ],
      "text/plain": [
       "\u001b[33m  Downloading google_cloud_pubsub-2.16.0-py2.py3-none-any.whl (263 kB)\n",
       "\u001b[0m"
      ]
     },
     "metadata": {},
     "output_type": "display_data"
    },
    {
     "data": {
      "text/html": [
       "<pre style=\"white-space:pre;overflow-x:auto;line-height:normal;font-family:Menlo,'DejaVu Sans Mono',consolas,'Courier New',monospace\"><span style=\"color: #808000; text-decoration-color: #808000\">     ━━━━━━━━━━━━━━━━━━━━━━━━━━━━━━━━━━━━━ 263.9/263.9 kB 266.4 MB/s eta 0:00:00\n",
       "</span></pre>\n"
      ],
      "text/plain": [
       "\u001b[33m     ━━━━━━━━━━━━━━━━━━━━━━━━━━━━━━━━━━━━━ 263.9/263.9 kB 266.4 MB/s eta 0:00:00\n",
       "\u001b[0m"
      ]
     },
     "metadata": {},
     "output_type": "display_data"
    },
    {
     "data": {
      "text/html": [
       "<pre style=\"white-space:pre;overflow-x:auto;line-height:normal;font-family:Menlo,'DejaVu Sans Mono',consolas,'Courier New',monospace\"><span style=\"color: #808000; text-decoration-color: #808000\">Collecting google-cloud-videointelligence&lt;2,&gt;=1.8.0\n",
       "</span></pre>\n"
      ],
      "text/plain": [
       "\u001b[33mCollecting google-cloud-videointelligence<2,>=1.8.0\n",
       "\u001b[0m"
      ]
     },
     "metadata": {},
     "output_type": "display_data"
    },
    {
     "data": {
      "text/html": [
       "<pre style=\"white-space:pre;overflow-x:auto;line-height:normal;font-family:Menlo,'DejaVu Sans Mono',consolas,'Courier New',monospace\"><span style=\"color: #808000; text-decoration-color: #808000\">  Downloading google_cloud_videointelligence-1.16.3-py2.py3-none-any.whl (183 kB)\n",
       "</span></pre>\n"
      ],
      "text/plain": [
       "\u001b[33m  Downloading google_cloud_videointelligence-1.16.3-py2.py3-none-any.whl (183 kB)\n",
       "\u001b[0m"
      ]
     },
     "metadata": {},
     "output_type": "display_data"
    },
    {
     "data": {
      "text/html": [
       "<pre style=\"white-space:pre;overflow-x:auto;line-height:normal;font-family:Menlo,'DejaVu Sans Mono',consolas,'Courier New',monospace\"><span style=\"color: #808000; text-decoration-color: #808000\">     ━━━━━━━━━━━━━━━━━━━━━━━━━━━━━━━━━━━━━ 183.9/183.9 kB 263.6 MB/s eta 0:00:00\n",
       "</span></pre>\n"
      ],
      "text/plain": [
       "\u001b[33m     ━━━━━━━━━━━━━━━━━━━━━━━━━━━━━━━━━━━━━ 183.9/183.9 kB 263.6 MB/s eta 0:00:00\n",
       "\u001b[0m"
      ]
     },
     "metadata": {},
     "output_type": "display_data"
    },
    {
     "data": {
      "text/html": [
       "<pre style=\"white-space:pre;overflow-x:auto;line-height:normal;font-family:Menlo,'DejaVu Sans Mono',consolas,'Courier New',monospace\"><span style=\"color: #808000; text-decoration-color: #808000\">Collecting google-cloud-spanner&lt;4,&gt;=3.0.0\n",
       "</span></pre>\n"
      ],
      "text/plain": [
       "\u001b[33mCollecting google-cloud-spanner<4,>=3.0.0\n",
       "\u001b[0m"
      ]
     },
     "metadata": {},
     "output_type": "display_data"
    },
    {
     "data": {
      "text/html": [
       "<pre style=\"white-space:pre;overflow-x:auto;line-height:normal;font-family:Menlo,'DejaVu Sans Mono',consolas,'Courier New',monospace\"><span style=\"color: #808000; text-decoration-color: #808000\">  Downloading google_cloud_spanner-3.32.0-py2.py3-none-any.whl (327 kB)\n",
       "</span></pre>\n"
      ],
      "text/plain": [
       "\u001b[33m  Downloading google_cloud_spanner-3.32.0-py2.py3-none-any.whl (327 kB)\n",
       "\u001b[0m"
      ]
     },
     "metadata": {},
     "output_type": "display_data"
    },
    {
     "data": {
      "text/html": [
       "<pre style=\"white-space:pre;overflow-x:auto;line-height:normal;font-family:Menlo,'DejaVu Sans Mono',consolas,'Courier New',monospace\"><span style=\"color: #808000; text-decoration-color: #808000\">     ━━━━━━━━━━━━━━━━━━━━━━━━━━━━━━━━━━━━━ 327.7/327.7 kB 270.0 MB/s eta 0:00:00\n",
       "</span></pre>\n"
      ],
      "text/plain": [
       "\u001b[33m     ━━━━━━━━━━━━━━━━━━━━━━━━━━━━━━━━━━━━━ 327.7/327.7 kB 270.0 MB/s eta 0:00:00\n",
       "\u001b[0m"
      ]
     },
     "metadata": {},
     "output_type": "display_data"
    },
    {
     "data": {
      "text/html": [
       "<pre style=\"white-space:pre;overflow-x:auto;line-height:normal;font-family:Menlo,'DejaVu Sans Mono',consolas,'Courier New',monospace\"><span style=\"color: #808000; text-decoration-color: #808000\">Collecting google-cloud-recommendations-ai&lt;0.8.0,&gt;=0.1.0\n",
       "</span></pre>\n"
      ],
      "text/plain": [
       "\u001b[33mCollecting google-cloud-recommendations-ai<0.8.0,>=0.1.0\n",
       "\u001b[0m"
      ]
     },
     "metadata": {},
     "output_type": "display_data"
    },
    {
     "data": {
      "text/html": [
       "<pre style=\"white-space:pre;overflow-x:auto;line-height:normal;font-family:Menlo,'DejaVu Sans Mono',consolas,'Courier New',monospace\"><span style=\"color: #808000; text-decoration-color: #808000\">  Downloading google_cloud_recommendations_ai-0.7.1-py2.py3-none-any.whl (148 kB)\n",
       "</span></pre>\n"
      ],
      "text/plain": [
       "\u001b[33m  Downloading google_cloud_recommendations_ai-0.7.1-py2.py3-none-any.whl (148 kB)\n",
       "\u001b[0m"
      ]
     },
     "metadata": {},
     "output_type": "display_data"
    },
    {
     "data": {
      "text/html": [
       "<pre style=\"white-space:pre;overflow-x:auto;line-height:normal;font-family:Menlo,'DejaVu Sans Mono',consolas,'Courier New',monospace\"><span style=\"color: #808000; text-decoration-color: #808000\">     ━━━━━━━━━━━━━━━━━━━━━━━━━━━━━━━━━━━━━ 148.2/148.2 kB 262.7 MB/s eta 0:00:00\n",
       "</span></pre>\n"
      ],
      "text/plain": [
       "\u001b[33m     ━━━━━━━━━━━━━━━━━━━━━━━━━━━━━━━━━━━━━ 148.2/148.2 kB 262.7 MB/s eta 0:00:00\n",
       "\u001b[0m"
      ]
     },
     "metadata": {},
     "output_type": "display_data"
    },
    {
     "data": {
      "text/html": [
       "<pre style=\"white-space:pre;overflow-x:auto;line-height:normal;font-family:Menlo,'DejaVu Sans Mono',consolas,'Courier New',monospace\"><span style=\"color: #808000; text-decoration-color: #808000\">Collecting google-cloud-pubsublite&lt;2,&gt;=1.2.0\n",
       "</span></pre>\n"
      ],
      "text/plain": [
       "\u001b[33mCollecting google-cloud-pubsublite<2,>=1.2.0\n",
       "\u001b[0m"
      ]
     },
     "metadata": {},
     "output_type": "display_data"
    },
    {
     "data": {
      "text/html": [
       "<pre style=\"white-space:pre;overflow-x:auto;line-height:normal;font-family:Menlo,'DejaVu Sans Mono',consolas,'Courier New',monospace\"><span style=\"color: #808000; text-decoration-color: #808000\">  Downloading google_cloud_pubsublite-1.8.1-py2.py3-none-any.whl (288 kB)\n",
       "</span></pre>\n"
      ],
      "text/plain": [
       "\u001b[33m  Downloading google_cloud_pubsublite-1.8.1-py2.py3-none-any.whl (288 kB)\n",
       "\u001b[0m"
      ]
     },
     "metadata": {},
     "output_type": "display_data"
    },
    {
     "data": {
      "text/html": [
       "<pre style=\"white-space:pre;overflow-x:auto;line-height:normal;font-family:Menlo,'DejaVu Sans Mono',consolas,'Courier New',monospace\"><span style=\"color: #808000; text-decoration-color: #808000\">     ━━━━━━━━━━━━━━━━━━━━━━━━━━━━━━━━━━━━━ 288.1/288.1 kB 267.6 MB/s eta 0:00:00\n",
       "</span></pre>\n"
      ],
      "text/plain": [
       "\u001b[33m     ━━━━━━━━━━━━━━━━━━━━━━━━━━━━━━━━━━━━━ 288.1/288.1 kB 267.6 MB/s eta 0:00:00\n",
       "\u001b[0m"
      ]
     },
     "metadata": {},
     "output_type": "display_data"
    },
    {
     "data": {
      "text/html": [
       "<pre style=\"white-space:pre;overflow-x:auto;line-height:normal;font-family:Menlo,'DejaVu Sans Mono',consolas,'Courier New',monospace\"><span style=\"color: #808000; text-decoration-color: #808000\">Collecting google-cloud-dlp&lt;4,&gt;=3.0.0\n",
       "</span></pre>\n"
      ],
      "text/plain": [
       "\u001b[33mCollecting google-cloud-dlp<4,>=3.0.0\n",
       "\u001b[0m"
      ]
     },
     "metadata": {},
     "output_type": "display_data"
    },
    {
     "data": {
      "text/html": [
       "<pre style=\"white-space:pre;overflow-x:auto;line-height:normal;font-family:Menlo,'DejaVu Sans Mono',consolas,'Courier New',monospace\"><span style=\"color: #808000; text-decoration-color: #808000\">  Downloading google_cloud_dlp-3.12.1-py2.py3-none-any.whl (143 kB)\n",
       "</span></pre>\n"
      ],
      "text/plain": [
       "\u001b[33m  Downloading google_cloud_dlp-3.12.1-py2.py3-none-any.whl (143 kB)\n",
       "\u001b[0m"
      ]
     },
     "metadata": {},
     "output_type": "display_data"
    },
    {
     "data": {
      "text/html": [
       "<pre style=\"white-space:pre;overflow-x:auto;line-height:normal;font-family:Menlo,'DejaVu Sans Mono',consolas,'Courier New',monospace\"><span style=\"color: #808000; text-decoration-color: #808000\">     ━━━━━━━━━━━━━━━━━━━━━━━━━━━━━━━━━━━━━ 143.4/143.4 kB 260.6 MB/s eta 0:00:00\n",
       "</span></pre>\n"
      ],
      "text/plain": [
       "\u001b[33m     ━━━━━━━━━━━━━━━━━━━━━━━━━━━━━━━━━━━━━ 143.4/143.4 kB 260.6 MB/s eta 0:00:00\n",
       "\u001b[0m"
      ]
     },
     "metadata": {},
     "output_type": "display_data"
    },
    {
     "data": {
      "text/html": [
       "<pre style=\"white-space:pre;overflow-x:auto;line-height:normal;font-family:Menlo,'DejaVu Sans Mono',consolas,'Courier New',monospace\"><span style=\"color: #808000; text-decoration-color: #808000\">  Downloading termcolor-2.3.0-py3-none-any.whl (6.9 kB)\n",
       "</span></pre>\n"
      ],
      "text/plain": [
       "\u001b[33m  Downloading termcolor-2.3.0-py3-none-any.whl (6.9 kB)\n",
       "\u001b[0m"
      ]
     },
     "metadata": {},
     "output_type": "display_data"
    },
    {
     "data": {
      "text/html": [
       "<pre style=\"white-space:pre;overflow-x:auto;line-height:normal;font-family:Menlo,'DejaVu Sans Mono',consolas,'Courier New',monospace\"><span style=\"color: #808000; text-decoration-color: #808000\">Collecting google-pasta&gt;=0.1.1\n",
       "</span></pre>\n"
      ],
      "text/plain": [
       "\u001b[33mCollecting google-pasta>=0.1.1\n",
       "\u001b[0m"
      ]
     },
     "metadata": {},
     "output_type": "display_data"
    },
    {
     "data": {
      "text/html": [
       "<pre style=\"white-space:pre;overflow-x:auto;line-height:normal;font-family:Menlo,'DejaVu Sans Mono',consolas,'Courier New',monospace\"><span style=\"color: #808000; text-decoration-color: #808000\">  Downloading google_pasta-0.2.0-py3-none-any.whl (57 kB)\n",
       "</span></pre>\n"
      ],
      "text/plain": [
       "\u001b[33m  Downloading google_pasta-0.2.0-py3-none-any.whl (57 kB)\n",
       "\u001b[0m"
      ]
     },
     "metadata": {},
     "output_type": "display_data"
    },
    {
     "data": {
      "text/html": [
       "<pre style=\"white-space:pre;overflow-x:auto;line-height:normal;font-family:Menlo,'DejaVu Sans Mono',consolas,'Courier New',monospace\"><span style=\"color: #808000; text-decoration-color: #808000\">     ━━━━━━━━━━━━━━━━━━━━━━━━━━━━━━━━━━━━━━━ 57.5/57.5 kB 104.6 MB/s eta 0:00:00\n",
       "</span></pre>\n"
      ],
      "text/plain": [
       "\u001b[33m     ━━━━━━━━━━━━━━━━━━━━━━━━━━━━━━━━━━━━━━━ 57.5/57.5 kB 104.6 MB/s eta 0:00:00\n",
       "\u001b[0m"
      ]
     },
     "metadata": {},
     "output_type": "display_data"
    },
    {
     "data": {
      "text/html": [
       "<pre style=\"white-space:pre;overflow-x:auto;line-height:normal;font-family:Menlo,'DejaVu Sans Mono',consolas,'Courier New',monospace\"><span style=\"color: #808000; text-decoration-color: #808000\">Collecting tensorboard&lt;2.13,&gt;=2.12\n",
       "</span></pre>\n"
      ],
      "text/plain": [
       "\u001b[33mCollecting tensorboard<2.13,>=2.12\n",
       "\u001b[0m"
      ]
     },
     "metadata": {},
     "output_type": "display_data"
    },
    {
     "data": {
      "text/html": [
       "<pre style=\"white-space:pre;overflow-x:auto;line-height:normal;font-family:Menlo,'DejaVu Sans Mono',consolas,'Courier New',monospace\"><span style=\"color: #808000; text-decoration-color: #808000\">  Downloading tensorboard-2.12.2-py3-none-any.whl (5.6 MB)\n",
       "</span></pre>\n"
      ],
      "text/plain": [
       "\u001b[33m  Downloading tensorboard-2.12.2-py3-none-any.whl (5.6 MB)\n",
       "\u001b[0m"
      ]
     },
     "metadata": {},
     "output_type": "display_data"
    },
    {
     "data": {
      "text/html": [
       "<pre style=\"white-space:pre;overflow-x:auto;line-height:normal;font-family:Menlo,'DejaVu Sans Mono',consolas,'Courier New',monospace\"><span style=\"color: #808000; text-decoration-color: #808000\">     ━━━━━━━━━━━━━━━━━━━━━━━━━━━━━━━━━━━━━━━━ 5.6/5.6 MB 248.7 MB/s eta 0:00:00\n",
       "</span></pre>\n"
      ],
      "text/plain": [
       "\u001b[33m     ━━━━━━━━━━━━━━━━━━━━━━━━━━━━━━━━━━━━━━━━ 5.6/5.6 MB 248.7 MB/s eta 0:00:00\n",
       "\u001b[0m"
      ]
     },
     "metadata": {},
     "output_type": "display_data"
    },
    {
     "data": {
      "text/html": [
       "<pre style=\"white-space:pre;overflow-x:auto;line-height:normal;font-family:Menlo,'DejaVu Sans Mono',consolas,'Courier New',monospace\"><span style=\"color: #808000; text-decoration-color: #808000\">Collecting astunparse&gt;=1.6.0\n",
       "</span></pre>\n"
      ],
      "text/plain": [
       "\u001b[33mCollecting astunparse>=1.6.0\n",
       "\u001b[0m"
      ]
     },
     "metadata": {},
     "output_type": "display_data"
    },
    {
     "data": {
      "text/html": [
       "<pre style=\"white-space:pre;overflow-x:auto;line-height:normal;font-family:Menlo,'DejaVu Sans Mono',consolas,'Courier New',monospace\"><span style=\"color: #808000; text-decoration-color: #808000\">  Downloading astunparse-1.6.3-py2.py3-none-any.whl (12 kB)\n",
       "</span></pre>\n"
      ],
      "text/plain": [
       "\u001b[33m  Downloading astunparse-1.6.3-py2.py3-none-any.whl (12 kB)\n",
       "\u001b[0m"
      ]
     },
     "metadata": {},
     "output_type": "display_data"
    },
    {
     "data": {
      "text/html": [
       "<pre style=\"white-space:pre;overflow-x:auto;line-height:normal;font-family:Menlo,'DejaVu Sans Mono',consolas,'Courier New',monospace\"><span style=\"color: #808000; text-decoration-color: #808000\">Collecting flatbuffers&gt;=2.0\n",
       "</span></pre>\n"
      ],
      "text/plain": [
       "\u001b[33mCollecting flatbuffers>=2.0\n",
       "\u001b[0m"
      ]
     },
     "metadata": {},
     "output_type": "display_data"
    },
    {
     "data": {
      "text/html": [
       "<pre style=\"white-space:pre;overflow-x:auto;line-height:normal;font-family:Menlo,'DejaVu Sans Mono',consolas,'Courier New',monospace\"><span style=\"color: #808000; text-decoration-color: #808000\">  Downloading flatbuffers-23.3.3-py2.py3-none-any.whl (26 kB)\n",
       "</span></pre>\n"
      ],
      "text/plain": [
       "\u001b[33m  Downloading flatbuffers-23.3.3-py2.py3-none-any.whl (26 kB)\n",
       "\u001b[0m"
      ]
     },
     "metadata": {},
     "output_type": "display_data"
    },
    {
     "data": {
      "text/html": [
       "<pre style=\"white-space:pre;overflow-x:auto;line-height:normal;font-family:Menlo,'DejaVu Sans Mono',consolas,'Courier New',monospace\"><span style=\"color: #808000; text-decoration-color: #808000\">Collecting gast&lt;=0.4.0,&gt;=0.2.1\n",
       "</span></pre>\n"
      ],
      "text/plain": [
       "\u001b[33mCollecting gast<=0.4.0,>=0.2.1\n",
       "\u001b[0m"
      ]
     },
     "metadata": {},
     "output_type": "display_data"
    },
    {
     "data": {
      "text/html": [
       "<pre style=\"white-space:pre;overflow-x:auto;line-height:normal;font-family:Menlo,'DejaVu Sans Mono',consolas,'Courier New',monospace\"><span style=\"color: #808000; text-decoration-color: #808000\">  Downloading gast-0.4.0-py3-none-any.whl (9.8 kB)\n",
       "</span></pre>\n"
      ],
      "text/plain": [
       "\u001b[33m  Downloading gast-0.4.0-py3-none-any.whl (9.8 kB)\n",
       "\u001b[0m"
      ]
     },
     "metadata": {},
     "output_type": "display_data"
    },
    {
     "data": {
      "text/html": [
       "<pre style=\"white-space:pre;overflow-x:auto;line-height:normal;font-family:Menlo,'DejaVu Sans Mono',consolas,'Courier New',monospace\"><span style=\"color: #808000; text-decoration-color: #808000\">Collecting opt-einsum&gt;=2.3.2\n",
       "</span></pre>\n"
      ],
      "text/plain": [
       "\u001b[33mCollecting opt-einsum>=2.3.2\n",
       "\u001b[0m"
      ]
     },
     "metadata": {},
     "output_type": "display_data"
    },
    {
     "data": {
      "text/html": [
       "<pre style=\"white-space:pre;overflow-x:auto;line-height:normal;font-family:Menlo,'DejaVu Sans Mono',consolas,'Courier New',monospace\"><span style=\"color: #808000; text-decoration-color: #808000\">  Downloading opt_einsum-3.3.0-py3-none-any.whl (65 kB)\n",
       "</span></pre>\n"
      ],
      "text/plain": [
       "\u001b[33m  Downloading opt_einsum-3.3.0-py3-none-any.whl (65 kB)\n",
       "\u001b[0m"
      ]
     },
     "metadata": {},
     "output_type": "display_data"
    },
    {
     "data": {
      "text/html": [
       "<pre style=\"white-space:pre;overflow-x:auto;line-height:normal;font-family:Menlo,'DejaVu Sans Mono',consolas,'Courier New',monospace\"><span style=\"color: #808000; text-decoration-color: #808000\">     ━━━━━━━━━━━━━━━━━━━━━━━━━━━━━━━━━━━━━━━ 65.5/65.5 kB 249.7 MB/s eta 0:00:00\n",
       "</span></pre>\n"
      ],
      "text/plain": [
       "\u001b[33m     ━━━━━━━━━━━━━━━━━━━━━━━━━━━━━━━━━━━━━━━ 65.5/65.5 kB 249.7 MB/s eta 0:00:00\n",
       "\u001b[0m"
      ]
     },
     "metadata": {},
     "output_type": "display_data"
    },
    {
     "data": {
      "text/html": [
       "<pre style=\"white-space:pre;overflow-x:auto;line-height:normal;font-family:Menlo,'DejaVu Sans Mono',consolas,'Courier New',monospace\"><span style=\"color: #808000; text-decoration-color: #808000\">Collecting jax&gt;=0.3.15\n",
       "</span></pre>\n"
      ],
      "text/plain": [
       "\u001b[33mCollecting jax>=0.3.15\n",
       "\u001b[0m"
      ]
     },
     "metadata": {},
     "output_type": "display_data"
    },
    {
     "data": {
      "text/html": [
       "<pre style=\"white-space:pre;overflow-x:auto;line-height:normal;font-family:Menlo,'DejaVu Sans Mono',consolas,'Courier New',monospace\"><span style=\"color: #808000; text-decoration-color: #808000\">  Downloading jax-0.4.8.tar.gz (1.2 MB)\n",
       "</span></pre>\n"
      ],
      "text/plain": [
       "\u001b[33m  Downloading jax-0.4.8.tar.gz (1.2 MB)\n",
       "\u001b[0m"
      ]
     },
     "metadata": {},
     "output_type": "display_data"
    },
    {
     "data": {
      "text/html": [
       "<pre style=\"white-space:pre;overflow-x:auto;line-height:normal;font-family:Menlo,'DejaVu Sans Mono',consolas,'Courier New',monospace\"><span style=\"color: #808000; text-decoration-color: #808000\">     ━━━━━━━━━━━━━━━━━━━━━━━━━━━━━━━━━━━━━━━━ 1.2/1.2 MB 284.8 MB/s eta 0:00:00\n",
       "</span></pre>\n"
      ],
      "text/plain": [
       "\u001b[33m     ━━━━━━━━━━━━━━━━━━━━━━━━━━━━━━━━━━━━━━━━ 1.2/1.2 MB 284.8 MB/s eta 0:00:00\n",
       "\u001b[0m"
      ]
     },
     "metadata": {},
     "output_type": "display_data"
    },
    {
     "data": {
      "text/html": [
       "<pre style=\"white-space:pre;overflow-x:auto;line-height:normal;font-family:Menlo,'DejaVu Sans Mono',consolas,'Courier New',monospace\"><span style=\"color: #808000; text-decoration-color: #808000\">  Installing build dependencies: started\n",
       "</span></pre>\n"
      ],
      "text/plain": [
       "\u001b[33m  Installing build dependencies: started\n",
       "\u001b[0m"
      ]
     },
     "metadata": {},
     "output_type": "display_data"
    },
    {
     "data": {
      "text/html": [
       "<pre style=\"white-space:pre;overflow-x:auto;line-height:normal;font-family:Menlo,'DejaVu Sans Mono',consolas,'Courier New',monospace\"><span style=\"color: #808000; text-decoration-color: #808000\">  Installing build dependencies: finished with status 'done'\n",
       "</span></pre>\n"
      ],
      "text/plain": [
       "\u001b[33m  Installing build dependencies: finished with status 'done'\n",
       "\u001b[0m"
      ]
     },
     "metadata": {},
     "output_type": "display_data"
    },
    {
     "data": {
      "text/html": [
       "<pre style=\"white-space:pre;overflow-x:auto;line-height:normal;font-family:Menlo,'DejaVu Sans Mono',consolas,'Courier New',monospace\"><span style=\"color: #808000; text-decoration-color: #808000\">  Getting requirements to build wheel: started\n",
       "</span></pre>\n"
      ],
      "text/plain": [
       "\u001b[33m  Getting requirements to build wheel: started\n",
       "\u001b[0m"
      ]
     },
     "metadata": {},
     "output_type": "display_data"
    },
    {
     "data": {
      "text/html": [
       "<pre style=\"white-space:pre;overflow-x:auto;line-height:normal;font-family:Menlo,'DejaVu Sans Mono',consolas,'Courier New',monospace\"><span style=\"color: #808000; text-decoration-color: #808000\">  Getting requirements to build wheel: finished with status 'done'\n",
       "</span></pre>\n"
      ],
      "text/plain": [
       "\u001b[33m  Getting requirements to build wheel: finished with status 'done'\n",
       "\u001b[0m"
      ]
     },
     "metadata": {},
     "output_type": "display_data"
    },
    {
     "data": {
      "text/html": [
       "<pre style=\"white-space:pre;overflow-x:auto;line-height:normal;font-family:Menlo,'DejaVu Sans Mono',consolas,'Courier New',monospace\"><span style=\"color: #808000; text-decoration-color: #808000\">  Preparing metadata (pyproject.toml): started\n",
       "</span></pre>\n"
      ],
      "text/plain": [
       "\u001b[33m  Preparing metadata (pyproject.toml): started\n",
       "\u001b[0m"
      ]
     },
     "metadata": {},
     "output_type": "display_data"
    },
    {
     "data": {
      "text/html": [
       "<pre style=\"white-space:pre;overflow-x:auto;line-height:normal;font-family:Menlo,'DejaVu Sans Mono',consolas,'Courier New',monospace\"><span style=\"color: #808000; text-decoration-color: #808000\">  Preparing metadata (pyproject.toml): finished with status 'done'\n",
       "</span></pre>\n"
      ],
      "text/plain": [
       "\u001b[33m  Preparing metadata (pyproject.toml): finished with status 'done'\n",
       "\u001b[0m"
      ]
     },
     "metadata": {},
     "output_type": "display_data"
    },
    {
     "data": {
      "text/html": [
       "<pre style=\"white-space:pre;overflow-x:auto;line-height:normal;font-family:Menlo,'DejaVu Sans Mono',consolas,'Courier New',monospace\"><span style=\"color: #808000; text-decoration-color: #808000\">Collecting keras&lt;2.13,&gt;=2.12.0\n",
       "</span></pre>\n"
      ],
      "text/plain": [
       "\u001b[33mCollecting keras<2.13,>=2.12.0\n",
       "\u001b[0m"
      ]
     },
     "metadata": {},
     "output_type": "display_data"
    },
    {
     "data": {
      "text/html": [
       "<pre style=\"white-space:pre;overflow-x:auto;line-height:normal;font-family:Menlo,'DejaVu Sans Mono',consolas,'Courier New',monospace\"><span style=\"color: #808000; text-decoration-color: #808000\">  Downloading keras-2.12.0-py2.py3-none-any.whl (1.7 MB)\n",
       "</span></pre>\n"
      ],
      "text/plain": [
       "\u001b[33m  Downloading keras-2.12.0-py2.py3-none-any.whl (1.7 MB)\n",
       "\u001b[0m"
      ]
     },
     "metadata": {},
     "output_type": "display_data"
    },
    {
     "data": {
      "text/html": [
       "<pre style=\"white-space:pre;overflow-x:auto;line-height:normal;font-family:Menlo,'DejaVu Sans Mono',consolas,'Courier New',monospace\"><span style=\"color: #808000; text-decoration-color: #808000\">     ━━━━━━━━━━━━━━━━━━━━━━━━━━━━━━━━━━━━━━━━ 1.7/1.7 MB 276.3 MB/s eta 0:00:00\n",
       "</span></pre>\n"
      ],
      "text/plain": [
       "\u001b[33m     ━━━━━━━━━━━━━━━━━━━━━━━━━━━━━━━━━━━━━━━━ 1.7/1.7 MB 276.3 MB/s eta 0:00:00\n",
       "\u001b[0m"
      ]
     },
     "metadata": {},
     "output_type": "display_data"
    },
    {
     "data": {
      "text/html": [
       "<pre style=\"white-space:pre;overflow-x:auto;line-height:normal;font-family:Menlo,'DejaVu Sans Mono',consolas,'Courier New',monospace\"><span style=\"color: #808000; text-decoration-color: #808000\">Requirement already satisfied: packaging in /usr/local/lib/python3.8/site-packages (from tensorflow&lt;3,&gt;=2.12-&gt;tensorflow-data-validation) (23.0)\n",
       "</span></pre>\n"
      ],
      "text/plain": [
       "\u001b[33mRequirement already satisfied: packaging in /usr/local/lib/python3.8/site-packages (from tensorflow<3,>=2.12->tensorflow-data-validation) (23.0)\n",
       "\u001b[0m"
      ]
     },
     "metadata": {},
     "output_type": "display_data"
    },
    {
     "data": {
      "text/html": [
       "<pre style=\"white-space:pre;overflow-x:auto;line-height:normal;font-family:Menlo,'DejaVu Sans Mono',consolas,'Courier New',monospace\"><span style=\"color: #808000; text-decoration-color: #808000\">Collecting h5py&gt;=2.9.0\n",
       "</span></pre>\n"
      ],
      "text/plain": [
       "\u001b[33mCollecting h5py>=2.9.0\n",
       "\u001b[0m"
      ]
     },
     "metadata": {},
     "output_type": "display_data"
    },
    {
     "data": {
      "text/html": [
       "<pre style=\"white-space:pre;overflow-x:auto;line-height:normal;font-family:Menlo,'DejaVu Sans Mono',consolas,'Courier New',monospace\"><span style=\"color: #808000; text-decoration-color: #808000\">  Downloading h5py-3.8.0-cp38-cp38-manylinux_2_17_x86_64.manylinux2014_x86_64.whl (4.7 MB)\n",
       "</span></pre>\n"
      ],
      "text/plain": [
       "\u001b[33m  Downloading h5py-3.8.0-cp38-cp38-manylinux_2_17_x86_64.manylinux2014_x86_64.whl (4.7 MB)\n",
       "\u001b[0m"
      ]
     },
     "metadata": {},
     "output_type": "display_data"
    },
    {
     "data": {
      "text/html": [
       "<pre style=\"white-space:pre;overflow-x:auto;line-height:normal;font-family:Menlo,'DejaVu Sans Mono',consolas,'Courier New',monospace\"><span style=\"color: #808000; text-decoration-color: #808000\">     ━━━━━━━━━━━━━━━━━━━━━━━━━━━━━━━━━━━━━━━━ 4.7/4.7 MB 246.1 MB/s eta 0:00:00\n",
       "</span></pre>\n"
      ],
      "text/plain": [
       "\u001b[33m     ━━━━━━━━━━━━━━━━━━━━━━━━━━━━━━━━━━━━━━━━ 4.7/4.7 MB 246.1 MB/s eta 0:00:00\n",
       "\u001b[0m"
      ]
     },
     "metadata": {},
     "output_type": "display_data"
    },
    {
     "data": {
      "text/html": [
       "<pre style=\"white-space:pre;overflow-x:auto;line-height:normal;font-family:Menlo,'DejaVu Sans Mono',consolas,'Courier New',monospace\"><span style=\"color: #808000; text-decoration-color: #808000\">Collecting wrapt&lt;1.15,&gt;=1.11.0\n",
       "</span></pre>\n"
      ],
      "text/plain": [
       "\u001b[33mCollecting wrapt<1.15,>=1.11.0\n",
       "\u001b[0m"
      ]
     },
     "metadata": {},
     "output_type": "display_data"
    },
    {
     "data": {
      "text/html": [
       "<pre style=\"white-space:pre;overflow-x:auto;line-height:normal;font-family:Menlo,'DejaVu Sans Mono',consolas,'Courier New',monospace\"><span style=\"color: #808000; text-decoration-color: #808000\">  Downloading wrapt-1.14.1-cp38-cp38-manylinux_2_5_x86_64.manylinux1_x86_64.manylinux_2_17_x86_64.manylinux2014_x86_64.whl (81 kB)\n",
       "</span></pre>\n"
      ],
      "text/plain": [
       "\u001b[33m  Downloading wrapt-1.14.1-cp38-cp38-manylinux_2_5_x86_64.manylinux1_x86_64.manylinux_2_17_x86_64.manylinux2014_x86_64.whl (81 kB)\n",
       "\u001b[0m"
      ]
     },
     "metadata": {},
     "output_type": "display_data"
    },
    {
     "data": {
      "text/html": [
       "<pre style=\"white-space:pre;overflow-x:auto;line-height:normal;font-family:Menlo,'DejaVu Sans Mono',consolas,'Courier New',monospace\"><span style=\"color: #808000; text-decoration-color: #808000\">     ━━━━━━━━━━━━━━━━━━━━━━━━━━━━━━━━━━━━━━━ 81.0/81.0 kB 235.3 MB/s eta 0:00:00\n",
       "</span></pre>\n"
      ],
      "text/plain": [
       "\u001b[33m     ━━━━━━━━━━━━━━━━━━━━━━━━━━━━━━━━━━━━━━━ 81.0/81.0 kB 235.3 MB/s eta 0:00:00\n",
       "\u001b[0m"
      ]
     },
     "metadata": {},
     "output_type": "display_data"
    },
    {
     "data": {
      "text/html": [
       "<pre style=\"white-space:pre;overflow-x:auto;line-height:normal;font-family:Menlo,'DejaVu Sans Mono',consolas,'Courier New',monospace\"><span style=\"color: #808000; text-decoration-color: #808000\">Collecting libclang&gt;=13.0.0\n",
       "</span></pre>\n"
      ],
      "text/plain": [
       "\u001b[33mCollecting libclang>=13.0.0\n",
       "\u001b[0m"
      ]
     },
     "metadata": {},
     "output_type": "display_data"
    },
    {
     "data": {
      "text/html": [
       "<pre style=\"white-space:pre;overflow-x:auto;line-height:normal;font-family:Menlo,'DejaVu Sans Mono',consolas,'Courier New',monospace\"><span style=\"color: #808000; text-decoration-color: #808000\">  Downloading libclang-16.0.0-py2.py3-none-manylinux2010_x86_64.whl (22.9 MB)\n",
       "</span></pre>\n"
      ],
      "text/plain": [
       "\u001b[33m  Downloading libclang-16.0.0-py2.py3-none-manylinux2010_x86_64.whl (22.9 MB)\n",
       "\u001b[0m"
      ]
     },
     "metadata": {},
     "output_type": "display_data"
    },
    {
     "data": {
      "text/html": [
       "<pre style=\"white-space:pre;overflow-x:auto;line-height:normal;font-family:Menlo,'DejaVu Sans Mono',consolas,'Courier New',monospace\"><span style=\"color: #808000; text-decoration-color: #808000\">     ━━━━━━━━━━━━━━━━━━━━━━━━━━━━━━━━━━━━━━━ 22.9/22.9 MB 220.9 MB/s eta 0:00:00\n",
       "</span></pre>\n"
      ],
      "text/plain": [
       "\u001b[33m     ━━━━━━━━━━━━━━━━━━━━━━━━━━━━━━━━━━━━━━━ 22.9/22.9 MB 220.9 MB/s eta 0:00:00\n",
       "\u001b[0m"
      ]
     },
     "metadata": {},
     "output_type": "display_data"
    },
    {
     "data": {
      "text/html": [
       "<pre style=\"white-space:pre;overflow-x:auto;line-height:normal;font-family:Menlo,'DejaVu Sans Mono',consolas,'Courier New',monospace\"><span style=\"color: #808000; text-decoration-color: #808000\">Collecting tensorflow-io-gcs-filesystem&gt;=0.23.1\n",
       "</span></pre>\n"
      ],
      "text/plain": [
       "\u001b[33mCollecting tensorflow-io-gcs-filesystem>=0.23.1\n",
       "\u001b[0m"
      ]
     },
     "metadata": {},
     "output_type": "display_data"
    },
    {
     "data": {
      "text/html": [
       "<pre style=\"white-space:pre;overflow-x:auto;line-height:normal;font-family:Menlo,'DejaVu Sans Mono',consolas,'Courier New',monospace\"><span style=\"color: #808000; text-decoration-color: #808000\">  Downloading tensorflow_io_gcs_filesystem-0.32.0-cp38-cp38-manylinux_2_12_x86_64.manylinux2010_x86_64.whl (2.4 MB)\n",
       "</span></pre>\n"
      ],
      "text/plain": [
       "\u001b[33m  Downloading tensorflow_io_gcs_filesystem-0.32.0-cp38-cp38-manylinux_2_12_x86_64.manylinux2010_x86_64.whl (2.4 MB)\n",
       "\u001b[0m"
      ]
     },
     "metadata": {},
     "output_type": "display_data"
    },
    {
     "data": {
      "text/html": [
       "<pre style=\"white-space:pre;overflow-x:auto;line-height:normal;font-family:Menlo,'DejaVu Sans Mono',consolas,'Courier New',monospace\"><span style=\"color: #808000; text-decoration-color: #808000\">     ━━━━━━━━━━━━━━━━━━━━━━━━━━━━━━━━━━━━━━━━ 2.4/2.4 MB 245.5 MB/s eta 0:00:00\n",
       "</span></pre>\n"
      ],
      "text/plain": [
       "\u001b[33m     ━━━━━━━━━━━━━━━━━━━━━━━━━━━━━━━━━━━━━━━━ 2.4/2.4 MB 245.5 MB/s eta 0:00:00\n",
       "\u001b[0m"
      ]
     },
     "metadata": {},
     "output_type": "display_data"
    },
    {
     "data": {
      "text/html": [
       "<pre style=\"white-space:pre;overflow-x:auto;line-height:normal;font-family:Menlo,'DejaVu Sans Mono',consolas,'Courier New',monospace\"><span style=\"color: #808000; text-decoration-color: #808000\">Collecting google-api-python-client&lt;2,&gt;=1.7.11\n",
       "</span></pre>\n"
      ],
      "text/plain": [
       "\u001b[33mCollecting google-api-python-client<2,>=1.7.11\n",
       "\u001b[0m"
      ]
     },
     "metadata": {},
     "output_type": "display_data"
    },
    {
     "data": {
      "text/html": [
       "<pre style=\"white-space:pre;overflow-x:auto;line-height:normal;font-family:Menlo,'DejaVu Sans Mono',consolas,'Courier New',monospace\"><span style=\"color: #808000; text-decoration-color: #808000\">  Downloading google_api_python_client-1.12.11-py2.py3-none-any.whl (62 kB)\n",
       "</span></pre>\n"
      ],
      "text/plain": [
       "\u001b[33m  Downloading google_api_python_client-1.12.11-py2.py3-none-any.whl (62 kB)\n",
       "\u001b[0m"
      ]
     },
     "metadata": {},
     "output_type": "display_data"
    },
    {
     "data": {
      "text/html": [
       "<pre style=\"white-space:pre;overflow-x:auto;line-height:normal;font-family:Menlo,'DejaVu Sans Mono',consolas,'Courier New',monospace\"><span style=\"color: #808000; text-decoration-color: #808000\">     ━━━━━━━━━━━━━━━━━━━━━━━━━━━━━━━━━━━━━━━ 62.1/62.1 kB 243.5 MB/s eta 0:00:00\n",
       "</span></pre>\n"
      ],
      "text/plain": [
       "\u001b[33m     ━━━━━━━━━━━━━━━━━━━━━━━━━━━━━━━━━━━━━━━ 62.1/62.1 kB 243.5 MB/s eta 0:00:00\n",
       "\u001b[0m"
      ]
     },
     "metadata": {},
     "output_type": "display_data"
    },
    {
     "data": {
      "text/html": [
       "<pre style=\"white-space:pre;overflow-x:auto;line-height:normal;font-family:Menlo,'DejaVu Sans Mono',consolas,'Courier New',monospace\"><span style=\"color: #808000; text-decoration-color: #808000\">Collecting tensorflow-serving-api!=2.0.*,!=2.1.*,!=2.2.*,!=2.3.*,!=2.4.*,!=2.5.*,!=2.6.*,!=2.7.*,!=2.8.*,&lt;3,&gt;=1.15\n",
       "</span></pre>\n"
      ],
      "text/plain": [
       "\u001b[33mCollecting tensorflow-serving-api!=2.0.*,!=2.1.*,!=2.2.*,!=2.3.*,!=2.4.*,!=2.5.*,!=2.6.*,!=2.7.*,!=2.8.*,<3,>=1.15\n",
       "\u001b[0m"
      ]
     },
     "metadata": {},
     "output_type": "display_data"
    },
    {
     "data": {
      "text/html": [
       "<pre style=\"white-space:pre;overflow-x:auto;line-height:normal;font-family:Menlo,'DejaVu Sans Mono',consolas,'Courier New',monospace\"><span style=\"color: #808000; text-decoration-color: #808000\">  Downloading tensorflow_serving_api-2.12.0-py2.py3-none-any.whl (26 kB)\n",
       "</span></pre>\n"
      ],
      "text/plain": [
       "\u001b[33m  Downloading tensorflow_serving_api-2.12.0-py2.py3-none-any.whl (26 kB)\n",
       "\u001b[0m"
      ]
     },
     "metadata": {},
     "output_type": "display_data"
    },
    {
     "data": {
      "text/html": [
       "<pre style=\"white-space:pre;overflow-x:auto;line-height:normal;font-family:Menlo,'DejaVu Sans Mono',consolas,'Courier New',monospace\"><span style=\"color: #808000; text-decoration-color: #808000\">Requirement already satisfied: wheel&lt;1.0,&gt;=0.23.0 in /usr/local/lib/python3.8/site-packages (from astunparse&gt;=1.6.0-&gt;tensorflow&lt;3,&gt;=2.12-&gt;tensorflow-data-validation) (0.38.4)\n",
       "</span></pre>\n"
      ],
      "text/plain": [
       "\u001b[33mRequirement already satisfied: wheel<1.0,>=0.23.0 in /usr/local/lib/python3.8/site-packages (from astunparse>=1.6.0->tensorflow<3,>=2.12->tensorflow-data-validation) (0.38.4)\n",
       "\u001b[0m"
      ]
     },
     "metadata": {},
     "output_type": "display_data"
    },
    {
     "data": {
      "text/html": [
       "<pre style=\"white-space:pre;overflow-x:auto;line-height:normal;font-family:Menlo,'DejaVu Sans Mono',consolas,'Courier New',monospace\"><span style=\"color: #808000; text-decoration-color: #808000\">Collecting uritemplate&lt;4dev,&gt;=3.0.0\n",
       "</span></pre>\n"
      ],
      "text/plain": [
       "\u001b[33mCollecting uritemplate<4dev,>=3.0.0\n",
       "\u001b[0m"
      ]
     },
     "metadata": {},
     "output_type": "display_data"
    },
    {
     "data": {
      "text/html": [
       "<pre style=\"white-space:pre;overflow-x:auto;line-height:normal;font-family:Menlo,'DejaVu Sans Mono',consolas,'Courier New',monospace\"><span style=\"color: #808000; text-decoration-color: #808000\">  Downloading uritemplate-3.0.1-py2.py3-none-any.whl (15 kB)\n",
       "</span></pre>\n"
      ],
      "text/plain": [
       "\u001b[33m  Downloading uritemplate-3.0.1-py2.py3-none-any.whl (15 kB)\n",
       "\u001b[0m"
      ]
     },
     "metadata": {},
     "output_type": "display_data"
    },
    {
     "data": {
      "text/html": [
       "<pre style=\"white-space:pre;overflow-x:auto;line-height:normal;font-family:Menlo,'DejaVu Sans Mono',consolas,'Courier New',monospace\"><span style=\"color: #808000; text-decoration-color: #808000\">Collecting google-api-core&lt;3dev,&gt;=1.21.0\n",
       "</span></pre>\n"
      ],
      "text/plain": [
       "\u001b[33mCollecting google-api-core<3dev,>=1.21.0\n",
       "\u001b[0m"
      ]
     },
     "metadata": {},
     "output_type": "display_data"
    },
    {
     "data": {
      "text/html": [
       "<pre style=\"white-space:pre;overflow-x:auto;line-height:normal;font-family:Menlo,'DejaVu Sans Mono',consolas,'Courier New',monospace\"><span style=\"color: #808000; text-decoration-color: #808000\">  Downloading google_api_core-2.11.0-py3-none-any.whl (120 kB)\n",
       "</span></pre>\n"
      ],
      "text/plain": [
       "\u001b[33m  Downloading google_api_core-2.11.0-py3-none-any.whl (120 kB)\n",
       "\u001b[0m"
      ]
     },
     "metadata": {},
     "output_type": "display_data"
    },
    {
     "data": {
      "text/html": [
       "<pre style=\"white-space:pre;overflow-x:auto;line-height:normal;font-family:Menlo,'DejaVu Sans Mono',consolas,'Courier New',monospace\"><span style=\"color: #808000; text-decoration-color: #808000\">     ━━━━━━━━━━━━━━━━━━━━━━━━━━━━━━━━━━━━━ 120.3/120.3 kB 291.3 MB/s eta 0:00:00\n",
       "</span></pre>\n"
      ],
      "text/plain": [
       "\u001b[33m     ━━━━━━━━━━━━━━━━━━━━━━━━━━━━━━━━━━━━━ 120.3/120.3 kB 291.3 MB/s eta 0:00:00\n",
       "\u001b[0m"
      ]
     },
     "metadata": {},
     "output_type": "display_data"
    },
    {
     "data": {
      "text/html": [
       "<pre style=\"white-space:pre;overflow-x:auto;line-height:normal;font-family:Menlo,'DejaVu Sans Mono',consolas,'Courier New',monospace\"><span style=\"color: #808000; text-decoration-color: #808000\">Collecting oauth2client&gt;=1.4.12\n",
       "</span></pre>\n"
      ],
      "text/plain": [
       "\u001b[33mCollecting oauth2client>=1.4.12\n",
       "\u001b[0m"
      ]
     },
     "metadata": {},
     "output_type": "display_data"
    },
    {
     "data": {
      "text/html": [
       "<pre style=\"white-space:pre;overflow-x:auto;line-height:normal;font-family:Menlo,'DejaVu Sans Mono',consolas,'Courier New',monospace\"><span style=\"color: #808000; text-decoration-color: #808000\">  Downloading oauth2client-4.1.3-py2.py3-none-any.whl (98 kB)\n",
       "</span></pre>\n"
      ],
      "text/plain": [
       "\u001b[33m  Downloading oauth2client-4.1.3-py2.py3-none-any.whl (98 kB)\n",
       "\u001b[0m"
      ]
     },
     "metadata": {},
     "output_type": "display_data"
    },
    {
     "data": {
      "text/html": [
       "<pre style=\"white-space:pre;overflow-x:auto;line-height:normal;font-family:Menlo,'DejaVu Sans Mono',consolas,'Courier New',monospace\"><span style=\"color: #808000; text-decoration-color: #808000\">     ━━━━━━━━━━━━━━━━━━━━━━━━━━━━━━━━━━━━━━━ 98.2/98.2 kB 281.2 MB/s eta 0:00:00\n",
       "</span></pre>\n"
      ],
      "text/plain": [
       "\u001b[33m     ━━━━━━━━━━━━━━━━━━━━━━━━━━━━━━━━━━━━━━━ 98.2/98.2 kB 281.2 MB/s eta 0:00:00\n",
       "\u001b[0m"
      ]
     },
     "metadata": {},
     "output_type": "display_data"
    },
    {
     "data": {
      "text/html": [
       "<pre style=\"white-space:pre;overflow-x:auto;line-height:normal;font-family:Menlo,'DejaVu Sans Mono',consolas,'Courier New',monospace\"><span style=\"color: #808000; text-decoration-color: #808000\">Collecting pyasn1-modules&gt;=0.2.1\n",
       "</span></pre>\n"
      ],
      "text/plain": [
       "\u001b[33mCollecting pyasn1-modules>=0.2.1\n",
       "\u001b[0m"
      ]
     },
     "metadata": {},
     "output_type": "display_data"
    },
    {
     "data": {
      "text/html": [
       "<pre style=\"white-space:pre;overflow-x:auto;line-height:normal;font-family:Menlo,'DejaVu Sans Mono',consolas,'Courier New',monospace\"><span style=\"color: #808000; text-decoration-color: #808000\">  Downloading pyasn1_modules-0.3.0-py2.py3-none-any.whl (181 kB)\n",
       "</span></pre>\n"
      ],
      "text/plain": [
       "\u001b[33m  Downloading pyasn1_modules-0.3.0-py2.py3-none-any.whl (181 kB)\n",
       "\u001b[0m"
      ]
     },
     "metadata": {},
     "output_type": "display_data"
    },
    {
     "data": {
      "text/html": [
       "<pre style=\"white-space:pre;overflow-x:auto;line-height:normal;font-family:Menlo,'DejaVu Sans Mono',consolas,'Courier New',monospace\"><span style=\"color: #808000; text-decoration-color: #808000\">     ━━━━━━━━━━━━━━━━━━━━━━━━━━━━━━━━━━━━━ 181.3/181.3 kB 268.0 MB/s eta 0:00:00\n",
       "</span></pre>\n"
      ],
      "text/plain": [
       "\u001b[33m     ━━━━━━━━━━━━━━━━━━━━━━━━━━━━━━━━━━━━━ 181.3/181.3 kB 268.0 MB/s eta 0:00:00\n",
       "\u001b[0m"
      ]
     },
     "metadata": {},
     "output_type": "display_data"
    },
    {
     "data": {
      "text/html": [
       "<pre style=\"white-space:pre;overflow-x:auto;line-height:normal;font-family:Menlo,'DejaVu Sans Mono',consolas,'Courier New',monospace\"><span style=\"color: #808000; text-decoration-color: #808000\">Collecting rsa&lt;5,&gt;=3.1.4\n",
       "</span></pre>\n"
      ],
      "text/plain": [
       "\u001b[33mCollecting rsa<5,>=3.1.4\n",
       "\u001b[0m"
      ]
     },
     "metadata": {},
     "output_type": "display_data"
    },
    {
     "data": {
      "text/html": [
       "<pre style=\"white-space:pre;overflow-x:auto;line-height:normal;font-family:Menlo,'DejaVu Sans Mono',consolas,'Courier New',monospace\"><span style=\"color: #808000; text-decoration-color: #808000\">  Downloading rsa-4.9-py3-none-any.whl (34 kB)\n",
       "</span></pre>\n"
      ],
      "text/plain": [
       "\u001b[33m  Downloading rsa-4.9-py3-none-any.whl (34 kB)\n",
       "\u001b[0m"
      ]
     },
     "metadata": {},
     "output_type": "display_data"
    },
    {
     "data": {
      "text/html": [
       "<pre style=\"white-space:pre;overflow-x:auto;line-height:normal;font-family:Menlo,'DejaVu Sans Mono',consolas,'Courier New',monospace\"><span style=\"color: #808000; text-decoration-color: #808000\">  Downloading google_resumable_media-2.5.0-py2.py3-none-any.whl (77 kB)\n",
       "</span></pre>\n"
      ],
      "text/plain": [
       "\u001b[33m  Downloading google_resumable_media-2.5.0-py2.py3-none-any.whl (77 kB)\n",
       "\u001b[0m"
      ]
     },
     "metadata": {},
     "output_type": "display_data"
    },
    {
     "data": {
      "text/html": [
       "<pre style=\"white-space:pre;overflow-x:auto;line-height:normal;font-family:Menlo,'DejaVu Sans Mono',consolas,'Courier New',monospace\"><span style=\"color: #808000; text-decoration-color: #808000\">     ━━━━━━━━━━━━━━━━━━━━━━━━━━━━━━━━━━━━━━━ 77.7/77.7 kB 262.9 MB/s eta 0:00:00\n",
       "</span></pre>\n"
      ],
      "text/plain": [
       "\u001b[33m     ━━━━━━━━━━━━━━━━━━━━━━━━━━━━━━━━━━━━━━━ 77.7/77.7 kB 262.9 MB/s eta 0:00:00\n",
       "\u001b[0m"
      ]
     },
     "metadata": {},
     "output_type": "display_data"
    },
    {
     "data": {
      "text/html": [
       "<pre style=\"white-space:pre;overflow-x:auto;line-height:normal;font-family:Menlo,'DejaVu Sans Mono',consolas,'Courier New',monospace\"><span style=\"color: #808000; text-decoration-color: #808000\">Collecting grpc-google-iam-v1&lt;0.13dev,&gt;=0.12.3\n",
       "</span></pre>\n"
      ],
      "text/plain": [
       "\u001b[33mCollecting grpc-google-iam-v1<0.13dev,>=0.12.3\n",
       "\u001b[0m"
      ]
     },
     "metadata": {},
     "output_type": "display_data"
    },
    {
     "data": {
      "text/html": [
       "<pre style=\"white-space:pre;overflow-x:auto;line-height:normal;font-family:Menlo,'DejaVu Sans Mono',consolas,'Courier New',monospace\"><span style=\"color: #808000; text-decoration-color: #808000\">  Downloading grpc_google_iam_v1-0.12.6-py2.py3-none-any.whl (26 kB)\n",
       "</span></pre>\n"
      ],
      "text/plain": [
       "\u001b[33m  Downloading grpc_google_iam_v1-0.12.6-py2.py3-none-any.whl (26 kB)\n",
       "\u001b[0m"
      ]
     },
     "metadata": {},
     "output_type": "display_data"
    },
    {
     "data": {
      "text/html": [
       "<pre style=\"white-space:pre;overflow-x:auto;line-height:normal;font-family:Menlo,'DejaVu Sans Mono',consolas,'Courier New',monospace\"><span style=\"color: #808000; text-decoration-color: #808000\">Collecting grpcio-status&gt;=1.33.2\n",
       "</span></pre>\n"
      ],
      "text/plain": [
       "\u001b[33mCollecting grpcio-status>=1.33.2\n",
       "\u001b[0m"
      ]
     },
     "metadata": {},
     "output_type": "display_data"
    },
    {
     "data": {
      "text/html": [
       "<pre style=\"white-space:pre;overflow-x:auto;line-height:normal;font-family:Menlo,'DejaVu Sans Mono',consolas,'Courier New',monospace\"><span style=\"color: #808000; text-decoration-color: #808000\">  Downloading grpcio_status-1.54.0-py3-none-any.whl (5.1 kB)\n",
       "</span></pre>\n"
      ],
      "text/plain": [
       "\u001b[33m  Downloading grpcio_status-1.54.0-py3-none-any.whl (5.1 kB)\n",
       "\u001b[0m"
      ]
     },
     "metadata": {},
     "output_type": "display_data"
    },
    {
     "data": {
      "text/html": [
       "<pre style=\"white-space:pre;overflow-x:auto;line-height:normal;font-family:Menlo,'DejaVu Sans Mono',consolas,'Courier New',monospace\"><span style=\"color: #808000; text-decoration-color: #808000\">Collecting overrides&lt;7.0.0,&gt;=6.0.1\n",
       "</span></pre>\n"
      ],
      "text/plain": [
       "\u001b[33mCollecting overrides<7.0.0,>=6.0.1\n",
       "\u001b[0m"
      ]
     },
     "metadata": {},
     "output_type": "display_data"
    },
    {
     "data": {
      "text/html": [
       "<pre style=\"white-space:pre;overflow-x:auto;line-height:normal;font-family:Menlo,'DejaVu Sans Mono',consolas,'Courier New',monospace\"><span style=\"color: #808000; text-decoration-color: #808000\">  Downloading overrides-6.5.0-py3-none-any.whl (17 kB)\n",
       "</span></pre>\n"
      ],
      "text/plain": [
       "\u001b[33m  Downloading overrides-6.5.0-py3-none-any.whl (17 kB)\n",
       "\u001b[0m"
      ]
     },
     "metadata": {},
     "output_type": "display_data"
    },
    {
     "data": {
      "text/html": [
       "<pre style=\"white-space:pre;overflow-x:auto;line-height:normal;font-family:Menlo,'DejaVu Sans Mono',consolas,'Courier New',monospace\"><span style=\"color: #808000; text-decoration-color: #808000\">Collecting sqlparse&gt;=0.3.0\n",
       "</span></pre>\n"
      ],
      "text/plain": [
       "\u001b[33mCollecting sqlparse>=0.3.0\n",
       "\u001b[0m"
      ]
     },
     "metadata": {},
     "output_type": "display_data"
    },
    {
     "data": {
      "text/html": [
       "<pre style=\"white-space:pre;overflow-x:auto;line-height:normal;font-family:Menlo,'DejaVu Sans Mono',consolas,'Courier New',monospace\"><span style=\"color: #808000; text-decoration-color: #808000\">Collecting docopt\n",
       "</span></pre>\n"
      ],
      "text/plain": [
       "\u001b[33mCollecting docopt\n",
       "\u001b[0m"
      ]
     },
     "metadata": {},
     "output_type": "display_data"
    },
    {
     "data": {
      "text/html": [
       "<pre style=\"white-space:pre;overflow-x:auto;line-height:normal;font-family:Menlo,'DejaVu Sans Mono',consolas,'Courier New',monospace\"><span style=\"color: #808000; text-decoration-color: #808000\">  Downloading docopt-0.6.2.tar.gz (25 kB)\n",
       "</span></pre>\n"
      ],
      "text/plain": [
       "\u001b[33m  Downloading docopt-0.6.2.tar.gz (25 kB)\n",
       "\u001b[0m"
      ]
     },
     "metadata": {},
     "output_type": "display_data"
    },
    {
     "data": {
      "text/html": [
       "<pre style=\"white-space:pre;overflow-x:auto;line-height:normal;font-family:Menlo,'DejaVu Sans Mono',consolas,'Courier New',monospace\"><span style=\"color: #808000; text-decoration-color: #808000\">  Preparing metadata (setup.py): started\n",
       "</span></pre>\n"
      ],
      "text/plain": [
       "\u001b[33m  Preparing metadata (setup.py): started\n",
       "\u001b[0m"
      ]
     },
     "metadata": {},
     "output_type": "display_data"
    },
    {
     "data": {
      "text/html": [
       "<pre style=\"white-space:pre;overflow-x:auto;line-height:normal;font-family:Menlo,'DejaVu Sans Mono',consolas,'Courier New',monospace\"><span style=\"color: #808000; text-decoration-color: #808000\">  Preparing metadata (setup.py): finished with status 'done'\n",
       "</span></pre>\n"
      ],
      "text/plain": [
       "\u001b[33m  Preparing metadata (setup.py): finished with status 'done'\n",
       "\u001b[0m"
      ]
     },
     "metadata": {},
     "output_type": "display_data"
    },
    {
     "data": {
      "text/html": [
       "<pre style=\"white-space:pre;overflow-x:auto;line-height:normal;font-family:Menlo,'DejaVu Sans Mono',consolas,'Courier New',monospace\"><span style=\"color: #808000; text-decoration-color: #808000\">Requirement already satisfied: pyparsing!=3.0.0,!=3.0.1,!=3.0.2,!=3.0.3,&lt;4,&gt;=2.4.2 in /usr/local/lib/python3.8/site-packages (from httplib2&lt;0.22.0,&gt;=0.8-&gt;apache-beam[gcp]&lt;3,&gt;=2.40-&gt;tensorflow-data-validation) (3.0.9)\n",
       "</span></pre>\n"
      ],
      "text/plain": [
       "\u001b[33mRequirement already satisfied: pyparsing!=3.0.0,!=3.0.1,!=3.0.2,!=3.0.3,<4,>=2.4.2 in /usr/local/lib/python3.8/site-packages (from httplib2<0.22.0,>=0.8->apache-beam[gcp]<3,>=2.40->tensorflow-data-validation) (3.0.9)\n",
       "\u001b[0m"
      ]
     },
     "metadata": {},
     "output_type": "display_data"
    },
    {
     "data": {
      "text/html": [
       "<pre style=\"white-space:pre;overflow-x:auto;line-height:normal;font-family:Menlo,'DejaVu Sans Mono',consolas,'Courier New',monospace\"><span style=\"color: #808000; text-decoration-color: #808000\">Collecting ml-dtypes&gt;=0.0.3\n",
       "</span></pre>\n"
      ],
      "text/plain": [
       "\u001b[33mCollecting ml-dtypes>=0.0.3\n",
       "\u001b[0m"
      ]
     },
     "metadata": {},
     "output_type": "display_data"
    },
    {
     "data": {
      "text/html": [
       "<pre style=\"white-space:pre;overflow-x:auto;line-height:normal;font-family:Menlo,'DejaVu Sans Mono',consolas,'Courier New',monospace\"><span style=\"color: #808000; text-decoration-color: #808000\">  Downloading ml_dtypes-0.1.0-cp38-cp38-manylinux_2_17_x86_64.manylinux2014_x86_64.whl (190 kB)\n",
       "</span></pre>\n"
      ],
      "text/plain": [
       "\u001b[33m  Downloading ml_dtypes-0.1.0-cp38-cp38-manylinux_2_17_x86_64.manylinux2014_x86_64.whl (190 kB)\n",
       "\u001b[0m"
      ]
     },
     "metadata": {},
     "output_type": "display_data"
    },
    {
     "data": {
      "text/html": [
       "<pre style=\"white-space:pre;overflow-x:auto;line-height:normal;font-family:Menlo,'DejaVu Sans Mono',consolas,'Courier New',monospace\"><span style=\"color: #808000; text-decoration-color: #808000\">     ━━━━━━━━━━━━━━━━━━━━━━━━━━━━━━━━━━━━━ 190.6/190.6 kB 283.9 MB/s eta 0:00:00\n",
       "</span></pre>\n"
      ],
      "text/plain": [
       "\u001b[33m     ━━━━━━━━━━━━━━━━━━━━━━━━━━━━━━━━━━━━━ 190.6/190.6 kB 283.9 MB/s eta 0:00:00\n",
       "\u001b[0m"
      ]
     },
     "metadata": {},
     "output_type": "display_data"
    },
    {
     "data": {
      "text/html": [
       "<pre style=\"white-space:pre;overflow-x:auto;line-height:normal;font-family:Menlo,'DejaVu Sans Mono',consolas,'Courier New',monospace\"><span style=\"color: #808000; text-decoration-color: #808000\">Requirement already satisfied: scipy&gt;=1.7 in /usr/local/lib/python3.8/site-packages (from jax&gt;=0.3.15-&gt;tensorflow&lt;3,&gt;=2.12-&gt;tensorflow-data-validation) (1.10.1)\n",
       "</span></pre>\n"
      ],
      "text/plain": [
       "\u001b[33mRequirement already satisfied: scipy>=1.7 in /usr/local/lib/python3.8/site-packages (from jax>=0.3.15->tensorflow<3,>=2.12->tensorflow-data-validation) (1.10.1)\n",
       "\u001b[0m"
      ]
     },
     "metadata": {},
     "output_type": "display_data"
    },
    {
     "data": {
      "text/html": [
       "<pre style=\"white-space:pre;overflow-x:auto;line-height:normal;font-family:Menlo,'DejaVu Sans Mono',consolas,'Courier New',monospace\"><span style=\"color: #808000; text-decoration-color: #808000\">Requirement already satisfied: urllib3&lt;1.27,&gt;=1.21.1 in /usr/local/lib/python3.8/site-packages (from requests&lt;3.0.0,&gt;=2.24.0-&gt;apache-beam[gcp]&lt;3,&gt;=2.40-&gt;tensorflow-data-validation) (1.26.15)\n",
       "</span></pre>\n"
      ],
      "text/plain": [
       "\u001b[33mRequirement already satisfied: urllib3<1.27,>=1.21.1 in /usr/local/lib/python3.8/site-packages (from requests<3.0.0,>=2.24.0->apache-beam[gcp]<3,>=2.40->tensorflow-data-validation) (1.26.15)\n",
       "\u001b[0m"
      ]
     },
     "metadata": {},
     "output_type": "display_data"
    },
    {
     "data": {
      "text/html": [
       "<pre style=\"white-space:pre;overflow-x:auto;line-height:normal;font-family:Menlo,'DejaVu Sans Mono',consolas,'Courier New',monospace\"><span style=\"color: #808000; text-decoration-color: #808000\">Requirement already satisfied: certifi&gt;=2017.4.17 in /usr/local/lib/python3.8/site-packages (from requests&lt;3.0.0,&gt;=2.24.0-&gt;apache-beam[gcp]&lt;3,&gt;=2.40-&gt;tensorflow-data-validation) (2022.12.7)\n",
       "</span></pre>\n"
      ],
      "text/plain": [
       "\u001b[33mRequirement already satisfied: certifi>=2017.4.17 in /usr/local/lib/python3.8/site-packages (from requests<3.0.0,>=2.24.0->apache-beam[gcp]<3,>=2.40->tensorflow-data-validation) (2022.12.7)\n",
       "\u001b[0m"
      ]
     },
     "metadata": {},
     "output_type": "display_data"
    },
    {
     "data": {
      "text/html": [
       "<pre style=\"white-space:pre;overflow-x:auto;line-height:normal;font-family:Menlo,'DejaVu Sans Mono',consolas,'Courier New',monospace\"><span style=\"color: #808000; text-decoration-color: #808000\">Requirement already satisfied: idna&lt;4,&gt;=2.5 in /usr/local/lib/python3.8/site-packages (from requests&lt;3.0.0,&gt;=2.24.0-&gt;apache-beam[gcp]&lt;3,&gt;=2.40-&gt;tensorflow-data-validation) (3.4)\n",
       "</span></pre>\n"
      ],
      "text/plain": [
       "\u001b[33mRequirement already satisfied: idna<4,>=2.5 in /usr/local/lib/python3.8/site-packages (from requests<3.0.0,>=2.24.0->apache-beam[gcp]<3,>=2.40->tensorflow-data-validation) (3.4)\n",
       "\u001b[0m"
      ]
     },
     "metadata": {},
     "output_type": "display_data"
    },
    {
     "data": {
      "text/html": [
       "<pre style=\"white-space:pre;overflow-x:auto;line-height:normal;font-family:Menlo,'DejaVu Sans Mono',consolas,'Courier New',monospace\"><span style=\"color: #808000; text-decoration-color: #808000\">Requirement already satisfied: charset-normalizer&lt;4,&gt;=2 in /usr/local/lib/python3.8/site-packages (from requests&lt;3.0.0,&gt;=2.24.0-&gt;apache-beam[gcp]&lt;3,&gt;=2.40-&gt;tensorflow-data-validation) (2.1.1)\n",
       "</span></pre>\n"
      ],
      "text/plain": [
       "\u001b[33mRequirement already satisfied: charset-normalizer<4,>=2 in /usr/local/lib/python3.8/site-packages (from requests<3.0.0,>=2.24.0->apache-beam[gcp]<3,>=2.40->tensorflow-data-validation) (2.1.1)\n",
       "\u001b[0m"
      ]
     },
     "metadata": {},
     "output_type": "display_data"
    },
    {
     "data": {
      "text/html": [
       "<pre style=\"white-space:pre;overflow-x:auto;line-height:normal;font-family:Menlo,'DejaVu Sans Mono',consolas,'Courier New',monospace\"><span style=\"color: #808000; text-decoration-color: #808000\">Collecting werkzeug&gt;=1.0.1\n",
       "</span></pre>\n"
      ],
      "text/plain": [
       "\u001b[33mCollecting werkzeug>=1.0.1\n",
       "\u001b[0m"
      ]
     },
     "metadata": {},
     "output_type": "display_data"
    },
    {
     "data": {
      "text/html": [
       "<pre style=\"white-space:pre;overflow-x:auto;line-height:normal;font-family:Menlo,'DejaVu Sans Mono',consolas,'Courier New',monospace\"><span style=\"color: #808000; text-decoration-color: #808000\">  Downloading Werkzeug-2.3.2-py3-none-any.whl (242 kB)\n",
       "</span></pre>\n"
      ],
      "text/plain": [
       "\u001b[33m  Downloading Werkzeug-2.3.2-py3-none-any.whl (242 kB)\n",
       "\u001b[0m"
      ]
     },
     "metadata": {},
     "output_type": "display_data"
    },
    {
     "data": {
      "text/html": [
       "<pre style=\"white-space:pre;overflow-x:auto;line-height:normal;font-family:Menlo,'DejaVu Sans Mono',consolas,'Courier New',monospace\"><span style=\"color: #808000; text-decoration-color: #808000\">     ━━━━━━━━━━━━━━━━━━━━━━━━━━━━━━━━━━━━━ 242.2/242.2 kB 280.4 MB/s eta 0:00:00\n",
       "</span></pre>\n"
      ],
      "text/plain": [
       "\u001b[33m     ━━━━━━━━━━━━━━━━━━━━━━━━━━━━━━━━━━━━━ 242.2/242.2 kB 280.4 MB/s eta 0:00:00\n",
       "\u001b[0m"
      ]
     },
     "metadata": {},
     "output_type": "display_data"
    },
    {
     "data": {
      "text/html": [
       "<pre style=\"white-space:pre;overflow-x:auto;line-height:normal;font-family:Menlo,'DejaVu Sans Mono',consolas,'Courier New',monospace\"><span style=\"color: #808000; text-decoration-color: #808000\">Collecting google-auth-oauthlib&lt;1.1,&gt;=0.5\n",
       "</span></pre>\n"
      ],
      "text/plain": [
       "\u001b[33mCollecting google-auth-oauthlib<1.1,>=0.5\n",
       "\u001b[0m"
      ]
     },
     "metadata": {},
     "output_type": "display_data"
    },
    {
     "data": {
      "text/html": [
       "<pre style=\"white-space:pre;overflow-x:auto;line-height:normal;font-family:Menlo,'DejaVu Sans Mono',consolas,'Courier New',monospace\"><span style=\"color: #808000; text-decoration-color: #808000\">  Downloading google_auth_oauthlib-1.0.0-py2.py3-none-any.whl (18 kB)\n",
       "</span></pre>\n"
      ],
      "text/plain": [
       "\u001b[33m  Downloading google_auth_oauthlib-1.0.0-py2.py3-none-any.whl (18 kB)\n",
       "\u001b[0m"
      ]
     },
     "metadata": {},
     "output_type": "display_data"
    },
    {
     "data": {
      "text/html": [
       "<pre style=\"white-space:pre;overflow-x:auto;line-height:normal;font-family:Menlo,'DejaVu Sans Mono',consolas,'Courier New',monospace\"><span style=\"color: #808000; text-decoration-color: #808000\">Collecting tensorboard-plugin-wit&gt;=1.6.0\n",
       "</span></pre>\n"
      ],
      "text/plain": [
       "\u001b[33mCollecting tensorboard-plugin-wit>=1.6.0\n",
       "\u001b[0m"
      ]
     },
     "metadata": {},
     "output_type": "display_data"
    },
    {
     "data": {
      "text/html": [
       "<pre style=\"white-space:pre;overflow-x:auto;line-height:normal;font-family:Menlo,'DejaVu Sans Mono',consolas,'Courier New',monospace\"><span style=\"color: #808000; text-decoration-color: #808000\">  Downloading tensorboard_plugin_wit-1.8.1-py3-none-any.whl (781 kB)\n",
       "</span></pre>\n"
      ],
      "text/plain": [
       "\u001b[33m  Downloading tensorboard_plugin_wit-1.8.1-py3-none-any.whl (781 kB)\n",
       "\u001b[0m"
      ]
     },
     "metadata": {},
     "output_type": "display_data"
    },
    {
     "data": {
      "text/html": [
       "<pre style=\"white-space:pre;overflow-x:auto;line-height:normal;font-family:Menlo,'DejaVu Sans Mono',consolas,'Courier New',monospace\"><span style=\"color: #808000; text-decoration-color: #808000\">     ━━━━━━━━━━━━━━━━━━━━━━━━━━━━━━━━━━━━━ 781.3/781.3 kB 275.9 MB/s eta 0:00:00\n",
       "</span></pre>\n"
      ],
      "text/plain": [
       "\u001b[33m     ━━━━━━━━━━━━━━━━━━━━━━━━━━━━━━━━━━━━━ 781.3/781.3 kB 275.9 MB/s eta 0:00:00\n",
       "\u001b[0m"
      ]
     },
     "metadata": {},
     "output_type": "display_data"
    },
    {
     "data": {
      "text/html": [
       "<pre style=\"white-space:pre;overflow-x:auto;line-height:normal;font-family:Menlo,'DejaVu Sans Mono',consolas,'Courier New',monospace\"><span style=\"color: #808000; text-decoration-color: #808000\">Collecting markdown&gt;=2.6.8\n",
       "</span></pre>\n"
      ],
      "text/plain": [
       "\u001b[33mCollecting markdown>=2.6.8\n",
       "\u001b[0m"
      ]
     },
     "metadata": {},
     "output_type": "display_data"
    },
    {
     "data": {
      "text/html": [
       "<pre style=\"white-space:pre;overflow-x:auto;line-height:normal;font-family:Menlo,'DejaVu Sans Mono',consolas,'Courier New',monospace\"><span style=\"color: #808000; text-decoration-color: #808000\">  Downloading Markdown-3.4.3-py3-none-any.whl (93 kB)\n",
       "</span></pre>\n"
      ],
      "text/plain": [
       "\u001b[33m  Downloading Markdown-3.4.3-py3-none-any.whl (93 kB)\n",
       "\u001b[0m"
      ]
     },
     "metadata": {},
     "output_type": "display_data"
    },
    {
     "data": {
      "text/html": [
       "<pre style=\"white-space:pre;overflow-x:auto;line-height:normal;font-family:Menlo,'DejaVu Sans Mono',consolas,'Courier New',monospace\"><span style=\"color: #808000; text-decoration-color: #808000\">     ━━━━━━━━━━━━━━━━━━━━━━━━━━━━━━━━━━━━━━━ 93.9/93.9 kB 253.6 MB/s eta 0:00:00\n",
       "</span></pre>\n"
      ],
      "text/plain": [
       "\u001b[33m     ━━━━━━━━━━━━━━━━━━━━━━━━━━━━━━━━━━━━━━━ 93.9/93.9 kB 253.6 MB/s eta 0:00:00\n",
       "\u001b[0m"
      ]
     },
     "metadata": {},
     "output_type": "display_data"
    },
    {
     "data": {
      "text/html": [
       "<pre style=\"white-space:pre;overflow-x:auto;line-height:normal;font-family:Menlo,'DejaVu Sans Mono',consolas,'Courier New',monospace\"><span style=\"color: #808000; text-decoration-color: #808000\">Collecting tensorboard-data-server&lt;0.8.0,&gt;=0.7.0\n",
       "</span></pre>\n"
      ],
      "text/plain": [
       "\u001b[33mCollecting tensorboard-data-server<0.8.0,>=0.7.0\n",
       "\u001b[0m"
      ]
     },
     "metadata": {},
     "output_type": "display_data"
    },
    {
     "data": {
      "text/html": [
       "<pre style=\"white-space:pre;overflow-x:auto;line-height:normal;font-family:Menlo,'DejaVu Sans Mono',consolas,'Courier New',monospace\"><span style=\"color: #808000; text-decoration-color: #808000\">  Downloading tensorboard_data_server-0.7.0-py3-none-manylinux2014_x86_64.whl (6.6 MB)\n",
       "</span></pre>\n"
      ],
      "text/plain": [
       "\u001b[33m  Downloading tensorboard_data_server-0.7.0-py3-none-manylinux2014_x86_64.whl (6.6 MB)\n",
       "\u001b[0m"
      ]
     },
     "metadata": {},
     "output_type": "display_data"
    },
    {
     "data": {
      "text/html": [
       "<pre style=\"white-space:pre;overflow-x:auto;line-height:normal;font-family:Menlo,'DejaVu Sans Mono',consolas,'Courier New',monospace\"><span style=\"color: #808000; text-decoration-color: #808000\">     ━━━━━━━━━━━━━━━━━━━━━━━━━━━━━━━━━━━━━━━━ 6.6/6.6 MB 213.0 MB/s eta 0:00:00\n",
       "</span></pre>\n"
      ],
      "text/plain": [
       "\u001b[33m     ━━━━━━━━━━━━━━━━━━━━━━━━━━━━━━━━━━━━━━━━ 6.6/6.6 MB 213.0 MB/s eta 0:00:00\n",
       "\u001b[0m"
      ]
     },
     "metadata": {},
     "output_type": "display_data"
    },
    {
     "data": {
      "text/html": [
       "<pre style=\"white-space:pre;overflow-x:auto;line-height:normal;font-family:Menlo,'DejaVu Sans Mono',consolas,'Courier New',monospace\"><span style=\"color: #808000; text-decoration-color: #808000\">Collecting tensorflow-serving-api!=2.0.*,!=2.1.*,!=2.2.*,!=2.3.*,!=2.4.*,!=2.5.*,!=2.6.*,!=2.7.*,!=2.8.*,&lt;3,&gt;=1.15\n",
       "</span></pre>\n"
      ],
      "text/plain": [
       "\u001b[33mCollecting tensorflow-serving-api!=2.0.*,!=2.1.*,!=2.2.*,!=2.3.*,!=2.4.*,!=2.5.*,!=2.6.*,!=2.7.*,!=2.8.*,<3,>=1.15\n",
       "\u001b[0m"
      ]
     },
     "metadata": {},
     "output_type": "display_data"
    },
    {
     "data": {
      "text/html": [
       "<pre style=\"white-space:pre;overflow-x:auto;line-height:normal;font-family:Menlo,'DejaVu Sans Mono',consolas,'Courier New',monospace\"><span style=\"color: #808000; text-decoration-color: #808000\">  Downloading tensorflow_serving_api-2.11.1-py2.py3-none-any.whl (37 kB)\n",
       "</span></pre>\n"
      ],
      "text/plain": [
       "\u001b[33m  Downloading tensorflow_serving_api-2.11.1-py2.py3-none-any.whl (37 kB)\n",
       "\u001b[0m"
      ]
     },
     "metadata": {},
     "output_type": "display_data"
    },
    {
     "data": {
      "text/html": [
       "<pre style=\"white-space:pre;overflow-x:auto;line-height:normal;font-family:Menlo,'DejaVu Sans Mono',consolas,'Courier New',monospace\"><span style=\"color: #808000; text-decoration-color: #808000\">  Downloading tensorflow_serving_api-2.11.0-py2.py3-none-any.whl (37 kB)\n",
       "</span></pre>\n"
      ],
      "text/plain": [
       "\u001b[33m  Downloading tensorflow_serving_api-2.11.0-py2.py3-none-any.whl (37 kB)\n",
       "\u001b[0m"
      ]
     },
     "metadata": {},
     "output_type": "display_data"
    },
    {
     "data": {
      "text/html": [
       "<pre style=\"white-space:pre;overflow-x:auto;line-height:normal;font-family:Menlo,'DejaVu Sans Mono',consolas,'Courier New',monospace\"><span style=\"color: #808000; text-decoration-color: #808000\">  Downloading tensorflow_serving_api-2.10.1-py2.py3-none-any.whl (37 kB)\n",
       "</span></pre>\n"
      ],
      "text/plain": [
       "\u001b[33m  Downloading tensorflow_serving_api-2.10.1-py2.py3-none-any.whl (37 kB)\n",
       "\u001b[0m"
      ]
     },
     "metadata": {},
     "output_type": "display_data"
    },
    {
     "data": {
      "text/html": [
       "<pre style=\"white-space:pre;overflow-x:auto;line-height:normal;font-family:Menlo,'DejaVu Sans Mono',consolas,'Courier New',monospace\"><span style=\"color: #808000; text-decoration-color: #808000\">Collecting requests-oauthlib&gt;=0.7.0\n",
       "</span></pre>\n"
      ],
      "text/plain": [
       "\u001b[33mCollecting requests-oauthlib>=0.7.0\n",
       "\u001b[0m"
      ]
     },
     "metadata": {},
     "output_type": "display_data"
    },
    {
     "data": {
      "text/html": [
       "<pre style=\"white-space:pre;overflow-x:auto;line-height:normal;font-family:Menlo,'DejaVu Sans Mono',consolas,'Courier New',monospace\"><span style=\"color: #808000; text-decoration-color: #808000\">  Downloading requests_oauthlib-1.3.1-py2.py3-none-any.whl (23 kB)\n",
       "</span></pre>\n"
      ],
      "text/plain": [
       "\u001b[33m  Downloading requests_oauthlib-1.3.1-py2.py3-none-any.whl (23 kB)\n",
       "\u001b[0m"
      ]
     },
     "metadata": {},
     "output_type": "display_data"
    },
    {
     "data": {
      "text/html": [
       "<pre style=\"white-space:pre;overflow-x:auto;line-height:normal;font-family:Menlo,'DejaVu Sans Mono',consolas,'Courier New',monospace\"><span style=\"color: #808000; text-decoration-color: #808000\">Collecting google-crc32c&lt;2.0dev,&gt;=1.0\n",
       "</span></pre>\n"
      ],
      "text/plain": [
       "\u001b[33mCollecting google-crc32c<2.0dev,>=1.0\n",
       "\u001b[0m"
      ]
     },
     "metadata": {},
     "output_type": "display_data"
    },
    {
     "data": {
      "text/html": [
       "<pre style=\"white-space:pre;overflow-x:auto;line-height:normal;font-family:Menlo,'DejaVu Sans Mono',consolas,'Courier New',monospace\"><span style=\"color: #808000; text-decoration-color: #808000\">  Downloading google_crc32c-1.5.0-cp38-cp38-manylinux_2_17_x86_64.manylinux2014_x86_64.whl (32 kB)\n",
       "</span></pre>\n"
      ],
      "text/plain": [
       "\u001b[33m  Downloading google_crc32c-1.5.0-cp38-cp38-manylinux_2_17_x86_64.manylinux2014_x86_64.whl (32 kB)\n",
       "\u001b[0m"
      ]
     },
     "metadata": {},
     "output_type": "display_data"
    },
    {
     "data": {
      "text/html": [
       "<pre style=\"white-space:pre;overflow-x:auto;line-height:normal;font-family:Menlo,'DejaVu Sans Mono',consolas,'Courier New',monospace\"><span style=\"color: #808000; text-decoration-color: #808000\">Collecting grpcio-status&gt;=1.33.2\n",
       "</span></pre>\n"
      ],
      "text/plain": [
       "\u001b[33mCollecting grpcio-status>=1.33.2\n",
       "\u001b[0m"
      ]
     },
     "metadata": {},
     "output_type": "display_data"
    },
    {
     "data": {
      "text/html": [
       "<pre style=\"white-space:pre;overflow-x:auto;line-height:normal;font-family:Menlo,'DejaVu Sans Mono',consolas,'Courier New',monospace\"><span style=\"color: #808000; text-decoration-color: #808000\">  Downloading grpcio_status-1.53.0-py3-none-any.whl (5.1 kB)\n",
       "</span></pre>\n"
      ],
      "text/plain": [
       "\u001b[33m  Downloading grpcio_status-1.53.0-py3-none-any.whl (5.1 kB)\n",
       "\u001b[0m"
      ]
     },
     "metadata": {},
     "output_type": "display_data"
    },
    {
     "data": {
      "text/html": [
       "<pre style=\"white-space:pre;overflow-x:auto;line-height:normal;font-family:Menlo,'DejaVu Sans Mono',consolas,'Courier New',monospace\"><span style=\"color: #808000; text-decoration-color: #808000\">  Downloading grpcio_status-1.51.3-py3-none-any.whl (5.1 kB)\n",
       "</span></pre>\n"
      ],
      "text/plain": [
       "\u001b[33m  Downloading grpcio_status-1.51.3-py3-none-any.whl (5.1 kB)\n",
       "\u001b[0m"
      ]
     },
     "metadata": {},
     "output_type": "display_data"
    },
    {
     "data": {
      "text/html": [
       "<pre style=\"white-space:pre;overflow-x:auto;line-height:normal;font-family:Menlo,'DejaVu Sans Mono',consolas,'Courier New',monospace\"><span style=\"color: #808000; text-decoration-color: #808000\">  Downloading grpcio_status-1.51.1-py3-none-any.whl (5.1 kB)\n",
       "</span></pre>\n"
      ],
      "text/plain": [
       "\u001b[33m  Downloading grpcio_status-1.51.1-py3-none-any.whl (5.1 kB)\n",
       "\u001b[0m"
      ]
     },
     "metadata": {},
     "output_type": "display_data"
    },
    {
     "data": {
      "text/html": [
       "<pre style=\"white-space:pre;overflow-x:auto;line-height:normal;font-family:Menlo,'DejaVu Sans Mono',consolas,'Courier New',monospace\"><span style=\"color: #808000; text-decoration-color: #808000\">  Downloading grpcio_status-1.50.0-py3-none-any.whl (14 kB)\n",
       "</span></pre>\n"
      ],
      "text/plain": [
       "\u001b[33m  Downloading grpcio_status-1.50.0-py3-none-any.whl (14 kB)\n",
       "\u001b[0m"
      ]
     },
     "metadata": {},
     "output_type": "display_data"
    },
    {
     "data": {
      "text/html": [
       "<pre style=\"white-space:pre;overflow-x:auto;line-height:normal;font-family:Menlo,'DejaVu Sans Mono',consolas,'Courier New',monospace\"><span style=\"color: #808000; text-decoration-color: #808000\">  Downloading grpcio_status-1.49.1-py3-none-any.whl (14 kB)\n",
       "</span></pre>\n"
      ],
      "text/plain": [
       "\u001b[33m  Downloading grpcio_status-1.49.1-py3-none-any.whl (14 kB)\n",
       "\u001b[0m"
      ]
     },
     "metadata": {},
     "output_type": "display_data"
    },
    {
     "data": {
      "text/html": [
       "<pre style=\"white-space:pre;overflow-x:auto;line-height:normal;font-family:Menlo,'DejaVu Sans Mono',consolas,'Courier New',monospace\"><span style=\"color: #808000; text-decoration-color: #808000\">  Downloading grpcio_status-1.48.2-py3-none-any.whl (14 kB)\n",
       "</span></pre>\n"
      ],
      "text/plain": [
       "\u001b[33m  Downloading grpcio_status-1.48.2-py3-none-any.whl (14 kB)\n",
       "\u001b[0m"
      ]
     },
     "metadata": {},
     "output_type": "display_data"
    },
    {
     "data": {
      "text/html": [
       "<pre style=\"white-space:pre;overflow-x:auto;line-height:normal;font-family:Menlo,'DejaVu Sans Mono',consolas,'Courier New',monospace\"><span style=\"color: #808000; text-decoration-color: #808000\">Requirement already satisfied: importlib-metadata&gt;=4.4 in /usr/local/lib/python3.8/site-packages (from markdown&gt;=2.6.8-&gt;tensorboard&lt;2.13,&gt;=2.12-&gt;tensorflow&lt;3,&gt;=2.12-&gt;tensorflow-data-validation) (6.6.0)\n",
       "</span></pre>\n"
      ],
      "text/plain": [
       "\u001b[33mRequirement already satisfied: importlib-metadata>=4.4 in /usr/local/lib/python3.8/site-packages (from markdown>=2.6.8->tensorboard<2.13,>=2.12->tensorflow<3,>=2.12->tensorflow-data-validation) (6.6.0)\n",
       "\u001b[0m"
      ]
     },
     "metadata": {},
     "output_type": "display_data"
    },
    {
     "data": {
      "text/html": [
       "<pre style=\"white-space:pre;overflow-x:auto;line-height:normal;font-family:Menlo,'DejaVu Sans Mono',consolas,'Courier New',monospace\"><span style=\"color: #808000; text-decoration-color: #808000\">Collecting pyasn1&gt;=0.1.7\n",
       "</span></pre>\n"
      ],
      "text/plain": [
       "\u001b[33mCollecting pyasn1>=0.1.7\n",
       "\u001b[0m"
      ]
     },
     "metadata": {},
     "output_type": "display_data"
    },
    {
     "data": {
      "text/html": [
       "<pre style=\"white-space:pre;overflow-x:auto;line-height:normal;font-family:Menlo,'DejaVu Sans Mono',consolas,'Courier New',monospace\"><span style=\"color: #808000; text-decoration-color: #808000\">  Downloading pyasn1-0.5.0-py2.py3-none-any.whl (83 kB)\n",
       "</span></pre>\n"
      ],
      "text/plain": [
       "\u001b[33m  Downloading pyasn1-0.5.0-py2.py3-none-any.whl (83 kB)\n",
       "\u001b[0m"
      ]
     },
     "metadata": {},
     "output_type": "display_data"
    },
    {
     "data": {
      "text/html": [
       "<pre style=\"white-space:pre;overflow-x:auto;line-height:normal;font-family:Menlo,'DejaVu Sans Mono',consolas,'Courier New',monospace\"><span style=\"color: #808000; text-decoration-color: #808000\">     ━━━━━━━━━━━━━━━━━━━━━━━━━━━━━━━━━━━━━━━ 83.9/83.9 kB 228.9 MB/s eta 0:00:00\n",
       "</span></pre>\n"
      ],
      "text/plain": [
       "\u001b[33m     ━━━━━━━━━━━━━━━━━━━━━━━━━━━━━━━━━━━━━━━ 83.9/83.9 kB 228.9 MB/s eta 0:00:00\n",
       "\u001b[0m"
      ]
     },
     "metadata": {},
     "output_type": "display_data"
    },
    {
     "data": {
      "text/html": [
       "<pre style=\"white-space:pre;overflow-x:auto;line-height:normal;font-family:Menlo,'DejaVu Sans Mono',consolas,'Courier New',monospace\"><span style=\"color: #808000; text-decoration-color: #808000\">Requirement already satisfied: MarkupSafe&gt;=2.1.1 in /usr/local/lib/python3.8/site-packages (from werkzeug&gt;=1.0.1-&gt;tensorboard&lt;2.13,&gt;=2.12-&gt;tensorflow&lt;3,&gt;=2.12-&gt;tensorflow-data-validation) (2.1.2)\n",
       "</span></pre>\n"
      ],
      "text/plain": [
       "\u001b[33mRequirement already satisfied: MarkupSafe>=2.1.1 in /usr/local/lib/python3.8/site-packages (from werkzeug>=1.0.1->tensorboard<2.13,>=2.12->tensorflow<3,>=2.12->tensorflow-data-validation) (2.1.2)\n",
       "\u001b[0m"
      ]
     },
     "metadata": {},
     "output_type": "display_data"
    },
    {
     "data": {
      "text/html": [
       "<pre style=\"white-space:pre;overflow-x:auto;line-height:normal;font-family:Menlo,'DejaVu Sans Mono',consolas,'Courier New',monospace\"><span style=\"color: #808000; text-decoration-color: #808000\">Requirement already satisfied: zipp&gt;=0.5 in /usr/local/lib/python3.8/site-packages (from importlib-metadata&gt;=4.4-&gt;markdown&gt;=2.6.8-&gt;tensorboard&lt;2.13,&gt;=2.12-&gt;tensorflow&lt;3,&gt;=2.12-&gt;tensorflow-data-validation) (3.15.0)\n",
       "</span></pre>\n"
      ],
      "text/plain": [
       "\u001b[33mRequirement already satisfied: zipp>=0.5 in /usr/local/lib/python3.8/site-packages (from importlib-metadata>=4.4->markdown>=2.6.8->tensorboard<2.13,>=2.12->tensorflow<3,>=2.12->tensorflow-data-validation) (3.15.0)\n",
       "\u001b[0m"
      ]
     },
     "metadata": {},
     "output_type": "display_data"
    },
    {
     "data": {
      "text/html": [
       "<pre style=\"white-space:pre;overflow-x:auto;line-height:normal;font-family:Menlo,'DejaVu Sans Mono',consolas,'Courier New',monospace\"><span style=\"color: #808000; text-decoration-color: #808000\">Collecting oauthlib&gt;=3.0.0\n",
       "</span></pre>\n"
      ],
      "text/plain": [
       "\u001b[33mCollecting oauthlib>=3.0.0\n",
       "\u001b[0m"
      ]
     },
     "metadata": {},
     "output_type": "display_data"
    },
    {
     "data": {
      "text/html": [
       "<pre style=\"white-space:pre;overflow-x:auto;line-height:normal;font-family:Menlo,'DejaVu Sans Mono',consolas,'Courier New',monospace\"><span style=\"color: #808000; text-decoration-color: #808000\">  Downloading oauthlib-3.2.2-py3-none-any.whl (151 kB)\n",
       "</span></pre>\n"
      ],
      "text/plain": [
       "\u001b[33m  Downloading oauthlib-3.2.2-py3-none-any.whl (151 kB)\n",
       "\u001b[0m"
      ]
     },
     "metadata": {},
     "output_type": "display_data"
    },
    {
     "data": {
      "text/html": [
       "<pre style=\"white-space:pre;overflow-x:auto;line-height:normal;font-family:Menlo,'DejaVu Sans Mono',consolas,'Courier New',monospace\"><span style=\"color: #808000; text-decoration-color: #808000\">     ━━━━━━━━━━━━━━━━━━━━━━━━━━━━━━━━━━━━━ 151.7/151.7 kB 259.2 MB/s eta 0:00:00\n",
       "</span></pre>\n"
      ],
      "text/plain": [
       "\u001b[33m     ━━━━━━━━━━━━━━━━━━━━━━━━━━━━━━━━━━━━━ 151.7/151.7 kB 259.2 MB/s eta 0:00:00\n",
       "\u001b[0m"
      ]
     },
     "metadata": {},
     "output_type": "display_data"
    },
    {
     "data": {
      "text/html": [
       "<pre style=\"white-space:pre;overflow-x:auto;line-height:normal;font-family:Menlo,'DejaVu Sans Mono',consolas,'Courier New',monospace\"><span style=\"color: #808000; text-decoration-color: #808000\">Building wheels for collected packages: pyfarmhash, crcmod, dill, google-apitools, jax, docopt\n",
       "</span></pre>\n"
      ],
      "text/plain": [
       "\u001b[33mBuilding wheels for collected packages: pyfarmhash, crcmod, dill, google-apitools, jax, docopt\n",
       "\u001b[0m"
      ]
     },
     "metadata": {},
     "output_type": "display_data"
    },
    {
     "data": {
      "text/html": [
       "<pre style=\"white-space:pre;overflow-x:auto;line-height:normal;font-family:Menlo,'DejaVu Sans Mono',consolas,'Courier New',monospace\"><span style=\"color: #808000; text-decoration-color: #808000\">  Building wheel for pyfarmhash (setup.py): started\n",
       "</span></pre>\n"
      ],
      "text/plain": [
       "\u001b[33m  Building wheel for pyfarmhash (setup.py): started\n",
       "\u001b[0m"
      ]
     },
     "metadata": {},
     "output_type": "display_data"
    },
    {
     "data": {
      "text/html": [
       "<pre style=\"white-space:pre;overflow-x:auto;line-height:normal;font-family:Menlo,'DejaVu Sans Mono',consolas,'Courier New',monospace\"><span style=\"color: #808000; text-decoration-color: #808000\">  Building wheel for pyfarmhash (setup.py): finished with status 'done'\n",
       "</span></pre>\n"
      ],
      "text/plain": [
       "\u001b[33m  Building wheel for pyfarmhash (setup.py): finished with status 'done'\n",
       "\u001b[0m"
      ]
     },
     "metadata": {},
     "output_type": "display_data"
    },
    {
     "data": {
      "text/html": [
       "<pre style=\"white-space:pre;overflow-x:auto;line-height:normal;font-family:Menlo,'DejaVu Sans Mono',consolas,'Courier New',monospace\"><span style=\"color: #808000; text-decoration-color: #808000\">  Created wheel for pyfarmhash: filename=pyfarmhash-0.3.2-cp38-cp38-linux_x86_64.whl size=12807 sha256=fe4fc776c956c76f4d5dc4db22dea9e82363bee804af1ddc56dc5c9143fc95ed\n",
       "</span></pre>\n"
      ],
      "text/plain": [
       "\u001b[33m  Created wheel for pyfarmhash: filename=pyfarmhash-0.3.2-cp38-cp38-linux_x86_64.whl size=12807 sha256=fe4fc776c956c76f4d5dc4db22dea9e82363bee804af1ddc56dc5c9143fc95ed\n",
       "\u001b[0m"
      ]
     },
     "metadata": {},
     "output_type": "display_data"
    },
    {
     "data": {
      "text/html": [
       "<pre style=\"white-space:pre;overflow-x:auto;line-height:normal;font-family:Menlo,'DejaVu Sans Mono',consolas,'Courier New',monospace\"><span style=\"color: #808000; text-decoration-color: #808000\">  Stored in directory: /tmp/pip-ephem-wheel-cache-l1ufqqjs/wheels/ef/32/a2/5f89be144e6e691c3566245279d78d89253e2d3414a842cd35\n",
       "</span></pre>\n"
      ],
      "text/plain": [
       "\u001b[33m  Stored in directory: /tmp/pip-ephem-wheel-cache-l1ufqqjs/wheels/ef/32/a2/5f89be144e6e691c3566245279d78d89253e2d3414a842cd35\n",
       "\u001b[0m"
      ]
     },
     "metadata": {},
     "output_type": "display_data"
    },
    {
     "data": {
      "text/html": [
       "<pre style=\"white-space:pre;overflow-x:auto;line-height:normal;font-family:Menlo,'DejaVu Sans Mono',consolas,'Courier New',monospace\"><span style=\"color: #808000; text-decoration-color: #808000\">  Building wheel for crcmod (setup.py): started\n",
       "</span></pre>\n"
      ],
      "text/plain": [
       "\u001b[33m  Building wheel for crcmod (setup.py): started\n",
       "\u001b[0m"
      ]
     },
     "metadata": {},
     "output_type": "display_data"
    },
    {
     "data": {
      "text/html": [
       "<pre style=\"white-space:pre;overflow-x:auto;line-height:normal;font-family:Menlo,'DejaVu Sans Mono',consolas,'Courier New',monospace\"><span style=\"color: #808000; text-decoration-color: #808000\">  Building wheel for crcmod (setup.py): finished with status 'done'\n",
       "</span></pre>\n"
      ],
      "text/plain": [
       "\u001b[33m  Building wheel for crcmod (setup.py): finished with status 'done'\n",
       "\u001b[0m"
      ]
     },
     "metadata": {},
     "output_type": "display_data"
    },
    {
     "data": {
      "text/html": [
       "<pre style=\"white-space:pre;overflow-x:auto;line-height:normal;font-family:Menlo,'DejaVu Sans Mono',consolas,'Courier New',monospace\"><span style=\"color: #808000; text-decoration-color: #808000\">  Created wheel for crcmod: filename=crcmod-1.7-cp38-cp38-linux_x86_64.whl size=22470 sha256=0b42dc479e6311c46f87daa96f7bfc2b6035793253617b1c47f953c0b742ef3b\n",
       "</span></pre>\n"
      ],
      "text/plain": [
       "\u001b[33m  Created wheel for crcmod: filename=crcmod-1.7-cp38-cp38-linux_x86_64.whl size=22470 sha256=0b42dc479e6311c46f87daa96f7bfc2b6035793253617b1c47f953c0b742ef3b\n",
       "\u001b[0m"
      ]
     },
     "metadata": {},
     "output_type": "display_data"
    },
    {
     "data": {
      "text/html": [
       "<pre style=\"white-space:pre;overflow-x:auto;line-height:normal;font-family:Menlo,'DejaVu Sans Mono',consolas,'Courier New',monospace\"><span style=\"color: #808000; text-decoration-color: #808000\">  Stored in directory: /tmp/pip-ephem-wheel-cache-l1ufqqjs/wheels/ca/5a/02/f3acf982a026f3319fb3e798a8dca2d48fafee7761788562e9\n",
       "</span></pre>\n"
      ],
      "text/plain": [
       "\u001b[33m  Stored in directory: /tmp/pip-ephem-wheel-cache-l1ufqqjs/wheels/ca/5a/02/f3acf982a026f3319fb3e798a8dca2d48fafee7761788562e9\n",
       "\u001b[0m"
      ]
     },
     "metadata": {},
     "output_type": "display_data"
    },
    {
     "data": {
      "text/html": [
       "<pre style=\"white-space:pre;overflow-x:auto;line-height:normal;font-family:Menlo,'DejaVu Sans Mono',consolas,'Courier New',monospace\"><span style=\"color: #808000; text-decoration-color: #808000\">  Building wheel for dill (setup.py): started\n",
       "</span></pre>\n"
      ],
      "text/plain": [
       "\u001b[33m  Building wheel for dill (setup.py): started\n",
       "\u001b[0m"
      ]
     },
     "metadata": {},
     "output_type": "display_data"
    },
    {
     "data": {
      "text/html": [
       "<pre style=\"white-space:pre;overflow-x:auto;line-height:normal;font-family:Menlo,'DejaVu Sans Mono',consolas,'Courier New',monospace\"><span style=\"color: #808000; text-decoration-color: #808000\">  Building wheel for dill (setup.py): finished with status 'done'\n",
       "</span></pre>\n"
      ],
      "text/plain": [
       "\u001b[33m  Building wheel for dill (setup.py): finished with status 'done'\n",
       "\u001b[0m"
      ]
     },
     "metadata": {},
     "output_type": "display_data"
    },
    {
     "data": {
      "text/html": [
       "<pre style=\"white-space:pre;overflow-x:auto;line-height:normal;font-family:Menlo,'DejaVu Sans Mono',consolas,'Courier New',monospace\"><span style=\"color: #808000; text-decoration-color: #808000\">  Created wheel for dill: filename=dill-0.3.1.1-py3-none-any.whl size=78544 sha256=832824ee4a1a42c4c3a6d8449ec6ceb2e3467abb6c5b808c2fa615c66511df3c\n",
       "</span></pre>\n"
      ],
      "text/plain": [
       "\u001b[33m  Created wheel for dill: filename=dill-0.3.1.1-py3-none-any.whl size=78544 sha256=832824ee4a1a42c4c3a6d8449ec6ceb2e3467abb6c5b808c2fa615c66511df3c\n",
       "\u001b[0m"
      ]
     },
     "metadata": {},
     "output_type": "display_data"
    },
    {
     "data": {
      "text/html": [
       "<pre style=\"white-space:pre;overflow-x:auto;line-height:normal;font-family:Menlo,'DejaVu Sans Mono',consolas,'Courier New',monospace\"><span style=\"color: #808000; text-decoration-color: #808000\">  Stored in directory: /tmp/pip-ephem-wheel-cache-l1ufqqjs/wheels/07/35/78/e9004fa30578734db7f10e7a211605f3f0778d2bdde38a239d\n",
       "</span></pre>\n"
      ],
      "text/plain": [
       "\u001b[33m  Stored in directory: /tmp/pip-ephem-wheel-cache-l1ufqqjs/wheels/07/35/78/e9004fa30578734db7f10e7a211605f3f0778d2bdde38a239d\n",
       "\u001b[0m"
      ]
     },
     "metadata": {},
     "output_type": "display_data"
    },
    {
     "data": {
      "text/html": [
       "<pre style=\"white-space:pre;overflow-x:auto;line-height:normal;font-family:Menlo,'DejaVu Sans Mono',consolas,'Courier New',monospace\"><span style=\"color: #808000; text-decoration-color: #808000\">  Building wheel for google-apitools (setup.py): started\n",
       "</span></pre>\n"
      ],
      "text/plain": [
       "\u001b[33m  Building wheel for google-apitools (setup.py): started\n",
       "\u001b[0m"
      ]
     },
     "metadata": {},
     "output_type": "display_data"
    },
    {
     "data": {
      "text/html": [
       "<pre style=\"white-space:pre;overflow-x:auto;line-height:normal;font-family:Menlo,'DejaVu Sans Mono',consolas,'Courier New',monospace\"><span style=\"color: #808000; text-decoration-color: #808000\">  Building wheel for google-apitools (setup.py): finished with status 'done'\n",
       "</span></pre>\n"
      ],
      "text/plain": [
       "\u001b[33m  Building wheel for google-apitools (setup.py): finished with status 'done'\n",
       "\u001b[0m"
      ]
     },
     "metadata": {},
     "output_type": "display_data"
    },
    {
     "data": {
      "text/html": [
       "<pre style=\"white-space:pre;overflow-x:auto;line-height:normal;font-family:Menlo,'DejaVu Sans Mono',consolas,'Courier New',monospace\"><span style=\"color: #808000; text-decoration-color: #808000\">  Created wheel for google-apitools: filename=google_apitools-0.5.31-py3-none-any.whl size=131041 sha256=9d1fceadc486eda001842cc8b2cab103048ad59d0debed802601c345e8354266\n",
       "</span></pre>\n"
      ],
      "text/plain": [
       "\u001b[33m  Created wheel for google-apitools: filename=google_apitools-0.5.31-py3-none-any.whl size=131041 sha256=9d1fceadc486eda001842cc8b2cab103048ad59d0debed802601c345e8354266\n",
       "\u001b[0m"
      ]
     },
     "metadata": {},
     "output_type": "display_data"
    },
    {
     "data": {
      "text/html": [
       "<pre style=\"white-space:pre;overflow-x:auto;line-height:normal;font-family:Menlo,'DejaVu Sans Mono',consolas,'Courier New',monospace\"><span style=\"color: #808000; text-decoration-color: #808000\">  Stored in directory: /tmp/pip-ephem-wheel-cache-l1ufqqjs/wheels/d7/54/79/85de1824f2f4175fb4960c72afb10045d86700c3941dc73685\n",
       "</span></pre>\n"
      ],
      "text/plain": [
       "\u001b[33m  Stored in directory: /tmp/pip-ephem-wheel-cache-l1ufqqjs/wheels/d7/54/79/85de1824f2f4175fb4960c72afb10045d86700c3941dc73685\n",
       "\u001b[0m"
      ]
     },
     "metadata": {},
     "output_type": "display_data"
    },
    {
     "data": {
      "text/html": [
       "<pre style=\"white-space:pre;overflow-x:auto;line-height:normal;font-family:Menlo,'DejaVu Sans Mono',consolas,'Courier New',monospace\"><span style=\"color: #808000; text-decoration-color: #808000\">  Building wheel for jax (pyproject.toml): started\n",
       "</span></pre>\n"
      ],
      "text/plain": [
       "\u001b[33m  Building wheel for jax (pyproject.toml): started\n",
       "\u001b[0m"
      ]
     },
     "metadata": {},
     "output_type": "display_data"
    },
    {
     "data": {
      "text/html": [
       "<pre style=\"white-space:pre;overflow-x:auto;line-height:normal;font-family:Menlo,'DejaVu Sans Mono',consolas,'Courier New',monospace\"><span style=\"color: #808000; text-decoration-color: #808000\">  Building wheel for jax (pyproject.toml): finished with status 'done'\n",
       "</span></pre>\n"
      ],
      "text/plain": [
       "\u001b[33m  Building wheel for jax (pyproject.toml): finished with status 'done'\n",
       "\u001b[0m"
      ]
     },
     "metadata": {},
     "output_type": "display_data"
    },
    {
     "data": {
      "text/html": [
       "<pre style=\"white-space:pre;overflow-x:auto;line-height:normal;font-family:Menlo,'DejaVu Sans Mono',consolas,'Courier New',monospace\"><span style=\"color: #808000; text-decoration-color: #808000\">  Created wheel for jax: filename=jax-0.4.8-py3-none-any.whl size=1439678 sha256=a7febf0222d83bbc3ed5d413fa0cb868327adb42e64d52c8156296cf363c0a3f\n",
       "</span></pre>\n"
      ],
      "text/plain": [
       "\u001b[33m  Created wheel for jax: filename=jax-0.4.8-py3-none-any.whl size=1439678 sha256=a7febf0222d83bbc3ed5d413fa0cb868327adb42e64d52c8156296cf363c0a3f\n",
       "\u001b[0m"
      ]
     },
     "metadata": {},
     "output_type": "display_data"
    },
    {
     "data": {
      "text/html": [
       "<pre style=\"white-space:pre;overflow-x:auto;line-height:normal;font-family:Menlo,'DejaVu Sans Mono',consolas,'Courier New',monospace\"><span style=\"color: #808000; text-decoration-color: #808000\">  Stored in directory: /tmp/pip-ephem-wheel-cache-l1ufqqjs/wheels/45/83/1e/3db22c5e1941c10e41c4f5cdf829b0a358146d4d0733d4a105\n",
       "</span></pre>\n"
      ],
      "text/plain": [
       "\u001b[33m  Stored in directory: /tmp/pip-ephem-wheel-cache-l1ufqqjs/wheels/45/83/1e/3db22c5e1941c10e41c4f5cdf829b0a358146d4d0733d4a105\n",
       "\u001b[0m"
      ]
     },
     "metadata": {},
     "output_type": "display_data"
    },
    {
     "data": {
      "text/html": [
       "<pre style=\"white-space:pre;overflow-x:auto;line-height:normal;font-family:Menlo,'DejaVu Sans Mono',consolas,'Courier New',monospace\"><span style=\"color: #808000; text-decoration-color: #808000\">  Building wheel for docopt (setup.py): started\n",
       "</span></pre>\n"
      ],
      "text/plain": [
       "\u001b[33m  Building wheel for docopt (setup.py): started\n",
       "\u001b[0m"
      ]
     },
     "metadata": {},
     "output_type": "display_data"
    },
    {
     "data": {
      "text/html": [
       "<pre style=\"white-space:pre;overflow-x:auto;line-height:normal;font-family:Menlo,'DejaVu Sans Mono',consolas,'Courier New',monospace\"><span style=\"color: #808000; text-decoration-color: #808000\">  Building wheel for docopt (setup.py): finished with status 'done'\n",
       "</span></pre>\n"
      ],
      "text/plain": [
       "\u001b[33m  Building wheel for docopt (setup.py): finished with status 'done'\n",
       "\u001b[0m"
      ]
     },
     "metadata": {},
     "output_type": "display_data"
    },
    {
     "data": {
      "text/html": [
       "<pre style=\"white-space:pre;overflow-x:auto;line-height:normal;font-family:Menlo,'DejaVu Sans Mono',consolas,'Courier New',monospace\"><span style=\"color: #808000; text-decoration-color: #808000\">  Created wheel for docopt: filename=docopt-0.6.2-py2.py3-none-any.whl size=13723 sha256=ec7198736888efa7725abda70c4b4d5d313459e67cca2730661f7adbce6f4542\n",
       "</span></pre>\n"
      ],
      "text/plain": [
       "\u001b[33m  Created wheel for docopt: filename=docopt-0.6.2-py2.py3-none-any.whl size=13723 sha256=ec7198736888efa7725abda70c4b4d5d313459e67cca2730661f7adbce6f4542\n",
       "\u001b[0m"
      ]
     },
     "metadata": {},
     "output_type": "display_data"
    },
    {
     "data": {
      "text/html": [
       "<pre style=\"white-space:pre;overflow-x:auto;line-height:normal;font-family:Menlo,'DejaVu Sans Mono',consolas,'Courier New',monospace\"><span style=\"color: #808000; text-decoration-color: #808000\">  Stored in directory: /tmp/pip-ephem-wheel-cache-l1ufqqjs/wheels/56/ea/58/ead137b087d9e326852a851351d1debf4ada529b6ac0ec4e8c\n",
       "</span></pre>\n"
      ],
      "text/plain": [
       "\u001b[33m  Stored in directory: /tmp/pip-ephem-wheel-cache-l1ufqqjs/wheels/56/ea/58/ead137b087d9e326852a851351d1debf4ada529b6ac0ec4e8c\n",
       "\u001b[0m"
      ]
     },
     "metadata": {},
     "output_type": "display_data"
    },
    {
     "data": {
      "text/html": [
       "<pre style=\"white-space:pre;overflow-x:auto;line-height:normal;font-family:Menlo,'DejaVu Sans Mono',consolas,'Courier New',monospace\"><span style=\"color: #808000; text-decoration-color: #808000\">Successfully built pyfarmhash crcmod dill google-apitools jax docopt\n",
       "</span></pre>\n"
      ],
      "text/plain": [
       "\u001b[33mSuccessfully built pyfarmhash crcmod dill google-apitools jax docopt\n",
       "\u001b[0m"
      ]
     },
     "metadata": {},
     "output_type": "display_data"
    },
    {
     "data": {
      "text/html": [
       "<pre style=\"white-space:pre;overflow-x:auto;line-height:normal;font-family:Menlo,'DejaVu Sans Mono',consolas,'Courier New',monospace\"><span style=\"color: #808000; text-decoration-color: #808000\">Installing collected packages: tensorboard-plugin-wit, pyfarmhash, libclang, flatbuffers, docopt, crcmod, zstandard, wrapt, werkzeug, uritemplate, termcolor, tensorflow-io-gcs-filesystem, tensorflow-estimator, tensorboard-data-server, sqlparse, pymongo, pydot, pyasn1, protobuf, overrides, orjson, objsize, oauthlib, numpy, keras, httplib2, grpcio, google-pasta, google-crc32c, gast, fasteners, fastavro, dill, cloudpickle, cachetools, astunparse, absl-py, rsa, requests-oauthlib, pyasn1-modules, pyarrow, proto-plus, pandas, opt-einsum, ml-dtypes, markdown, hdfs, h5py, googleapis-common-protos, google-resumable-media, tensorflow_metadata, oauth2client, jax, grpcio-status, google-auth, apache-beam, grpc-google-iam-v1, google-auth-oauthlib, google-auth-httplib2, google-apitools, google-api-core, tensorboard, google-cloud-core, google-api-python-client, tensorflow, google-cloud-vision, google-cloud-videointelligence, google-cloud-spanner, google-cloud-recommendations-ai, google-cloud-pubsub, google-cloud-language, google-cloud-dlp, google-cloud-datastore, google-cloud-bigtable, google-cloud-bigquery-storage, google-cloud-bigquery, tensorflow-serving-api, google-cloud-pubsublite, tfx-bsl, tensorflow-data-validation\n",
       "</span></pre>\n"
      ],
      "text/plain": [
       "\u001b[33mInstalling collected packages: tensorboard-plugin-wit, pyfarmhash, libclang, flatbuffers, docopt, crcmod, zstandard, wrapt, werkzeug, uritemplate, termcolor, tensorflow-io-gcs-filesystem, tensorflow-estimator, tensorboard-data-server, sqlparse, pymongo, pydot, pyasn1, protobuf, overrides, orjson, objsize, oauthlib, numpy, keras, httplib2, grpcio, google-pasta, google-crc32c, gast, fasteners, fastavro, dill, cloudpickle, cachetools, astunparse, absl-py, rsa, requests-oauthlib, pyasn1-modules, pyarrow, proto-plus, pandas, opt-einsum, ml-dtypes, markdown, hdfs, h5py, googleapis-common-protos, google-resumable-media, tensorflow_metadata, oauth2client, jax, grpcio-status, google-auth, apache-beam, grpc-google-iam-v1, google-auth-oauthlib, google-auth-httplib2, google-apitools, google-api-core, tensorboard, google-cloud-core, google-api-python-client, tensorflow, google-cloud-vision, google-cloud-videointelligence, google-cloud-spanner, google-cloud-recommendations-ai, google-cloud-pubsub, google-cloud-language, google-cloud-dlp, google-cloud-datastore, google-cloud-bigtable, google-cloud-bigquery-storage, google-cloud-bigquery, tensorflow-serving-api, google-cloud-pubsublite, tfx-bsl, tensorflow-data-validation\n",
       "\u001b[0m"
      ]
     },
     "metadata": {},
     "output_type": "display_data"
    },
    {
     "data": {
      "text/html": [
       "<pre style=\"white-space:pre;overflow-x:auto;line-height:normal;font-family:Menlo,'DejaVu Sans Mono',consolas,'Courier New',monospace\"><span style=\"color: #808000; text-decoration-color: #808000\">  Attempting uninstall: protobuf\n",
       "</span></pre>\n"
      ],
      "text/plain": [
       "\u001b[33m  Attempting uninstall: protobuf\n",
       "\u001b[0m"
      ]
     },
     "metadata": {},
     "output_type": "display_data"
    },
    {
     "data": {
      "text/html": [
       "<pre style=\"white-space:pre;overflow-x:auto;line-height:normal;font-family:Menlo,'DejaVu Sans Mono',consolas,'Courier New',monospace\"><span style=\"color: #808000; text-decoration-color: #808000\">    Found existing installation: protobuf 4.22.1\n",
       "</span></pre>\n"
      ],
      "text/plain": [
       "\u001b[33m    Found existing installation: protobuf 4.22.1\n",
       "\u001b[0m"
      ]
     },
     "metadata": {},
     "output_type": "display_data"
    },
    {
     "data": {
      "text/html": [
       "<pre style=\"white-space:pre;overflow-x:auto;line-height:normal;font-family:Menlo,'DejaVu Sans Mono',consolas,'Courier New',monospace\"><span style=\"color: #808000; text-decoration-color: #808000\">    Uninstalling protobuf-4.22.1:\n",
       "</span></pre>\n"
      ],
      "text/plain": [
       "\u001b[33m    Uninstalling protobuf-4.22.1:\n",
       "\u001b[0m"
      ]
     },
     "metadata": {},
     "output_type": "display_data"
    },
    {
     "data": {
      "text/html": [
       "<pre style=\"white-space:pre;overflow-x:auto;line-height:normal;font-family:Menlo,'DejaVu Sans Mono',consolas,'Courier New',monospace\"><span style=\"color: #808000; text-decoration-color: #808000\">      Successfully uninstalled protobuf-4.22.1\n",
       "</span></pre>\n"
      ],
      "text/plain": [
       "\u001b[33m      Successfully uninstalled protobuf-4.22.1\n",
       "\u001b[0m"
      ]
     },
     "metadata": {},
     "output_type": "display_data"
    },
    {
     "data": {
      "text/html": [
       "<pre style=\"white-space:pre;overflow-x:auto;line-height:normal;font-family:Menlo,'DejaVu Sans Mono',consolas,'Courier New',monospace\"><span style=\"color: #808000; text-decoration-color: #808000\">  Attempting uninstall: numpy\n",
       "</span></pre>\n"
      ],
      "text/plain": [
       "\u001b[33m  Attempting uninstall: numpy\n",
       "\u001b[0m"
      ]
     },
     "metadata": {},
     "output_type": "display_data"
    },
    {
     "data": {
      "text/html": [
       "<pre style=\"white-space:pre;overflow-x:auto;line-height:normal;font-family:Menlo,'DejaVu Sans Mono',consolas,'Courier New',monospace\"><span style=\"color: #808000; text-decoration-color: #808000\">    Found existing installation: numpy 1.24.2\n",
       "</span></pre>\n"
      ],
      "text/plain": [
       "\u001b[33m    Found existing installation: numpy 1.24.2\n",
       "\u001b[0m"
      ]
     },
     "metadata": {},
     "output_type": "display_data"
    },
    {
     "data": {
      "text/html": [
       "<pre style=\"white-space:pre;overflow-x:auto;line-height:normal;font-family:Menlo,'DejaVu Sans Mono',consolas,'Courier New',monospace\"><span style=\"color: #808000; text-decoration-color: #808000\">    Uninstalling numpy-1.24.2:\n",
       "</span></pre>\n"
      ],
      "text/plain": [
       "\u001b[33m    Uninstalling numpy-1.24.2:\n",
       "\u001b[0m"
      ]
     },
     "metadata": {},
     "output_type": "display_data"
    },
    {
     "data": {
      "text/html": [
       "<pre style=\"white-space:pre;overflow-x:auto;line-height:normal;font-family:Menlo,'DejaVu Sans Mono',consolas,'Courier New',monospace\"><span style=\"color: #808000; text-decoration-color: #808000\">      Successfully uninstalled numpy-1.24.2\n",
       "</span></pre>\n"
      ],
      "text/plain": [
       "\u001b[33m      Successfully uninstalled numpy-1.24.2\n",
       "\u001b[0m"
      ]
     },
     "metadata": {},
     "output_type": "display_data"
    },
    {
     "data": {
      "text/html": [
       "<pre style=\"white-space:pre;overflow-x:auto;line-height:normal;font-family:Menlo,'DejaVu Sans Mono',consolas,'Courier New',monospace\"><span style=\"color: #808000; text-decoration-color: #808000\">  Attempting uninstall: cloudpickle\n",
       "</span></pre>\n"
      ],
      "text/plain": [
       "\u001b[33m  Attempting uninstall: cloudpickle\n",
       "\u001b[0m"
      ]
     },
     "metadata": {},
     "output_type": "display_data"
    },
    {
     "data": {
      "text/html": [
       "<pre style=\"white-space:pre;overflow-x:auto;line-height:normal;font-family:Menlo,'DejaVu Sans Mono',consolas,'Courier New',monospace\"><span style=\"color: #808000; text-decoration-color: #808000\">    Found existing installation: cloudpickle 2.0.0\n",
       "</span></pre>\n"
      ],
      "text/plain": [
       "\u001b[33m    Found existing installation: cloudpickle 2.0.0\n",
       "\u001b[0m"
      ]
     },
     "metadata": {},
     "output_type": "display_data"
    },
    {
     "data": {
      "text/html": [
       "<pre style=\"white-space:pre;overflow-x:auto;line-height:normal;font-family:Menlo,'DejaVu Sans Mono',consolas,'Courier New',monospace\"><span style=\"color: #808000; text-decoration-color: #808000\">    Uninstalling cloudpickle-2.0.0:\n",
       "</span></pre>\n"
      ],
      "text/plain": [
       "\u001b[33m    Uninstalling cloudpickle-2.0.0:\n",
       "\u001b[0m"
      ]
     },
     "metadata": {},
     "output_type": "display_data"
    },
    {
     "data": {
      "text/html": [
       "<pre style=\"white-space:pre;overflow-x:auto;line-height:normal;font-family:Menlo,'DejaVu Sans Mono',consolas,'Courier New',monospace\"><span style=\"color: #808000; text-decoration-color: #808000\">      Successfully uninstalled cloudpickle-2.0.0\n",
       "</span></pre>\n"
      ],
      "text/plain": [
       "\u001b[33m      Successfully uninstalled cloudpickle-2.0.0\n",
       "\u001b[0m"
      ]
     },
     "metadata": {},
     "output_type": "display_data"
    },
    {
     "data": {
      "text/html": [
       "<pre style=\"white-space:pre;overflow-x:auto;line-height:normal;font-family:Menlo,'DejaVu Sans Mono',consolas,'Courier New',monospace\"><span style=\"color: #808000; text-decoration-color: #808000\">  Attempting uninstall: pyarrow\n",
       "</span></pre>\n"
      ],
      "text/plain": [
       "\u001b[33m  Attempting uninstall: pyarrow\n",
       "\u001b[0m"
      ]
     },
     "metadata": {},
     "output_type": "display_data"
    },
    {
     "data": {
      "text/html": [
       "<pre style=\"white-space:pre;overflow-x:auto;line-height:normal;font-family:Menlo,'DejaVu Sans Mono',consolas,'Courier New',monospace\"><span style=\"color: #808000; text-decoration-color: #808000\">    Found existing installation: pyarrow 11.0.0\n",
       "</span></pre>\n"
      ],
      "text/plain": [
       "\u001b[33m    Found existing installation: pyarrow 11.0.0\n",
       "\u001b[0m"
      ]
     },
     "metadata": {},
     "output_type": "display_data"
    },
    {
     "data": {
      "text/html": [
       "<pre style=\"white-space:pre;overflow-x:auto;line-height:normal;font-family:Menlo,'DejaVu Sans Mono',consolas,'Courier New',monospace\"><span style=\"color: #808000; text-decoration-color: #808000\">    Uninstalling pyarrow-11.0.0:\n",
       "</span></pre>\n"
      ],
      "text/plain": [
       "\u001b[33m    Uninstalling pyarrow-11.0.0:\n",
       "\u001b[0m"
      ]
     },
     "metadata": {},
     "output_type": "display_data"
    },
    {
     "data": {
      "text/html": [
       "<pre style=\"white-space:pre;overflow-x:auto;line-height:normal;font-family:Menlo,'DejaVu Sans Mono',consolas,'Courier New',monospace\"><span style=\"color: #808000; text-decoration-color: #808000\">      Successfully uninstalled pyarrow-11.0.0\n",
       "</span></pre>\n"
      ],
      "text/plain": [
       "\u001b[33m      Successfully uninstalled pyarrow-11.0.0\n",
       "\u001b[0m"
      ]
     },
     "metadata": {},
     "output_type": "display_data"
    },
    {
     "data": {
      "text/html": [
       "<pre style=\"white-space:pre;overflow-x:auto;line-height:normal;font-family:Menlo,'DejaVu Sans Mono',consolas,'Courier New',monospace\"><span style=\"color: #808000; text-decoration-color: #808000\">  Attempting uninstall: pandas\n",
       "</span></pre>\n"
      ],
      "text/plain": [
       "\u001b[33m  Attempting uninstall: pandas\n",
       "\u001b[0m"
      ]
     },
     "metadata": {},
     "output_type": "display_data"
    },
    {
     "data": {
      "text/html": [
       "<pre style=\"white-space:pre;overflow-x:auto;line-height:normal;font-family:Menlo,'DejaVu Sans Mono',consolas,'Courier New',monospace\"><span style=\"color: #808000; text-decoration-color: #808000\">    Found existing installation: pandas 2.0.1\n",
       "</span></pre>\n"
      ],
      "text/plain": [
       "\u001b[33m    Found existing installation: pandas 2.0.1\n",
       "\u001b[0m"
      ]
     },
     "metadata": {},
     "output_type": "display_data"
    },
    {
     "data": {
      "text/html": [
       "<pre style=\"white-space:pre;overflow-x:auto;line-height:normal;font-family:Menlo,'DejaVu Sans Mono',consolas,'Courier New',monospace\"><span style=\"color: #808000; text-decoration-color: #808000\">    Uninstalling pandas-2.0.1:\n",
       "</span></pre>\n"
      ],
      "text/plain": [
       "\u001b[33m    Uninstalling pandas-2.0.1:\n",
       "\u001b[0m"
      ]
     },
     "metadata": {},
     "output_type": "display_data"
    },
    {
     "data": {
      "text/html": [
       "<pre style=\"white-space:pre;overflow-x:auto;line-height:normal;font-family:Menlo,'DejaVu Sans Mono',consolas,'Courier New',monospace\"><span style=\"color: #808000; text-decoration-color: #808000\">      Successfully uninstalled pandas-2.0.1\n",
       "</span></pre>\n"
      ],
      "text/plain": [
       "\u001b[33m      Successfully uninstalled pandas-2.0.1\n",
       "\u001b[0m"
      ]
     },
     "metadata": {},
     "output_type": "display_data"
    },
    {
     "data": {
      "text/html": [
       "<pre style=\"white-space:pre;overflow-x:auto;line-height:normal;font-family:Menlo,'DejaVu Sans Mono',consolas,'Courier New',monospace\"><span style=\"color: #808000; text-decoration-color: #808000\">ERROR: pip's dependency resolver does not currently take into account all the packages that are installed. This behaviour is the source of the following dependency conflicts.\n",
       "</span></pre>\n"
      ],
      "text/plain": [
       "\u001b[33mERROR: pip's dependency resolver does not currently take into account all the packages that are installed. This behaviour is the source of the following dependency conflicts.\n",
       "\u001b[0m"
      ]
     },
     "metadata": {},
     "output_type": "display_data"
    },
    {
     "data": {
      "text/html": [
       "<pre style=\"white-space:pre;overflow-x:auto;line-height:normal;font-family:Menlo,'DejaVu Sans Mono',consolas,'Courier New',monospace\"><span style=\"color: #808000; text-decoration-color: #808000\">modal-client 0.49.2059 requires cloudpickle&lt;2.1.0,&gt;=2.0.0; python_version &lt; \"3.11\", but you have cloudpickle 2.2.1 which is incompatible.\n",
       "</span></pre>\n"
      ],
      "text/plain": [
       "\u001b[33mmodal-client 0.49.2059 requires cloudpickle<2.1.0,>=2.0.0; python_version < \"3.11\", but you have cloudpickle 2.2.1 which is incompatible.\n",
       "\u001b[0m"
      ]
     },
     "metadata": {},
     "output_type": "display_data"
    },
    {
     "data": {
      "text/html": [
       "<pre style=\"white-space:pre;overflow-x:auto;line-height:normal;font-family:Menlo,'DejaVu Sans Mono',consolas,'Courier New',monospace\"><span style=\"color: #808000; text-decoration-color: #808000\">gate-drift 0.1.5 requires numpy&lt;2.0.0,&gt;=1.24.2, but you have numpy 1.22.4 which is incompatible.\n",
       "</span></pre>\n"
      ],
      "text/plain": [
       "\u001b[33mgate-drift 0.1.5 requires numpy<2.0.0,>=1.24.2, but you have numpy 1.22.4 which is incompatible.\n",
       "\u001b[0m"
      ]
     },
     "metadata": {},
     "output_type": "display_data"
    },
    {
     "data": {
      "text/html": [
       "<pre style=\"white-space:pre;overflow-x:auto;line-height:normal;font-family:Menlo,'DejaVu Sans Mono',consolas,'Courier New',monospace\"><span style=\"color: #808000; text-decoration-color: #808000\">gate-drift 0.1.5 requires pandas&lt;3.0.0,&gt;=2.0.0, but you have pandas 1.5.3 which is incompatible.\n",
       "</span></pre>\n"
      ],
      "text/plain": [
       "\u001b[33mgate-drift 0.1.5 requires pandas<3.0.0,>=2.0.0, but you have pandas 1.5.3 which is incompatible.\n",
       "\u001b[0m"
      ]
     },
     "metadata": {},
     "output_type": "display_data"
    },
    {
     "data": {
      "text/html": [
       "<pre style=\"white-space:pre;overflow-x:auto;line-height:normal;font-family:Menlo,'DejaVu Sans Mono',consolas,'Courier New',monospace\"><span style=\"color: #808000; text-decoration-color: #808000\">gate-drift 0.1.5 requires pyarrow&lt;12.0.0,&gt;=11.0.0, but you have pyarrow 6.0.1 which is incompatible.\n",
       "</span></pre>\n"
      ],
      "text/plain": [
       "\u001b[33mgate-drift 0.1.5 requires pyarrow<12.0.0,>=11.0.0, but you have pyarrow 6.0.1 which is incompatible.\n",
       "\u001b[0m"
      ]
     },
     "metadata": {},
     "output_type": "display_data"
    },
    {
     "data": {
      "text/html": [
       "<pre style=\"white-space:pre;overflow-x:auto;line-height:normal;font-family:Menlo,'DejaVu Sans Mono',consolas,'Courier New',monospace\"><span style=\"color: #808000; text-decoration-color: #808000\">Successfully installed absl-py-1.4.0 apache-beam-2.46.0 astunparse-1.6.3 cachetools-4.2.4 cloudpickle-2.2.1 crcmod-1.7 dill-0.3.1.1 docopt-0.6.2 fastavro-1.7.3 fasteners-0.18 flatbuffers-23.3.3 gast-0.4.0 google-api-core-2.11.0 google-api-python-client-1.12.11 google-apitools-0.5.31 google-auth-2.17.3 google-auth-httplib2-0.1.0 google-auth-oauthlib-1.0.0 google-cloud-bigquery-3.10.0 google-cloud-bigquery-storage-2.16.2 google-cloud-bigtable-1.7.3 google-cloud-core-2.3.2 google-cloud-datastore-1.15.5 google-cloud-dlp-3.12.1 google-cloud-language-1.3.2 google-cloud-pubsub-2.16.0 google-cloud-pubsublite-1.8.1 google-cloud-recommendations-ai-0.7.1 google-cloud-spanner-3.32.0 google-cloud-videointelligence-1.16.3 google-cloud-vision-3.4.1 google-crc32c-1.5.0 google-pasta-0.2.0 google-resumable-media-2.5.0 googleapis-common-protos-1.59.0 grpc-google-iam-v1-0.12.6 grpcio-1.54.0 grpcio-status-1.48.2 h5py-3.8.0 hdfs-2.7.0 httplib2-0.21.0 jax-0.4.8 keras-2.12.0 libclang-16.0.0 markdown-3.4.3 ml-dtypes-0.1.0 numpy-1.22.4 oauth2client-4.1.3 oauthlib-3.2.2 objsize-0.6.1 opt-einsum-3.3.0 orjson-3.8.11 overrides-6.5.0 pandas-1.5.3 proto-plus-1.22.2 protobuf-3.20.3 pyarrow-6.0.1 pyasn1-0.5.0 pyasn1-modules-0.3.0 pydot-1.4.2 pyfarmhash-0.3.2 pymongo-3.13.0 requests-oauthlib-1.3.1 rsa-4.9 sqlparse-0.4.4 tensorboard-2.12.2 tensorboard-data-server-0.7.0 tensorboard-plugin-wit-1.8.1 tensorflow-2.12.0 tensorflow-data-validation-1.13.0 tensorflow-estimator-2.12.0 tensorflow-io-gcs-filesystem-0.32.0 tensorflow-serving-api-2.10.1 tensorflow_metadata-1.13.1 termcolor-2.3.0 tfx-bsl-1.13.0 uritemplate-3.0.1 werkzeug-2.3.2 wrapt-1.14.1 zstandard-0.21.0\n",
       "</span></pre>\n"
      ],
      "text/plain": [
       "\u001b[33mSuccessfully installed absl-py-1.4.0 apache-beam-2.46.0 astunparse-1.6.3 cachetools-4.2.4 cloudpickle-2.2.1 crcmod-1.7 dill-0.3.1.1 docopt-0.6.2 fastavro-1.7.3 fasteners-0.18 flatbuffers-23.3.3 gast-0.4.0 google-api-core-2.11.0 google-api-python-client-1.12.11 google-apitools-0.5.31 google-auth-2.17.3 google-auth-httplib2-0.1.0 google-auth-oauthlib-1.0.0 google-cloud-bigquery-3.10.0 google-cloud-bigquery-storage-2.16.2 google-cloud-bigtable-1.7.3 google-cloud-core-2.3.2 google-cloud-datastore-1.15.5 google-cloud-dlp-3.12.1 google-cloud-language-1.3.2 google-cloud-pubsub-2.16.0 google-cloud-pubsublite-1.8.1 google-cloud-recommendations-ai-0.7.1 google-cloud-spanner-3.32.0 google-cloud-videointelligence-1.16.3 google-cloud-vision-3.4.1 google-crc32c-1.5.0 google-pasta-0.2.0 google-resumable-media-2.5.0 googleapis-common-protos-1.59.0 grpc-google-iam-v1-0.12.6 grpcio-1.54.0 grpcio-status-1.48.2 h5py-3.8.0 hdfs-2.7.0 httplib2-0.21.0 jax-0.4.8 keras-2.12.0 libclang-16.0.0 markdown-3.4.3 ml-dtypes-0.1.0 numpy-1.22.4 oauth2client-4.1.3 oauthlib-3.2.2 objsize-0.6.1 opt-einsum-3.3.0 orjson-3.8.11 overrides-6.5.0 pandas-1.5.3 proto-plus-1.22.2 protobuf-3.20.3 pyarrow-6.0.1 pyasn1-0.5.0 pyasn1-modules-0.3.0 pydot-1.4.2 pyfarmhash-0.3.2 pymongo-3.13.0 requests-oauthlib-1.3.1 rsa-4.9 sqlparse-0.4.4 tensorboard-2.12.2 tensorboard-data-server-0.7.0 tensorboard-plugin-wit-1.8.1 tensorflow-2.12.0 tensorflow-data-validation-1.13.0 tensorflow-estimator-2.12.0 tensorflow-io-gcs-filesystem-0.32.0 tensorflow-serving-api-2.10.1 tensorflow_metadata-1.13.1 termcolor-2.3.0 tfx-bsl-1.13.0 uritemplate-3.0.1 werkzeug-2.3.2 wrapt-1.14.1 zstandard-0.21.0\n",
       "\u001b[0m"
      ]
     },
     "metadata": {},
     "output_type": "display_data"
    },
    {
     "data": {
      "text/html": [
       "<pre style=\"white-space:pre;overflow-x:auto;line-height:normal;font-family:Menlo,'DejaVu Sans Mono',consolas,'Courier New',monospace\"><span style=\"color: #808000; text-decoration-color: #808000\">WARNING: Running pip as the 'root' user can result in broken permissions and conflicting behaviour with the system package manager. It is recommended to use a virtual environment instead: https://pip.pypa.io/warnings/venv\n",
       "</span></pre>\n"
      ],
      "text/plain": [
       "\u001b[33mWARNING: Running pip as the 'root' user can result in broken permissions and conflicting behaviour with the system package manager. It is recommended to use a virtual environment instead: https://pip.pypa.io/warnings/venv\n",
       "\u001b[0m"
      ]
     },
     "metadata": {},
     "output_type": "display_data"
    },
    {
     "data": {
      "text/html": [
       "<pre style=\"white-space:pre;overflow-x:auto;line-height:normal;font-family:Menlo,'DejaVu Sans Mono',consolas,'Courier New',monospace\"><span style=\"color: #808000; text-decoration-color: #808000\">\n",
       "</span></pre>\n"
      ],
      "text/plain": [
       "\u001b[33m\n",
       "\u001b[0m"
      ]
     },
     "metadata": {},
     "output_type": "display_data"
    },
    {
     "data": {
      "text/html": [
       "<pre style=\"white-space:pre;overflow-x:auto;line-height:normal;font-family:Menlo,'DejaVu Sans Mono',consolas,'Courier New',monospace\"><span style=\"color: #808000; text-decoration-color: #808000\">[notice] A new release of pip is available: 23.0.1 -&gt; 23.1.2\n",
       "</span></pre>\n"
      ],
      "text/plain": [
       "\u001b[33m[notice] A new release of pip is available: 23.0.1 -> 23.1.2\n",
       "\u001b[0m"
      ]
     },
     "metadata": {},
     "output_type": "display_data"
    },
    {
     "data": {
      "text/html": [
       "<pre style=\"white-space:pre;overflow-x:auto;line-height:normal;font-family:Menlo,'DejaVu Sans Mono',consolas,'Courier New',monospace\"><span style=\"color: #808000; text-decoration-color: #808000\">[notice] To update, run: pip install --upgrade pip\n",
       "</span></pre>\n"
      ],
      "text/plain": [
       "\u001b[33m[notice] To update, run: pip install --upgrade pip\n",
       "\u001b[0m"
      ]
     },
     "metadata": {},
     "output_type": "display_data"
    },
    {
     "data": {
      "text/html": [
       "<pre style=\"white-space:pre;overflow-x:auto;line-height:normal;font-family:Menlo,'DejaVu Sans Mono',consolas,'Courier New',monospace\"><span style=\"color: #808000; text-decoration-color: #808000\">Creating image snapshot...\n",
       "</span></pre>\n"
      ],
      "text/plain": [
       "\u001b[33mCreating image snapshot...\n",
       "\u001b[0m"
      ]
     },
     "metadata": {},
     "output_type": "display_data"
    },
    {
     "data": {
      "text/html": [
       "<pre style=\"white-space:pre;overflow-x:auto;line-height:normal;font-family:Menlo,'DejaVu Sans Mono',consolas,'Courier New',monospace\"><span style=\"color: #808000; text-decoration-color: #808000\">Finished snapshot; took 13.49s\n",
       "</span></pre>\n"
      ],
      "text/plain": [
       "\u001b[33mFinished snapshot; took 13.49s\n",
       "\u001b[0m"
      ]
     },
     "metadata": {},
     "output_type": "display_data"
    },
    {
     "data": {
      "text/html": [
       "<pre style=\"white-space:pre;overflow-x:auto;line-height:normal;font-family:Menlo,'DejaVu Sans Mono',consolas,'Courier New',monospace\"><span style=\"color: #808000; text-decoration-color: #808000\">\n",
       "Built image im-rmmglxajxqmttorrwdkkiqanflet in 110.76s\n",
       "</span></pre>\n"
      ],
      "text/plain": [
       "\u001b[33m\n",
       "Built image im-rmmglxajxqmttorrwdkkiqanflet in 110.76s\n",
       "\u001b[0m"
      ]
     },
     "metadata": {},
     "output_type": "display_data"
    },
    {
     "data": {
      "text/html": [
       "<pre style=\"white-space:pre;overflow-x:auto;line-height:normal;font-family:Menlo,'DejaVu Sans Mono',consolas,'Courier New',monospace\"></pre>\n"
      ],
      "text/plain": []
     },
     "metadata": {},
     "output_type": "display_data"
    },
    {
     "data": {
      "text/html": [
       "<pre style=\"white-space:pre;overflow-x:auto;line-height:normal;font-family:Menlo,'DejaVu Sans Mono',consolas,'Courier New',monospace\"><span style=\"color: #008000; text-decoration-color: #008000\">✓</span> Created objects.\n",
       "<span style=\"color: #808080; text-decoration-color: #808080\">└── </span><span style=\"color: #008000; text-decoration-color: #008000\">🔨</span> Created find_anomalies.\n",
       "</pre>\n"
      ],
      "text/plain": [
       "\u001b[32m✓\u001b[0m Created objects.\n",
       "\u001b[38;5;244m└── \u001b[0m\u001b[32m🔨\u001b[0m Created find_anomalies.\n"
      ]
     },
     "metadata": {},
     "output_type": "display_data"
    },
    {
     "data": {
      "application/vnd.jupyter.widget-view+json": {
       "model_id": "",
       "version_major": 2,
       "version_minor": 0
      },
      "text/plain": [
       "Output()"
      ]
     },
     "metadata": {},
     "output_type": "display_data"
    },
    {
     "data": {
      "text/html": [
       "<pre style=\"white-space:pre;overflow-x:auto;line-height:normal;font-family:Menlo,'DejaVu Sans Mono',consolas,'Courier New',monospace\"><span style=\"color: #800000; text-decoration-color: #800000\">/usr/local/lib/python3.8/site-packages/synchronicity/synchronizer.py:43: UserWarning: Using latest synchronicity with an old interface - please upgrade to latest modal-client!\n",
       "  warnings.warn(\n",
       "</span></pre>\n"
      ],
      "text/plain": [
       "\u001b[31m/usr/local/lib/python3.8/site-packages/synchronicity/synchronizer.py:43: UserWarning: Using latest synchronicity with an old interface - please upgrade to latest modal-client!\n",
       "  warnings.warn(\n",
       "\u001b[0m"
      ]
     },
     "metadata": {},
     "output_type": "display_data"
    },
    {
     "data": {
      "text/html": [
       "<pre style=\"white-space:pre;overflow-x:auto;line-height:normal;font-family:Menlo,'DejaVu Sans Mono',consolas,'Courier New',monospace\"><span style=\"color: #800000; text-decoration-color: #800000\">/usr/local/lib/python3.8/site-packages/synchronicity/synchronizer.py:43: UserWarning: Using latest synchronicity with an old interface - please upgrade to latest modal-client!\n",
       "  warnings.warn(\n",
       "</span></pre>\n"
      ],
      "text/plain": [
       "\u001b[31m/usr/local/lib/python3.8/site-packages/synchronicity/synchronizer.py:43: UserWarning: Using latest synchronicity with an old interface - please upgrade to latest modal-client!\n",
       "  warnings.warn(\n",
       "\u001b[0m"
      ]
     },
     "metadata": {},
     "output_type": "display_data"
    },
    {
     "data": {
      "text/html": [
       "<pre style=\"white-space:pre;overflow-x:auto;line-height:normal;font-family:Menlo,'DejaVu Sans Mono',consolas,'Courier New',monospace\"><span style=\"color: #800000; text-decoration-color: #800000\">/usr/local/lib/python3.8/site-packages/synchronicity/synchronizer.py:43: UserWarning: Using latest synchronicity with an old interface - please upgrade to latest modal-client!\n",
       "  warnings.warn(\n",
       "</span></pre>\n"
      ],
      "text/plain": [
       "\u001b[31m/usr/local/lib/python3.8/site-packages/synchronicity/synchronizer.py:43: UserWarning: Using latest synchronicity with an old interface - please upgrade to latest modal-client!\n",
       "  warnings.warn(\n",
       "\u001b[0m"
      ]
     },
     "metadata": {},
     "output_type": "display_data"
    },
    {
     "data": {
      "text/html": [
       "<pre style=\"white-space:pre;overflow-x:auto;line-height:normal;font-family:Menlo,'DejaVu Sans Mono',consolas,'Courier New',monospace\"><span style=\"color: #800000; text-decoration-color: #800000\">2023-05-01 00:06:36.175129: I tensorflow/tsl/cuda/cudart_stub.cc:28] Could not find cuda drivers on your machine, GPU will not be used.\n",
       "</span></pre>\n"
      ],
      "text/plain": [
       "\u001b[31m2023-05-01 00:06:36.175129: I tensorflow/tsl/cuda/cudart_stub.cc:28] Could not find cuda drivers on your machine, GPU will not be used.\n",
       "\u001b[0m"
      ]
     },
     "metadata": {},
     "output_type": "display_data"
    },
    {
     "data": {
      "text/html": [
       "<pre style=\"white-space:pre;overflow-x:auto;line-height:normal;font-family:Menlo,'DejaVu Sans Mono',consolas,'Courier New',monospace\"><span style=\"color: #800000; text-decoration-color: #800000\">2023-05-01 00:06:37.169338: I tensorflow/tsl/cuda/cudart_stub.cc:28] Could not find cuda drivers on your machine, GPU will not be used.\n",
       "</span></pre>\n"
      ],
      "text/plain": [
       "\u001b[31m2023-05-01 00:06:37.169338: I tensorflow/tsl/cuda/cudart_stub.cc:28] Could not find cuda drivers on your machine, GPU will not be used.\n",
       "\u001b[0m"
      ]
     },
     "metadata": {},
     "output_type": "display_data"
    },
    {
     "data": {
      "text/html": [
       "<pre style=\"white-space:pre;overflow-x:auto;line-height:normal;font-family:Menlo,'DejaVu Sans Mono',consolas,'Courier New',monospace\"><span style=\"color: #800000; text-decoration-color: #800000\">2023-05-01 00:06:37.171421: I tensorflow/core/platform/cpu_feature_guard.cc:182] This TensorFlow binary is optimized to use available CPU instructions in performance-critical operations.\n",
       "To enable the following instructions: AVX2 FMA, in other operations, rebuild TensorFlow with the appropriate compiler flags.\n",
       "</span></pre>\n"
      ],
      "text/plain": [
       "\u001b[31m2023-05-01 00:06:37.171421: I tensorflow/core/platform/cpu_feature_guard.cc:182] This TensorFlow binary is optimized to use available CPU instructions in performance-critical operations.\n",
       "To enable the following instructions: AVX2 FMA, in other operations, rebuild TensorFlow with the appropriate compiler flags.\n",
       "\u001b[0m"
      ]
     },
     "metadata": {},
     "output_type": "display_data"
    },
    {
     "data": {
      "text/html": [
       "<pre style=\"white-space:pre;overflow-x:auto;line-height:normal;font-family:Menlo,'DejaVu Sans Mono',consolas,'Courier New',monospace\"><span style=\"color: #800000; text-decoration-color: #800000\">2023-05-01 00:06:47.561666: W tensorflow/compiler/tf2tensorrt/utils/py_utils.cc:38] TF-TRT Warning: Could not find TensorRT\n",
       "</span></pre>\n"
      ],
      "text/plain": [
       "\u001b[31m2023-05-01 00:06:47.561666: W tensorflow/compiler/tf2tensorrt/utils/py_utils.cc:38] TF-TRT Warning: Could not find TensorRT\n",
       "\u001b[0m"
      ]
     },
     "metadata": {},
     "output_type": "display_data"
    },
    {
     "data": {
      "text/html": [
       "<pre style=\"white-space:pre;overflow-x:auto;line-height:normal;font-family:Menlo,'DejaVu Sans Mono',consolas,'Courier New',monospace\"></pre>\n"
      ],
      "text/plain": []
     },
     "metadata": {},
     "output_type": "display_data"
    },
    {
     "data": {
      "text/html": [
       "<pre style=\"white-space:pre;overflow-x:auto;line-height:normal;font-family:Menlo,'DejaVu Sans Mono',consolas,'Courier New',monospace\"><span style=\"color: #008000; text-decoration-color: #008000\">✓</span> App completed.\n",
       "</pre>\n"
      ],
      "text/plain": [
       "\u001b[32m✓\u001b[0m App completed.\n"
      ]
     },
     "metadata": {},
     "output_type": "display_data"
    }
   ],
   "source": [
    "with stub.run():\n",
    "    X_train, _ = ds.split_feature_label(train_df)\n",
    "    X_test, _ = ds.split_feature_label(test_df)\n",
    "    anomalies = find_anomalies.call(X_train, X_test)"
   ]
  },
  {
   "cell_type": "code",
   "execution_count": 10,
   "id": "a4b79957-7699-4719-bb94-4f9fe71c8880",
   "metadata": {},
   "outputs": [
    {
     "data": {
      "text/html": [
       "<div>\n",
       "<style scoped>\n",
       "    .dataframe tbody tr th:only-of-type {\n",
       "        vertical-align: middle;\n",
       "    }\n",
       "\n",
       "    .dataframe tbody tr th {\n",
       "        vertical-align: top;\n",
       "    }\n",
       "\n",
       "    .dataframe thead th {\n",
       "        text-align: right;\n",
       "    }\n",
       "</style>\n",
       "<table border=\"1\" class=\"dataframe\">\n",
       "  <thead>\n",
       "    <tr style=\"text-align: right;\">\n",
       "      <th></th>\n",
       "      <th>Anomaly short description</th>\n",
       "      <th>Anomaly long description</th>\n",
       "    </tr>\n",
       "    <tr>\n",
       "      <th>Feature name</th>\n",
       "      <th></th>\n",
       "      <th></th>\n",
       "    </tr>\n",
       "  </thead>\n",
       "  <tbody>\n",
       "  </tbody>\n",
       "</table>\n",
       "</div>"
      ],
      "text/plain": [
       "Empty DataFrame\n",
       "Columns: [Anomaly short description, Anomaly long description]\n",
       "Index: []"
      ]
     },
     "execution_count": 10,
     "metadata": {},
     "output_type": "execute_result"
    }
   ],
   "source": [
    "anomalies"
   ]
  },
  {
   "cell_type": "markdown",
   "id": "91ab0865-2794-45a4-b0fd-551f64c8d2e4",
   "metadata": {},
   "source": [
    "Seems like the raw data did not have any anomalies!"
   ]
  },
  {
   "cell_type": "markdown",
   "id": "c7686fd3-4aa3-4cce-b7e7-b9e356ef39cf",
   "metadata": {},
   "source": [
    "## Iterate through corruptions\n",
    "\n",
    "See if tfdv detects any anomalies, for all the corruptions we had in our previous notebook."
   ]
  },
  {
   "cell_type": "code",
   "execution_count": 11,
   "id": "1a73c2a1-39db-4f38-b742-0a642a7b3408",
   "metadata": {},
   "outputs": [
    {
     "data": {
      "application/vnd.jupyter.widget-view+json": {
       "model_id": "",
       "version_major": 2,
       "version_minor": 0
      },
      "text/plain": [
       "Output()"
      ]
     },
     "metadata": {},
     "output_type": "display_data"
    },
    {
     "data": {
      "text/html": [
       "<pre style=\"white-space:pre;overflow-x:auto;line-height:normal;font-family:Menlo,'DejaVu Sans Mono',consolas,'Courier New',monospace\"><span style=\"color: #008000; text-decoration-color: #008000\">✓</span> Initialized. <span style=\"color: #b2b2b2; text-decoration-color: #b2b2b2\">View app at </span><span style=\"color: #b2b2b2; text-decoration-color: #b2b2b2; text-decoration: underline\">https://modal.com/apps/ap-Ks3YcZu5qHoTAWyxDnDCi2</span>\n",
       "</pre>\n"
      ],
      "text/plain": [
       "\u001b[32m✓\u001b[0m Initialized. \u001b[38;5;249mView app at \u001b[0m\u001b[4;38;5;249mhttps://modal.com/apps/ap-Ks3YcZu5qHoTAWyxDnDCi2\u001b[0m\n"
      ]
     },
     "metadata": {},
     "output_type": "display_data"
    },
    {
     "data": {
      "text/html": [
       "<pre style=\"white-space:pre;overflow-x:auto;line-height:normal;font-family:Menlo,'DejaVu Sans Mono',consolas,'Courier New',monospace\"></pre>\n"
      ],
      "text/plain": []
     },
     "metadata": {},
     "output_type": "display_data"
    },
    {
     "data": {
      "application/vnd.jupyter.widget-view+json": {
       "model_id": "",
       "version_major": 2,
       "version_minor": 0
      },
      "text/plain": [
       "Output()"
      ]
     },
     "metadata": {},
     "output_type": "display_data"
    },
    {
     "data": {
      "text/html": [
       "<pre style=\"white-space:pre;overflow-x:auto;line-height:normal;font-family:Menlo,'DejaVu Sans Mono',consolas,'Courier New',monospace\"></pre>\n"
      ],
      "text/plain": []
     },
     "metadata": {},
     "output_type": "display_data"
    },
    {
     "data": {
      "text/html": [
       "<pre style=\"white-space:pre;overflow-x:auto;line-height:normal;font-family:Menlo,'DejaVu Sans Mono',consolas,'Courier New',monospace\"><span style=\"color: #008000; text-decoration-color: #008000\">✓</span> Created objects.\n",
       "<span style=\"color: #808080; text-decoration-color: #808080\">└── </span><span style=\"color: #008000; text-decoration-color: #008000\">🔨</span> Created find_anomalies.\n",
       "</pre>\n"
      ],
      "text/plain": [
       "\u001b[32m✓\u001b[0m Created objects.\n",
       "\u001b[38;5;244m└── \u001b[0m\u001b[32m🔨\u001b[0m Created find_anomalies.\n"
      ]
     },
     "metadata": {},
     "output_type": "display_data"
    },
    {
     "data": {
      "application/vnd.jupyter.widget-view+json": {
       "model_id": "",
       "version_major": 2,
       "version_minor": 0
      },
      "text/plain": [
       "Output()"
      ]
     },
     "metadata": {},
     "output_type": "display_data"
    },
    {
     "data": {
      "text/html": [
       "<pre style=\"white-space:pre;overflow-x:auto;line-height:normal;font-family:Menlo,'DejaVu Sans Mono',consolas,'Courier New',monospace\"><span style=\"color: #800000; text-decoration-color: #800000\">/usr/local/lib/python3.8/site-packages/synchronicity/synchronizer.py:43: UserWarning: Using latest synchronicity with an old interface - please upgrade to latest modal-client!\n",
       "  warnings.warn(\n",
       "</span></pre>\n"
      ],
      "text/plain": [
       "\u001b[31m/usr/local/lib/python3.8/site-packages/synchronicity/synchronizer.py:43: UserWarning: Using latest synchronicity with an old interface - please upgrade to latest modal-client!\n",
       "  warnings.warn(\n",
       "\u001b[0m"
      ]
     },
     "metadata": {},
     "output_type": "display_data"
    },
    {
     "data": {
      "text/html": [
       "<pre style=\"white-space:pre;overflow-x:auto;line-height:normal;font-family:Menlo,'DejaVu Sans Mono',consolas,'Courier New',monospace\"><span style=\"color: #800000; text-decoration-color: #800000\">/usr/local/lib/python3.8/site-packages/synchronicity/synchronizer.py:43: UserWarning: Using latest synchronicity with an old interface - please upgrade to latest modal-client!\n",
       "  warnings.warn(\n",
       "</span></pre>\n"
      ],
      "text/plain": [
       "\u001b[31m/usr/local/lib/python3.8/site-packages/synchronicity/synchronizer.py:43: UserWarning: Using latest synchronicity with an old interface - please upgrade to latest modal-client!\n",
       "  warnings.warn(\n",
       "\u001b[0m"
      ]
     },
     "metadata": {},
     "output_type": "display_data"
    },
    {
     "data": {
      "text/html": [
       "<pre style=\"white-space:pre;overflow-x:auto;line-height:normal;font-family:Menlo,'DejaVu Sans Mono',consolas,'Courier New',monospace\"><span style=\"color: #800000; text-decoration-color: #800000\">/usr/local/lib/python3.8/site-packages/synchronicity/synchronizer.py:43: UserWarning: Using latest synchronicity with an old interface - please upgrade to latest modal-client!\n",
       "  warnings.warn(\n",
       "</span></pre>\n"
      ],
      "text/plain": [
       "\u001b[31m/usr/local/lib/python3.8/site-packages/synchronicity/synchronizer.py:43: UserWarning: Using latest synchronicity with an old interface - please upgrade to latest modal-client!\n",
       "  warnings.warn(\n",
       "\u001b[0m"
      ]
     },
     "metadata": {},
     "output_type": "display_data"
    },
    {
     "data": {
      "text/html": [
       "<pre style=\"white-space:pre;overflow-x:auto;line-height:normal;font-family:Menlo,'DejaVu Sans Mono',consolas,'Courier New',monospace\"><span style=\"color: #800000; text-decoration-color: #800000\">2023-05-01 00:07:48.458427: I tensorflow/tsl/cuda/cudart_stub.cc:28] Could not find cuda drivers on your machine, GPU will not be used.\n",
       "</span></pre>\n"
      ],
      "text/plain": [
       "\u001b[31m2023-05-01 00:07:48.458427: I tensorflow/tsl/cuda/cudart_stub.cc:28] Could not find cuda drivers on your machine, GPU will not be used.\n",
       "\u001b[0m"
      ]
     },
     "metadata": {},
     "output_type": "display_data"
    },
    {
     "data": {
      "text/html": [
       "<pre style=\"white-space:pre;overflow-x:auto;line-height:normal;font-family:Menlo,'DejaVu Sans Mono',consolas,'Courier New',monospace\"><span style=\"color: #800000; text-decoration-color: #800000\">2023-05-01 00:07:48.634047: I tensorflow/tsl/cuda/cudart_stub.cc:28] Could not find cuda drivers on your machine, GPU will not be used.\n",
       "</span></pre>\n"
      ],
      "text/plain": [
       "\u001b[31m2023-05-01 00:07:48.634047: I tensorflow/tsl/cuda/cudart_stub.cc:28] Could not find cuda drivers on your machine, GPU will not be used.\n",
       "\u001b[0m"
      ]
     },
     "metadata": {},
     "output_type": "display_data"
    },
    {
     "data": {
      "text/html": [
       "<pre style=\"white-space:pre;overflow-x:auto;line-height:normal;font-family:Menlo,'DejaVu Sans Mono',consolas,'Courier New',monospace\"><span style=\"color: #800000; text-decoration-color: #800000\">2023-05-01 00:07:48.634401: I tensorflow/core/platform/cpu_feature_guard.cc:182] This TensorFlow binary is optimized to use available CPU instructions in performance-critical operations.\n",
       "To enable the following instructions: AVX2 FMA, in other operations, rebuild TensorFlow with the appropriate compiler flags.\n",
       "</span></pre>\n"
      ],
      "text/plain": [
       "\u001b[31m2023-05-01 00:07:48.634401: I tensorflow/core/platform/cpu_feature_guard.cc:182] This TensorFlow binary is optimized to use available CPU instructions in performance-critical operations.\n",
       "To enable the following instructions: AVX2 FMA, in other operations, rebuild TensorFlow with the appropriate compiler flags.\n",
       "\u001b[0m"
      ]
     },
     "metadata": {},
     "output_type": "display_data"
    },
    {
     "data": {
      "text/html": [
       "<pre style=\"white-space:pre;overflow-x:auto;line-height:normal;font-family:Menlo,'DejaVu Sans Mono',consolas,'Courier New',monospace\"><span style=\"color: #800000; text-decoration-color: #800000\">2023-05-01 00:07:54.158376: W tensorflow/compiler/tf2tensorrt/utils/py_utils.cc:38] TF-TRT Warning: Could not find TensorRT\n",
       "</span></pre>\n"
      ],
      "text/plain": [
       "\u001b[31m2023-05-01 00:07:54.158376: W tensorflow/compiler/tf2tensorrt/utils/py_utils.cc:38] TF-TRT Warning: Could not find TensorRT\n",
       "\u001b[0m"
      ]
     },
     "metadata": {},
     "output_type": "display_data"
    },
    {
     "data": {
      "text/html": [
       "<pre style=\"white-space:pre;overflow-x:auto;line-height:normal;font-family:Menlo,'DejaVu Sans Mono',consolas,'Courier New',monospace\"></pre>\n"
      ],
      "text/plain": []
     },
     "metadata": {},
     "output_type": "display_data"
    },
    {
     "data": {
      "text/html": [
       "<pre style=\"white-space:pre;overflow-x:auto;line-height:normal;font-family:Menlo,'DejaVu Sans Mono',consolas,'Courier New',monospace\"><span style=\"color: #008000; text-decoration-color: #008000\">✓</span> App completed.\n",
       "</pre>\n"
      ],
      "text/plain": [
       "\u001b[32m✓\u001b[0m App completed.\n"
      ]
     },
     "metadata": {},
     "output_type": "display_data"
    }
   ],
   "source": [
    "X_train, _ = ds.split_feature_label(train_df)\n",
    "corruption_anomalies = {}\n",
    "\n",
    "with stub.run():\n",
    "    for corruption_name, corruption_res in ds.iterate_corruptions(test_df, \"cmc\", corruption_rate=0.05):\n",
    "        corrupted_test_df, corrupted_columns = corruption_res\n",
    "        corrupted_X_test, _ = ds.split_feature_label(corrupted_test_df)\n",
    "        corruption_anomalies[corruption_name] = find_anomalies.call(X_train, corrupted_X_test)"
   ]
  },
  {
   "cell_type": "code",
   "execution_count": 10,
   "id": "ec058da3-b1aa-4ace-abfd-c1df19f19a1b",
   "metadata": {
    "tags": []
   },
   "outputs": [
    {
     "name": "stderr",
     "output_type": "stream",
     "text": [
      "\u001b[34m\u001b[1mwandb\u001b[0m: Currently logged in as: \u001b[33msh_reya\u001b[0m (\u001b[33mnnprov\u001b[0m). Use \u001b[1m`wandb login --relogin`\u001b[0m to force relogin\n"
     ]
    },
    {
     "data": {
      "text/html": [
       "wandb version 0.15.0 is available!  To upgrade, please run:\n",
       " $ pip install wandb --upgrade"
      ],
      "text/plain": [
       "<IPython.core.display.HTML object>"
      ]
     },
     "metadata": {},
     "output_type": "display_data"
    },
    {
     "data": {
      "text/html": [
       "Tracking run with wandb version 0.14.2"
      ],
      "text/plain": [
       "<IPython.core.display.HTML object>"
      ]
     },
     "metadata": {},
     "output_type": "display_data"
    },
    {
     "data": {
      "text/html": [
       "Run data is saved locally in <code>/Users/shreyashankar/Documents/projects/ml-dataval-tutorial/wandb/run-20230420_160438-iq3wgsso</code>"
      ],
      "text/plain": [
       "<IPython.core.display.HTML object>"
      ]
     },
     "metadata": {},
     "output_type": "display_data"
    },
    {
     "data": {
      "text/html": [
       "Syncing run <strong><a href='https://wandb.ai/nnprov/ml-dataval-tutorial/runs/iq3wgsso' target=\"_blank\">hopeful-butterfly-19</a></strong> to <a href='https://wandb.ai/nnprov/ml-dataval-tutorial' target=\"_blank\">Weights & Biases</a> (<a href='https://wandb.me/run' target=\"_blank\">docs</a>)<br/>"
      ],
      "text/plain": [
       "<IPython.core.display.HTML object>"
      ]
     },
     "metadata": {},
     "output_type": "display_data"
    },
    {
     "data": {
      "text/html": [
       " View project at <a href='https://wandb.ai/nnprov/ml-dataval-tutorial' target=\"_blank\">https://wandb.ai/nnprov/ml-dataval-tutorial</a>"
      ],
      "text/plain": [
       "<IPython.core.display.HTML object>"
      ]
     },
     "metadata": {},
     "output_type": "display_data"
    },
    {
     "data": {
      "text/html": [
       " View run at <a href='https://wandb.ai/nnprov/ml-dataval-tutorial/runs/iq3wgsso' target=\"_blank\">https://wandb.ai/nnprov/ml-dataval-tutorial/runs/iq3wgsso</a>"
      ],
      "text/plain": [
       "<IPython.core.display.HTML object>"
      ]
     },
     "metadata": {},
     "output_type": "display_data"
    },
    {
     "data": {
      "text/html": [
       "Waiting for W&B process to finish... <strong style=\"color:green\">(success).</strong>"
      ],
      "text/plain": [
       "<IPython.core.display.HTML object>"
      ]
     },
     "metadata": {},
     "output_type": "display_data"
    },
    {
     "data": {
      "text/html": [
       " View run <strong style=\"color:#cdcd00\">hopeful-butterfly-19</strong> at: <a href='https://wandb.ai/nnprov/ml-dataval-tutorial/runs/iq3wgsso' target=\"_blank\">https://wandb.ai/nnprov/ml-dataval-tutorial/runs/iq3wgsso</a><br/>Synced 5 W&B file(s), 1 media file(s), 1 artifact file(s) and 0 other file(s)"
      ],
      "text/plain": [
       "<IPython.core.display.HTML object>"
      ]
     },
     "metadata": {},
     "output_type": "display_data"
    },
    {
     "data": {
      "text/html": [
       "Find logs at: <code>./wandb/run-20230420_160438-iq3wgsso/logs</code>"
      ],
      "text/plain": [
       "<IPython.core.display.HTML object>"
      ]
     },
     "metadata": {},
     "output_type": "display_data"
    }
   ],
   "source": [
    "# Send wandb alerts\n",
    "\n",
    "run = wandb.init(project=\"ml-dataval-tutorial\", tags=[\"TFDV-schema\"])\n",
    "\n",
    "for corruption_name, anomalies in corruption_anomalies.items():\n",
    "    if len(anomalies) > 0:\n",
    "        table = wandb.Table(dataframe=anomalies)\n",
    "        wandb.log({corruption_name: table})\n",
    "    \n",
    "        wandb.alert(\n",
    "            title=f\"Errors detected in {corruption_name} experiment\", \n",
    "            # text=f\"Found the following anomalies: {anomalies.to_string()}\",\n",
    "            text = f\"Found {len(anomalies)} anomalies\",\n",
    "            level=AlertLevel.WARN,\n",
    "        )\n",
    "\n",
    "wandb.finish()"
   ]
  },
  {
   "cell_type": "markdown",
   "id": "367e9ee8-ad93-42bc-8765-9947b2cdfbb0",
   "metadata": {},
   "source": [
    "## Takeaways\n",
    "\n",
    "It looks like only the `corrupt_null` corruption was flagged by schema validation! Maybe other validation techniques might flag them. Nevertheless, all the corruptions that schema validation found were true corruptions, so there isn't a false positive alert problem here."
   ]
  },
  {
   "cell_type": "code",
   "execution_count": null,
   "id": "7e39edb9-301a-4aaf-879d-c0bffd50269e",
   "metadata": {},
   "outputs": [],
   "source": []
  }
 ],
 "metadata": {
  "kernelspec": {
   "display_name": "Python 3 (ipykernel)",
   "language": "python",
   "name": "python3"
  },
  "language_info": {
   "codemirror_mode": {
    "name": "ipython",
    "version": 3
   },
   "file_extension": ".py",
   "mimetype": "text/x-python",
   "name": "python",
   "nbconvert_exporter": "python",
   "pygments_lexer": "ipython3",
   "version": "3.8.16"
  }
 },
 "nbformat": 4,
 "nbformat_minor": 5
}
