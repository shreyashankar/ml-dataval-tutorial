{
 "cells": [
  {
   "cell_type": "code",
   "execution_count": 1,
   "id": "aad51052-0098-4eba-93e5-578818eb4051",
   "metadata": {},
   "outputs": [],
   "source": [
    "%load_ext autoreload\n",
    "%autoreload 2"
   ]
  },
  {
   "cell_type": "code",
   "execution_count": 2,
   "id": "3be16292-e3d0-4aa5-998d-7c0324faaa56",
   "metadata": {},
   "outputs": [],
   "source": [
    "from dataval.dataset import WeatherDataset\n",
    "from dataval.train import Trainer\n",
    "\n",
    "import os\n",
    "import matplotlib.pyplot as plt\n",
    "import modal\n",
    "import pandas as pd"
   ]
  },
  {
   "cell_type": "code",
   "execution_count": 3,
   "id": "06f8c931-960e-4448-bff1-16286d2f189c",
   "metadata": {},
   "outputs": [],
   "source": [
    "image = (\n",
    "    modal.Image.debian_slim()\n",
    "    .pip_install_from_requirements(\"requirements.txt\")\n",
    "    .pip_install([\"tensorflow-data-validation\", \"tensorflow_metadata\"])\n",
    ")\n",
    "stub = modal.Stub(\"tfdv-tutorial\", image=image)"
   ]
  },
  {
   "cell_type": "markdown",
   "id": "0ef80411-6751-402e-9f03-5085d6c0208c",
   "metadata": {},
   "source": [
    "# Drift Detection\n",
    "\n",
    "Schema validation catches some, but not all, corruptions. In this notebook, we leverage TFDV's drift detection tool to see if all corruptions are identified."
   ]
  },
  {
   "cell_type": "code",
   "execution_count": 4,
   "id": "617f7fb3-bb8f-4258-8f2f-77298cc42ceb",
   "metadata": {},
   "outputs": [],
   "source": [
    "# Load dataset\n",
    "\n",
    "ds = WeatherDataset(os.path.join(os.getcwd(), \"canonical-partitioned-dataset\"), sample_frac=0.2)"
   ]
  },
  {
   "cell_type": "code",
   "execution_count": 5,
   "id": "9c791590-fd64-4afd-aa31-1750b30ade62",
   "metadata": {},
   "outputs": [],
   "source": [
    "def train_and_test(train_df, test_df):\n",
    "    X_train, y_train = ds.split_feature_label(train_df)\n",
    "\n",
    "    catboost_hparams = {\"depth\": 5, \"iterations\": 250, \"learning_rate\": 0.03, \"loss_function\": \"RMSE\"}\n",
    "    continual_t = Trainer(catboost_hparams)\n",
    "    continual_t.fit(X_train, y_train, verbose=False)\n",
    "    print(f\"Train MSE for partition {ds.get_partition_key(train_df)}: {continual_t.score(X_train, y_train)}\")\n",
    "\n",
    "    # Evaluate\n",
    "    X_test, y_test = ds.split_feature_label(test_df)\n",
    "    print(f\"Test MSE for partition {ds.get_partition_key(test_df)}: {continual_t.score(X_test, y_test)}\")\n",
    "    \n",
    "    return continual_t"
   ]
  },
  {
   "cell_type": "code",
   "execution_count": 6,
   "id": "49374ace-9e92-4992-8da4-cdc1a29beb66",
   "metadata": {},
   "outputs": [],
   "source": [
    "train_df = ds.load(ds.get_partition_keys()[0])\n",
    "test_df = ds.load(ds.get_partition_keys()[1])"
   ]
  },
  {
   "cell_type": "code",
   "execution_count": 9,
   "id": "0dae56d9-5583-4ebf-94f0-e4ed990c98f9",
   "metadata": {},
   "outputs": [
    {
     "name": "stdout",
     "output_type": "stream",
     "text": [
      "Train MSE for partition 2018_35: 4.074896379948685\n",
      "Test MSE for partition 2018_36: 4.797844923928596\n"
     ]
    },
    {
     "data": {
      "text/html": [
       "<div>\n",
       "<style scoped>\n",
       "    .dataframe tbody tr th:only-of-type {\n",
       "        vertical-align: middle;\n",
       "    }\n",
       "\n",
       "    .dataframe tbody tr th {\n",
       "        vertical-align: top;\n",
       "    }\n",
       "\n",
       "    .dataframe thead th {\n",
       "        text-align: right;\n",
       "    }\n",
       "</style>\n",
       "<table border=\"1\" class=\"dataframe\">\n",
       "  <thead>\n",
       "    <tr style=\"text-align: right;\">\n",
       "      <th></th>\n",
       "      <th>feature</th>\n",
       "      <th>importance</th>\n",
       "    </tr>\n",
       "  </thead>\n",
       "  <tbody>\n",
       "    <tr>\n",
       "      <th>6</th>\n",
       "      <td>cmc_0_0_0_2_interpolated</td>\n",
       "      <td>19.153059</td>\n",
       "    </tr>\n",
       "    <tr>\n",
       "      <th>89</th>\n",
       "      <td>gfs_temperature_sea_interpolated</td>\n",
       "      <td>15.313095</td>\n",
       "    </tr>\n",
       "    <tr>\n",
       "      <th>87</th>\n",
       "      <td>gfs_temperature_sea</td>\n",
       "      <td>12.796032</td>\n",
       "    </tr>\n",
       "    <tr>\n",
       "      <th>109</th>\n",
       "      <td>wrf_t2_interpolated</td>\n",
       "      <td>11.163675</td>\n",
       "    </tr>\n",
       "    <tr>\n",
       "      <th>8</th>\n",
       "      <td>cmc_0_0_0_2</td>\n",
       "      <td>6.928703</td>\n",
       "    </tr>\n",
       "  </tbody>\n",
       "</table>\n",
       "</div>"
      ],
      "text/plain": [
       "                              feature  importance\n",
       "6            cmc_0_0_0_2_interpolated   19.153059\n",
       "89   gfs_temperature_sea_interpolated   15.313095\n",
       "87                gfs_temperature_sea   12.796032\n",
       "109               wrf_t2_interpolated   11.163675\n",
       "8                         cmc_0_0_0_2    6.928703"
      ]
     },
     "execution_count": 9,
     "metadata": {},
     "output_type": "execute_result"
    }
   ],
   "source": [
    "t = train_and_test(train_df, test_df)\n",
    "t.get_feature_importance().head(5)"
   ]
  },
  {
   "cell_type": "markdown",
   "id": "2b1a5b07-2c50-4134-a39e-e793a26ef42f",
   "metadata": {},
   "source": [
    "## Check for skew between train and test partitions\n",
    "\n",
    "We use TFDV to infer the schema of the train partition and then check the test partition for skew. TFDV checks for distribution shift."
   ]
  },
  {
   "cell_type": "code",
   "execution_count": 19,
   "id": "6dfe505f-589c-46d6-8b8a-6ab56b68fb09",
   "metadata": {},
   "outputs": [],
   "source": [
    "@stub.function\n",
    "def check_skew(train_df, test_df, feature_columns):\n",
    "    import tensorflow_data_validation as tfdv\n",
    "    from google.protobuf.json_format import MessageToDict\n",
    "    \n",
    "    train_stats =  tfdv.generate_statistics_from_dataframe(train_df)\n",
    "    schema = tfdv.infer_schema(statistics=train_stats)\n",
    "    test_stats = tfdv.generate_statistics_from_dataframe(test_df)\n",
    "    \n",
    "    for feature in feature_columns:\n",
    "        tfdv.get_feature(schema, feature).skew_comparator.jensen_shannon_divergence.threshold = 0.1\n",
    "\n",
    "    skew_anomalies = tfdv.validate_statistics(statistics=train_stats, schema=schema, serving_statistics=test_stats)\n",
    "    anomalies_df = tfdv.utils.display_util.get_anomalies_dataframe(skew_anomalies)\n",
    "\n",
    "    return anomalies_df"
   ]
  },
  {
   "cell_type": "code",
   "execution_count": 20,
   "id": "66b039d0-7068-4f36-ad43-3e29b6eb0389",
   "metadata": {},
   "outputs": [
    {
     "data": {
      "text/html": [
       "<pre style=\"white-space:pre;overflow-x:auto;line-height:normal;font-family:Menlo,'DejaVu Sans Mono',consolas,'Courier New',monospace\">/Users/shreyashankar/miniforge3/envs/dataval/lib/python3.8/site-packages/rich/live.py:231: UserWarning: install \n",
       "\"ipywidgets\" for Jupyter support\n",
       "  warnings.warn('install \"ipywidgets\" for Jupyter support')\n",
       "</pre>\n"
      ],
      "text/plain": [
       "/Users/shreyashankar/miniforge3/envs/dataval/lib/python3.8/site-packages/rich/live.py:231: UserWarning: install \n",
       "\"ipywidgets\" for Jupyter support\n",
       "  warnings.warn('install \"ipywidgets\" for Jupyter support')\n"
      ]
     },
     "metadata": {},
     "output_type": "display_data"
    },
    {
     "data": {
      "text/html": [
       "<pre style=\"white-space:pre;overflow-x:auto;line-height:normal;font-family:Menlo,'DejaVu Sans Mono',consolas,'Courier New',monospace\"><span style=\"color: #008000; text-decoration-color: #008000\">✓</span> Initialized. <span style=\"color: #b2b2b2; text-decoration-color: #b2b2b2\">View app at </span><span style=\"color: #b2b2b2; text-decoration-color: #b2b2b2; text-decoration: underline\">https://modal.com/apps/ap-00zXvKqXFIBlkU28Cci3vl</span>\n",
       "</pre>\n"
      ],
      "text/plain": [
       "\u001b[32m✓\u001b[0m Initialized. \u001b[38;5;249mView app at \u001b[0m\u001b[4;38;5;249mhttps://modal.com/apps/ap-00zXvKqXFIBlkU28Cci3vl\u001b[0m\n"
      ]
     },
     "metadata": {},
     "output_type": "display_data"
    },
    {
     "data": {
      "text/html": [
       "<pre style=\"white-space:pre;overflow-x:auto;line-height:normal;font-family:Menlo,'DejaVu Sans Mono',consolas,'Courier New',monospace\"></pre>\n"
      ],
      "text/plain": []
     },
     "metadata": {},
     "output_type": "display_data"
    },
    {
     "data": {
      "text/html": [
       "<pre style=\"white-space:pre;overflow-x:auto;line-height:normal;font-family:Menlo,'DejaVu Sans Mono',consolas,'Courier New',monospace\"></pre>\n"
      ],
      "text/plain": []
     },
     "metadata": {},
     "output_type": "display_data"
    },
    {
     "data": {
      "text/html": [
       "<pre style=\"white-space:pre;overflow-x:auto;line-height:normal;font-family:Menlo,'DejaVu Sans Mono',consolas,'Courier New',monospace\"><span style=\"color: #008000; text-decoration-color: #008000\">✓</span> Created objects.\n",
       "<span style=\"color: #808080; text-decoration-color: #808080\">└── </span><span style=\"color: #008000; text-decoration-color: #008000\">🔨</span> Created check_skew.\n",
       "</pre>\n"
      ],
      "text/plain": [
       "\u001b[32m✓\u001b[0m Created objects.\n",
       "\u001b[38;5;244m└── \u001b[0m\u001b[32m🔨\u001b[0m Created check_skew.\n"
      ]
     },
     "metadata": {},
     "output_type": "display_data"
    },
    {
     "data": {
      "text/html": [
       "<pre style=\"white-space:pre;overflow-x:auto;line-height:normal;font-family:Menlo,'DejaVu Sans Mono',consolas,'Courier New',monospace\"><span style=\"color: #800000; text-decoration-color: #800000\">2023-03-18 21:28:25.944378: I tensorflow/core/platform/cpu_feature_guard.cc:193] This TensorFlow binary is optimized with oneAPI Deep Neural Network Library (oneDNN) to use the following CPU instructions in performance-critical operations:  AVX2 FMA\n",
       "To enable them in other operations, rebuild TensorFlow with the appropriate compiler flags.\n",
       "</span></pre>\n"
      ],
      "text/plain": [
       "\u001b[31m2023-03-18 21:28:25.944378: I tensorflow/core/platform/cpu_feature_guard.cc:193] This TensorFlow binary is optimized with oneAPI Deep Neural Network Library (oneDNN) to use the following CPU instructions in performance-critical operations:  AVX2 FMA\n",
       "To enable them in other operations, rebuild TensorFlow with the appropriate compiler flags.\n",
       "\u001b[0m"
      ]
     },
     "metadata": {},
     "output_type": "display_data"
    },
    {
     "data": {
      "text/html": [
       "<pre style=\"white-space:pre;overflow-x:auto;line-height:normal;font-family:Menlo,'DejaVu Sans Mono',consolas,'Courier New',monospace\"><span style=\"color: #800000; text-decoration-color: #800000\">2023-03-18 21:28:26.394531: W tensorflow/compiler/xla/stream_executor/platform/default/dso_loader.cc:64] Could not load dynamic library 'libcudart.so.11.0'; dlerror: libcudart.so.11.0: cannot open shared object file: No such file or directory\n",
       "2023-03-18 21:28:26.394794: I tensorflow/compiler/xla/stream_executor/cuda/cudart_stub.cc:29] Ignore above cudart dlerror if you do not have a GPU set up on your machine.\n",
       "</span></pre>\n"
      ],
      "text/plain": [
       "\u001b[31m2023-03-18 21:28:26.394531: W tensorflow/compiler/xla/stream_executor/platform/default/dso_loader.cc:64] Could not load dynamic library 'libcudart.so.11.0'; dlerror: libcudart.so.11.0: cannot open shared object file: No such file or directory\n",
       "2023-03-18 21:28:26.394794: I tensorflow/compiler/xla/stream_executor/cuda/cudart_stub.cc:29] Ignore above cudart dlerror if you do not have a GPU set up on your machine.\n",
       "\u001b[0m"
      ]
     },
     "metadata": {},
     "output_type": "display_data"
    },
    {
     "data": {
      "text/html": [
       "<pre style=\"white-space:pre;overflow-x:auto;line-height:normal;font-family:Menlo,'DejaVu Sans Mono',consolas,'Courier New',monospace\"><span style=\"color: #800000; text-decoration-color: #800000\">2023-03-18 21:28:28.054775: W tensorflow/compiler/xla/stream_executor/platform/default/dso_loader.cc:64] Could not load dynamic library 'libnvinfer.so.7'; dlerror: libnvinfer.so.7: cannot open shared object file: No such file or directory\n",
       "</span></pre>\n"
      ],
      "text/plain": [
       "\u001b[31m2023-03-18 21:28:28.054775: W tensorflow/compiler/xla/stream_executor/platform/default/dso_loader.cc:64] Could not load dynamic library 'libnvinfer.so.7'; dlerror: libnvinfer.so.7: cannot open shared object file: No such file or directory\n",
       "\u001b[0m"
      ]
     },
     "metadata": {},
     "output_type": "display_data"
    },
    {
     "data": {
      "text/html": [
       "<pre style=\"white-space:pre;overflow-x:auto;line-height:normal;font-family:Menlo,'DejaVu Sans Mono',consolas,'Courier New',monospace\"><span style=\"color: #800000; text-decoration-color: #800000\">2023-03-18 21:28:28.055265: W tensorflow/compiler/xla/stream_executor/platform/default/dso_loader.cc:64] Could not load dynamic library 'libnvinfer_plugin.so.7'; dlerror: libnvinfer_plugin.so.7: cannot open shared object file: No such file or directory\n",
       "</span></pre>\n"
      ],
      "text/plain": [
       "\u001b[31m2023-03-18 21:28:28.055265: W tensorflow/compiler/xla/stream_executor/platform/default/dso_loader.cc:64] Could not load dynamic library 'libnvinfer_plugin.so.7'; dlerror: libnvinfer_plugin.so.7: cannot open shared object file: No such file or directory\n",
       "\u001b[0m"
      ]
     },
     "metadata": {},
     "output_type": "display_data"
    },
    {
     "data": {
      "text/html": [
       "<pre style=\"white-space:pre;overflow-x:auto;line-height:normal;font-family:Menlo,'DejaVu Sans Mono',consolas,'Courier New',monospace\"><span style=\"color: #800000; text-decoration-color: #800000\">2023-03-18 21:28:28.055329: W tensorflow/compiler/tf2tensorrt/utils/py_utils.cc:38] TF-TRT Warning: Cannot dlopen some TensorRT libraries. If you would like to use Nvidia GPU with TensorRT, please make sure the missing libraries mentioned above are installed properly.\n",
       "</span></pre>\n"
      ],
      "text/plain": [
       "\u001b[31m2023-03-18 21:28:28.055329: W tensorflow/compiler/tf2tensorrt/utils/py_utils.cc:38] TF-TRT Warning: Cannot dlopen some TensorRT libraries. If you would like to use Nvidia GPU with TensorRT, please make sure the missing libraries mentioned above are installed properly.\n",
       "\u001b[0m"
      ]
     },
     "metadata": {},
     "output_type": "display_data"
    },
    {
     "data": {
      "text/html": [
       "<pre style=\"white-space:pre;overflow-x:auto;line-height:normal;font-family:Menlo,'DejaVu Sans Mono',consolas,'Courier New',monospace\">/Users/shreyashankar/miniforge3/envs/dataval/lib/python3.8/site-packages/rich/live.py:231: UserWarning: install \n",
       "\"ipywidgets\" for Jupyter support\n",
       "  warnings.warn('install \"ipywidgets\" for Jupyter support')\n",
       "</pre>\n"
      ],
      "text/plain": [
       "/Users/shreyashankar/miniforge3/envs/dataval/lib/python3.8/site-packages/rich/live.py:231: UserWarning: install \n",
       "\"ipywidgets\" for Jupyter support\n",
       "  warnings.warn('install \"ipywidgets\" for Jupyter support')\n"
      ]
     },
     "metadata": {},
     "output_type": "display_data"
    },
    {
     "data": {
      "text/html": [
       "<pre style=\"white-space:pre;overflow-x:auto;line-height:normal;font-family:Menlo,'DejaVu Sans Mono',consolas,'Courier New',monospace\"></pre>\n"
      ],
      "text/plain": []
     },
     "metadata": {},
     "output_type": "display_data"
    },
    {
     "data": {
      "text/html": [
       "<pre style=\"white-space:pre;overflow-x:auto;line-height:normal;font-family:Menlo,'DejaVu Sans Mono',consolas,'Courier New',monospace\"><span style=\"color: #008000; text-decoration-color: #008000\">✓</span> App completed.\n",
       "</pre>\n"
      ],
      "text/plain": [
       "\u001b[32m✓\u001b[0m App completed.\n"
      ]
     },
     "metadata": {},
     "output_type": "display_data"
    }
   ],
   "source": [
    "# Run on regular train and test data\n",
    "\n",
    "with stub.run():\n",
    "    X_train, _ = ds.split_feature_label(train_df)\n",
    "    X_test, _ = ds.split_feature_label(test_df)\n",
    "    anomalies = check_skew.call(X_train, X_test, X_train.columns.values)"
   ]
  },
  {
   "cell_type": "code",
   "execution_count": 26,
   "id": "3cc98700-03ec-4523-88e0-f0ca142a4474",
   "metadata": {},
   "outputs": [
    {
     "data": {
      "text/html": [
       "<div>\n",
       "<style scoped>\n",
       "    .dataframe tbody tr th:only-of-type {\n",
       "        vertical-align: middle;\n",
       "    }\n",
       "\n",
       "    .dataframe tbody tr th {\n",
       "        vertical-align: top;\n",
       "    }\n",
       "\n",
       "    .dataframe thead th {\n",
       "        text-align: right;\n",
       "    }\n",
       "</style>\n",
       "<table border=\"1\" class=\"dataframe\">\n",
       "  <thead>\n",
       "    <tr style=\"text-align: right;\">\n",
       "      <th></th>\n",
       "      <th>Anomaly short description</th>\n",
       "      <th>Anomaly long description</th>\n",
       "    </tr>\n",
       "    <tr>\n",
       "      <th>Feature name</th>\n",
       "      <th></th>\n",
       "      <th></th>\n",
       "    </tr>\n",
       "  </thead>\n",
       "  <tbody>\n",
       "    <tr>\n",
       "      <th>'cmc_0_1_65_0_grad'</th>\n",
       "      <td>High approximate Jensen-Shannon divergence between training and serving</td>\n",
       "      <td>The approximate Jensen-Shannon divergence between training and serving is 0.160324 (up to six si...</td>\n",
       "    </tr>\n",
       "    <tr>\n",
       "      <th>'cmc_0_0_0_925'</th>\n",
       "      <td>High approximate Jensen-Shannon divergence between training and serving</td>\n",
       "      <td>The approximate Jensen-Shannon divergence between training and serving is 0.188829 (up to six si...</td>\n",
       "    </tr>\n",
       "    <tr>\n",
       "      <th>'cmc_0_0_0_2_interpolated'</th>\n",
       "      <td>High approximate Jensen-Shannon divergence between training and serving</td>\n",
       "      <td>The approximate Jensen-Shannon divergence between training and serving is 0.222345 (up to six si...</td>\n",
       "    </tr>\n",
       "    <tr>\n",
       "      <th>'cmc_0_0_0_2_next'</th>\n",
       "      <td>High approximate Jensen-Shannon divergence between training and serving</td>\n",
       "      <td>The approximate Jensen-Shannon divergence between training and serving is 0.224824 (up to six si...</td>\n",
       "    </tr>\n",
       "    <tr>\n",
       "      <th>'cmc_0_1_68_0_next'</th>\n",
       "      <td>High approximate Jensen-Shannon divergence between training and serving</td>\n",
       "      <td>The approximate Jensen-Shannon divergence between training and serving is 0.992944 (up to six si...</td>\n",
       "    </tr>\n",
       "    <tr>\n",
       "      <th>'cmc_0_1_67_0_next'</th>\n",
       "      <td>High approximate Jensen-Shannon divergence between training and serving</td>\n",
       "      <td>The approximate Jensen-Shannon divergence between training and serving is 0.818735 (up to six si...</td>\n",
       "    </tr>\n",
       "    <tr>\n",
       "      <th>'cmc_0_0_0_700'</th>\n",
       "      <td>High approximate Jensen-Shannon divergence between training and serving</td>\n",
       "      <td>The approximate Jensen-Shannon divergence between training and serving is 0.23262 (up to six sig...</td>\n",
       "    </tr>\n",
       "    <tr>\n",
       "      <th>'cmc_0_3_1_0'</th>\n",
       "      <td>High approximate Jensen-Shannon divergence between training and serving</td>\n",
       "      <td>The approximate Jensen-Shannon divergence between training and serving is 0.534912 (up to six si...</td>\n",
       "    </tr>\n",
       "    <tr>\n",
       "      <th>'gfs_2m_dewpoint_grad'</th>\n",
       "      <td>High approximate Jensen-Shannon divergence between training and serving</td>\n",
       "      <td>The approximate Jensen-Shannon divergence between training and serving is 0.116569 (up to six si...</td>\n",
       "    </tr>\n",
       "    <tr>\n",
       "      <th>'cmc_0_1_68_0_grad'</th>\n",
       "      <td>High approximate Jensen-Shannon divergence between training and serving</td>\n",
       "      <td>The approximate Jensen-Shannon divergence between training and serving is 0.998486 (up to six si...</td>\n",
       "    </tr>\n",
       "    <tr>\n",
       "      <th>'wrf_graupel'</th>\n",
       "      <td>High approximate Jensen-Shannon divergence between training and serving</td>\n",
       "      <td>The approximate Jensen-Shannon divergence between training and serving is 0.769175 (up to six si...</td>\n",
       "    </tr>\n",
       "    <tr>\n",
       "      <th>'cmc_precipitations'</th>\n",
       "      <td>High approximate Jensen-Shannon divergence between training and serving</td>\n",
       "      <td>The approximate Jensen-Shannon divergence between training and serving is 0.178701 (up to six si...</td>\n",
       "    </tr>\n",
       "    <tr>\n",
       "      <th>'gfs_clouds_sea'</th>\n",
       "      <td>High approximate Jensen-Shannon divergence between training and serving</td>\n",
       "      <td>The approximate Jensen-Shannon divergence between training and serving is 0.278205 (up to six si...</td>\n",
       "    </tr>\n",
       "    <tr>\n",
       "      <th>'cmc_0_1_66_0_grad'</th>\n",
       "      <td>High approximate Jensen-Shannon divergence between training and serving</td>\n",
       "      <td>The approximate Jensen-Shannon divergence between training and serving is 0.605309 (up to six si...</td>\n",
       "    </tr>\n",
       "    <tr>\n",
       "      <th>'cmc_0_1_7_0'</th>\n",
       "      <td>High approximate Jensen-Shannon divergence between training and serving</td>\n",
       "      <td>The approximate Jensen-Shannon divergence between training and serving is 0.9861 (up to six sign...</td>\n",
       "    </tr>\n",
       "    <tr>\n",
       "      <th>'cmc_0_1_68_0'</th>\n",
       "      <td>High approximate Jensen-Shannon divergence between training and serving</td>\n",
       "      <td>The approximate Jensen-Shannon divergence between training and serving is 0.993235 (up to six si...</td>\n",
       "    </tr>\n",
       "    <tr>\n",
       "      <th>'gfs_precipitations'</th>\n",
       "      <td>High approximate Jensen-Shannon divergence between training and serving</td>\n",
       "      <td>The approximate Jensen-Shannon divergence between training and serving is 0.245893 (up to six si...</td>\n",
       "    </tr>\n",
       "    <tr>\n",
       "      <th>'cmc_available'</th>\n",
       "      <td>High approximate Jensen-Shannon divergence between training and serving</td>\n",
       "      <td>The approximate Jensen-Shannon divergence between training and serving is 1 (up to six significa...</td>\n",
       "    </tr>\n",
       "    <tr>\n",
       "      <th>'cmc_0_0_0_2'</th>\n",
       "      <td>High approximate Jensen-Shannon divergence between training and serving</td>\n",
       "      <td>The approximate Jensen-Shannon divergence between training and serving is 0.227713 (up to six si...</td>\n",
       "    </tr>\n",
       "    <tr>\n",
       "      <th>'cmc_0_0_0_500'</th>\n",
       "      <td>High approximate Jensen-Shannon divergence between training and serving</td>\n",
       "      <td>The approximate Jensen-Shannon divergence between training and serving is 0.236024 (up to six si...</td>\n",
       "    </tr>\n",
       "    <tr>\n",
       "      <th>'cmc_0_3_0_0'</th>\n",
       "      <td>High approximate Jensen-Shannon divergence between training and serving</td>\n",
       "      <td>The approximate Jensen-Shannon divergence between training and serving is 0.103373 (up to six si...</td>\n",
       "    </tr>\n",
       "    <tr>\n",
       "      <th>'gfs_r_velocity'</th>\n",
       "      <td>High approximate Jensen-Shannon divergence between training and serving</td>\n",
       "      <td>The approximate Jensen-Shannon divergence between training and serving is 0.128119 (up to six si...</td>\n",
       "    </tr>\n",
       "    <tr>\n",
       "      <th>'cmc_0_3_5_850'</th>\n",
       "      <td>High approximate Jensen-Shannon divergence between training and serving</td>\n",
       "      <td>The approximate Jensen-Shannon divergence between training and serving is 0.117748 (up to six si...</td>\n",
       "    </tr>\n",
       "    <tr>\n",
       "      <th>'wrf_snow'</th>\n",
       "      <td>High approximate Jensen-Shannon divergence between training and serving</td>\n",
       "      <td>The approximate Jensen-Shannon divergence between training and serving is 0.76025 (up to six sig...</td>\n",
       "    </tr>\n",
       "    <tr>\n",
       "      <th>'cmc_0_3_5_500'</th>\n",
       "      <td>High approximate Jensen-Shannon divergence between training and serving</td>\n",
       "      <td>The approximate Jensen-Shannon divergence between training and serving is 0.351011 (up to six si...</td>\n",
       "    </tr>\n",
       "    <tr>\n",
       "      <th>'cmc_0_3_5_700'</th>\n",
       "      <td>High approximate Jensen-Shannon divergence between training and serving</td>\n",
       "      <td>The approximate Jensen-Shannon divergence between training and serving is 0.251076 (up to six si...</td>\n",
       "    </tr>\n",
       "    <tr>\n",
       "      <th>'cmc_0_1_67_0'</th>\n",
       "      <td>High approximate Jensen-Shannon divergence between training and serving</td>\n",
       "      <td>The approximate Jensen-Shannon divergence between training and serving is 0.819696 (up to six si...</td>\n",
       "    </tr>\n",
       "    <tr>\n",
       "      <th>'cmc_0_0_6_2'</th>\n",
       "      <td>High approximate Jensen-Shannon divergence between training and serving</td>\n",
       "      <td>The approximate Jensen-Shannon divergence between training and serving is 0.106535 (up to six si...</td>\n",
       "    </tr>\n",
       "    <tr>\n",
       "      <th>'wrf_rain'</th>\n",
       "      <td>High approximate Jensen-Shannon divergence between training and serving</td>\n",
       "      <td>The approximate Jensen-Shannon divergence between training and serving is 0.169053 (up to six si...</td>\n",
       "    </tr>\n",
       "    <tr>\n",
       "      <th>'topography_bathymetry'</th>\n",
       "      <td>High approximate Jensen-Shannon divergence between training and serving</td>\n",
       "      <td>The approximate Jensen-Shannon divergence between training and serving is 0.166572 (up to six si...</td>\n",
       "    </tr>\n",
       "    <tr>\n",
       "      <th>'climate_pressure'</th>\n",
       "      <td>High approximate Jensen-Shannon divergence between training and serving</td>\n",
       "      <td>The approximate Jensen-Shannon divergence between training and serving is 0.116659 (up to six si...</td>\n",
       "    </tr>\n",
       "    <tr>\n",
       "      <th>'cmc_0_0_0_850'</th>\n",
       "      <td>High approximate Jensen-Shannon divergence between training and serving</td>\n",
       "      <td>The approximate Jensen-Shannon divergence between training and serving is 0.175208 (up to six si...</td>\n",
       "    </tr>\n",
       "    <tr>\n",
       "      <th>'cmc_0_0_0_1000'</th>\n",
       "      <td>High approximate Jensen-Shannon divergence between training and serving</td>\n",
       "      <td>The approximate Jensen-Shannon divergence between training and serving is 0.20403 (up to six sig...</td>\n",
       "    </tr>\n",
       "    <tr>\n",
       "      <th>'cmc_0_1_67_0_grad'</th>\n",
       "      <td>High approximate Jensen-Shannon divergence between training and serving</td>\n",
       "      <td>The approximate Jensen-Shannon divergence between training and serving is 0.895313 (up to six si...</td>\n",
       "    </tr>\n",
       "    <tr>\n",
       "      <th>'cmc_0_1_0_0'</th>\n",
       "      <td>High approximate Jensen-Shannon divergence between training and serving</td>\n",
       "      <td>The approximate Jensen-Shannon divergence between training and serving is 0.855454 (up to six si...</td>\n",
       "    </tr>\n",
       "  </tbody>\n",
       "</table>\n",
       "</div>"
      ],
      "text/plain": [
       "                                                                          Anomaly short description  \\\n",
       "Feature name                                                                                          \n",
       "'cmc_0_1_65_0_grad'         High approximate Jensen-Shannon divergence between training and serving   \n",
       "'cmc_0_0_0_925'             High approximate Jensen-Shannon divergence between training and serving   \n",
       "'cmc_0_0_0_2_interpolated'  High approximate Jensen-Shannon divergence between training and serving   \n",
       "'cmc_0_0_0_2_next'          High approximate Jensen-Shannon divergence between training and serving   \n",
       "'cmc_0_1_68_0_next'         High approximate Jensen-Shannon divergence between training and serving   \n",
       "'cmc_0_1_67_0_next'         High approximate Jensen-Shannon divergence between training and serving   \n",
       "'cmc_0_0_0_700'             High approximate Jensen-Shannon divergence between training and serving   \n",
       "'cmc_0_3_1_0'               High approximate Jensen-Shannon divergence between training and serving   \n",
       "'gfs_2m_dewpoint_grad'      High approximate Jensen-Shannon divergence between training and serving   \n",
       "'cmc_0_1_68_0_grad'         High approximate Jensen-Shannon divergence between training and serving   \n",
       "'wrf_graupel'               High approximate Jensen-Shannon divergence between training and serving   \n",
       "'cmc_precipitations'        High approximate Jensen-Shannon divergence between training and serving   \n",
       "'gfs_clouds_sea'            High approximate Jensen-Shannon divergence between training and serving   \n",
       "'cmc_0_1_66_0_grad'         High approximate Jensen-Shannon divergence between training and serving   \n",
       "'cmc_0_1_7_0'               High approximate Jensen-Shannon divergence between training and serving   \n",
       "'cmc_0_1_68_0'              High approximate Jensen-Shannon divergence between training and serving   \n",
       "'gfs_precipitations'        High approximate Jensen-Shannon divergence between training and serving   \n",
       "'cmc_available'             High approximate Jensen-Shannon divergence between training and serving   \n",
       "'cmc_0_0_0_2'               High approximate Jensen-Shannon divergence between training and serving   \n",
       "'cmc_0_0_0_500'             High approximate Jensen-Shannon divergence between training and serving   \n",
       "'cmc_0_3_0_0'               High approximate Jensen-Shannon divergence between training and serving   \n",
       "'gfs_r_velocity'            High approximate Jensen-Shannon divergence between training and serving   \n",
       "'cmc_0_3_5_850'             High approximate Jensen-Shannon divergence between training and serving   \n",
       "'wrf_snow'                  High approximate Jensen-Shannon divergence between training and serving   \n",
       "'cmc_0_3_5_500'             High approximate Jensen-Shannon divergence between training and serving   \n",
       "'cmc_0_3_5_700'             High approximate Jensen-Shannon divergence between training and serving   \n",
       "'cmc_0_1_67_0'              High approximate Jensen-Shannon divergence between training and serving   \n",
       "'cmc_0_0_6_2'               High approximate Jensen-Shannon divergence between training and serving   \n",
       "'wrf_rain'                  High approximate Jensen-Shannon divergence between training and serving   \n",
       "'topography_bathymetry'     High approximate Jensen-Shannon divergence between training and serving   \n",
       "'climate_pressure'          High approximate Jensen-Shannon divergence between training and serving   \n",
       "'cmc_0_0_0_850'             High approximate Jensen-Shannon divergence between training and serving   \n",
       "'cmc_0_0_0_1000'            High approximate Jensen-Shannon divergence between training and serving   \n",
       "'cmc_0_1_67_0_grad'         High approximate Jensen-Shannon divergence between training and serving   \n",
       "'cmc_0_1_0_0'               High approximate Jensen-Shannon divergence between training and serving   \n",
       "\n",
       "                                                                                                       Anomaly long description  \n",
       "Feature name                                                                                                                     \n",
       "'cmc_0_1_65_0_grad'         The approximate Jensen-Shannon divergence between training and serving is 0.160324 (up to six si...  \n",
       "'cmc_0_0_0_925'             The approximate Jensen-Shannon divergence between training and serving is 0.188829 (up to six si...  \n",
       "'cmc_0_0_0_2_interpolated'  The approximate Jensen-Shannon divergence between training and serving is 0.222345 (up to six si...  \n",
       "'cmc_0_0_0_2_next'          The approximate Jensen-Shannon divergence between training and serving is 0.224824 (up to six si...  \n",
       "'cmc_0_1_68_0_next'         The approximate Jensen-Shannon divergence between training and serving is 0.992944 (up to six si...  \n",
       "'cmc_0_1_67_0_next'         The approximate Jensen-Shannon divergence between training and serving is 0.818735 (up to six si...  \n",
       "'cmc_0_0_0_700'             The approximate Jensen-Shannon divergence between training and serving is 0.23262 (up to six sig...  \n",
       "'cmc_0_3_1_0'               The approximate Jensen-Shannon divergence between training and serving is 0.534912 (up to six si...  \n",
       "'gfs_2m_dewpoint_grad'      The approximate Jensen-Shannon divergence between training and serving is 0.116569 (up to six si...  \n",
       "'cmc_0_1_68_0_grad'         The approximate Jensen-Shannon divergence between training and serving is 0.998486 (up to six si...  \n",
       "'wrf_graupel'               The approximate Jensen-Shannon divergence between training and serving is 0.769175 (up to six si...  \n",
       "'cmc_precipitations'        The approximate Jensen-Shannon divergence between training and serving is 0.178701 (up to six si...  \n",
       "'gfs_clouds_sea'            The approximate Jensen-Shannon divergence between training and serving is 0.278205 (up to six si...  \n",
       "'cmc_0_1_66_0_grad'         The approximate Jensen-Shannon divergence between training and serving is 0.605309 (up to six si...  \n",
       "'cmc_0_1_7_0'               The approximate Jensen-Shannon divergence between training and serving is 0.9861 (up to six sign...  \n",
       "'cmc_0_1_68_0'              The approximate Jensen-Shannon divergence between training and serving is 0.993235 (up to six si...  \n",
       "'gfs_precipitations'        The approximate Jensen-Shannon divergence between training and serving is 0.245893 (up to six si...  \n",
       "'cmc_available'             The approximate Jensen-Shannon divergence between training and serving is 1 (up to six significa...  \n",
       "'cmc_0_0_0_2'               The approximate Jensen-Shannon divergence between training and serving is 0.227713 (up to six si...  \n",
       "'cmc_0_0_0_500'             The approximate Jensen-Shannon divergence between training and serving is 0.236024 (up to six si...  \n",
       "'cmc_0_3_0_0'               The approximate Jensen-Shannon divergence between training and serving is 0.103373 (up to six si...  \n",
       "'gfs_r_velocity'            The approximate Jensen-Shannon divergence between training and serving is 0.128119 (up to six si...  \n",
       "'cmc_0_3_5_850'             The approximate Jensen-Shannon divergence between training and serving is 0.117748 (up to six si...  \n",
       "'wrf_snow'                  The approximate Jensen-Shannon divergence between training and serving is 0.76025 (up to six sig...  \n",
       "'cmc_0_3_5_500'             The approximate Jensen-Shannon divergence between training and serving is 0.351011 (up to six si...  \n",
       "'cmc_0_3_5_700'             The approximate Jensen-Shannon divergence between training and serving is 0.251076 (up to six si...  \n",
       "'cmc_0_1_67_0'              The approximate Jensen-Shannon divergence between training and serving is 0.819696 (up to six si...  \n",
       "'cmc_0_0_6_2'               The approximate Jensen-Shannon divergence between training and serving is 0.106535 (up to six si...  \n",
       "'wrf_rain'                  The approximate Jensen-Shannon divergence between training and serving is 0.169053 (up to six si...  \n",
       "'topography_bathymetry'     The approximate Jensen-Shannon divergence between training and serving is 0.166572 (up to six si...  \n",
       "'climate_pressure'          The approximate Jensen-Shannon divergence between training and serving is 0.116659 (up to six si...  \n",
       "'cmc_0_0_0_850'             The approximate Jensen-Shannon divergence between training and serving is 0.175208 (up to six si...  \n",
       "'cmc_0_0_0_1000'            The approximate Jensen-Shannon divergence between training and serving is 0.20403 (up to six sig...  \n",
       "'cmc_0_1_67_0_grad'         The approximate Jensen-Shannon divergence between training and serving is 0.895313 (up to six si...  \n",
       "'cmc_0_1_0_0'               The approximate Jensen-Shannon divergence between training and serving is 0.855454 (up to six si...  "
      ]
     },
     "execution_count": 26,
     "metadata": {},
     "output_type": "execute_result"
    }
   ],
   "source": [
    "pd.options.display.max_colwidth = 100\n",
    "anomalies"
   ]
  },
  {
   "cell_type": "markdown",
   "id": "f7fad42b-ab0e-4f9d-8984-ac6ebce16581",
   "metadata": {},
   "source": [
    "Wow, it looks like there were many alerts triggered! Unclear if these alerts are meaningful though, as the test performance is not so much worse than the train performance. Also, how would we interpret the alerts?"
   ]
  },
  {
   "cell_type": "markdown",
   "id": "f2449bf1-355c-4bc8-9722-fec64c6c6f99",
   "metadata": {},
   "source": [
    "## Iterate through corruptions\n",
    "\n",
    "See if tfdv detects any anomalies, for all the corruptions we had in our previous notebook."
   ]
  },
  {
   "cell_type": "code",
   "execution_count": 29,
   "id": "0445a42f-b3b7-4fd6-99aa-1a51123b717b",
   "metadata": {},
   "outputs": [
    {
     "data": {
      "text/html": [
       "<pre style=\"white-space:pre;overflow-x:auto;line-height:normal;font-family:Menlo,'DejaVu Sans Mono',consolas,'Courier New',monospace\">/Users/shreyashankar/miniforge3/envs/dataval/lib/python3.8/site-packages/rich/live.py:231: UserWarning: install \n",
       "\"ipywidgets\" for Jupyter support\n",
       "  warnings.warn('install \"ipywidgets\" for Jupyter support')\n",
       "</pre>\n"
      ],
      "text/plain": [
       "/Users/shreyashankar/miniforge3/envs/dataval/lib/python3.8/site-packages/rich/live.py:231: UserWarning: install \n",
       "\"ipywidgets\" for Jupyter support\n",
       "  warnings.warn('install \"ipywidgets\" for Jupyter support')\n"
      ]
     },
     "metadata": {},
     "output_type": "display_data"
    },
    {
     "data": {
      "text/html": [
       "<pre style=\"white-space:pre;overflow-x:auto;line-height:normal;font-family:Menlo,'DejaVu Sans Mono',consolas,'Courier New',monospace\"><span style=\"color: #008000; text-decoration-color: #008000\">✓</span> Initialized. <span style=\"color: #b2b2b2; text-decoration-color: #b2b2b2\">View app at </span><span style=\"color: #b2b2b2; text-decoration-color: #b2b2b2; text-decoration: underline\">https://modal.com/apps/ap-lKQqgqEzdHSQFE4tPRCtIu</span>\n",
       "</pre>\n"
      ],
      "text/plain": [
       "\u001b[32m✓\u001b[0m Initialized. \u001b[38;5;249mView app at \u001b[0m\u001b[4;38;5;249mhttps://modal.com/apps/ap-lKQqgqEzdHSQFE4tPRCtIu\u001b[0m\n"
      ]
     },
     "metadata": {},
     "output_type": "display_data"
    },
    {
     "data": {
      "text/html": [
       "<pre style=\"white-space:pre;overflow-x:auto;line-height:normal;font-family:Menlo,'DejaVu Sans Mono',consolas,'Courier New',monospace\"></pre>\n"
      ],
      "text/plain": []
     },
     "metadata": {},
     "output_type": "display_data"
    },
    {
     "data": {
      "text/html": [
       "<pre style=\"white-space:pre;overflow-x:auto;line-height:normal;font-family:Menlo,'DejaVu Sans Mono',consolas,'Courier New',monospace\"></pre>\n"
      ],
      "text/plain": []
     },
     "metadata": {},
     "output_type": "display_data"
    },
    {
     "data": {
      "text/html": [
       "<pre style=\"white-space:pre;overflow-x:auto;line-height:normal;font-family:Menlo,'DejaVu Sans Mono',consolas,'Courier New',monospace\"><span style=\"color: #008000; text-decoration-color: #008000\">✓</span> Created objects.\n",
       "<span style=\"color: #808080; text-decoration-color: #808080\">└── </span><span style=\"color: #008000; text-decoration-color: #008000\">🔨</span> Created check_skew.\n",
       "</pre>\n"
      ],
      "text/plain": [
       "\u001b[32m✓\u001b[0m Created objects.\n",
       "\u001b[38;5;244m└── \u001b[0m\u001b[32m🔨\u001b[0m Created check_skew.\n"
      ]
     },
     "metadata": {},
     "output_type": "display_data"
    },
    {
     "data": {
      "text/html": [
       "<pre style=\"white-space:pre;overflow-x:auto;line-height:normal;font-family:Menlo,'DejaVu Sans Mono',consolas,'Courier New',monospace\">/Users/shreyashankar/miniforge3/envs/dataval/lib/python3.8/site-packages/rich/live.py:231: UserWarning: install \n",
       "\"ipywidgets\" for Jupyter support\n",
       "  warnings.warn('install \"ipywidgets\" for Jupyter support')\n",
       "</pre>\n"
      ],
      "text/plain": [
       "/Users/shreyashankar/miniforge3/envs/dataval/lib/python3.8/site-packages/rich/live.py:231: UserWarning: install \n",
       "\"ipywidgets\" for Jupyter support\n",
       "  warnings.warn('install \"ipywidgets\" for Jupyter support')\n"
      ]
     },
     "metadata": {},
     "output_type": "display_data"
    },
    {
     "data": {
      "text/html": [
       "<pre style=\"white-space:pre;overflow-x:auto;line-height:normal;font-family:Menlo,'DejaVu Sans Mono',consolas,'Courier New',monospace\"><span style=\"color: #800000; text-decoration-color: #800000\">2023-03-18 21:33:11.410151: I tensorflow/core/platform/cpu_feature_guard.cc:193] This TensorFlow binary is optimized with oneAPI Deep Neural Network Library (oneDNN) to use the following CPU instructions in performance-critical operations:  AVX2 FMA\n",
       "To enable them in other operations, rebuild TensorFlow with the appropriate compiler flags.\n",
       "</span></pre>\n"
      ],
      "text/plain": [
       "\u001b[31m2023-03-18 21:33:11.410151: I tensorflow/core/platform/cpu_feature_guard.cc:193] This TensorFlow binary is optimized with oneAPI Deep Neural Network Library (oneDNN) to use the following CPU instructions in performance-critical operations:  AVX2 FMA\n",
       "To enable them in other operations, rebuild TensorFlow with the appropriate compiler flags.\n",
       "\u001b[0m"
      ]
     },
     "metadata": {},
     "output_type": "display_data"
    },
    {
     "data": {
      "text/html": [
       "<pre style=\"white-space:pre;overflow-x:auto;line-height:normal;font-family:Menlo,'DejaVu Sans Mono',consolas,'Courier New',monospace\"><span style=\"color: #800000; text-decoration-color: #800000\">2023-03-18 21:33:11.657671: W tensorflow/compiler/xla/stream_executor/platform/default/dso_loader.cc:64] Could not load dynamic library 'libcudart.so.11.0'; dlerror: libcudart.so.11.0: cannot open shared object file: No such file or directory\n",
       "</span></pre>\n"
      ],
      "text/plain": [
       "\u001b[31m2023-03-18 21:33:11.657671: W tensorflow/compiler/xla/stream_executor/platform/default/dso_loader.cc:64] Could not load dynamic library 'libcudart.so.11.0'; dlerror: libcudart.so.11.0: cannot open shared object file: No such file or directory\n",
       "\u001b[0m"
      ]
     },
     "metadata": {},
     "output_type": "display_data"
    },
    {
     "data": {
      "text/html": [
       "<pre style=\"white-space:pre;overflow-x:auto;line-height:normal;font-family:Menlo,'DejaVu Sans Mono',consolas,'Courier New',monospace\"><span style=\"color: #800000; text-decoration-color: #800000\">2023-03-18 21:33:11.657737: I tensorflow/compiler/xla/stream_executor/cuda/cudart_stub.cc:29] Ignore above cudart dlerror if you do not have a GPU set up on your machine.\n",
       "</span></pre>\n"
      ],
      "text/plain": [
       "\u001b[31m2023-03-18 21:33:11.657737: I tensorflow/compiler/xla/stream_executor/cuda/cudart_stub.cc:29] Ignore above cudart dlerror if you do not have a GPU set up on your machine.\n",
       "\u001b[0m"
      ]
     },
     "metadata": {},
     "output_type": "display_data"
    },
    {
     "data": {
      "text/html": [
       "<pre style=\"white-space:pre;overflow-x:auto;line-height:normal;font-family:Menlo,'DejaVu Sans Mono',consolas,'Courier New',monospace\"><span style=\"color: #800000; text-decoration-color: #800000\">2023-03-18 21:33:12.931369: W tensorflow/compiler/xla/stream_executor/platform/default/dso_loader.cc:64] Could not load dynamic library 'libnvinfer.so.7'; dlerror: libnvinfer.so.7: cannot open shared object file: No such file or directory\n",
       "</span></pre>\n"
      ],
      "text/plain": [
       "\u001b[31m2023-03-18 21:33:12.931369: W tensorflow/compiler/xla/stream_executor/platform/default/dso_loader.cc:64] Could not load dynamic library 'libnvinfer.so.7'; dlerror: libnvinfer.so.7: cannot open shared object file: No such file or directory\n",
       "\u001b[0m"
      ]
     },
     "metadata": {},
     "output_type": "display_data"
    },
    {
     "data": {
      "text/html": [
       "<pre style=\"white-space:pre;overflow-x:auto;line-height:normal;font-family:Menlo,'DejaVu Sans Mono',consolas,'Courier New',monospace\"><span style=\"color: #800000; text-decoration-color: #800000\">2023-03-18 21:33:12.931873: W tensorflow/compiler/xla/stream_executor/platform/default/dso_loader.cc:64] Could not load dynamic library 'libnvinfer_plugin.so.7'; dlerror: libnvinfer_plugin.so.7: cannot open shared object file: No such file or directory\n",
       "</span></pre>\n"
      ],
      "text/plain": [
       "\u001b[31m2023-03-18 21:33:12.931873: W tensorflow/compiler/xla/stream_executor/platform/default/dso_loader.cc:64] Could not load dynamic library 'libnvinfer_plugin.so.7'; dlerror: libnvinfer_plugin.so.7: cannot open shared object file: No such file or directory\n",
       "\u001b[0m"
      ]
     },
     "metadata": {},
     "output_type": "display_data"
    },
    {
     "data": {
      "text/html": [
       "<pre style=\"white-space:pre;overflow-x:auto;line-height:normal;font-family:Menlo,'DejaVu Sans Mono',consolas,'Courier New',monospace\"><span style=\"color: #800000; text-decoration-color: #800000\">2023-03-18 21:33:12.932070: W tensorflow/compiler/tf2tensorrt/utils/py_utils.cc:38] TF-TRT Warning: Cannot dlopen some TensorRT libraries. If you would like to use Nvidia GPU with TensorRT, please make sure the missing libraries mentioned above are installed properly.\n",
       "</span></pre>\n"
      ],
      "text/plain": [
       "\u001b[31m2023-03-18 21:33:12.932070: W tensorflow/compiler/tf2tensorrt/utils/py_utils.cc:38] TF-TRT Warning: Cannot dlopen some TensorRT libraries. If you would like to use Nvidia GPU with TensorRT, please make sure the missing libraries mentioned above are installed properly.\n",
       "\u001b[0m"
      ]
     },
     "metadata": {},
     "output_type": "display_data"
    },
    {
     "data": {
      "text/html": [
       "<pre style=\"white-space:pre;overflow-x:auto;line-height:normal;font-family:Menlo,'DejaVu Sans Mono',consolas,'Courier New',monospace\">/Users/shreyashankar/miniforge3/envs/dataval/lib/python3.8/site-packages/rich/live.py:231: UserWarning: install \n",
       "\"ipywidgets\" for Jupyter support\n",
       "  warnings.warn('install \"ipywidgets\" for Jupyter support')\n",
       "</pre>\n"
      ],
      "text/plain": [
       "/Users/shreyashankar/miniforge3/envs/dataval/lib/python3.8/site-packages/rich/live.py:231: UserWarning: install \n",
       "\"ipywidgets\" for Jupyter support\n",
       "  warnings.warn('install \"ipywidgets\" for Jupyter support')\n"
      ]
     },
     "metadata": {},
     "output_type": "display_data"
    },
    {
     "data": {
      "text/html": [
       "<pre style=\"white-space:pre;overflow-x:auto;line-height:normal;font-family:Menlo,'DejaVu Sans Mono',consolas,'Courier New',monospace\">/Users/shreyashankar/miniforge3/envs/dataval/lib/python3.8/site-packages/rich/live.py:231: UserWarning: install \n",
       "\"ipywidgets\" for Jupyter support\n",
       "  warnings.warn('install \"ipywidgets\" for Jupyter support')\n",
       "</pre>\n"
      ],
      "text/plain": [
       "/Users/shreyashankar/miniforge3/envs/dataval/lib/python3.8/site-packages/rich/live.py:231: UserWarning: install \n",
       "\"ipywidgets\" for Jupyter support\n",
       "  warnings.warn('install \"ipywidgets\" for Jupyter support')\n"
      ]
     },
     "metadata": {},
     "output_type": "display_data"
    },
    {
     "data": {
      "text/html": [
       "<pre style=\"white-space:pre;overflow-x:auto;line-height:normal;font-family:Menlo,'DejaVu Sans Mono',consolas,'Courier New',monospace\">/Users/shreyashankar/miniforge3/envs/dataval/lib/python3.8/site-packages/rich/live.py:231: UserWarning: install \n",
       "\"ipywidgets\" for Jupyter support\n",
       "  warnings.warn('install \"ipywidgets\" for Jupyter support')\n",
       "</pre>\n"
      ],
      "text/plain": [
       "/Users/shreyashankar/miniforge3/envs/dataval/lib/python3.8/site-packages/rich/live.py:231: UserWarning: install \n",
       "\"ipywidgets\" for Jupyter support\n",
       "  warnings.warn('install \"ipywidgets\" for Jupyter support')\n"
      ]
     },
     "metadata": {},
     "output_type": "display_data"
    },
    {
     "data": {
      "text/html": [
       "<pre style=\"white-space:pre;overflow-x:auto;line-height:normal;font-family:Menlo,'DejaVu Sans Mono',consolas,'Courier New',monospace\">/Users/shreyashankar/miniforge3/envs/dataval/lib/python3.8/site-packages/rich/live.py:231: UserWarning: install \n",
       "\"ipywidgets\" for Jupyter support\n",
       "  warnings.warn('install \"ipywidgets\" for Jupyter support')\n",
       "</pre>\n"
      ],
      "text/plain": [
       "/Users/shreyashankar/miniforge3/envs/dataval/lib/python3.8/site-packages/rich/live.py:231: UserWarning: install \n",
       "\"ipywidgets\" for Jupyter support\n",
       "  warnings.warn('install \"ipywidgets\" for Jupyter support')\n"
      ]
     },
     "metadata": {},
     "output_type": "display_data"
    },
    {
     "data": {
      "text/html": [
       "<pre style=\"white-space:pre;overflow-x:auto;line-height:normal;font-family:Menlo,'DejaVu Sans Mono',consolas,'Courier New',monospace\">/Users/shreyashankar/miniforge3/envs/dataval/lib/python3.8/site-packages/rich/live.py:231: UserWarning: install \n",
       "\"ipywidgets\" for Jupyter support\n",
       "  warnings.warn('install \"ipywidgets\" for Jupyter support')\n",
       "</pre>\n"
      ],
      "text/plain": [
       "/Users/shreyashankar/miniforge3/envs/dataval/lib/python3.8/site-packages/rich/live.py:231: UserWarning: install \n",
       "\"ipywidgets\" for Jupyter support\n",
       "  warnings.warn('install \"ipywidgets\" for Jupyter support')\n"
      ]
     },
     "metadata": {},
     "output_type": "display_data"
    },
    {
     "data": {
      "text/html": [
       "<pre style=\"white-space:pre;overflow-x:auto;line-height:normal;font-family:Menlo,'DejaVu Sans Mono',consolas,'Courier New',monospace\">/Users/shreyashankar/miniforge3/envs/dataval/lib/python3.8/site-packages/rich/live.py:231: UserWarning: install \n",
       "\"ipywidgets\" for Jupyter support\n",
       "  warnings.warn('install \"ipywidgets\" for Jupyter support')\n",
       "</pre>\n"
      ],
      "text/plain": [
       "/Users/shreyashankar/miniforge3/envs/dataval/lib/python3.8/site-packages/rich/live.py:231: UserWarning: install \n",
       "\"ipywidgets\" for Jupyter support\n",
       "  warnings.warn('install \"ipywidgets\" for Jupyter support')\n"
      ]
     },
     "metadata": {},
     "output_type": "display_data"
    },
    {
     "data": {
      "text/html": [
       "<pre style=\"white-space:pre;overflow-x:auto;line-height:normal;font-family:Menlo,'DejaVu Sans Mono',consolas,'Courier New',monospace\">/Users/shreyashankar/miniforge3/envs/dataval/lib/python3.8/site-packages/rich/live.py:231: UserWarning: install \n",
       "\"ipywidgets\" for Jupyter support\n",
       "  warnings.warn('install \"ipywidgets\" for Jupyter support')\n",
       "</pre>\n"
      ],
      "text/plain": [
       "/Users/shreyashankar/miniforge3/envs/dataval/lib/python3.8/site-packages/rich/live.py:231: UserWarning: install \n",
       "\"ipywidgets\" for Jupyter support\n",
       "  warnings.warn('install \"ipywidgets\" for Jupyter support')\n"
      ]
     },
     "metadata": {},
     "output_type": "display_data"
    },
    {
     "data": {
      "text/html": [
       "<pre style=\"white-space:pre;overflow-x:auto;line-height:normal;font-family:Menlo,'DejaVu Sans Mono',consolas,'Courier New',monospace\">/Users/shreyashankar/miniforge3/envs/dataval/lib/python3.8/site-packages/rich/live.py:231: UserWarning: install \n",
       "\"ipywidgets\" for Jupyter support\n",
       "  warnings.warn('install \"ipywidgets\" for Jupyter support')\n",
       "</pre>\n"
      ],
      "text/plain": [
       "/Users/shreyashankar/miniforge3/envs/dataval/lib/python3.8/site-packages/rich/live.py:231: UserWarning: install \n",
       "\"ipywidgets\" for Jupyter support\n",
       "  warnings.warn('install \"ipywidgets\" for Jupyter support')\n"
      ]
     },
     "metadata": {},
     "output_type": "display_data"
    },
    {
     "data": {
      "text/html": [
       "<pre style=\"white-space:pre;overflow-x:auto;line-height:normal;font-family:Menlo,'DejaVu Sans Mono',consolas,'Courier New',monospace\"></pre>\n"
      ],
      "text/plain": []
     },
     "metadata": {},
     "output_type": "display_data"
    },
    {
     "data": {
      "text/html": [
       "<pre style=\"white-space:pre;overflow-x:auto;line-height:normal;font-family:Menlo,'DejaVu Sans Mono',consolas,'Courier New',monospace\"><span style=\"color: #008000; text-decoration-color: #008000\">✓</span> App completed.\n",
       "</pre>\n"
      ],
      "text/plain": [
       "\u001b[32m✓\u001b[0m App completed.\n"
      ]
     },
     "metadata": {},
     "output_type": "display_data"
    }
   ],
   "source": [
    "X_train, _ = ds.split_feature_label(train_df)\n",
    "corruption_anomalies = {}\n",
    "corruption_columns = {}\n",
    "\n",
    "with stub.run():\n",
    "    for corruption_name, corruption_res in ds.iterate_corruptions(test_df, \"cmc\", corruption_rate=0.05):\n",
    "        corrupted_test_df, corrupted_columns = corruption_res\n",
    "        corrupted_X_test, _ = ds.split_feature_label(corrupted_test_df)\n",
    "        corruption_anomalies[corruption_name] = check_skew.call(X_train, corrupted_X_test, X_train.columns.values)\n",
    "        corruption_columns[corruption_name] = corrupted_columns"
   ]
  },
  {
   "cell_type": "code",
   "execution_count": 40,
   "id": "4ca54760-5628-465c-a0fa-b58c67c51e58",
   "metadata": {},
   "outputs": [
    {
     "name": "stdout",
     "output_type": "stream",
     "text": [
      "TFDV found 10 of 56 anomalies for corruption corrupt_null. 19 were found in total. Displaying 5:\n"
     ]
    },
    {
     "data": {
      "text/html": [
       "<div>\n",
       "<style scoped>\n",
       "    .dataframe tbody tr th:only-of-type {\n",
       "        vertical-align: middle;\n",
       "    }\n",
       "\n",
       "    .dataframe tbody tr th {\n",
       "        vertical-align: top;\n",
       "    }\n",
       "\n",
       "    .dataframe thead th {\n",
       "        text-align: right;\n",
       "    }\n",
       "</style>\n",
       "<table border=\"1\" class=\"dataframe\">\n",
       "  <thead>\n",
       "    <tr style=\"text-align: right;\">\n",
       "      <th></th>\n",
       "      <th>Anomaly short description</th>\n",
       "      <th>Anomaly long description</th>\n",
       "    </tr>\n",
       "    <tr>\n",
       "      <th>Feature name</th>\n",
       "      <th></th>\n",
       "      <th></th>\n",
       "    </tr>\n",
       "  </thead>\n",
       "  <tbody>\n",
       "    <tr>\n",
       "      <th>'gfs_precipitations'</th>\n",
       "      <td>High approximate Jensen-Shannon divergence between training and serving</td>\n",
       "      <td>The approximate Jensen-Shannon divergence between training and serving is 0.245893 (up to six si...</td>\n",
       "    </tr>\n",
       "    <tr>\n",
       "      <th>'cmc_0_1_67_0_next'</th>\n",
       "      <td>High approximate Jensen-Shannon divergence between training and serving</td>\n",
       "      <td>The approximate Jensen-Shannon divergence between training and serving is 0.641023 (up to six si...</td>\n",
       "    </tr>\n",
       "    <tr>\n",
       "      <th>'wrf_graupel'</th>\n",
       "      <td>High approximate Jensen-Shannon divergence between training and serving</td>\n",
       "      <td>The approximate Jensen-Shannon divergence between training and serving is 0.769175 (up to six si...</td>\n",
       "    </tr>\n",
       "    <tr>\n",
       "      <th>'cmc_0_1_7_0'</th>\n",
       "      <td>High approximate Jensen-Shannon divergence between training and serving</td>\n",
       "      <td>The approximate Jensen-Shannon divergence between training and serving is 0.102191 (up to six si...</td>\n",
       "    </tr>\n",
       "    <tr>\n",
       "      <th>'gfs_r_velocity'</th>\n",
       "      <td>High approximate Jensen-Shannon divergence between training and serving</td>\n",
       "      <td>The approximate Jensen-Shannon divergence between training and serving is 0.128119 (up to six si...</td>\n",
       "    </tr>\n",
       "  </tbody>\n",
       "</table>\n",
       "</div>"
      ],
      "text/plain": [
       "                                                                    Anomaly short description  \\\n",
       "Feature name                                                                                    \n",
       "'gfs_precipitations'  High approximate Jensen-Shannon divergence between training and serving   \n",
       "'cmc_0_1_67_0_next'   High approximate Jensen-Shannon divergence between training and serving   \n",
       "'wrf_graupel'         High approximate Jensen-Shannon divergence between training and serving   \n",
       "'cmc_0_1_7_0'         High approximate Jensen-Shannon divergence between training and serving   \n",
       "'gfs_r_velocity'      High approximate Jensen-Shannon divergence between training and serving   \n",
       "\n",
       "                                                                                                 Anomaly long description  \n",
       "Feature name                                                                                                               \n",
       "'gfs_precipitations'  The approximate Jensen-Shannon divergence between training and serving is 0.245893 (up to six si...  \n",
       "'cmc_0_1_67_0_next'   The approximate Jensen-Shannon divergence between training and serving is 0.641023 (up to six si...  \n",
       "'wrf_graupel'         The approximate Jensen-Shannon divergence between training and serving is 0.769175 (up to six si...  \n",
       "'cmc_0_1_7_0'         The approximate Jensen-Shannon divergence between training and serving is 0.102191 (up to six si...  \n",
       "'gfs_r_velocity'      The approximate Jensen-Shannon divergence between training and serving is 0.128119 (up to six si...  "
      ]
     },
     "metadata": {},
     "output_type": "display_data"
    },
    {
     "name": "stdout",
     "output_type": "stream",
     "text": [
      "TFDV found 32 of 38 anomalies for corruption corrupt_nonnegative. 45 were found in total. Displaying 5:\n"
     ]
    },
    {
     "data": {
      "text/html": [
       "<div>\n",
       "<style scoped>\n",
       "    .dataframe tbody tr th:only-of-type {\n",
       "        vertical-align: middle;\n",
       "    }\n",
       "\n",
       "    .dataframe tbody tr th {\n",
       "        vertical-align: top;\n",
       "    }\n",
       "\n",
       "    .dataframe thead th {\n",
       "        text-align: right;\n",
       "    }\n",
       "</style>\n",
       "<table border=\"1\" class=\"dataframe\">\n",
       "  <thead>\n",
       "    <tr style=\"text-align: right;\">\n",
       "      <th></th>\n",
       "      <th>Anomaly short description</th>\n",
       "      <th>Anomaly long description</th>\n",
       "    </tr>\n",
       "    <tr>\n",
       "      <th>Feature name</th>\n",
       "      <th></th>\n",
       "      <th></th>\n",
       "    </tr>\n",
       "  </thead>\n",
       "  <tbody>\n",
       "    <tr>\n",
       "      <th>'cmc_0_0_0_700'</th>\n",
       "      <td>High approximate Jensen-Shannon divergence between training and serving</td>\n",
       "      <td>The approximate Jensen-Shannon divergence between training and serving is 0.278185 (up to six si...</td>\n",
       "    </tr>\n",
       "    <tr>\n",
       "      <th>'cmc_0_1_68_0'</th>\n",
       "      <td>High approximate Jensen-Shannon divergence between training and serving</td>\n",
       "      <td>The approximate Jensen-Shannon divergence between training and serving is 0.99931 (up to six sig...</td>\n",
       "    </tr>\n",
       "    <tr>\n",
       "      <th>'cmc_0_1_65_0_grad'</th>\n",
       "      <td>High approximate Jensen-Shannon divergence between training and serving</td>\n",
       "      <td>The approximate Jensen-Shannon divergence between training and serving is 0.160259 (up to six si...</td>\n",
       "    </tr>\n",
       "    <tr>\n",
       "      <th>'gfs_r_velocity'</th>\n",
       "      <td>High approximate Jensen-Shannon divergence between training and serving</td>\n",
       "      <td>The approximate Jensen-Shannon divergence between training and serving is 0.128119 (up to six si...</td>\n",
       "    </tr>\n",
       "    <tr>\n",
       "      <th>'cmc_0_0_0_2_next'</th>\n",
       "      <td>High approximate Jensen-Shannon divergence between training and serving</td>\n",
       "      <td>The approximate Jensen-Shannon divergence between training and serving is 0.196412 (up to six si...</td>\n",
       "    </tr>\n",
       "  </tbody>\n",
       "</table>\n",
       "</div>"
      ],
      "text/plain": [
       "                                                                   Anomaly short description  \\\n",
       "Feature name                                                                                   \n",
       "'cmc_0_0_0_700'      High approximate Jensen-Shannon divergence between training and serving   \n",
       "'cmc_0_1_68_0'       High approximate Jensen-Shannon divergence between training and serving   \n",
       "'cmc_0_1_65_0_grad'  High approximate Jensen-Shannon divergence between training and serving   \n",
       "'gfs_r_velocity'     High approximate Jensen-Shannon divergence between training and serving   \n",
       "'cmc_0_0_0_2_next'   High approximate Jensen-Shannon divergence between training and serving   \n",
       "\n",
       "                                                                                                Anomaly long description  \n",
       "Feature name                                                                                                              \n",
       "'cmc_0_0_0_700'      The approximate Jensen-Shannon divergence between training and serving is 0.278185 (up to six si...  \n",
       "'cmc_0_1_68_0'       The approximate Jensen-Shannon divergence between training and serving is 0.99931 (up to six sig...  \n",
       "'cmc_0_1_65_0_grad'  The approximate Jensen-Shannon divergence between training and serving is 0.160259 (up to six si...  \n",
       "'gfs_r_velocity'     The approximate Jensen-Shannon divergence between training and serving is 0.128119 (up to six si...  \n",
       "'cmc_0_0_0_2_next'   The approximate Jensen-Shannon divergence between training and serving is 0.196412 (up to six si...  "
      ]
     },
     "metadata": {},
     "output_type": "display_data"
    },
    {
     "name": "stdout",
     "output_type": "stream",
     "text": [
      "TFDV found 2 of 5 anomalies for corruption corrupt_typecheck. 20 were found in total. Displaying 5:\n"
     ]
    },
    {
     "data": {
      "text/html": [
       "<div>\n",
       "<style scoped>\n",
       "    .dataframe tbody tr th:only-of-type {\n",
       "        vertical-align: middle;\n",
       "    }\n",
       "\n",
       "    .dataframe tbody tr th {\n",
       "        vertical-align: top;\n",
       "    }\n",
       "\n",
       "    .dataframe thead th {\n",
       "        text-align: right;\n",
       "    }\n",
       "</style>\n",
       "<table border=\"1\" class=\"dataframe\">\n",
       "  <thead>\n",
       "    <tr style=\"text-align: right;\">\n",
       "      <th></th>\n",
       "      <th>Anomaly short description</th>\n",
       "      <th>Anomaly long description</th>\n",
       "    </tr>\n",
       "    <tr>\n",
       "      <th>Feature name</th>\n",
       "      <th></th>\n",
       "      <th></th>\n",
       "    </tr>\n",
       "  </thead>\n",
       "  <tbody>\n",
       "    <tr>\n",
       "      <th>'cmc_0_1_66_0_grad'</th>\n",
       "      <td>High approximate Jensen-Shannon divergence between training and serving</td>\n",
       "      <td>The approximate Jensen-Shannon divergence between training and serving is 0.173947 (up to six si...</td>\n",
       "    </tr>\n",
       "    <tr>\n",
       "      <th>'topography_bathymetry'</th>\n",
       "      <td>High approximate Jensen-Shannon divergence between training and serving</td>\n",
       "      <td>The approximate Jensen-Shannon divergence between training and serving is 0.166572 (up to six si...</td>\n",
       "    </tr>\n",
       "    <tr>\n",
       "      <th>'cmc_0_1_65_0_grad'</th>\n",
       "      <td>High approximate Jensen-Shannon divergence between training and serving</td>\n",
       "      <td>The approximate Jensen-Shannon divergence between training and serving is 0.160259 (up to six si...</td>\n",
       "    </tr>\n",
       "    <tr>\n",
       "      <th>'cmc_0_1_67_0_next'</th>\n",
       "      <td>High approximate Jensen-Shannon divergence between training and serving</td>\n",
       "      <td>The approximate Jensen-Shannon divergence between training and serving is 0.641024 (up to six si...</td>\n",
       "    </tr>\n",
       "    <tr>\n",
       "      <th>'cmc_0_1_7_0'</th>\n",
       "      <td>High approximate Jensen-Shannon divergence between training and serving</td>\n",
       "      <td>The approximate Jensen-Shannon divergence between training and serving is 0.102128 (up to six si...</td>\n",
       "    </tr>\n",
       "  </tbody>\n",
       "</table>\n",
       "</div>"
      ],
      "text/plain": [
       "                                                                       Anomaly short description  \\\n",
       "Feature name                                                                                       \n",
       "'cmc_0_1_66_0_grad'      High approximate Jensen-Shannon divergence between training and serving   \n",
       "'topography_bathymetry'  High approximate Jensen-Shannon divergence between training and serving   \n",
       "'cmc_0_1_65_0_grad'      High approximate Jensen-Shannon divergence between training and serving   \n",
       "'cmc_0_1_67_0_next'      High approximate Jensen-Shannon divergence between training and serving   \n",
       "'cmc_0_1_7_0'            High approximate Jensen-Shannon divergence between training and serving   \n",
       "\n",
       "                                                                                                    Anomaly long description  \n",
       "Feature name                                                                                                                  \n",
       "'cmc_0_1_66_0_grad'      The approximate Jensen-Shannon divergence between training and serving is 0.173947 (up to six si...  \n",
       "'topography_bathymetry'  The approximate Jensen-Shannon divergence between training and serving is 0.166572 (up to six si...  \n",
       "'cmc_0_1_65_0_grad'      The approximate Jensen-Shannon divergence between training and serving is 0.160259 (up to six si...  \n",
       "'cmc_0_1_67_0_next'      The approximate Jensen-Shannon divergence between training and serving is 0.641024 (up to six si...  \n",
       "'cmc_0_1_7_0'            The approximate Jensen-Shannon divergence between training and serving is 0.102128 (up to six si...  "
      ]
     },
     "metadata": {},
     "output_type": "display_data"
    },
    {
     "name": "stdout",
     "output_type": "stream",
     "text": [
      "TFDV found 41 of 56 anomalies for corruption corrupt_units. 50 were found in total. Displaying 5:\n"
     ]
    },
    {
     "data": {
      "text/html": [
       "<div>\n",
       "<style scoped>\n",
       "    .dataframe tbody tr th:only-of-type {\n",
       "        vertical-align: middle;\n",
       "    }\n",
       "\n",
       "    .dataframe tbody tr th {\n",
       "        vertical-align: top;\n",
       "    }\n",
       "\n",
       "    .dataframe thead th {\n",
       "        text-align: right;\n",
       "    }\n",
       "</style>\n",
       "<table border=\"1\" class=\"dataframe\">\n",
       "  <thead>\n",
       "    <tr style=\"text-align: right;\">\n",
       "      <th></th>\n",
       "      <th>Anomaly short description</th>\n",
       "      <th>Anomaly long description</th>\n",
       "    </tr>\n",
       "    <tr>\n",
       "      <th>Feature name</th>\n",
       "      <th></th>\n",
       "      <th></th>\n",
       "    </tr>\n",
       "  </thead>\n",
       "  <tbody>\n",
       "    <tr>\n",
       "      <th>'cmc_0_3_5_500'</th>\n",
       "      <td>High approximate Jensen-Shannon divergence between training and serving</td>\n",
       "      <td>The approximate Jensen-Shannon divergence between training and serving is 0.352539 (up to six si...</td>\n",
       "    </tr>\n",
       "    <tr>\n",
       "      <th>'cmc_0_1_0_0'</th>\n",
       "      <td>High approximate Jensen-Shannon divergence between training and serving</td>\n",
       "      <td>The approximate Jensen-Shannon divergence between training and serving is 0.965299 (up to six si...</td>\n",
       "    </tr>\n",
       "    <tr>\n",
       "      <th>'topography_bathymetry'</th>\n",
       "      <td>High approximate Jensen-Shannon divergence between training and serving</td>\n",
       "      <td>The approximate Jensen-Shannon divergence between training and serving is 0.166572 (up to six si...</td>\n",
       "    </tr>\n",
       "    <tr>\n",
       "      <th>'cmc_0_1_65_0_next'</th>\n",
       "      <td>High approximate Jensen-Shannon divergence between training and serving</td>\n",
       "      <td>The approximate Jensen-Shannon divergence between training and serving is 0.133717 (up to six si...</td>\n",
       "    </tr>\n",
       "    <tr>\n",
       "      <th>'cmc_0_3_5_850'</th>\n",
       "      <td>High approximate Jensen-Shannon divergence between training and serving</td>\n",
       "      <td>The approximate Jensen-Shannon divergence between training and serving is 0.263825 (up to six si...</td>\n",
       "    </tr>\n",
       "  </tbody>\n",
       "</table>\n",
       "</div>"
      ],
      "text/plain": [
       "                                                                       Anomaly short description  \\\n",
       "Feature name                                                                                       \n",
       "'cmc_0_3_5_500'          High approximate Jensen-Shannon divergence between training and serving   \n",
       "'cmc_0_1_0_0'            High approximate Jensen-Shannon divergence between training and serving   \n",
       "'topography_bathymetry'  High approximate Jensen-Shannon divergence between training and serving   \n",
       "'cmc_0_1_65_0_next'      High approximate Jensen-Shannon divergence between training and serving   \n",
       "'cmc_0_3_5_850'          High approximate Jensen-Shannon divergence between training and serving   \n",
       "\n",
       "                                                                                                    Anomaly long description  \n",
       "Feature name                                                                                                                  \n",
       "'cmc_0_3_5_500'          The approximate Jensen-Shannon divergence between training and serving is 0.352539 (up to six si...  \n",
       "'cmc_0_1_0_0'            The approximate Jensen-Shannon divergence between training and serving is 0.965299 (up to six si...  \n",
       "'topography_bathymetry'  The approximate Jensen-Shannon divergence between training and serving is 0.166572 (up to six si...  \n",
       "'cmc_0_1_65_0_next'      The approximate Jensen-Shannon divergence between training and serving is 0.133717 (up to six si...  \n",
       "'cmc_0_3_5_850'          The approximate Jensen-Shannon divergence between training and serving is 0.263825 (up to six si...  "
      ]
     },
     "metadata": {},
     "output_type": "display_data"
    },
    {
     "name": "stdout",
     "output_type": "stream",
     "text": [
      "TFDV found 52 of 56 anomalies for corruption corrupt_average. 61 were found in total. Displaying 5:\n"
     ]
    },
    {
     "data": {
      "text/html": [
       "<div>\n",
       "<style scoped>\n",
       "    .dataframe tbody tr th:only-of-type {\n",
       "        vertical-align: middle;\n",
       "    }\n",
       "\n",
       "    .dataframe tbody tr th {\n",
       "        vertical-align: top;\n",
       "    }\n",
       "\n",
       "    .dataframe thead th {\n",
       "        text-align: right;\n",
       "    }\n",
       "</style>\n",
       "<table border=\"1\" class=\"dataframe\">\n",
       "  <thead>\n",
       "    <tr style=\"text-align: right;\">\n",
       "      <th></th>\n",
       "      <th>Anomaly short description</th>\n",
       "      <th>Anomaly long description</th>\n",
       "    </tr>\n",
       "    <tr>\n",
       "      <th>Feature name</th>\n",
       "      <th></th>\n",
       "      <th></th>\n",
       "    </tr>\n",
       "  </thead>\n",
       "  <tbody>\n",
       "    <tr>\n",
       "      <th>'cmc_0_2_3_1000'</th>\n",
       "      <td>High approximate Jensen-Shannon divergence between training and serving</td>\n",
       "      <td>The approximate Jensen-Shannon divergence between training and serving is 0.899013 (up to six si...</td>\n",
       "    </tr>\n",
       "    <tr>\n",
       "      <th>'gfs_2m_dewpoint_grad'</th>\n",
       "      <td>High approximate Jensen-Shannon divergence between training and serving</td>\n",
       "      <td>The approximate Jensen-Shannon divergence between training and serving is 0.116569 (up to six si...</td>\n",
       "    </tr>\n",
       "    <tr>\n",
       "      <th>'cmc_0_2_3_500'</th>\n",
       "      <td>High approximate Jensen-Shannon divergence between training and serving</td>\n",
       "      <td>The approximate Jensen-Shannon divergence between training and serving is 0.841468 (up to six si...</td>\n",
       "    </tr>\n",
       "    <tr>\n",
       "      <th>'cmc_0_0_7_925'</th>\n",
       "      <td>High approximate Jensen-Shannon divergence between training and serving</td>\n",
       "      <td>The approximate Jensen-Shannon divergence between training and serving is 0.871904 (up to six si...</td>\n",
       "    </tr>\n",
       "    <tr>\n",
       "      <th>'cmc_0_2_2_500'</th>\n",
       "      <td>High approximate Jensen-Shannon divergence between training and serving</td>\n",
       "      <td>The approximate Jensen-Shannon divergence between training and serving is 0.82213 (up to six sig...</td>\n",
       "    </tr>\n",
       "  </tbody>\n",
       "</table>\n",
       "</div>"
      ],
      "text/plain": [
       "                                                                      Anomaly short description  \\\n",
       "Feature name                                                                                      \n",
       "'cmc_0_2_3_1000'        High approximate Jensen-Shannon divergence between training and serving   \n",
       "'gfs_2m_dewpoint_grad'  High approximate Jensen-Shannon divergence between training and serving   \n",
       "'cmc_0_2_3_500'         High approximate Jensen-Shannon divergence between training and serving   \n",
       "'cmc_0_0_7_925'         High approximate Jensen-Shannon divergence between training and serving   \n",
       "'cmc_0_2_2_500'         High approximate Jensen-Shannon divergence between training and serving   \n",
       "\n",
       "                                                                                                   Anomaly long description  \n",
       "Feature name                                                                                                                 \n",
       "'cmc_0_2_3_1000'        The approximate Jensen-Shannon divergence between training and serving is 0.899013 (up to six si...  \n",
       "'gfs_2m_dewpoint_grad'  The approximate Jensen-Shannon divergence between training and serving is 0.116569 (up to six si...  \n",
       "'cmc_0_2_3_500'         The approximate Jensen-Shannon divergence between training and serving is 0.841468 (up to six si...  \n",
       "'cmc_0_0_7_925'         The approximate Jensen-Shannon divergence between training and serving is 0.871904 (up to six si...  \n",
       "'cmc_0_2_2_500'         The approximate Jensen-Shannon divergence between training and serving is 0.82213 (up to six sig...  "
      ]
     },
     "metadata": {},
     "output_type": "display_data"
    },
    {
     "name": "stdout",
     "output_type": "stream",
     "text": [
      "TFDV found 26 of 56 anomalies for corruption corrupt_pinned. 35 were found in total. Displaying 5:\n"
     ]
    },
    {
     "data": {
      "text/html": [
       "<div>\n",
       "<style scoped>\n",
       "    .dataframe tbody tr th:only-of-type {\n",
       "        vertical-align: middle;\n",
       "    }\n",
       "\n",
       "    .dataframe tbody tr th {\n",
       "        vertical-align: top;\n",
       "    }\n",
       "\n",
       "    .dataframe thead th {\n",
       "        text-align: right;\n",
       "    }\n",
       "</style>\n",
       "<table border=\"1\" class=\"dataframe\">\n",
       "  <thead>\n",
       "    <tr style=\"text-align: right;\">\n",
       "      <th></th>\n",
       "      <th>Anomaly short description</th>\n",
       "      <th>Anomaly long description</th>\n",
       "    </tr>\n",
       "    <tr>\n",
       "      <th>Feature name</th>\n",
       "      <th></th>\n",
       "      <th></th>\n",
       "    </tr>\n",
       "  </thead>\n",
       "  <tbody>\n",
       "    <tr>\n",
       "      <th>'cmc_0_1_67_0_next'</th>\n",
       "      <td>High approximate Jensen-Shannon divergence between training and serving</td>\n",
       "      <td>The approximate Jensen-Shannon divergence between training and serving is 0.818735 (up to six si...</td>\n",
       "    </tr>\n",
       "    <tr>\n",
       "      <th>'cmc_0_3_5_700'</th>\n",
       "      <td>High approximate Jensen-Shannon divergence between training and serving</td>\n",
       "      <td>The approximate Jensen-Shannon divergence between training and serving is 0.251076 (up to six si...</td>\n",
       "    </tr>\n",
       "    <tr>\n",
       "      <th>'cmc_0_1_68_0_grad'</th>\n",
       "      <td>High approximate Jensen-Shannon divergence between training and serving</td>\n",
       "      <td>The approximate Jensen-Shannon divergence between training and serving is 0.998486 (up to six si...</td>\n",
       "    </tr>\n",
       "    <tr>\n",
       "      <th>'climate_pressure'</th>\n",
       "      <td>High approximate Jensen-Shannon divergence between training and serving</td>\n",
       "      <td>The approximate Jensen-Shannon divergence between training and serving is 0.116659 (up to six si...</td>\n",
       "    </tr>\n",
       "    <tr>\n",
       "      <th>'cmc_0_0_0_2'</th>\n",
       "      <td>High approximate Jensen-Shannon divergence between training and serving</td>\n",
       "      <td>The approximate Jensen-Shannon divergence between training and serving is 0.227713 (up to six si...</td>\n",
       "    </tr>\n",
       "  </tbody>\n",
       "</table>\n",
       "</div>"
      ],
      "text/plain": [
       "                                                                   Anomaly short description  \\\n",
       "Feature name                                                                                   \n",
       "'cmc_0_1_67_0_next'  High approximate Jensen-Shannon divergence between training and serving   \n",
       "'cmc_0_3_5_700'      High approximate Jensen-Shannon divergence between training and serving   \n",
       "'cmc_0_1_68_0_grad'  High approximate Jensen-Shannon divergence between training and serving   \n",
       "'climate_pressure'   High approximate Jensen-Shannon divergence between training and serving   \n",
       "'cmc_0_0_0_2'        High approximate Jensen-Shannon divergence between training and serving   \n",
       "\n",
       "                                                                                                Anomaly long description  \n",
       "Feature name                                                                                                              \n",
       "'cmc_0_1_67_0_next'  The approximate Jensen-Shannon divergence between training and serving is 0.818735 (up to six si...  \n",
       "'cmc_0_3_5_700'      The approximate Jensen-Shannon divergence between training and serving is 0.251076 (up to six si...  \n",
       "'cmc_0_1_68_0_grad'  The approximate Jensen-Shannon divergence between training and serving is 0.998486 (up to six si...  \n",
       "'climate_pressure'   The approximate Jensen-Shannon divergence between training and serving is 0.116659 (up to six si...  \n",
       "'cmc_0_0_0_2'        The approximate Jensen-Shannon divergence between training and serving is 0.227713 (up to six si...  "
      ]
     },
     "metadata": {},
     "output_type": "display_data"
    }
   ],
   "source": [
    "k = 5\n",
    "\n",
    "for corruption_name, anomalies in corruption_anomalies.items():\n",
    "    found_columns = [a[1:-1] for a in anomalies.index.values]\n",
    "    inter = set(found_columns).intersection(set(corruption_columns[corruption_name]))\n",
    "    print(f\"TFDV found {len(inter)} of {len(corruption_columns[corruption_name])} anomalies for corruption {corruption_name}. {len(set(found_columns))} were found in total. Displaying {k}:\")\n",
    "    if len(anomalies) > 0:\n",
    "        display(anomalies.head(k))"
   ]
  },
  {
   "cell_type": "markdown",
   "id": "7af9638f-f269-493e-93c4-aec7ea1a43f3",
   "metadata": {},
   "source": [
    "## Takeaways\n",
    "\n",
    "Looks like TFDV didn't find all the right anomalies, but it found nonzero! Finding alerts precisely is very hard."
   ]
  },
  {
   "cell_type": "code",
   "execution_count": null,
   "id": "af41945f-5234-43e6-a6a3-ecd04d7f1d11",
   "metadata": {},
   "outputs": [],
   "source": []
  }
 ],
 "metadata": {
  "kernelspec": {
   "display_name": "Python 3 (ipykernel)",
   "language": "python",
   "name": "python3"
  },
  "language_info": {
   "codemirror_mode": {
    "name": "ipython",
    "version": 3
   },
   "file_extension": ".py",
   "mimetype": "text/x-python",
   "name": "python",
   "nbconvert_exporter": "python",
   "pygments_lexer": "ipython3",
   "version": "3.8.16"
  }
 },
 "nbformat": 4,
 "nbformat_minor": 5
}
