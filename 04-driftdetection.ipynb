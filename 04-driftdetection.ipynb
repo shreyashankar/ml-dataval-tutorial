{
 "cells": [
  {
   "cell_type": "code",
   "execution_count": 1,
   "id": "aad51052-0098-4eba-93e5-578818eb4051",
   "metadata": {},
   "outputs": [],
   "source": [
    "%load_ext autoreload\n",
    "%autoreload 2"
   ]
  },
  {
   "cell_type": "code",
   "execution_count": 2,
   "id": "3be16292-e3d0-4aa5-998d-7c0324faaa56",
   "metadata": {},
   "outputs": [],
   "source": [
    "from dataval.dataset import WeatherDataset\n",
    "from dataval.train import CatBoostTrainer\n",
    "\n",
    "import os\n",
    "import matplotlib.pyplot as plt\n",
    "import modal\n",
    "import pandas as pd"
   ]
  },
  {
   "cell_type": "code",
   "execution_count": 3,
   "id": "06f8c931-960e-4448-bff1-16286d2f189c",
   "metadata": {},
   "outputs": [],
   "source": [
    "image = (\n",
    "    modal.Image.debian_slim()\n",
    "    .pip_install_from_requirements(\"requirements.txt\")\n",
    "    .pip_install([\"tensorflow-data-validation\", \"tensorflow_metadata\"])\n",
    ")\n",
    "stub = modal.Stub(\"tfdv-tutorial\", image=image)"
   ]
  },
  {
   "cell_type": "markdown",
   "id": "0ef80411-6751-402e-9f03-5085d6c0208c",
   "metadata": {},
   "source": [
    "# Drift Detection\n",
    "\n",
    "Schema validation catches some, but not all, corruptions. In this notebook, we leverage TFDV's drift detection tool to see if all corruptions are identified."
   ]
  },
  {
   "cell_type": "code",
   "execution_count": 4,
   "id": "617f7fb3-bb8f-4258-8f2f-77298cc42ceb",
   "metadata": {},
   "outputs": [],
   "source": [
    "# Load dataset\n",
    "\n",
    "ds = WeatherDataset(os.path.join(os.getcwd(), \"canonical-partitioned-dataset\"), sample_frac=0.2)"
   ]
  },
  {
   "cell_type": "code",
   "execution_count": 5,
   "id": "49374ace-9e92-4992-8da4-cdc1a29beb66",
   "metadata": {},
   "outputs": [],
   "source": [
    "train_df = ds.load(ds.get_partition_keys()[0])\n",
    "test_df = ds.load(ds.get_partition_keys()[1])"
   ]
  },
  {
   "cell_type": "markdown",
   "id": "2b1a5b07-2c50-4134-a39e-e793a26ef42f",
   "metadata": {},
   "source": [
    "## Check for skew between train and test partitions\n",
    "\n",
    "We use TFDV to infer the schema of the train partition and then check the test partition for skew. TFDV checks for distribution shift."
   ]
  },
  {
   "cell_type": "code",
   "execution_count": 6,
   "id": "6dfe505f-589c-46d6-8b8a-6ab56b68fb09",
   "metadata": {},
   "outputs": [],
   "source": [
    "@stub.function\n",
    "def check_skew(train_df, test_df, feature_columns):\n",
    "    import tensorflow_data_validation as tfdv\n",
    "    from google.protobuf.json_format import MessageToDict\n",
    "    \n",
    "    train_stats =  tfdv.generate_statistics_from_dataframe(train_df)\n",
    "    schema = tfdv.infer_schema(statistics=train_stats)\n",
    "    test_stats = tfdv.generate_statistics_from_dataframe(test_df)\n",
    "    \n",
    "    for feature in feature_columns:\n",
    "        tfdv.get_feature(schema, feature).skew_comparator.jensen_shannon_divergence.threshold = 0.1\n",
    "\n",
    "    skew_anomalies = tfdv.validate_statistics(statistics=train_stats, schema=schema, serving_statistics=test_stats)\n",
    "    anomalies_df = tfdv.utils.display_util.get_anomalies_dataframe(skew_anomalies)\n",
    "\n",
    "    return anomalies_df"
   ]
  },
  {
   "cell_type": "code",
   "execution_count": 7,
   "id": "66b039d0-7068-4f36-ad43-3e29b6eb0389",
   "metadata": {},
   "outputs": [
    {
     "data": {
      "application/vnd.jupyter.widget-view+json": {
       "model_id": "",
       "version_major": 2,
       "version_minor": 0
      },
      "text/plain": [
       "Output()"
      ]
     },
     "metadata": {},
     "output_type": "display_data"
    },
    {
     "data": {
      "text/html": [
       "<pre style=\"white-space:pre;overflow-x:auto;line-height:normal;font-family:Menlo,'DejaVu Sans Mono',consolas,'Courier New',monospace\"><span style=\"color: #008000; text-decoration-color: #008000\">✓</span> Initialized. <span style=\"color: #b2b2b2; text-decoration-color: #b2b2b2\">View app at </span><span style=\"color: #b2b2b2; text-decoration-color: #b2b2b2; text-decoration: underline\">https://modal.com/apps/ap-cZDI3rQFeGUIeCZhZ1wSXO</span>\n",
       "</pre>\n"
      ],
      "text/plain": [
       "\u001b[32m✓\u001b[0m Initialized. \u001b[38;5;249mView app at \u001b[0m\u001b[4;38;5;249mhttps://modal.com/apps/ap-cZDI3rQFeGUIeCZhZ1wSXO\u001b[0m\n"
      ]
     },
     "metadata": {},
     "output_type": "display_data"
    },
    {
     "data": {
      "text/html": [
       "<pre style=\"white-space:pre;overflow-x:auto;line-height:normal;font-family:Menlo,'DejaVu Sans Mono',consolas,'Courier New',monospace\"></pre>\n"
      ],
      "text/plain": []
     },
     "metadata": {},
     "output_type": "display_data"
    },
    {
     "data": {
      "application/vnd.jupyter.widget-view+json": {
       "model_id": "",
       "version_major": 2,
       "version_minor": 0
      },
      "text/plain": [
       "Output()"
      ]
     },
     "metadata": {},
     "output_type": "display_data"
    },
    {
     "data": {
      "text/html": [
       "<pre style=\"white-space:pre;overflow-x:auto;line-height:normal;font-family:Menlo,'DejaVu Sans Mono',consolas,'Courier New',monospace\"></pre>\n"
      ],
      "text/plain": []
     },
     "metadata": {},
     "output_type": "display_data"
    },
    {
     "data": {
      "text/html": [
       "<pre style=\"white-space:pre;overflow-x:auto;line-height:normal;font-family:Menlo,'DejaVu Sans Mono',consolas,'Courier New',monospace\"><span style=\"color: #008000; text-decoration-color: #008000\">✓</span> Created objects.\n",
       "<span style=\"color: #808080; text-decoration-color: #808080\">└── </span><span style=\"color: #008000; text-decoration-color: #008000\">🔨</span> Created check_skew.\n",
       "</pre>\n"
      ],
      "text/plain": [
       "\u001b[32m✓\u001b[0m Created objects.\n",
       "\u001b[38;5;244m└── \u001b[0m\u001b[32m🔨\u001b[0m Created check_skew.\n"
      ]
     },
     "metadata": {},
     "output_type": "display_data"
    },
    {
     "data": {
      "application/vnd.jupyter.widget-view+json": {
       "model_id": "",
       "version_major": 2,
       "version_minor": 0
      },
      "text/plain": [
       "Output()"
      ]
     },
     "metadata": {},
     "output_type": "display_data"
    },
    {
     "data": {
      "text/html": [
       "<pre style=\"white-space:pre;overflow-x:auto;line-height:normal;font-family:Menlo,'DejaVu Sans Mono',consolas,'Courier New',monospace\"><span style=\"color: #800000; text-decoration-color: #800000\">/usr/local/lib/python3.8/site-packages/synchronicity/synchronizer.py:43: UserWarning: Using latest synchronicity with an old interface - please upgrade to latest modal-client!\n",
       "  warnings.warn(\n",
       "</span></pre>\n"
      ],
      "text/plain": [
       "\u001b[31m/usr/local/lib/python3.8/site-packages/synchronicity/synchronizer.py:43: UserWarning: Using latest synchronicity with an old interface - please upgrade to latest modal-client!\n",
       "  warnings.warn(\n",
       "\u001b[0m"
      ]
     },
     "metadata": {},
     "output_type": "display_data"
    },
    {
     "data": {
      "text/html": [
       "<pre style=\"white-space:pre;overflow-x:auto;line-height:normal;font-family:Menlo,'DejaVu Sans Mono',consolas,'Courier New',monospace\"><span style=\"color: #800000; text-decoration-color: #800000\">/usr/local/lib/python3.8/site-packages/synchronicity/synchronizer.py:43: UserWarning: Using latest synchronicity with an old interface - please upgrade to latest modal-client!\n",
       "  warnings.warn(\n",
       "</span></pre>\n"
      ],
      "text/plain": [
       "\u001b[31m/usr/local/lib/python3.8/site-packages/synchronicity/synchronizer.py:43: UserWarning: Using latest synchronicity with an old interface - please upgrade to latest modal-client!\n",
       "  warnings.warn(\n",
       "\u001b[0m"
      ]
     },
     "metadata": {},
     "output_type": "display_data"
    },
    {
     "data": {
      "text/html": [
       "<pre style=\"white-space:pre;overflow-x:auto;line-height:normal;font-family:Menlo,'DejaVu Sans Mono',consolas,'Courier New',monospace\"><span style=\"color: #800000; text-decoration-color: #800000\">/usr/local/lib/python3.8/site-packages/synchronicity/synchronizer.py:43: UserWarning: Using latest synchronicity with an old interface - please upgrade to latest modal-client!\n",
       "  warnings.warn(\n",
       "</span></pre>\n"
      ],
      "text/plain": [
       "\u001b[31m/usr/local/lib/python3.8/site-packages/synchronicity/synchronizer.py:43: UserWarning: Using latest synchronicity with an old interface - please upgrade to latest modal-client!\n",
       "  warnings.warn(\n",
       "\u001b[0m"
      ]
     },
     "metadata": {},
     "output_type": "display_data"
    },
    {
     "data": {
      "text/html": [
       "<pre style=\"white-space:pre;overflow-x:auto;line-height:normal;font-family:Menlo,'DejaVu Sans Mono',consolas,'Courier New',monospace\"><span style=\"color: #800000; text-decoration-color: #800000\">2023-05-05 19:27:15.806279: I tensorflow/tsl/cuda/cudart_stub.cc:28] Could not find cuda drivers on your machine, GPU will not be used.\n",
       "</span></pre>\n"
      ],
      "text/plain": [
       "\u001b[31m2023-05-05 19:27:15.806279: I tensorflow/tsl/cuda/cudart_stub.cc:28] Could not find cuda drivers on your machine, GPU will not be used.\n",
       "\u001b[0m"
      ]
     },
     "metadata": {},
     "output_type": "display_data"
    },
    {
     "data": {
      "text/html": [
       "<pre style=\"white-space:pre;overflow-x:auto;line-height:normal;font-family:Menlo,'DejaVu Sans Mono',consolas,'Courier New',monospace\"><span style=\"color: #800000; text-decoration-color: #800000\">2023-05-05 19:27:16.016598: I tensorflow/tsl/cuda/cudart_stub.cc:28] Could not find cuda drivers on your machine, GPU will not be used.\n",
       "</span></pre>\n"
      ],
      "text/plain": [
       "\u001b[31m2023-05-05 19:27:16.016598: I tensorflow/tsl/cuda/cudart_stub.cc:28] Could not find cuda drivers on your machine, GPU will not be used.\n",
       "\u001b[0m"
      ]
     },
     "metadata": {},
     "output_type": "display_data"
    },
    {
     "data": {
      "text/html": [
       "<pre style=\"white-space:pre;overflow-x:auto;line-height:normal;font-family:Menlo,'DejaVu Sans Mono',consolas,'Courier New',monospace\"><span style=\"color: #800000; text-decoration-color: #800000\">2023-05-05 19:27:16.016927: I tensorflow/core/platform/cpu_feature_guard.cc:182] This TensorFlow binary is optimized to use available CPU instructions in performance-critical operations.\n",
       "To enable the following instructions: AVX2 FMA, in other operations, rebuild TensorFlow with the appropriate compiler flags.\n",
       "</span></pre>\n"
      ],
      "text/plain": [
       "\u001b[31m2023-05-05 19:27:16.016927: I tensorflow/core/platform/cpu_feature_guard.cc:182] This TensorFlow binary is optimized to use available CPU instructions in performance-critical operations.\n",
       "To enable the following instructions: AVX2 FMA, in other operations, rebuild TensorFlow with the appropriate compiler flags.\n",
       "\u001b[0m"
      ]
     },
     "metadata": {},
     "output_type": "display_data"
    },
    {
     "data": {
      "text/html": [
       "<pre style=\"white-space:pre;overflow-x:auto;line-height:normal;font-family:Menlo,'DejaVu Sans Mono',consolas,'Courier New',monospace\"><span style=\"color: #800000; text-decoration-color: #800000\">2023-05-05 19:27:18.063253: W tensorflow/compiler/tf2tensorrt/utils/py_utils.cc:38] TF-TRT Warning: Could not find TensorRT\n",
       "</span></pre>\n"
      ],
      "text/plain": [
       "\u001b[31m2023-05-05 19:27:18.063253: W tensorflow/compiler/tf2tensorrt/utils/py_utils.cc:38] TF-TRT Warning: Could not find TensorRT\n",
       "\u001b[0m"
      ]
     },
     "metadata": {},
     "output_type": "display_data"
    },
    {
     "data": {
      "text/html": [
       "<pre style=\"white-space:pre;overflow-x:auto;line-height:normal;font-family:Menlo,'DejaVu Sans Mono',consolas,'Courier New',monospace\"></pre>\n"
      ],
      "text/plain": []
     },
     "metadata": {},
     "output_type": "display_data"
    },
    {
     "data": {
      "text/html": [
       "<pre style=\"white-space:pre;overflow-x:auto;line-height:normal;font-family:Menlo,'DejaVu Sans Mono',consolas,'Courier New',monospace\"><span style=\"color: #008000; text-decoration-color: #008000\">✓</span> App completed.\n",
       "</pre>\n"
      ],
      "text/plain": [
       "\u001b[32m✓\u001b[0m App completed.\n"
      ]
     },
     "metadata": {},
     "output_type": "display_data"
    }
   ],
   "source": [
    "# Run on regular train and test data\n",
    "\n",
    "with stub.run():\n",
    "    X_train, _ = ds.split_feature_label(train_df)\n",
    "    X_test, _ = ds.split_feature_label(test_df)\n",
    "    anomalies = check_skew.call(X_train, X_test, X_train.columns.values)"
   ]
  },
  {
   "cell_type": "code",
   "execution_count": 8,
   "id": "3cc98700-03ec-4523-88e0-f0ca142a4474",
   "metadata": {},
   "outputs": [
    {
     "data": {
      "text/html": [
       "<div>\n",
       "<style scoped>\n",
       "    .dataframe tbody tr th:only-of-type {\n",
       "        vertical-align: middle;\n",
       "    }\n",
       "\n",
       "    .dataframe tbody tr th {\n",
       "        vertical-align: top;\n",
       "    }\n",
       "\n",
       "    .dataframe thead th {\n",
       "        text-align: right;\n",
       "    }\n",
       "</style>\n",
       "<table border=\"1\" class=\"dataframe\">\n",
       "  <thead>\n",
       "    <tr style=\"text-align: right;\">\n",
       "      <th></th>\n",
       "      <th>Anomaly short description</th>\n",
       "      <th>Anomaly long description</th>\n",
       "    </tr>\n",
       "    <tr>\n",
       "      <th>Feature name</th>\n",
       "      <th></th>\n",
       "      <th></th>\n",
       "    </tr>\n",
       "  </thead>\n",
       "  <tbody>\n",
       "    <tr>\n",
       "      <th>'cmc_0_1_68_0_grad'</th>\n",
       "      <td>High approximate Jensen-Shannon divergence between training and serving</td>\n",
       "      <td>The approximate Jensen-Shannon divergence between training and serving is 1 (up to six significa...</td>\n",
       "    </tr>\n",
       "    <tr>\n",
       "      <th>'wrf_rain'</th>\n",
       "      <td>High approximate Jensen-Shannon divergence between training and serving</td>\n",
       "      <td>The approximate Jensen-Shannon divergence between training and serving is 0.169053 (up to six si...</td>\n",
       "    </tr>\n",
       "    <tr>\n",
       "      <th>'cmc_0_1_7_0'</th>\n",
       "      <td>High approximate Jensen-Shannon divergence between training and serving</td>\n",
       "      <td>The approximate Jensen-Shannon divergence between training and serving is 0.102128 (up to six si...</td>\n",
       "    </tr>\n",
       "    <tr>\n",
       "      <th>'cmc_0_1_65_0_grad'</th>\n",
       "      <td>High approximate Jensen-Shannon divergence between training and serving</td>\n",
       "      <td>The approximate Jensen-Shannon divergence between training and serving is 0.160259 (up to six si...</td>\n",
       "    </tr>\n",
       "    <tr>\n",
       "      <th>'topography_bathymetry'</th>\n",
       "      <td>High approximate Jensen-Shannon divergence between training and serving</td>\n",
       "      <td>The approximate Jensen-Shannon divergence between training and serving is 0.166572 (up to six si...</td>\n",
       "    </tr>\n",
       "    <tr>\n",
       "      <th>'cmc_precipitations'</th>\n",
       "      <td>High approximate Jensen-Shannon divergence between training and serving</td>\n",
       "      <td>The approximate Jensen-Shannon divergence between training and serving is 0.160258 (up to six si...</td>\n",
       "    </tr>\n",
       "    <tr>\n",
       "      <th>'cmc_0_1_67_0_grad'</th>\n",
       "      <td>High approximate Jensen-Shannon divergence between training and serving</td>\n",
       "      <td>The approximate Jensen-Shannon divergence between training and serving is 0.769623 (up to six si...</td>\n",
       "    </tr>\n",
       "    <tr>\n",
       "      <th>'gfs_r_velocity'</th>\n",
       "      <td>High approximate Jensen-Shannon divergence between training and serving</td>\n",
       "      <td>The approximate Jensen-Shannon divergence between training and serving is 0.128119 (up to six si...</td>\n",
       "    </tr>\n",
       "    <tr>\n",
       "      <th>'wrf_snow'</th>\n",
       "      <td>High approximate Jensen-Shannon divergence between training and serving</td>\n",
       "      <td>The approximate Jensen-Shannon divergence between training and serving is 0.76025 (up to six sig...</td>\n",
       "    </tr>\n",
       "    <tr>\n",
       "      <th>'cmc_0_1_66_0_grad'</th>\n",
       "      <td>High approximate Jensen-Shannon divergence between training and serving</td>\n",
       "      <td>The approximate Jensen-Shannon divergence between training and serving is 0.173947 (up to six si...</td>\n",
       "    </tr>\n",
       "    <tr>\n",
       "      <th>'cmc_0_1_68_0_next'</th>\n",
       "      <td>High approximate Jensen-Shannon divergence between training and serving</td>\n",
       "      <td>The approximate Jensen-Shannon divergence between training and serving is 0.627422 (up to six si...</td>\n",
       "    </tr>\n",
       "    <tr>\n",
       "      <th>'wrf_graupel'</th>\n",
       "      <td>High approximate Jensen-Shannon divergence between training and serving</td>\n",
       "      <td>The approximate Jensen-Shannon divergence between training and serving is 0.769175 (up to six si...</td>\n",
       "    </tr>\n",
       "    <tr>\n",
       "      <th>'cmc_0_1_67_0_next'</th>\n",
       "      <td>High approximate Jensen-Shannon divergence between training and serving</td>\n",
       "      <td>The approximate Jensen-Shannon divergence between training and serving is 0.641024 (up to six si...</td>\n",
       "    </tr>\n",
       "    <tr>\n",
       "      <th>'gfs_2m_dewpoint_grad'</th>\n",
       "      <td>High approximate Jensen-Shannon divergence between training and serving</td>\n",
       "      <td>The approximate Jensen-Shannon divergence between training and serving is 0.116569 (up to six si...</td>\n",
       "    </tr>\n",
       "    <tr>\n",
       "      <th>'cmc_0_1_67_0'</th>\n",
       "      <td>High approximate Jensen-Shannon divergence between training and serving</td>\n",
       "      <td>The approximate Jensen-Shannon divergence between training and serving is 0.486688 (up to six si...</td>\n",
       "    </tr>\n",
       "    <tr>\n",
       "      <th>'gfs_clouds_sea'</th>\n",
       "      <td>High approximate Jensen-Shannon divergence between training and serving</td>\n",
       "      <td>The approximate Jensen-Shannon divergence between training and serving is 0.278205 (up to six si...</td>\n",
       "    </tr>\n",
       "    <tr>\n",
       "      <th>'climate_pressure'</th>\n",
       "      <td>High approximate Jensen-Shannon divergence between training and serving</td>\n",
       "      <td>The approximate Jensen-Shannon divergence between training and serving is 0.116659 (up to six si...</td>\n",
       "    </tr>\n",
       "    <tr>\n",
       "      <th>'gfs_precipitations'</th>\n",
       "      <td>High approximate Jensen-Shannon divergence between training and serving</td>\n",
       "      <td>The approximate Jensen-Shannon divergence between training and serving is 0.245893 (up to six si...</td>\n",
       "    </tr>\n",
       "    <tr>\n",
       "      <th>'cmc_0_1_68_0'</th>\n",
       "      <td>High approximate Jensen-Shannon divergence between training and serving</td>\n",
       "      <td>The approximate Jensen-Shannon divergence between training and serving is 0.627387 (up to six si...</td>\n",
       "    </tr>\n",
       "  </tbody>\n",
       "</table>\n",
       "</div>"
      ],
      "text/plain": [
       "                                                                       Anomaly short description   \n",
       "Feature name                                                                                       \n",
       "'cmc_0_1_68_0_grad'      High approximate Jensen-Shannon divergence between training and serving  \\\n",
       "'wrf_rain'               High approximate Jensen-Shannon divergence between training and serving   \n",
       "'cmc_0_1_7_0'            High approximate Jensen-Shannon divergence between training and serving   \n",
       "'cmc_0_1_65_0_grad'      High approximate Jensen-Shannon divergence between training and serving   \n",
       "'topography_bathymetry'  High approximate Jensen-Shannon divergence between training and serving   \n",
       "'cmc_precipitations'     High approximate Jensen-Shannon divergence between training and serving   \n",
       "'cmc_0_1_67_0_grad'      High approximate Jensen-Shannon divergence between training and serving   \n",
       "'gfs_r_velocity'         High approximate Jensen-Shannon divergence between training and serving   \n",
       "'wrf_snow'               High approximate Jensen-Shannon divergence between training and serving   \n",
       "'cmc_0_1_66_0_grad'      High approximate Jensen-Shannon divergence between training and serving   \n",
       "'cmc_0_1_68_0_next'      High approximate Jensen-Shannon divergence between training and serving   \n",
       "'wrf_graupel'            High approximate Jensen-Shannon divergence between training and serving   \n",
       "'cmc_0_1_67_0_next'      High approximate Jensen-Shannon divergence between training and serving   \n",
       "'gfs_2m_dewpoint_grad'   High approximate Jensen-Shannon divergence between training and serving   \n",
       "'cmc_0_1_67_0'           High approximate Jensen-Shannon divergence between training and serving   \n",
       "'gfs_clouds_sea'         High approximate Jensen-Shannon divergence between training and serving   \n",
       "'climate_pressure'       High approximate Jensen-Shannon divergence between training and serving   \n",
       "'gfs_precipitations'     High approximate Jensen-Shannon divergence between training and serving   \n",
       "'cmc_0_1_68_0'           High approximate Jensen-Shannon divergence between training and serving   \n",
       "\n",
       "                                                                                                    Anomaly long description  \n",
       "Feature name                                                                                                                  \n",
       "'cmc_0_1_68_0_grad'      The approximate Jensen-Shannon divergence between training and serving is 1 (up to six significa...  \n",
       "'wrf_rain'               The approximate Jensen-Shannon divergence between training and serving is 0.169053 (up to six si...  \n",
       "'cmc_0_1_7_0'            The approximate Jensen-Shannon divergence between training and serving is 0.102128 (up to six si...  \n",
       "'cmc_0_1_65_0_grad'      The approximate Jensen-Shannon divergence between training and serving is 0.160259 (up to six si...  \n",
       "'topography_bathymetry'  The approximate Jensen-Shannon divergence between training and serving is 0.166572 (up to six si...  \n",
       "'cmc_precipitations'     The approximate Jensen-Shannon divergence between training and serving is 0.160258 (up to six si...  \n",
       "'cmc_0_1_67_0_grad'      The approximate Jensen-Shannon divergence between training and serving is 0.769623 (up to six si...  \n",
       "'gfs_r_velocity'         The approximate Jensen-Shannon divergence between training and serving is 0.128119 (up to six si...  \n",
       "'wrf_snow'               The approximate Jensen-Shannon divergence between training and serving is 0.76025 (up to six sig...  \n",
       "'cmc_0_1_66_0_grad'      The approximate Jensen-Shannon divergence between training and serving is 0.173947 (up to six si...  \n",
       "'cmc_0_1_68_0_next'      The approximate Jensen-Shannon divergence between training and serving is 0.627422 (up to six si...  \n",
       "'wrf_graupel'            The approximate Jensen-Shannon divergence between training and serving is 0.769175 (up to six si...  \n",
       "'cmc_0_1_67_0_next'      The approximate Jensen-Shannon divergence between training and serving is 0.641024 (up to six si...  \n",
       "'gfs_2m_dewpoint_grad'   The approximate Jensen-Shannon divergence between training and serving is 0.116569 (up to six si...  \n",
       "'cmc_0_1_67_0'           The approximate Jensen-Shannon divergence between training and serving is 0.486688 (up to six si...  \n",
       "'gfs_clouds_sea'         The approximate Jensen-Shannon divergence between training and serving is 0.278205 (up to six si...  \n",
       "'climate_pressure'       The approximate Jensen-Shannon divergence between training and serving is 0.116659 (up to six si...  \n",
       "'gfs_precipitations'     The approximate Jensen-Shannon divergence between training and serving is 0.245893 (up to six si...  \n",
       "'cmc_0_1_68_0'           The approximate Jensen-Shannon divergence between training and serving is 0.627387 (up to six si...  "
      ]
     },
     "execution_count": 8,
     "metadata": {},
     "output_type": "execute_result"
    }
   ],
   "source": [
    "pd.options.display.max_colwidth = 100\n",
    "anomalies"
   ]
  },
  {
   "cell_type": "markdown",
   "id": "f7fad42b-ab0e-4f9d-8984-ac6ebce16581",
   "metadata": {},
   "source": [
    "Wow, it looks like there were many alerts triggered! Unclear if these alerts are meaningful though, as the test performance is not so much worse than the train performance. Also, how would we interpret the alerts?"
   ]
  },
  {
   "cell_type": "markdown",
   "id": "f2449bf1-355c-4bc8-9722-fec64c6c6f99",
   "metadata": {},
   "source": [
    "## Iterate through corruptions\n",
    "\n",
    "See if tfdv detects any anomalies, for all the corruptions we had in our previous notebook."
   ]
  },
  {
   "cell_type": "code",
   "execution_count": 9,
   "id": "0445a42f-b3b7-4fd6-99aa-1a51123b717b",
   "metadata": {},
   "outputs": [
    {
     "data": {
      "application/vnd.jupyter.widget-view+json": {
       "model_id": "",
       "version_major": 2,
       "version_minor": 0
      },
      "text/plain": [
       "Output()"
      ]
     },
     "metadata": {},
     "output_type": "display_data"
    },
    {
     "data": {
      "text/html": [
       "<pre style=\"white-space:pre;overflow-x:auto;line-height:normal;font-family:Menlo,'DejaVu Sans Mono',consolas,'Courier New',monospace\"><span style=\"color: #008000; text-decoration-color: #008000\">✓</span> Initialized. <span style=\"color: #b2b2b2; text-decoration-color: #b2b2b2\">View app at </span><span style=\"color: #b2b2b2; text-decoration-color: #b2b2b2; text-decoration: underline\">https://modal.com/apps/ap-qST9GOpg0QZjZptxBt4GoI</span>\n",
       "</pre>\n"
      ],
      "text/plain": [
       "\u001b[32m✓\u001b[0m Initialized. \u001b[38;5;249mView app at \u001b[0m\u001b[4;38;5;249mhttps://modal.com/apps/ap-qST9GOpg0QZjZptxBt4GoI\u001b[0m\n"
      ]
     },
     "metadata": {},
     "output_type": "display_data"
    },
    {
     "data": {
      "text/html": [
       "<pre style=\"white-space:pre;overflow-x:auto;line-height:normal;font-family:Menlo,'DejaVu Sans Mono',consolas,'Courier New',monospace\"></pre>\n"
      ],
      "text/plain": []
     },
     "metadata": {},
     "output_type": "display_data"
    },
    {
     "data": {
      "application/vnd.jupyter.widget-view+json": {
       "model_id": "",
       "version_major": 2,
       "version_minor": 0
      },
      "text/plain": [
       "Output()"
      ]
     },
     "metadata": {},
     "output_type": "display_data"
    },
    {
     "data": {
      "text/html": [
       "<pre style=\"white-space:pre;overflow-x:auto;line-height:normal;font-family:Menlo,'DejaVu Sans Mono',consolas,'Courier New',monospace\"></pre>\n"
      ],
      "text/plain": []
     },
     "metadata": {},
     "output_type": "display_data"
    },
    {
     "data": {
      "text/html": [
       "<pre style=\"white-space:pre;overflow-x:auto;line-height:normal;font-family:Menlo,'DejaVu Sans Mono',consolas,'Courier New',monospace\"><span style=\"color: #008000; text-decoration-color: #008000\">✓</span> Created objects.\n",
       "<span style=\"color: #808080; text-decoration-color: #808080\">└── </span><span style=\"color: #008000; text-decoration-color: #008000\">🔨</span> Created check_skew.\n",
       "</pre>\n"
      ],
      "text/plain": [
       "\u001b[32m✓\u001b[0m Created objects.\n",
       "\u001b[38;5;244m└── \u001b[0m\u001b[32m🔨\u001b[0m Created check_skew.\n"
      ]
     },
     "metadata": {},
     "output_type": "display_data"
    },
    {
     "data": {
      "application/vnd.jupyter.widget-view+json": {
       "model_id": "",
       "version_major": 2,
       "version_minor": 0
      },
      "text/plain": [
       "Output()"
      ]
     },
     "metadata": {},
     "output_type": "display_data"
    },
    {
     "data": {
      "text/html": [
       "<pre style=\"white-space:pre;overflow-x:auto;line-height:normal;font-family:Menlo,'DejaVu Sans Mono',consolas,'Courier New',monospace\"><span style=\"color: #800000; text-decoration-color: #800000\">/usr/local/lib/python3.8/site-packages/synchronicity/synchronizer.py:43: UserWarning: Using latest synchronicity with an old interface - please upgrade to latest modal-client!\n",
       "  warnings.warn(\n",
       "</span></pre>\n"
      ],
      "text/plain": [
       "\u001b[31m/usr/local/lib/python3.8/site-packages/synchronicity/synchronizer.py:43: UserWarning: Using latest synchronicity with an old interface - please upgrade to latest modal-client!\n",
       "  warnings.warn(\n",
       "\u001b[0m"
      ]
     },
     "metadata": {},
     "output_type": "display_data"
    },
    {
     "data": {
      "text/html": [
       "<pre style=\"white-space:pre;overflow-x:auto;line-height:normal;font-family:Menlo,'DejaVu Sans Mono',consolas,'Courier New',monospace\"><span style=\"color: #800000; text-decoration-color: #800000\">/usr/local/lib/python3.8/site-packages/synchronicity/synchronizer.py:43: UserWarning: Using latest synchronicity with an old interface - please upgrade to latest modal-client!\n",
       "  warnings.warn(\n",
       "</span></pre>\n"
      ],
      "text/plain": [
       "\u001b[31m/usr/local/lib/python3.8/site-packages/synchronicity/synchronizer.py:43: UserWarning: Using latest synchronicity with an old interface - please upgrade to latest modal-client!\n",
       "  warnings.warn(\n",
       "\u001b[0m"
      ]
     },
     "metadata": {},
     "output_type": "display_data"
    },
    {
     "data": {
      "text/html": [
       "<pre style=\"white-space:pre;overflow-x:auto;line-height:normal;font-family:Menlo,'DejaVu Sans Mono',consolas,'Courier New',monospace\"><span style=\"color: #800000; text-decoration-color: #800000\">/usr/local/lib/python3.8/site-packages/synchronicity/synchronizer.py:43: UserWarning: Using latest synchronicity with an old interface - please upgrade to latest modal-client!\n",
       "  warnings.warn(\n",
       "</span></pre>\n"
      ],
      "text/plain": [
       "\u001b[31m/usr/local/lib/python3.8/site-packages/synchronicity/synchronizer.py:43: UserWarning: Using latest synchronicity with an old interface - please upgrade to latest modal-client!\n",
       "  warnings.warn(\n",
       "\u001b[0m"
      ]
     },
     "metadata": {},
     "output_type": "display_data"
    },
    {
     "data": {
      "text/html": [
       "<pre style=\"white-space:pre;overflow-x:auto;line-height:normal;font-family:Menlo,'DejaVu Sans Mono',consolas,'Courier New',monospace\"><span style=\"color: #800000; text-decoration-color: #800000\">2023-05-05 19:27:56.888208: I tensorflow/core/util/port.cc:110] oneDNN custom operations are on. You may see slightly different numerical results due to floating-point round-off errors from different computation orders. To turn them off, set the environment variable `TF_ENABLE_ONEDNN_OPTS=0`.\n",
       "</span></pre>\n"
      ],
      "text/plain": [
       "\u001b[31m2023-05-05 19:27:56.888208: I tensorflow/core/util/port.cc:110] oneDNN custom operations are on. You may see slightly different numerical results due to floating-point round-off errors from different computation orders. To turn them off, set the environment variable `TF_ENABLE_ONEDNN_OPTS=0`.\n",
       "\u001b[0m"
      ]
     },
     "metadata": {},
     "output_type": "display_data"
    },
    {
     "data": {
      "text/html": [
       "<pre style=\"white-space:pre;overflow-x:auto;line-height:normal;font-family:Menlo,'DejaVu Sans Mono',consolas,'Courier New',monospace\"><span style=\"color: #800000; text-decoration-color: #800000\">2023-05-05 19:27:57.092706: I tensorflow/tsl/cuda/cudart_stub.cc:28] Could not find cuda drivers on your machine, GPU will not be used.\n",
       "</span></pre>\n"
      ],
      "text/plain": [
       "\u001b[31m2023-05-05 19:27:57.092706: I tensorflow/tsl/cuda/cudart_stub.cc:28] Could not find cuda drivers on your machine, GPU will not be used.\n",
       "\u001b[0m"
      ]
     },
     "metadata": {},
     "output_type": "display_data"
    },
    {
     "data": {
      "text/html": [
       "<pre style=\"white-space:pre;overflow-x:auto;line-height:normal;font-family:Menlo,'DejaVu Sans Mono',consolas,'Courier New',monospace\"><span style=\"color: #800000; text-decoration-color: #800000\">2023-05-05 19:27:57.368882: I tensorflow/tsl/cuda/cudart_stub.cc:28] Could not find cuda drivers on your machine, GPU will not be used.\n",
       "</span></pre>\n"
      ],
      "text/plain": [
       "\u001b[31m2023-05-05 19:27:57.368882: I tensorflow/tsl/cuda/cudart_stub.cc:28] Could not find cuda drivers on your machine, GPU will not be used.\n",
       "\u001b[0m"
      ]
     },
     "metadata": {},
     "output_type": "display_data"
    },
    {
     "data": {
      "text/html": [
       "<pre style=\"white-space:pre;overflow-x:auto;line-height:normal;font-family:Menlo,'DejaVu Sans Mono',consolas,'Courier New',monospace\"><span style=\"color: #800000; text-decoration-color: #800000\">2023-05-05 19:27:57.369754: I tensorflow/core/platform/cpu_feature_guard.cc:182] This TensorFlow binary is optimized to use available CPU instructions in performance-critical operations.\n",
       "To enable the following instructions: AVX2 AVX512F AVX512_VNNI FMA, in other operations, rebuild TensorFlow with the appropriate compiler flags.\n",
       "</span></pre>\n"
      ],
      "text/plain": [
       "\u001b[31m2023-05-05 19:27:57.369754: I tensorflow/core/platform/cpu_feature_guard.cc:182] This TensorFlow binary is optimized to use available CPU instructions in performance-critical operations.\n",
       "To enable the following instructions: AVX2 AVX512F AVX512_VNNI FMA, in other operations, rebuild TensorFlow with the appropriate compiler flags.\n",
       "\u001b[0m"
      ]
     },
     "metadata": {},
     "output_type": "display_data"
    },
    {
     "data": {
      "text/html": [
       "<pre style=\"white-space:pre;overflow-x:auto;line-height:normal;font-family:Menlo,'DejaVu Sans Mono',consolas,'Courier New',monospace\"><span style=\"color: #800000; text-decoration-color: #800000\">2023-05-05 19:27:58.979723: W tensorflow/compiler/tf2tensorrt/utils/py_utils.cc:38] TF-TRT Warning: Could not find TensorRT\n",
       "</span></pre>\n"
      ],
      "text/plain": [
       "\u001b[31m2023-05-05 19:27:58.979723: W tensorflow/compiler/tf2tensorrt/utils/py_utils.cc:38] TF-TRT Warning: Could not find TensorRT\n",
       "\u001b[0m"
      ]
     },
     "metadata": {},
     "output_type": "display_data"
    },
    {
     "data": {
      "text/html": [
       "<pre style=\"white-space:pre;overflow-x:auto;line-height:normal;font-family:Menlo,'DejaVu Sans Mono',consolas,'Courier New',monospace\"><span style=\"color: #800000; text-decoration-color: #800000\">/usr/local/lib/python3.8/site-packages/synchronicity/synchronizer.py:43: UserWarning: Using latest synchronicity with an old interface - please upgrade to latest modal-client!\n",
       "  warnings.warn(\n",
       "</span></pre>\n"
      ],
      "text/plain": [
       "\u001b[31m/usr/local/lib/python3.8/site-packages/synchronicity/synchronizer.py:43: UserWarning: Using latest synchronicity with an old interface - please upgrade to latest modal-client!\n",
       "  warnings.warn(\n",
       "\u001b[0m"
      ]
     },
     "metadata": {},
     "output_type": "display_data"
    },
    {
     "data": {
      "text/html": [
       "<pre style=\"white-space:pre;overflow-x:auto;line-height:normal;font-family:Menlo,'DejaVu Sans Mono',consolas,'Courier New',monospace\"><span style=\"color: #800000; text-decoration-color: #800000\">/usr/local/lib/python3.8/site-packages/synchronicity/synchronizer.py:43: UserWarning: Using latest synchronicity with an old interface - please upgrade to latest modal-client!\n",
       "  warnings.warn(\n",
       "</span></pre>\n"
      ],
      "text/plain": [
       "\u001b[31m/usr/local/lib/python3.8/site-packages/synchronicity/synchronizer.py:43: UserWarning: Using latest synchronicity with an old interface - please upgrade to latest modal-client!\n",
       "  warnings.warn(\n",
       "\u001b[0m"
      ]
     },
     "metadata": {},
     "output_type": "display_data"
    },
    {
     "data": {
      "text/html": [
       "<pre style=\"white-space:pre;overflow-x:auto;line-height:normal;font-family:Menlo,'DejaVu Sans Mono',consolas,'Courier New',monospace\"><span style=\"color: #800000; text-decoration-color: #800000\">/usr/local/lib/python3.8/site-packages/synchronicity/synchronizer.py:43: UserWarning: Using latest synchronicity with an old interface - please upgrade to latest modal-client!\n",
       "  warnings.warn(\n",
       "</span></pre>\n"
      ],
      "text/plain": [
       "\u001b[31m/usr/local/lib/python3.8/site-packages/synchronicity/synchronizer.py:43: UserWarning: Using latest synchronicity with an old interface - please upgrade to latest modal-client!\n",
       "  warnings.warn(\n",
       "\u001b[0m"
      ]
     },
     "metadata": {},
     "output_type": "display_data"
    },
    {
     "data": {
      "text/html": [
       "<pre style=\"white-space:pre;overflow-x:auto;line-height:normal;font-family:Menlo,'DejaVu Sans Mono',consolas,'Courier New',monospace\"><span style=\"color: #800000; text-decoration-color: #800000\">2023-05-05 19:30:10.102974: I tensorflow/core/util/port.cc:110] oneDNN custom operations are on. You may see slightly different numerical results due to floating-point round-off errors from different computation orders. To turn them off, set the environment variable `TF_ENABLE_ONEDNN_OPTS=0`.\n",
       "</span></pre>\n"
      ],
      "text/plain": [
       "\u001b[31m2023-05-05 19:30:10.102974: I tensorflow/core/util/port.cc:110] oneDNN custom operations are on. You may see slightly different numerical results due to floating-point round-off errors from different computation orders. To turn them off, set the environment variable `TF_ENABLE_ONEDNN_OPTS=0`.\n",
       "\u001b[0m"
      ]
     },
     "metadata": {},
     "output_type": "display_data"
    },
    {
     "data": {
      "text/html": [
       "<pre style=\"white-space:pre;overflow-x:auto;line-height:normal;font-family:Menlo,'DejaVu Sans Mono',consolas,'Courier New',monospace\"><span style=\"color: #800000; text-decoration-color: #800000\">2023-05-05 19:30:10.328143: I tensorflow/tsl/cuda/cudart_stub.cc:28] Could not find cuda drivers on your machine, GPU will not be used.\n",
       "</span></pre>\n"
      ],
      "text/plain": [
       "\u001b[31m2023-05-05 19:30:10.328143: I tensorflow/tsl/cuda/cudart_stub.cc:28] Could not find cuda drivers on your machine, GPU will not be used.\n",
       "\u001b[0m"
      ]
     },
     "metadata": {},
     "output_type": "display_data"
    },
    {
     "data": {
      "text/html": [
       "<pre style=\"white-space:pre;overflow-x:auto;line-height:normal;font-family:Menlo,'DejaVu Sans Mono',consolas,'Courier New',monospace\"><span style=\"color: #800000; text-decoration-color: #800000\">2023-05-05 19:30:10.719961: I tensorflow/tsl/cuda/cudart_stub.cc:28] Could not find cuda drivers on your machine, GPU will not be used.\n",
       "</span></pre>\n"
      ],
      "text/plain": [
       "\u001b[31m2023-05-05 19:30:10.719961: I tensorflow/tsl/cuda/cudart_stub.cc:28] Could not find cuda drivers on your machine, GPU will not be used.\n",
       "\u001b[0m"
      ]
     },
     "metadata": {},
     "output_type": "display_data"
    },
    {
     "data": {
      "text/html": [
       "<pre style=\"white-space:pre;overflow-x:auto;line-height:normal;font-family:Menlo,'DejaVu Sans Mono',consolas,'Courier New',monospace\"><span style=\"color: #800000; text-decoration-color: #800000\">2023-05-05 19:30:10.727177: I tensorflow/core/platform/cpu_feature_guard.cc:182] This TensorFlow binary is optimized to use available CPU instructions in performance-critical operations.\n",
       "To enable the following instructions: AVX2 AVX512F AVX512_VNNI FMA, in other operations, rebuild TensorFlow with the appropriate compiler flags.\n",
       "</span></pre>\n"
      ],
      "text/plain": [
       "\u001b[31m2023-05-05 19:30:10.727177: I tensorflow/core/platform/cpu_feature_guard.cc:182] This TensorFlow binary is optimized to use available CPU instructions in performance-critical operations.\n",
       "To enable the following instructions: AVX2 AVX512F AVX512_VNNI FMA, in other operations, rebuild TensorFlow with the appropriate compiler flags.\n",
       "\u001b[0m"
      ]
     },
     "metadata": {},
     "output_type": "display_data"
    },
    {
     "data": {
      "text/html": [
       "<pre style=\"white-space:pre;overflow-x:auto;line-height:normal;font-family:Menlo,'DejaVu Sans Mono',consolas,'Courier New',monospace\"><span style=\"color: #800000; text-decoration-color: #800000\">2023-05-05 19:30:12.068545: W tensorflow/compiler/tf2tensorrt/utils/py_utils.cc:38] TF-TRT Warning: Could not find TensorRT\n",
       "</span></pre>\n"
      ],
      "text/plain": [
       "\u001b[31m2023-05-05 19:30:12.068545: W tensorflow/compiler/tf2tensorrt/utils/py_utils.cc:38] TF-TRT Warning: Could not find TensorRT\n",
       "\u001b[0m"
      ]
     },
     "metadata": {},
     "output_type": "display_data"
    },
    {
     "data": {
      "text/html": [
       "<pre style=\"white-space:pre;overflow-x:auto;line-height:normal;font-family:Menlo,'DejaVu Sans Mono',consolas,'Courier New',monospace\"></pre>\n"
      ],
      "text/plain": []
     },
     "metadata": {},
     "output_type": "display_data"
    },
    {
     "data": {
      "text/html": [
       "<pre style=\"white-space:pre;overflow-x:auto;line-height:normal;font-family:Menlo,'DejaVu Sans Mono',consolas,'Courier New',monospace\"><span style=\"color: #008000; text-decoration-color: #008000\">✓</span> App completed.\n",
       "</pre>\n"
      ],
      "text/plain": [
       "\u001b[32m✓\u001b[0m App completed.\n"
      ]
     },
     "metadata": {},
     "output_type": "display_data"
    }
   ],
   "source": [
    "X_train, _ = ds.split_feature_label(train_df)\n",
    "corruption_anomalies = {}\n",
    "corruption_columns = {}\n",
    "\n",
    "with stub.run():\n",
    "    for corruption_name, corruption_res in ds.iterate_corruptions(test_df, \"cmc\", corruption_rate=0.05):\n",
    "        corrupted_test_df, corrupted_columns = corruption_res\n",
    "        corrupted_X_test, _ = ds.split_feature_label(corrupted_test_df)\n",
    "        corruption_anomalies[corruption_name] = check_skew.call(X_train, corrupted_X_test, X_train.columns.values)\n",
    "        corruption_columns[corruption_name] = corrupted_columns"
   ]
  },
  {
   "cell_type": "code",
   "execution_count": 10,
   "id": "4ca54760-5628-465c-a0fa-b58c67c51e58",
   "metadata": {},
   "outputs": [
    {
     "name": "stderr",
     "output_type": "stream",
     "text": [
      "\u001b[34m\u001b[1mwandb\u001b[0m: Currently logged in as: \u001b[33msh_reya\u001b[0m (\u001b[33mnnprov\u001b[0m). Use \u001b[1m`wandb login --relogin`\u001b[0m to force relogin\n"
     ]
    },
    {
     "data": {
      "text/html": [
       "wandb version 0.15.1 is available!  To upgrade, please run:\n",
       " $ pip install wandb --upgrade"
      ],
      "text/plain": [
       "<IPython.core.display.HTML object>"
      ]
     },
     "metadata": {},
     "output_type": "display_data"
    },
    {
     "data": {
      "text/html": [
       "Tracking run with wandb version 0.14.2"
      ],
      "text/plain": [
       "<IPython.core.display.HTML object>"
      ]
     },
     "metadata": {},
     "output_type": "display_data"
    },
    {
     "data": {
      "text/html": [
       "Run data is saved locally in <code>/Users/shreyashankar/Documents/projects/ml-dataval-tutorial/wandb/run-20230505_123020-xzgky1q8</code>"
      ],
      "text/plain": [
       "<IPython.core.display.HTML object>"
      ]
     },
     "metadata": {},
     "output_type": "display_data"
    },
    {
     "data": {
      "text/html": [
       "Syncing run <strong><a href='https://wandb.ai/nnprov/ml-dataval-tutorial/runs/xzgky1q8' target=\"_blank\">grievous-parsec-31</a></strong> to <a href='https://wandb.ai/nnprov/ml-dataval-tutorial' target=\"_blank\">Weights & Biases</a> (<a href='https://wandb.me/run' target=\"_blank\">docs</a>)<br/>"
      ],
      "text/plain": [
       "<IPython.core.display.HTML object>"
      ]
     },
     "metadata": {},
     "output_type": "display_data"
    },
    {
     "data": {
      "text/html": [
       " View project at <a href='https://wandb.ai/nnprov/ml-dataval-tutorial' target=\"_blank\">https://wandb.ai/nnprov/ml-dataval-tutorial</a>"
      ],
      "text/plain": [
       "<IPython.core.display.HTML object>"
      ]
     },
     "metadata": {},
     "output_type": "display_data"
    },
    {
     "data": {
      "text/html": [
       " View run at <a href='https://wandb.ai/nnprov/ml-dataval-tutorial/runs/xzgky1q8' target=\"_blank\">https://wandb.ai/nnprov/ml-dataval-tutorial/runs/xzgky1q8</a>"
      ],
      "text/plain": [
       "<IPython.core.display.HTML object>"
      ]
     },
     "metadata": {},
     "output_type": "display_data"
    },
    {
     "data": {
      "text/html": [
       "Waiting for W&B process to finish... <strong style=\"color:green\">(success).</strong>"
      ],
      "text/plain": [
       "<IPython.core.display.HTML object>"
      ]
     },
     "metadata": {},
     "output_type": "display_data"
    },
    {
     "data": {
      "text/html": [
       " View run <strong style=\"color:#cdcd00\">grievous-parsec-31</strong> at: <a href='https://wandb.ai/nnprov/ml-dataval-tutorial/runs/xzgky1q8' target=\"_blank\">https://wandb.ai/nnprov/ml-dataval-tutorial/runs/xzgky1q8</a><br/>Synced 5 W&B file(s), 7 media file(s), 7 artifact file(s) and 0 other file(s)"
      ],
      "text/plain": [
       "<IPython.core.display.HTML object>"
      ]
     },
     "metadata": {},
     "output_type": "display_data"
    },
    {
     "data": {
      "text/html": [
       "Find logs at: <code>./wandb/run-20230505_123020-xzgky1q8/logs</code>"
      ],
      "text/plain": [
       "<IPython.core.display.HTML object>"
      ]
     },
     "metadata": {},
     "output_type": "display_data"
    }
   ],
   "source": [
    "# Send wandb alerts\n",
    "import wandb\n",
    "from wandb import AlertLevel\n",
    "\n",
    "run = wandb.init(project=\"ml-dataval-tutorial\", tags=[\"TFDV-drift\"])\n",
    "\n",
    "metrics = []\n",
    "\n",
    "for corruption_name, anomalies in corruption_anomalies.items():\n",
    "    \n",
    "    if len(anomalies) > 0:\n",
    "        table = wandb.Table(dataframe=anomalies)\n",
    "        wandb.log({corruption_name: table})\n",
    "    \n",
    "        found_columns = [a[1:-1] for a in anomalies.index.values]\n",
    "        inter = set(found_columns).intersection(set(corruption_columns[corruption_name]))\n",
    "        \n",
    "        wandb.alert(\n",
    "            title=f\"Errors detected in {corruption_name} experiment\", \n",
    "            text = f\"TFDV found {len(inter)} of {len(corruption_columns[corruption_name])} anomalies for corruption {corruption_name}. TFDV flagged {len(set(found_columns))} in total.\",\n",
    "            level=AlertLevel.WARN,\n",
    "        )\n",
    "        \n",
    "        precision = float(len(inter) / len(set(found_columns)))\n",
    "        recall = float(len(inter) / len(corruption_columns[corruption_name]))\n",
    "        metrics.append({\"corruption_name\": corruption_name, \"precision\": precision, \"recall\": recall})\n",
    "    \n",
    "# Log precision and recall\n",
    "metric_df = pd.DataFrame(metrics)\n",
    "metric_table = wandb.Table(dataframe=metric_df)\n",
    "wandb.log({\"precision\" : wandb.plot.bar(metric_table, \"corruption_name\", \"precision\",\n",
    "           title=\"Precision\")})\n",
    "wandb.log({\"recall\" : wandb.plot.bar(metric_table, \"corruption_name\", \"recall\",\n",
    "           title=\"Recall\")})\n",
    "# wandb.log({\"metrics\": metric_table})\n",
    "\n",
    "wandb.finish()"
   ]
  },
  {
   "cell_type": "code",
   "execution_count": 11,
   "id": "9e0f540c-84b9-4ca9-a685-6faf87c324b2",
   "metadata": {},
   "outputs": [
    {
     "data": {
      "text/html": [
       "<div>\n",
       "<style scoped>\n",
       "    .dataframe tbody tr th:only-of-type {\n",
       "        vertical-align: middle;\n",
       "    }\n",
       "\n",
       "    .dataframe tbody tr th {\n",
       "        vertical-align: top;\n",
       "    }\n",
       "\n",
       "    .dataframe thead th {\n",
       "        text-align: right;\n",
       "    }\n",
       "</style>\n",
       "<table border=\"1\" class=\"dataframe\">\n",
       "  <thead>\n",
       "    <tr style=\"text-align: right;\">\n",
       "      <th></th>\n",
       "      <th>corruption_name</th>\n",
       "      <th>precision</th>\n",
       "      <th>recall</th>\n",
       "    </tr>\n",
       "  </thead>\n",
       "  <tbody>\n",
       "    <tr>\n",
       "      <th>0</th>\n",
       "      <td>corrupt_null</td>\n",
       "      <td>0.526316</td>\n",
       "      <td>0.178571</td>\n",
       "    </tr>\n",
       "    <tr>\n",
       "      <th>1</th>\n",
       "      <td>corrupt_nonnegative</td>\n",
       "      <td>0.711111</td>\n",
       "      <td>0.842105</td>\n",
       "    </tr>\n",
       "    <tr>\n",
       "      <th>2</th>\n",
       "      <td>corrupt_typecheck</td>\n",
       "      <td>0.100000</td>\n",
       "      <td>0.400000</td>\n",
       "    </tr>\n",
       "    <tr>\n",
       "      <th>3</th>\n",
       "      <td>corrupt_units</td>\n",
       "      <td>0.820000</td>\n",
       "      <td>0.732143</td>\n",
       "    </tr>\n",
       "    <tr>\n",
       "      <th>4</th>\n",
       "      <td>corrupt_average</td>\n",
       "      <td>0.852459</td>\n",
       "      <td>0.928571</td>\n",
       "    </tr>\n",
       "    <tr>\n",
       "      <th>5</th>\n",
       "      <td>corrupt_pinned</td>\n",
       "      <td>0.742857</td>\n",
       "      <td>0.464286</td>\n",
       "    </tr>\n",
       "  </tbody>\n",
       "</table>\n",
       "</div>"
      ],
      "text/plain": [
       "       corruption_name  precision    recall\n",
       "0         corrupt_null   0.526316  0.178571\n",
       "1  corrupt_nonnegative   0.711111  0.842105\n",
       "2    corrupt_typecheck   0.100000  0.400000\n",
       "3        corrupt_units   0.820000  0.732143\n",
       "4      corrupt_average   0.852459  0.928571\n",
       "5       corrupt_pinned   0.742857  0.464286"
      ]
     },
     "execution_count": 11,
     "metadata": {},
     "output_type": "execute_result"
    }
   ],
   "source": [
    "metric_df"
   ]
  },
  {
   "cell_type": "markdown",
   "id": "7af9638f-f269-493e-93c4-aec7ea1a43f3",
   "metadata": {},
   "source": [
    "## Takeaways\n",
    "\n",
    "Looks like TFDV didn't find all the right anomalies, but it found nonzero! Finding alerts precisely is very hard."
   ]
  },
  {
   "cell_type": "code",
   "execution_count": null,
   "id": "af41945f-5234-43e6-a6a3-ecd04d7f1d11",
   "metadata": {},
   "outputs": [],
   "source": []
  }
 ],
 "metadata": {
  "kernelspec": {
   "display_name": "Python 3 (ipykernel)",
   "language": "python",
   "name": "python3"
  },
  "language_info": {
   "codemirror_mode": {
    "name": "ipython",
    "version": 3
   },
   "file_extension": ".py",
   "mimetype": "text/x-python",
   "name": "python",
   "nbconvert_exporter": "python",
   "pygments_lexer": "ipython3",
   "version": "3.8.16"
  }
 },
 "nbformat": 4,
 "nbformat_minor": 5
}
