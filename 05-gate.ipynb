{
 "cells": [
  {
   "cell_type": "code",
   "execution_count": 1,
   "id": "c107e945-3fb4-4566-8ea1-41dfe457d84f",
   "metadata": {},
   "outputs": [],
   "source": [
    "%load_ext autoreload\n",
    "%autoreload 2"
   ]
  },
  {
   "cell_type": "code",
   "execution_count": 2,
   "id": "1b84c976-5231-4fea-89ad-3a854d17843f",
   "metadata": {},
   "outputs": [
    {
     "name": "stderr",
     "output_type": "stream",
     "text": [
      "/Users/shreyashankar/miniforge3/envs/dataval/lib/python3.8/site-packages/tqdm/auto.py:21: TqdmWarning: IProgress not found. Please update jupyter and ipywidgets. See https://ipywidgets.readthedocs.io/en/stable/user_install.html\n",
      "  from .autonotebook import tqdm as notebook_tqdm\n"
     ]
    }
   ],
   "source": [
    "from dataval.dataset import WeatherDataset\n",
    "from dataval.train import CatBoostTrainer\n",
    "\n",
    "import os\n",
    "import matplotlib.pyplot as plt\n",
    "import pandas as pd\n",
    "\n",
    "from gate import summarize, detect_drift"
   ]
  },
  {
   "cell_type": "markdown",
   "id": "abdcaf5f-2605-4d12-8644-2d0f17c31059",
   "metadata": {},
   "source": [
    "# GATE: Automatic Drift Detection\n",
    "\n",
    "In this notebook, we leverage GATE, a new research technique to automatically detect whether partitions have drifted. The original GATE research paper is here: https://arxiv.org/abs/2303.06094"
   ]
  },
  {
   "cell_type": "code",
   "execution_count": 3,
   "id": "7ce28b60-4fed-4535-a036-398031edc2fe",
   "metadata": {},
   "outputs": [],
   "source": [
    "# Load dataset\n",
    "\n",
    "ds = WeatherDataset(os.path.join(os.getcwd(), \"canonical-partitioned-dataset\"), sample_frac=0.2)"
   ]
  },
  {
   "cell_type": "code",
   "execution_count": 4,
   "id": "2a6a2184-69b1-46ea-87c7-5a0873d3370a",
   "metadata": {},
   "outputs": [],
   "source": [
    "train_df = ds.load(ds.get_partition_keys()[0])\n",
    "test_df = ds.load(ds.get_partition_keys()[1])"
   ]
  },
  {
   "cell_type": "markdown",
   "id": "7ec933d9-5af3-4ac6-8138-62715995088f",
   "metadata": {},
   "source": [
    "## Iterate through corruptions\n",
    "\n",
    "We'll iterate through the corruptions and compute the precision and recall of GATE. We'll log this to wandb as we did before in the last notebook."
   ]
  },
  {
   "cell_type": "code",
   "execution_count": 5,
   "id": "77763059-f76d-4b4c-a938-0f4d98246da8",
   "metadata": {},
   "outputs": [],
   "source": [
    "import numpy as np\n",
    "\n",
    "X_train, _ = ds.split_feature_label(train_df)\n",
    "corruption_results = {}\n",
    "corruption_columns = {}\n",
    "\n",
    "feature_columns = X_train.columns.to_list()\n",
    "feature_columns\n",
    "\n",
    "# X_train[\"partition_key\"] = ds.get_partition_key(train_df)\n",
    "X_train[\"partition_key\"] = np.random.choice(['A', 'B', 'C', 'D', 'E', 'F', 'G', 'H'], size=len(X_train))\n",
    "train_summaries = summarize(X_train, partition_key=\"partition_key\", columns=feature_columns)\n",
    "\n",
    "for corruption_name, corruption_res in ds.iterate_corruptions(test_df, \"cmc\", corruption_rate=0.05):\n",
    "    corrupted_test_df, corrupted_columns = corruption_res\n",
    "    corrupted_X_test, _ = ds.split_feature_label(corrupted_test_df)\n",
    "    \n",
    "    corrupted_X_test[\"partition_key\"] = \"test\"\n",
    "    test_summary = summarize(corrupted_X_test, partition_key=\"partition_key\", columns=feature_columns)[0]\n",
    "    \n",
    "    drift_result = detect_drift(test_summary, train_summaries, cluster=True)\n",
    "    corruption_results[corruption_name] = drift_result\n",
    "    \n",
    "    corruption_columns[corruption_name] = corrupted_columns\n",
    "    \n",
    "    # print(drift_result)"
   ]
  },
  {
   "cell_type": "code",
   "execution_count": 6,
   "id": "821a74c1-75cb-4cd1-8eca-dd49175e46eb",
   "metadata": {},
   "outputs": [
    {
     "name": "stdout",
     "output_type": "stream",
     "text": [
      "huggingface/tokenizers: The current process just got forked, after parallelism has already been used. Disabling parallelism to avoid deadlocks...\n",
      "To disable this warning, you can either:\n",
      "\t- Avoid using `tokenizers` before the fork if possible\n",
      "\t- Explicitly set the environment variable TOKENIZERS_PARALLELISM=(true | false)\n",
      "huggingface/tokenizers: The current process just got forked, after parallelism has already been used. Disabling parallelism to avoid deadlocks...\n",
      "To disable this warning, you can either:\n",
      "\t- Avoid using `tokenizers` before the fork if possible\n",
      "\t- Explicitly set the environment variable TOKENIZERS_PARALLELISM=(true | false)\n",
      "huggingface/tokenizers: The current process just got forked, after parallelism has already been used. Disabling parallelism to avoid deadlocks...\n",
      "To disable this warning, you can either:\n",
      "\t- Avoid using `tokenizers` before the fork if possible\n",
      "\t- Explicitly set the environment variable TOKENIZERS_PARALLELISM=(true | false)\n",
      "huggingface/tokenizers: The current process just got forked, after parallelism has already been used. Disabling parallelism to avoid deadlocks...\n",
      "To disable this warning, you can either:\n",
      "\t- Avoid using `tokenizers` before the fork if possible\n",
      "\t- Explicitly set the environment variable TOKENIZERS_PARALLELISM=(true | false)\n"
     ]
    },
    {
     "name": "stderr",
     "output_type": "stream",
     "text": [
      "\u001b[34m\u001b[1mwandb\u001b[0m: Currently logged in as: \u001b[33msh_reya\u001b[0m (\u001b[33mnnprov\u001b[0m). Use \u001b[1m`wandb login --relogin`\u001b[0m to force relogin\n"
     ]
    },
    {
     "name": "stdout",
     "output_type": "stream",
     "text": [
      "huggingface/tokenizers: The current process just got forked, after parallelism has already been used. Disabling parallelism to avoid deadlocks...\n",
      "To disable this warning, you can either:\n",
      "\t- Avoid using `tokenizers` before the fork if possible\n",
      "\t- Explicitly set the environment variable TOKENIZERS_PARALLELISM=(true | false)\n",
      "huggingface/tokenizers: The current process just got forked, after parallelism has already been used. Disabling parallelism to avoid deadlocks...\n",
      "To disable this warning, you can either:\n",
      "\t- Avoid using `tokenizers` before the fork if possible\n",
      "\t- Explicitly set the environment variable TOKENIZERS_PARALLELISM=(true | false)\n"
     ]
    },
    {
     "data": {
      "text/html": [
       "wandb version 0.15.0 is available!  To upgrade, please run:\n",
       " $ pip install wandb --upgrade"
      ],
      "text/plain": [
       "<IPython.core.display.HTML object>"
      ]
     },
     "metadata": {},
     "output_type": "display_data"
    },
    {
     "data": {
      "text/html": [
       "Tracking run with wandb version 0.14.2"
      ],
      "text/plain": [
       "<IPython.core.display.HTML object>"
      ]
     },
     "metadata": {},
     "output_type": "display_data"
    },
    {
     "data": {
      "text/html": [
       "Run data is saved locally in <code>/Users/shreyashankar/Documents/projects/ml-dataval-tutorial/wandb/run-20230420_172413-13hi3emp</code>"
      ],
      "text/plain": [
       "<IPython.core.display.HTML object>"
      ]
     },
     "metadata": {},
     "output_type": "display_data"
    },
    {
     "data": {
      "text/html": [
       "Syncing run <strong><a href='https://wandb.ai/nnprov/ml-dataval-tutorial/runs/13hi3emp' target=\"_blank\">royal-wind-24</a></strong> to <a href='https://wandb.ai/nnprov/ml-dataval-tutorial' target=\"_blank\">Weights & Biases</a> (<a href='https://wandb.me/run' target=\"_blank\">docs</a>)<br/>"
      ],
      "text/plain": [
       "<IPython.core.display.HTML object>"
      ]
     },
     "metadata": {},
     "output_type": "display_data"
    },
    {
     "data": {
      "text/html": [
       " View project at <a href='https://wandb.ai/nnprov/ml-dataval-tutorial' target=\"_blank\">https://wandb.ai/nnprov/ml-dataval-tutorial</a>"
      ],
      "text/plain": [
       "<IPython.core.display.HTML object>"
      ]
     },
     "metadata": {},
     "output_type": "display_data"
    },
    {
     "data": {
      "text/html": [
       " View run at <a href='https://wandb.ai/nnprov/ml-dataval-tutorial/runs/13hi3emp' target=\"_blank\">https://wandb.ai/nnprov/ml-dataval-tutorial/runs/13hi3emp</a>"
      ],
      "text/plain": [
       "<IPython.core.display.HTML object>"
      ]
     },
     "metadata": {},
     "output_type": "display_data"
    },
    {
     "data": {
      "text/html": [
       "Waiting for W&B process to finish... <strong style=\"color:green\">(success).</strong>"
      ],
      "text/plain": [
       "<IPython.core.display.HTML object>"
      ]
     },
     "metadata": {},
     "output_type": "display_data"
    },
    {
     "data": {
      "text/html": [
       " View run <strong style=\"color:#cdcd00\">royal-wind-24</strong> at: <a href='https://wandb.ai/nnprov/ml-dataval-tutorial/runs/13hi3emp' target=\"_blank\">https://wandb.ai/nnprov/ml-dataval-tutorial/runs/13hi3emp</a><br/>Synced 5 W&B file(s), 7 media file(s), 7 artifact file(s) and 0 other file(s)"
      ],
      "text/plain": [
       "<IPython.core.display.HTML object>"
      ]
     },
     "metadata": {},
     "output_type": "display_data"
    },
    {
     "data": {
      "text/html": [
       "Find logs at: <code>./wandb/run-20230420_172413-13hi3emp/logs</code>"
      ],
      "text/plain": [
       "<IPython.core.display.HTML object>"
      ]
     },
     "metadata": {},
     "output_type": "display_data"
    }
   ],
   "source": [
    "# Send wandb alerts\n",
    "import wandb\n",
    "from wandb import AlertLevel\n",
    "\n",
    "run = wandb.init(project=\"ml-dataval-tutorial\")\n",
    "\n",
    "metrics = []\n",
    "\n",
    "for corruption_name, drift_result in corruption_results.items():\n",
    "    drifted_results = drift_result.drifted_columns(limit=None)\n",
    "    drifted_results = drifted_results[\n",
    "        (drifted_results[\"z-score-cluster\"].abs() >= 1) & (drifted_results[\"z-score\"].abs() >= 2.5)\n",
    "    ]\n",
    "    \n",
    "    if len(drifted_results) > 0:\n",
    "        table = wandb.Table(dataframe=drifted_results)\n",
    "        wandb.log({corruption_name: table})\n",
    "    \n",
    "        found_columns = drifted_results.index.values\n",
    "        inter = set(found_columns).intersection(set(corruption_columns[corruption_name]))\n",
    "        \n",
    "        wandb.alert(\n",
    "            title=f\"Errors detected in {corruption_name} experiment\", \n",
    "            text = f\"GATE found {len(inter)} of {len(corruption_columns[corruption_name])} anomalous columns for corruption {corruption_name}. GATE flagged {len(set(found_columns))} in total.\",\n",
    "            level=AlertLevel.WARN,\n",
    "        )\n",
    "        \n",
    "        precision = float(len(inter) / len(set(found_columns)))\n",
    "        recall = float(len(inter) / len(corruption_columns[corruption_name]))\n",
    "        metrics.append({\"corruption_name\": corruption_name, \"precision\": precision, \"recall\": recall})\n",
    "    \n",
    "# Log precision and recall\n",
    "metric_df = pd.DataFrame(metrics)\n",
    "metric_table = wandb.Table(dataframe=metric_df)\n",
    "wandb.log({\"precision\" : wandb.plot.bar(metric_table, \"corruption_name\", \"precision\",\n",
    "           title=\"Precision\")})\n",
    "wandb.log({\"recall\" : wandb.plot.bar(metric_table, \"corruption_name\", \"recall\",\n",
    "           title=\"Recall\")})\n",
    "# wandb.log({\"metrics\": metric_table})\n",
    "\n",
    "wandb.finish()"
   ]
  },
  {
   "cell_type": "code",
   "execution_count": 7,
   "id": "9054991b-c47b-45ab-9900-597fc96e3942",
   "metadata": {},
   "outputs": [
    {
     "data": {
      "text/html": [
       "<div>\n",
       "<style scoped>\n",
       "    .dataframe tbody tr th:only-of-type {\n",
       "        vertical-align: middle;\n",
       "    }\n",
       "\n",
       "    .dataframe tbody tr th {\n",
       "        vertical-align: top;\n",
       "    }\n",
       "\n",
       "    .dataframe thead th {\n",
       "        text-align: right;\n",
       "    }\n",
       "</style>\n",
       "<table border=\"1\" class=\"dataframe\">\n",
       "  <thead>\n",
       "    <tr style=\"text-align: right;\">\n",
       "      <th></th>\n",
       "      <th>corruption_name</th>\n",
       "      <th>precision</th>\n",
       "      <th>recall</th>\n",
       "    </tr>\n",
       "  </thead>\n",
       "  <tbody>\n",
       "    <tr>\n",
       "      <th>0</th>\n",
       "      <td>corrupt_null</td>\n",
       "      <td>0.965517</td>\n",
       "      <td>1.000000</td>\n",
       "    </tr>\n",
       "    <tr>\n",
       "      <th>1</th>\n",
       "      <td>corrupt_nonnegative</td>\n",
       "      <td>0.935484</td>\n",
       "      <td>0.763158</td>\n",
       "    </tr>\n",
       "    <tr>\n",
       "      <th>2</th>\n",
       "      <td>corrupt_typecheck</td>\n",
       "      <td>0.500000</td>\n",
       "      <td>0.400000</td>\n",
       "    </tr>\n",
       "    <tr>\n",
       "      <th>3</th>\n",
       "      <td>corrupt_units</td>\n",
       "      <td>0.960000</td>\n",
       "      <td>0.857143</td>\n",
       "    </tr>\n",
       "    <tr>\n",
       "      <th>4</th>\n",
       "      <td>corrupt_average</td>\n",
       "      <td>0.964286</td>\n",
       "      <td>0.964286</td>\n",
       "    </tr>\n",
       "    <tr>\n",
       "      <th>5</th>\n",
       "      <td>corrupt_pinned</td>\n",
       "      <td>0.941176</td>\n",
       "      <td>0.571429</td>\n",
       "    </tr>\n",
       "  </tbody>\n",
       "</table>\n",
       "</div>"
      ],
      "text/plain": [
       "       corruption_name  precision    recall\n",
       "0         corrupt_null   0.965517  1.000000\n",
       "1  corrupt_nonnegative   0.935484  0.763158\n",
       "2    corrupt_typecheck   0.500000  0.400000\n",
       "3        corrupt_units   0.960000  0.857143\n",
       "4      corrupt_average   0.964286  0.964286\n",
       "5       corrupt_pinned   0.941176  0.571429"
      ]
     },
     "execution_count": 7,
     "metadata": {},
     "output_type": "execute_result"
    }
   ],
   "source": [
    "metric_df"
   ]
  },
  {
   "cell_type": "markdown",
   "id": "529e7ec2-56c1-4d29-9625-266000a8dcc7",
   "metadata": {},
   "source": [
    "## Takeaways\n",
    "\n",
    "Looks like GATE performed a bit better! Still, it's impossible to be perfect..."
   ]
  },
  {
   "cell_type": "code",
   "execution_count": null,
   "id": "ddfcaffc-9905-411a-b602-46df5e06f8dc",
   "metadata": {},
   "outputs": [],
   "source": []
  }
 ],
 "metadata": {
  "kernelspec": {
   "display_name": "Python 3 (ipykernel)",
   "language": "python",
   "name": "python3"
  },
  "language_info": {
   "codemirror_mode": {
    "name": "ipython",
    "version": 3
   },
   "file_extension": ".py",
   "mimetype": "text/x-python",
   "name": "python",
   "nbconvert_exporter": "python",
   "pygments_lexer": "ipython3",
   "version": "3.8.16"
  }
 },
 "nbformat": 4,
 "nbformat_minor": 5
}
