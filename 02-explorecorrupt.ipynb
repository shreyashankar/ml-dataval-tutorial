{
 "cells": [
  {
   "cell_type": "code",
   "execution_count": 1,
   "id": "ab10df0c-dd9c-4f0b-a23e-10fbf23fd011",
   "metadata": {
    "tags": []
   },
   "outputs": [],
   "source": [
    "%load_ext autoreload\n",
    "%autoreload 2"
   ]
  },
  {
   "cell_type": "code",
   "execution_count": 2,
   "id": "3322a73c-917b-4ec4-9dc7-acba571b0e67",
   "metadata": {
    "tags": []
   },
   "outputs": [
    {
     "data": {
      "text/html": [
       "wandb version 0.15.1 is available!  To upgrade, please run:\n",
       " $ pip install wandb --upgrade"
      ],
      "text/plain": [
       "<IPython.core.display.HTML object>"
      ]
     },
     "metadata": {},
     "output_type": "display_data"
    },
    {
     "data": {
      "text/html": [
       "Syncing run <strong><a href='https://wandb.ai/nnprov/ml-dataval-tutorial/runs/jxsx8zag' target=\"_blank\">elegant-rancor-27</a></strong> to <a href='https://wandb.ai/nnprov/ml-dataval-tutorial' target=\"_blank\">Weights & Biases</a> (<a href='https://wandb.me/run' target=\"_blank\">docs</a>)<br/>"
      ],
      "text/plain": [
       "<IPython.core.display.HTML object>"
      ]
     },
     "metadata": {},
     "output_type": "display_data"
    },
    {
     "data": {
      "text/html": [
       " View run at <a href='https://wandb.ai/nnprov/ml-dataval-tutorial/runs/jxsx8zag' target=\"_blank\">https://wandb.ai/nnprov/ml-dataval-tutorial/runs/jxsx8zag</a>"
      ],
      "text/plain": [
       "<IPython.core.display.HTML object>"
      ]
     },
     "metadata": {},
     "output_type": "display_data"
    }
   ],
   "source": [
    "from dataval.dataset import WeatherDataset\n",
    "from dataval.train import CatBoostTrainer\n",
    "\n",
    "import os\n",
    "import matplotlib.pyplot as plt\n",
    "import pandas as pd\n",
    "\n",
    "import wandb\n",
    "\n",
    "os.environ[\"WANDB_QUIET\"] = \"true\" # Let's keep the output clean\n",
    "\n",
    "# Let's start a new W&B run to track our work\n",
    "run = wandb.init(project=\"ml-dataval-tutorial\")"
   ]
  },
  {
   "cell_type": "markdown",
   "id": "7eaf168b-53ed-4a2e-b225-43b5c15e60f0",
   "metadata": {},
   "source": [
    "# Explore Corruptions\n",
    "\n",
    "We are going to introduce some corruptions into our data, with varying degrees of errors. The purpose of this exercise is to learn that corruptions vary in:\n",
    "\n",
    "* How hard they are to catch\n",
    "* How much they actually impact downstream accuracy\n",
    "\n",
    "We will use the continual training pipeline from the first notebook, and the corruption utility functions in `dataval/dataset.py`."
   ]
  },
  {
   "cell_type": "code",
   "execution_count": 3,
   "id": "33806109-044d-4da8-bf8c-8485e8fb9ee9",
   "metadata": {
    "tags": []
   },
   "outputs": [],
   "source": [
    "# Load dataset\n",
    "\n",
    "ds = WeatherDataset(os.path.join(os.getcwd(), \"canonical-partitioned-dataset\"), sample_frac=0.2)"
   ]
  },
  {
   "cell_type": "markdown",
   "id": "ed78dc60-3242-459e-8b84-c51d3c82c50f",
   "metadata": {},
   "source": [
    "## Obvious Corruptions\n",
    "\n",
    "Data is obviously corrupted if it is:\n",
    "\n",
    "* Denoted with a missing value (i.e., nan)\n",
    "* Violating nonnegativity constraints (e.g., negative pressure value)\n",
    "* Doesn't type check\n",
    "\n",
    "We will corrupt columns in the same sensor group."
   ]
  },
  {
   "cell_type": "code",
   "execution_count": 4,
   "id": "c1cb8c8d-1563-408a-8947-835e58d0ce5b",
   "metadata": {
    "tags": []
   },
   "outputs": [],
   "source": [
    "train_df = ds.load(ds.get_partition_keys()[0])\n",
    "test_df = ds.load(ds.get_partition_keys()[1])"
   ]
  },
  {
   "cell_type": "code",
   "execution_count": 5,
   "id": "b641510f-6f32-4314-8dc8-38b3db46c1d9",
   "metadata": {
    "tags": []
   },
   "outputs": [
    {
     "name": "stdout",
     "output_type": "stream",
     "text": [
      "Train MSE for partition 2018_35: 4.074896379948685\n",
      "Test MSE for partition 2018_36: 4.797844923928596\n",
      "\n",
      "                              feature  importance\n",
      "6            cmc_0_0_0_2_interpolated   19.153059\n",
      "89   gfs_temperature_sea_interpolated   15.313095\n",
      "87                gfs_temperature_sea   12.796032\n",
      "109               wrf_t2_interpolated   11.163675\n",
      "8                         cmc_0_0_0_2    6.928703\n"
     ]
    }
   ],
   "source": [
    "# Establish baseline MSE with clean train and test data\n",
    "\n",
    "t, _, _ = ds.train_and_test(train_df, test_df)\n",
    "\n",
    "print()\n",
    "print(t.get_feature_importance().head(5))"
   ]
  },
  {
   "cell_type": "markdown",
   "id": "d45ba4ef-8ace-458e-a31a-83cad8a10fa2",
   "metadata": {},
   "source": [
    "### Missing Value Corruption\n",
    "\n",
    "First, we corrupt just 5% of the test data for the `cmc` sensor group. Note how much worse the test performance is!"
   ]
  },
  {
   "cell_type": "code",
   "execution_count": 6,
   "id": "1907e4ec-b179-4a3a-8b4e-10b9d1580eae",
   "metadata": {},
   "outputs": [],
   "source": [
    "corruption_results = []"
   ]
  },
  {
   "cell_type": "code",
   "execution_count": 7,
   "id": "bc03f0e2-e877-455f-a88f-6697e6226b13",
   "metadata": {
    "tags": []
   },
   "outputs": [
    {
     "name": "stdout",
     "output_type": "stream",
     "text": [
      "Train MSE for partition 2018_35: 4.074896379948685\n",
      "Test MSE for partition 2018_36: 7.877114694141433\n",
      "\n",
      "                              feature  importance\n",
      "6            cmc_0_0_0_2_interpolated   19.153059\n",
      "89   gfs_temperature_sea_interpolated   15.313095\n",
      "87                gfs_temperature_sea   12.796032\n",
      "109               wrf_t2_interpolated   11.163675\n",
      "8                         cmc_0_0_0_2    6.928703\n"
     ]
    }
   ],
   "source": [
    "corrupted_test_df, _ = ds.corrupt_null(test_df, \"cmc\", corruption_rate=0.05)\n",
    "\n",
    "t, train_mse, test_mse = ds.train_and_test(train_df, corrupted_test_df)\n",
    "print()\n",
    "print(t.get_feature_importance().head(5))\n",
    "\n",
    "corruption_results.append({\"name\": \"missing_value_0.05\", \"train_mse\": train_mse, \"test_mse\": test_mse})"
   ]
  },
  {
   "cell_type": "markdown",
   "id": "69f3526c-be23-440e-8346-f053b82d7c09",
   "metadata": {},
   "source": [
    "It gets even worse when increasing the corruption rate to 20%."
   ]
  },
  {
   "cell_type": "code",
   "execution_count": 8,
   "id": "9f45f9f3-a4c9-48f8-9d64-1439efe2b2f7",
   "metadata": {
    "tags": []
   },
   "outputs": [
    {
     "name": "stdout",
     "output_type": "stream",
     "text": [
      "Train MSE for partition 2018_35: 4.074896379948685\n",
      "Test MSE for partition 2018_36: 17.12374905616156\n",
      "\n",
      "                              feature  importance\n",
      "6            cmc_0_0_0_2_interpolated   19.153059\n",
      "89   gfs_temperature_sea_interpolated   15.313095\n",
      "87                gfs_temperature_sea   12.796032\n",
      "109               wrf_t2_interpolated   11.163675\n",
      "8                         cmc_0_0_0_2    6.928703\n"
     ]
    }
   ],
   "source": [
    "corrupted_test_df, _ = ds.corrupt_null(test_df, \"cmc\", corruption_rate=0.20)\n",
    "\n",
    "t, train_mse, test_mse = ds.train_and_test(train_df, corrupted_test_df)\n",
    "print()\n",
    "print(t.get_feature_importance().head(5))\n",
    "\n",
    "corruption_results.append({\"name\": \"missing_value_0.2\", \"train_mse\": train_mse, \"test_mse\": test_mse})"
   ]
  },
  {
   "cell_type": "markdown",
   "id": "d9a04bcd-a810-4acf-a308-ac34b472cb97",
   "metadata": {},
   "source": [
    "Instead of corrupting the test data, maybe we corrupt the train data. Note how the important feature values change, and the test performance is still worse than when training on clean data!"
   ]
  },
  {
   "cell_type": "code",
   "execution_count": 9,
   "id": "41ae24e9-9fe2-4df9-b6ea-5407806b44c3",
   "metadata": {
    "tags": []
   },
   "outputs": [
    {
     "name": "stdout",
     "output_type": "stream",
     "text": [
      "Train MSE for partition 2018_35: 4.461238723471863\n",
      "Test MSE for partition 2018_36: 5.086744083392213\n",
      "\n",
      "                              feature  importance\n",
      "89   gfs_temperature_sea_interpolated   32.116077\n",
      "99                             wrf_t2   11.663983\n",
      "109               wrf_t2_interpolated   11.081401\n",
      "87                gfs_temperature_sea   10.171075\n",
      "90           gfs_temperature_sea_next    6.580485\n"
     ]
    }
   ],
   "source": [
    "corrupted_train_df, _ = ds.corrupt_null(train_df, \"cmc\", corruption_rate=0.2)\n",
    "\n",
    "t, train_mse, test_mse = ds.train_and_test(corrupted_train_df, test_df)\n",
    "print()\n",
    "print(t.get_feature_importance().head(5))"
   ]
  },
  {
   "cell_type": "markdown",
   "id": "0b19ed02-2822-4ce5-8853-21201c33fea0",
   "metadata": {},
   "source": [
    "### Violating Nonnegativity\n",
    "\n",
    "We corrupt 5% of the test data for the `cmc` sensor group. Test performance is similarly bad."
   ]
  },
  {
   "cell_type": "code",
   "execution_count": 10,
   "id": "0372a02d-2c8f-42d5-870a-2f80424b51e6",
   "metadata": {
    "tags": []
   },
   "outputs": [
    {
     "name": "stdout",
     "output_type": "stream",
     "text": [
      "Corrupted columns: ['cmc_0_0_0_1000', 'cmc_0_0_0_2_interpolated', 'cmc_0_0_0_2_next', 'cmc_0_0_0_2', 'cmc_0_0_0_500', 'cmc_0_0_0_700', 'cmc_0_0_0_850', 'cmc_0_0_0_925', 'cmc_0_0_6_2', 'cmc_0_0_7_1000', 'cmc_0_0_7_2', 'cmc_0_0_7_500', 'cmc_0_0_7_700', 'cmc_0_0_7_850', 'cmc_0_0_7_925', 'cmc_0_1_0_0', 'cmc_0_1_11_0', 'cmc_0_1_65_0', 'cmc_0_1_66_0', 'cmc_0_1_67_0', 'cmc_0_1_68_0', 'cmc_0_1_7_0', 'cmc_0_3_0_0', 'cmc_0_3_0_0_next', 'cmc_0_3_1_0', 'cmc_0_3_5_500', 'cmc_0_3_5_700', 'cmc_0_3_5_850', 'cmc_0_3_5_925', 'cmc_0_6_1_0', 'cmc_available', 'cmc_horizon_h', 'cmc_timedelta_s', 'cmc_0_1_65_0_next', 'cmc_0_1_66_0_next', 'cmc_0_1_67_0_next', 'cmc_0_1_68_0_grad', 'cmc_0_1_68_0_next']\n",
      "\n",
      "Train MSE for partition 2018_35: 4.074896379948685\n",
      "Test MSE for partition 2018_36: 7.562930524734463\n",
      "\n",
      "                              feature  importance\n",
      "6            cmc_0_0_0_2_interpolated   19.153059\n",
      "89   gfs_temperature_sea_interpolated   15.313095\n",
      "87                gfs_temperature_sea   12.796032\n",
      "109               wrf_t2_interpolated   11.163675\n",
      "8                         cmc_0_0_0_2    6.928703\n"
     ]
    }
   ],
   "source": [
    "corrupted_test_df, corrupted_cols = ds.corrupt_nonnegative(test_df, \"cmc\", corruption_rate=0.05)\n",
    "\n",
    "print(f\"Corrupted columns: {corrupted_cols}\")\n",
    "print()\n",
    "\n",
    "t, train_mse, test_mse = ds.train_and_test(train_df, corrupted_test_df)\n",
    "print()\n",
    "print(t.get_feature_importance().head(5))\n",
    "\n",
    "corruption_results.append({\"name\": \"violate_nonnegative\", \"train_mse\": train_mse, \"test_mse\": test_mse})"
   ]
  },
  {
   "cell_type": "markdown",
   "id": "a27df109-a32c-491f-b5e9-cc98763ac167",
   "metadata": {},
   "source": [
    "### Violating Type Checks\n",
    "\n",
    "We corrupt 5% of the test data for the `cmc` sensor group. Test performance is not as bad."
   ]
  },
  {
   "cell_type": "code",
   "execution_count": 11,
   "id": "958e5347-71c1-4c27-aee5-5fcbe29b48df",
   "metadata": {
    "tags": []
   },
   "outputs": [
    {
     "name": "stdout",
     "output_type": "stream",
     "text": [
      "Corrupted columns: ['cmc_0_6_1_0', 'cmc_available', 'cmc_horizon_h', 'cmc_timedelta_s', 'cmc_0_1_68_0_grad']\n",
      "\n",
      "Train MSE for partition 2018_35: 4.074896379948685\n",
      "Test MSE for partition 2018_36: 4.798933928270245\n",
      "\n",
      "                              feature  importance\n",
      "6            cmc_0_0_0_2_interpolated   19.153059\n",
      "89   gfs_temperature_sea_interpolated   15.313095\n",
      "87                gfs_temperature_sea   12.796032\n",
      "109               wrf_t2_interpolated   11.163675\n",
      "8                         cmc_0_0_0_2    6.928703\n"
     ]
    }
   ],
   "source": [
    "corrupted_test_df, corrupted_cols = ds.corrupt_typecheck(test_df, \"cmc\", corruption_rate=0.05)\n",
    "\n",
    "print(f\"Corrupted columns: {corrupted_cols}\")\n",
    "print()\n",
    "\n",
    "t, train_mse, test_mse = ds.train_and_test(train_df, corrupted_test_df)\n",
    "print()\n",
    "print(t.get_feature_importance().head(5))\n",
    "\n",
    "corruption_results.append({\"name\": \"violate_typecheck\", \"train_mse\": train_mse, \"test_mse\": test_mse})"
   ]
  },
  {
   "cell_type": "markdown",
   "id": "8da965f0-80a5-481a-bfe5-85fc6f90c88f",
   "metadata": {},
   "source": [
    "## Subtle Corruptions\n",
    "\n",
    "This is by no means an exhaustive list, but we will explore what the following corruptions do to the model performance:\n",
    "\n",
    "* Changing units (e.g., wind speed in m/s to km/s)\n",
    "* For a row, average values within a sensor group (e.g., make all gfs sensors return the same value)\n",
    "* Pin a value of a sensor for a fraction of rows (e.g., set climate_pressure to the 5th percentile)"
   ]
  },
  {
   "cell_type": "markdown",
   "id": "5a1c9d3e-9f5a-49bd-9977-d6a893f856a7",
   "metadata": {},
   "source": [
    "### Changing `gfs_temperature` from Celsius to Fahrenheit\n",
    "\n",
    "Suppose the units corruption changes the `gfs_temperature` sensor values from Celsius to Fahrenheit for 5% of rows. We can see that MSE gets noticeably worse."
   ]
  },
  {
   "cell_type": "code",
   "execution_count": 12,
   "id": "90a91401-1e92-4bdf-8e94-447f3a873cf0",
   "metadata": {},
   "outputs": [
    {
     "name": "stdout",
     "output_type": "stream",
     "text": [
      "Corrupted columns: ['gfs_temperature_10000', 'gfs_temperature_15000', 'gfs_temperature_20000', 'gfs_temperature_25000', 'gfs_temperature_30000', 'gfs_temperature_35000', 'gfs_temperature_40000', 'gfs_temperature_45000', 'gfs_temperature_5000', 'gfs_temperature_50000', 'gfs_temperature_55000', 'gfs_temperature_60000', 'gfs_temperature_65000', 'gfs_temperature_7000', 'gfs_temperature_70000', 'gfs_temperature_75000', 'gfs_temperature_80000', 'gfs_temperature_85000', 'gfs_temperature_90000', 'gfs_temperature_92500', 'gfs_temperature_95000', 'gfs_temperature_97500', 'gfs_temperature_sea', 'gfs_temperature_sea_grad', 'gfs_temperature_sea_interpolated', 'gfs_temperature_sea_next']\n",
      "\n",
      "Train MSE for partition 2018_35: 4.074896379948685\n",
      "Test MSE for partition 2018_36: 6.785072725642688\n",
      "\n",
      "                              feature  importance\n",
      "6            cmc_0_0_0_2_interpolated   19.153059\n",
      "89   gfs_temperature_sea_interpolated   15.313095\n",
      "87                gfs_temperature_sea   12.796032\n",
      "109               wrf_t2_interpolated   11.163675\n",
      "8                         cmc_0_0_0_2    6.928703\n"
     ]
    }
   ],
   "source": [
    "corrupted_test_df, corrupted_cols = ds.corrupt_units(test_df, \"gfs_temperature\", corruption_rate=0.05)\n",
    "\n",
    "print(f\"Corrupted columns: {corrupted_cols}\")\n",
    "print()\n",
    "\n",
    "t, train_mse, test_mse = ds.train_and_test(train_df, corrupted_test_df)\n",
    "print()\n",
    "print(t.get_feature_importance().head(5))\n",
    "\n",
    "corruption_results.append({\"name\": \"corrupt_units\", \"train_mse\": train_mse, \"test_mse\": test_mse})"
   ]
  },
  {
   "cell_type": "markdown",
   "id": "27ae62aa-d894-4f01-b4fe-acf119699ed2",
   "metadata": {},
   "source": [
    "### Averaging sensor values for some rows\n",
    "\n",
    "Suppose we average `gfs` sensor values for 5% of rows. MSE also gets noticeably worse."
   ]
  },
  {
   "cell_type": "code",
   "execution_count": 13,
   "id": "6501f629-80a3-4777-8fd8-f5d8a7251fc9",
   "metadata": {
    "tags": []
   },
   "outputs": [
    {
     "name": "stdout",
     "output_type": "stream",
     "text": [
      "Corrupted columns: ['gfs_2m_dewpoint', 'gfs_a_vorticity', 'gfs_available', 'gfs_cloudness', 'gfs_clouds_sea', 'gfs_horizon_h', 'gfs_humidity', 'gfs_precipitable_water', 'gfs_precipitations', 'gfs_pressure', 'gfs_r_velocity', 'gfs_soil_temperature', 'gfs_soil_temperature_available', 'gfs_temperature_10000', 'gfs_temperature_15000', 'gfs_temperature_20000', 'gfs_temperature_25000', 'gfs_temperature_30000', 'gfs_temperature_35000', 'gfs_temperature_40000', 'gfs_temperature_45000', 'gfs_temperature_5000', 'gfs_temperature_50000', 'gfs_temperature_55000', 'gfs_temperature_60000', 'gfs_temperature_65000', 'gfs_temperature_7000', 'gfs_temperature_70000', 'gfs_temperature_75000', 'gfs_temperature_80000', 'gfs_temperature_85000', 'gfs_temperature_90000', 'gfs_temperature_92500', 'gfs_temperature_95000', 'gfs_temperature_97500', 'gfs_temperature_sea', 'gfs_temperature_sea_grad', 'gfs_temperature_sea_interpolated', 'gfs_temperature_sea_next', 'gfs_timedelta_s', 'gfs_total_clouds_cover_high', 'gfs_total_clouds_cover_low', 'gfs_total_clouds_cover_middle', 'gfs_u_wind', 'gfs_v_wind', 'gfs_wind_speed', 'gfs_2m_dewpoint_grad', 'gfs_2m_dewpoint_next', 'gfs_total_clouds_cover_low_grad', 'gfs_total_clouds_cover_low_next']\n",
      "\n",
      "Train MSE for partition 2018_35: 4.074896379948685\n",
      "Test MSE for partition 2018_36: 6.491113315985011\n",
      "\n",
      "                              feature  importance\n",
      "6            cmc_0_0_0_2_interpolated   19.153059\n",
      "89   gfs_temperature_sea_interpolated   15.313095\n",
      "87                gfs_temperature_sea   12.796032\n",
      "109               wrf_t2_interpolated   11.163675\n",
      "8                         cmc_0_0_0_2    6.928703\n"
     ]
    }
   ],
   "source": [
    "corrupted_test_df, corrupted_cols = ds.corrupt_average(test_df, \"gfs\", corruption_rate=0.05)\n",
    "\n",
    "print(f\"Corrupted columns: {corrupted_cols}\")\n",
    "print()\n",
    "\n",
    "t, train_mse, test_mse = ds.train_and_test(train_df, corrupted_test_df)\n",
    "print()\n",
    "print(t.get_feature_importance().head(5))\n",
    "\n",
    "corruption_results.append({\"name\": \"average_values\", \"train_mse\": train_mse, \"test_mse\": test_mse})"
   ]
  },
  {
   "cell_type": "markdown",
   "id": "295085d2-7a81-43d5-a2ed-637c5a8d26ac",
   "metadata": {},
   "source": [
    "### Pinned Value Corruption\n",
    "\n",
    "Suppose we pin `gfs` sensor values to 1.00 for 5% of rows. MSE increases still, but not as much as the other corruptions."
   ]
  },
  {
   "cell_type": "code",
   "execution_count": 14,
   "id": "93fa2284-edcf-4bb6-b7bb-8e7051127760",
   "metadata": {
    "tags": []
   },
   "outputs": [
    {
     "name": "stdout",
     "output_type": "stream",
     "text": [
      "Corrupted columns: ['gfs_2m_dewpoint', 'gfs_a_vorticity', 'gfs_available', 'gfs_cloudness', 'gfs_clouds_sea', 'gfs_horizon_h', 'gfs_humidity', 'gfs_precipitable_water', 'gfs_precipitations', 'gfs_pressure', 'gfs_r_velocity', 'gfs_soil_temperature', 'gfs_soil_temperature_available', 'gfs_temperature_10000', 'gfs_temperature_15000', 'gfs_temperature_20000', 'gfs_temperature_25000', 'gfs_temperature_30000', 'gfs_temperature_35000', 'gfs_temperature_40000', 'gfs_temperature_45000', 'gfs_temperature_5000', 'gfs_temperature_50000', 'gfs_temperature_55000', 'gfs_temperature_60000', 'gfs_temperature_65000', 'gfs_temperature_7000', 'gfs_temperature_70000', 'gfs_temperature_75000', 'gfs_temperature_80000', 'gfs_temperature_85000', 'gfs_temperature_90000', 'gfs_temperature_92500', 'gfs_temperature_95000', 'gfs_temperature_97500', 'gfs_temperature_sea', 'gfs_temperature_sea_grad', 'gfs_temperature_sea_interpolated', 'gfs_temperature_sea_next', 'gfs_timedelta_s', 'gfs_total_clouds_cover_high', 'gfs_total_clouds_cover_low', 'gfs_total_clouds_cover_middle', 'gfs_u_wind', 'gfs_v_wind', 'gfs_wind_speed', 'gfs_2m_dewpoint_grad', 'gfs_2m_dewpoint_next', 'gfs_total_clouds_cover_low_grad', 'gfs_total_clouds_cover_low_next']\n",
      "\n",
      "Train MSE for partition 2018_35: 4.074896379948685\n",
      "Test MSE for partition 2018_36: 5.409439848352437\n",
      "\n",
      "                              feature  importance\n",
      "6            cmc_0_0_0_2_interpolated   19.153059\n",
      "89   gfs_temperature_sea_interpolated   15.313095\n",
      "87                gfs_temperature_sea   12.796032\n",
      "109               wrf_t2_interpolated   11.163675\n",
      "8                         cmc_0_0_0_2    6.928703\n"
     ]
    }
   ],
   "source": [
    "corrupted_test_df, corrupted_cols = ds.corrupt_pinned(test_df, \"gfs\", corruption_rate=0.05, pinned_value=1.00)\n",
    "\n",
    "print(f\"Corrupted columns: {corrupted_cols}\")\n",
    "print()\n",
    "\n",
    "t, train_mse, test_mse = ds.train_and_test(train_df, corrupted_test_df)\n",
    "print()\n",
    "print(t.get_feature_importance().head(5))\n",
    "\n",
    "corruption_results.append({\"name\": \"pin_values\", \"train_mse\": train_mse, \"test_mse\": test_mse})"
   ]
  },
  {
   "cell_type": "markdown",
   "id": "bdffa258-3b6f-40aa-a722-372224ce3bbb",
   "metadata": {},
   "source": [
    "## Takeaways\n",
    "\n",
    "How can we prevent against the corruptions demonstrated above? We'll want to run various data validation methods. The challenge is having methods work (1) _without knowledge of_ the specific corruption, since we can't anticipate and enumerate all possible corruptions, and (2) flag all corruptions precisely (i.e., no false positives). We'll explore this later."
   ]
  },
  {
   "cell_type": "code",
   "execution_count": 15,
   "id": "ebe4d79e-096f-4dba-bd6f-320a5353da30",
   "metadata": {},
   "outputs": [
    {
     "data": {
      "image/png": "[encoded data removed]",
      "text/plain": [
       "<Figure size 640x480 with 1 Axes>"
      ]
     },
     "metadata": {},
     "output_type": "display_data"
    }
   ],
   "source": [
    "import matplotlib.pyplot as plt\n",
    "\n",
    "results_df = pd.DataFrame(corruption_results)\n",
    "# Log results to W&B table\n",
    "run.log({\"corruption_results\": wandb.Table(dataframe=results_df)})\n",
    "plt.plot(results_df[\"name\"], results_df[\"train_mse\"], label=\"train_mse\")\n",
    "plt.plot(results_df[\"name\"], results_df[\"test_mse\"], label=\"test_mse\")\n",
    "plt.xticks(rotation=90)\n",
    "plt.legend()\n",
    "plt.title(\"MSEs for different corruptions\")\n",
    "# Log plot to W&B\n",
    "run.log({\"corruption_plot\": wandb.Image(plt)})\n",
    "plt.show()"
   ]
  },
  {
   "cell_type": "code",
   "execution_count": 16,
   "id": "2df8a42c-f4e3-4775-bcdd-867748454ca9",
   "metadata": {},
   "outputs": [
    {
     "data": {
      "text/html": [
       "Waiting for W&B process to finish... <strong style=\"color:green\">(success).</strong>"
      ],
      "text/plain": [
       "<IPython.core.display.HTML object>"
      ]
     },
     "metadata": {},
     "output_type": "display_data"
    },
    {
     "data": {
      "application/vnd.jupyter.widget-view+json": {
       "model_id": "1542bb2af1d947b480336b8efc3ea3a9",
       "version_major": 2,
       "version_minor": 0
      },
      "text/plain": [
       "VBox(children=(Label(value='0.029 MB of 0.029 MB uploaded (0.000 MB deduped)\\r'), FloatProgress(value=1.0, max…"
      ]
     },
     "metadata": {},
     "output_type": "display_data"
    },
    {
     "data": {
      "text/html": [
       " View run <strong style=\"color:#cdcd00\">elegant-rancor-27</strong> at: <a href='https://wandb.ai/nnprov/ml-dataval-tutorial/runs/jxsx8zag' target=\"_blank\">https://wandb.ai/nnprov/ml-dataval-tutorial/runs/jxsx8zag</a><br/>Synced 6 W&B file(s), 2 media file(s), 1 artifact file(s) and 0 other file(s)"
      ],
      "text/plain": [
       "<IPython.core.display.HTML object>"
      ]
     },
     "metadata": {},
     "output_type": "display_data"
    }
   ],
   "source": [
    "# We can finish now the W&B run\n",
    "run.finish()"
   ]
  },
  {
   "cell_type": "code",
   "execution_count": null,
   "id": "23ebe5c8-f4a0-4108-bb63-460c070bd847",
   "metadata": {},
   "outputs": [],
   "source": []
  }
 ],
 "metadata": {
  "kernelspec": {
   "display_name": "Python 3 (ipykernel)",
   "language": "python",
   "name": "python3"
  },
  "language_info": {
   "codemirror_mode": {
    "name": "ipython",
    "version": 3
   },
   "file_extension": ".py",
   "mimetype": "text/x-python",
   "name": "python",
   "nbconvert_exporter": "python",
   "pygments_lexer": "ipython3",
   "version": "3.8.16"
  }
 },
 "nbformat": 4,
 "nbformat_minor": 5
}
