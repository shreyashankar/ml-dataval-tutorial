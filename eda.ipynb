{
 "cells": [
  {
   "cell_type": "code",
   "execution_count": 1,
   "id": "1856d50e-0662-4d77-a9b5-a57f71c1017d",
   "metadata": {
    "tags": []
   },
   "outputs": [],
   "source": [
    "%load_ext autoreload\n",
    "%autoreload 2"
   ]
  },
  {
   "cell_type": "code",
   "execution_count": 118,
   "id": "75ea2d85-e181-46a5-9306-6e93d94bcfea",
   "metadata": {
    "tags": []
   },
   "outputs": [],
   "source": [
    "from dataval.dataset import WeatherDataset\n",
    "from dataval.plot import violinplot\n",
    "from dataval.train import Trainer\n",
    "\n",
    "import matplotlib\n",
    "import os\n",
    "import pandas as pd\n",
    "import seaborn as sns"
   ]
  },
  {
   "cell_type": "code",
   "execution_count": 123,
   "id": "1bd31fc5-e397-4f71-b813-a59907380cf3",
   "metadata": {
    "tags": []
   },
   "outputs": [],
   "source": [
    "ds = WeatherDataset(os.path.join(os.getcwd(), \"canonical-partitioned-dataset\"))"
   ]
  },
  {
   "cell_type": "markdown",
   "id": "9b6f6483-c8c0-45c1-9cf7-71caeaecba9d",
   "metadata": {
    "tags": []
   },
   "source": [
    "# Explore Data\n",
    "\n",
    "We want to print statistics about the dataset that might help us create a model. Appendix C.2 has the description of features: https://arxiv.org/pdf/2107.07455.pdf\n",
    "\n",
    "First, we look at the first partition."
   ]
  },
  {
   "cell_type": "code",
   "execution_count": 93,
   "id": "92a5d7be-01f4-46b1-9bad-1ebc13893f2d",
   "metadata": {
    "tags": []
   },
   "outputs": [],
   "source": [
    "!pip install scikit-learn --quiet"
   ]
  },
  {
   "cell_type": "code",
   "execution_count": 124,
   "id": "3a889c6f-8fb0-431d-b600-bd76522c9e81",
   "metadata": {
    "tags": []
   },
   "outputs": [
    {
     "data": {
      "text/html": [
       "<div>\n",
       "<style scoped>\n",
       "    .dataframe tbody tr th:only-of-type {\n",
       "        vertical-align: middle;\n",
       "    }\n",
       "\n",
       "    .dataframe tbody tr th {\n",
       "        vertical-align: top;\n",
       "    }\n",
       "\n",
       "    .dataframe thead th {\n",
       "        text-align: right;\n",
       "    }\n",
       "</style>\n",
       "<table border=\"1\" class=\"dataframe\">\n",
       "  <thead>\n",
       "    <tr style=\"text-align: right;\">\n",
       "      <th></th>\n",
       "      <th>fact_time</th>\n",
       "      <th>fact_latitude</th>\n",
       "      <th>fact_longitude</th>\n",
       "      <th>fact_temperature</th>\n",
       "      <th>fact_cwsm_class</th>\n",
       "      <th>climate</th>\n",
       "      <th>topography_bathymetry</th>\n",
       "      <th>sun_elevation</th>\n",
       "      <th>climate_temperature</th>\n",
       "      <th>climate_pressure</th>\n",
       "      <th>...</th>\n",
       "      <th>cmc_0_1_66_0_next</th>\n",
       "      <th>cmc_0_1_67_0_grad</th>\n",
       "      <th>cmc_0_1_67_0_next</th>\n",
       "      <th>cmc_0_1_68_0_grad</th>\n",
       "      <th>cmc_0_1_68_0_next</th>\n",
       "      <th>gfs_2m_dewpoint_grad</th>\n",
       "      <th>gfs_2m_dewpoint_next</th>\n",
       "      <th>gfs_total_clouds_cover_low_grad</th>\n",
       "      <th>gfs_total_clouds_cover_low_next</th>\n",
       "      <th>year_month</th>\n",
       "    </tr>\n",
       "  </thead>\n",
       "  <tbody>\n",
       "    <tr>\n",
       "      <th>0</th>\n",
       "      <td>2018-09-01</td>\n",
       "      <td>31.098301</td>\n",
       "      <td>61.543900</td>\n",
       "      <td>24.0</td>\n",
       "      <td>0.0</td>\n",
       "      <td>dry</td>\n",
       "      <td>482.0</td>\n",
       "      <td>-20.096423</td>\n",
       "      <td>27.061429</td>\n",
       "      <td>712.391668</td>\n",
       "      <td>...</td>\n",
       "      <td>0.00000</td>\n",
       "      <td>0.0</td>\n",
       "      <td>0.0</td>\n",
       "      <td>0.0</td>\n",
       "      <td>0.0</td>\n",
       "      <td>-0.669403</td>\n",
       "      <td>-1.519385</td>\n",
       "      <td>0.0</td>\n",
       "      <td>0.0</td>\n",
       "      <td>2018_09</td>\n",
       "    </tr>\n",
       "    <tr>\n",
       "      <th>1</th>\n",
       "      <td>2018-09-01</td>\n",
       "      <td>6.577370</td>\n",
       "      <td>3.321160</td>\n",
       "      <td>25.0</td>\n",
       "      <td>10.0</td>\n",
       "      <td>tropical</td>\n",
       "      <td>25.0</td>\n",
       "      <td>-76.180885</td>\n",
       "      <td>23.630714</td>\n",
       "      <td>755.882179</td>\n",
       "      <td>...</td>\n",
       "      <td>0.00000</td>\n",
       "      <td>0.0</td>\n",
       "      <td>0.0</td>\n",
       "      <td>0.0</td>\n",
       "      <td>0.0</td>\n",
       "      <td>0.030609</td>\n",
       "      <td>21.980615</td>\n",
       "      <td>6.0</td>\n",
       "      <td>7.0</td>\n",
       "      <td>2018_09</td>\n",
       "    </tr>\n",
       "    <tr>\n",
       "      <th>2</th>\n",
       "      <td>2018-09-01</td>\n",
       "      <td>43.080000</td>\n",
       "      <td>77.060000</td>\n",
       "      <td>6.0</td>\n",
       "      <td>0.0</td>\n",
       "      <td>mild temperate</td>\n",
       "      <td>3193.0</td>\n",
       "      <td>-4.649861</td>\n",
       "      <td>6.286429</td>\n",
       "      <td>518.198685</td>\n",
       "      <td>...</td>\n",
       "      <td>2.73922</td>\n",
       "      <td>0.0</td>\n",
       "      <td>0.0</td>\n",
       "      <td>0.0</td>\n",
       "      <td>0.0</td>\n",
       "      <td>9.100006</td>\n",
       "      <td>0.950006</td>\n",
       "      <td>0.0</td>\n",
       "      <td>0.0</td>\n",
       "      <td>2018_09</td>\n",
       "    </tr>\n",
       "    <tr>\n",
       "      <th>3</th>\n",
       "      <td>2018-09-01</td>\n",
       "      <td>-66.551944</td>\n",
       "      <td>93.014722</td>\n",
       "      <td>-17.0</td>\n",
       "      <td>20.0</td>\n",
       "      <td>tropical</td>\n",
       "      <td>-18.0</td>\n",
       "      <td>-5.075102</td>\n",
       "      <td>-13.020000</td>\n",
       "      <td>727.109700</td>\n",
       "      <td>...</td>\n",
       "      <td>0.02644</td>\n",
       "      <td>0.0</td>\n",
       "      <td>0.0</td>\n",
       "      <td>0.0</td>\n",
       "      <td>0.0</td>\n",
       "      <td>-1.199997</td>\n",
       "      <td>-37.650000</td>\n",
       "      <td>0.0</td>\n",
       "      <td>0.0</td>\n",
       "      <td>2018_09</td>\n",
       "    </tr>\n",
       "    <tr>\n",
       "      <th>4</th>\n",
       "      <td>2018-09-01</td>\n",
       "      <td>38.133900</td>\n",
       "      <td>46.235001</td>\n",
       "      <td>22.0</td>\n",
       "      <td>0.0</td>\n",
       "      <td>dry</td>\n",
       "      <td>1347.0</td>\n",
       "      <td>-27.818582</td>\n",
       "      <td>18.227857</td>\n",
       "      <td>631.498268</td>\n",
       "      <td>...</td>\n",
       "      <td>0.00000</td>\n",
       "      <td>0.0</td>\n",
       "      <td>0.0</td>\n",
       "      <td>0.0</td>\n",
       "      <td>0.0</td>\n",
       "      <td>-0.600006</td>\n",
       "      <td>2.350000</td>\n",
       "      <td>0.0</td>\n",
       "      <td>0.0</td>\n",
       "      <td>2018_09</td>\n",
       "    </tr>\n",
       "  </tbody>\n",
       "</table>\n",
       "<p>5 rows × 130 columns</p>\n",
       "</div>"
      ],
      "text/plain": [
       "   fact_time  fact_latitude  fact_longitude  fact_temperature  \\\n",
       "0 2018-09-01      31.098301       61.543900              24.0   \n",
       "1 2018-09-01       6.577370        3.321160              25.0   \n",
       "2 2018-09-01      43.080000       77.060000               6.0   \n",
       "3 2018-09-01     -66.551944       93.014722             -17.0   \n",
       "4 2018-09-01      38.133900       46.235001              22.0   \n",
       "\n",
       "   fact_cwsm_class         climate  topography_bathymetry  sun_elevation  \\\n",
       "0              0.0             dry                  482.0     -20.096423   \n",
       "1             10.0        tropical                   25.0     -76.180885   \n",
       "2              0.0  mild temperate                 3193.0      -4.649861   \n",
       "3             20.0        tropical                  -18.0      -5.075102   \n",
       "4              0.0             dry                 1347.0     -27.818582   \n",
       "\n",
       "   climate_temperature  climate_pressure  ...  cmc_0_1_66_0_next  \\\n",
       "0            27.061429        712.391668  ...            0.00000   \n",
       "1            23.630714        755.882179  ...            0.00000   \n",
       "2             6.286429        518.198685  ...            2.73922   \n",
       "3           -13.020000        727.109700  ...            0.02644   \n",
       "4            18.227857        631.498268  ...            0.00000   \n",
       "\n",
       "   cmc_0_1_67_0_grad  cmc_0_1_67_0_next  cmc_0_1_68_0_grad  cmc_0_1_68_0_next  \\\n",
       "0                0.0                0.0                0.0                0.0   \n",
       "1                0.0                0.0                0.0                0.0   \n",
       "2                0.0                0.0                0.0                0.0   \n",
       "3                0.0                0.0                0.0                0.0   \n",
       "4                0.0                0.0                0.0                0.0   \n",
       "\n",
       "   gfs_2m_dewpoint_grad  gfs_2m_dewpoint_next  \\\n",
       "0             -0.669403             -1.519385   \n",
       "1              0.030609             21.980615   \n",
       "2              9.100006              0.950006   \n",
       "3             -1.199997            -37.650000   \n",
       "4             -0.600006              2.350000   \n",
       "\n",
       "   gfs_total_clouds_cover_low_grad  gfs_total_clouds_cover_low_next  \\\n",
       "0                              0.0                              0.0   \n",
       "1                              6.0                              7.0   \n",
       "2                              0.0                              0.0   \n",
       "3                              0.0                              0.0   \n",
       "4                              0.0                              0.0   \n",
       "\n",
       "   year_month  \n",
       "0     2018_09  \n",
       "1     2018_09  \n",
       "2     2018_09  \n",
       "3     2018_09  \n",
       "4     2018_09  \n",
       "\n",
       "[5 rows x 130 columns]"
      ]
     },
     "execution_count": 124,
     "metadata": {},
     "output_type": "execute_result"
    }
   ],
   "source": [
    "df = ds.load(ds.get_partition_keys()[0])\n",
    "df.head()"
   ]
  },
  {
   "cell_type": "code",
   "execution_count": 125,
   "id": "c4218fa1-6a95-432d-85c4-8d7de4633b0e",
   "metadata": {
    "tags": []
   },
   "outputs": [
    {
     "data": {
      "text/plain": [
       "<Axes: xlabel='fact_temperature', ylabel='fact_time'>"
      ]
     },
     "execution_count": 125,
     "metadata": {},
     "output_type": "execute_result"
    },
    {
     "data": {
      "image/png": "[encoded data removed]",
      "text/plain": [
       "<Figure size 640x480 with 1 Axes>"
      ]
     },
     "metadata": {},
     "output_type": "display_data"
    }
   ],
   "source": [
    "violinplot(df, \"fact_temperature\", \"hour\")"
   ]
  },
  {
   "cell_type": "code",
   "execution_count": 143,
   "id": "ddb23d2f-0c87-455e-8b92-b4141215dcfb",
   "metadata": {
    "tags": []
   },
   "outputs": [
    {
     "name": "stdout",
     "output_type": "stream",
     "text": [
      "Training for 2018_09...\n",
      "0:\tlearn: 6.8206415\ttest: 7.7127120\tbest: 7.7127120 (0)\ttotal: 52.1ms\tremaining: 1m 44s\n",
      "100:\tlearn: 2.1399584\ttest: 2.2738103\tbest: 2.2738103 (100)\ttotal: 4s\tremaining: 1m 15s\n",
      "200:\tlearn: 1.9808462\ttest: 2.1124569\tbest: 2.1124569 (200)\ttotal: 7.96s\tremaining: 1m 11s\n",
      "300:\tlearn: 1.9199533\ttest: 2.0633735\tbest: 2.0633735 (300)\ttotal: 12s\tremaining: 1m 7s\n",
      "400:\tlearn: 1.8767175\ttest: 2.0337403\tbest: 2.0337403 (400)\ttotal: 16s\tremaining: 1m 3s\n",
      "500:\tlearn: 1.8423267\ttest: 2.0127147\tbest: 2.0127147 (500)\ttotal: 20s\tremaining: 59.7s\n",
      "600:\tlearn: 1.8134090\ttest: 1.9947515\tbest: 1.9947515 (600)\ttotal: 23.9s\tremaining: 55.6s\n",
      "700:\tlearn: 1.7886378\ttest: 1.9823754\tbest: 1.9823754 (700)\ttotal: 27.7s\tremaining: 51.3s\n",
      "800:\tlearn: 1.7666381\ttest: 1.9722373\tbest: 1.9722373 (800)\ttotal: 31.4s\tremaining: 47s\n",
      "900:\tlearn: 1.7469773\ttest: 1.9631982\tbest: 1.9631982 (900)\ttotal: 35.2s\tremaining: 43s\n",
      "1000:\tlearn: 1.7283548\ttest: 1.9559612\tbest: 1.9559612 (1000)\ttotal: 39.1s\tremaining: 39s\n",
      "1100:\tlearn: 1.7121286\ttest: 1.9497771\tbest: 1.9497771 (1100)\ttotal: 43.1s\tremaining: 35.2s\n",
      "1200:\tlearn: 1.6974788\ttest: 1.9441787\tbest: 1.9441787 (1200)\ttotal: 46.9s\tremaining: 31.2s\n",
      "1300:\tlearn: 1.6835947\ttest: 1.9392166\tbest: 1.9392166 (1300)\ttotal: 50.7s\tremaining: 27.3s\n",
      "1400:\tlearn: 1.6708223\ttest: 1.9337600\tbest: 1.9337600 (1400)\ttotal: 54.6s\tremaining: 23.3s\n",
      "1500:\tlearn: 1.6580311\ttest: 1.9292901\tbest: 1.9292901 (1500)\ttotal: 58.5s\tremaining: 19.5s\n",
      "1600:\tlearn: 1.6464116\ttest: 1.9260312\tbest: 1.9260312 (1600)\ttotal: 1m 2s\tremaining: 15.5s\n",
      "1700:\tlearn: 1.6355933\ttest: 1.9222732\tbest: 1.9222732 (1700)\ttotal: 1m 6s\tremaining: 11.6s\n",
      "1800:\tlearn: 1.6255416\ttest: 1.9195365\tbest: 1.9195365 (1800)\ttotal: 1m 9s\tremaining: 7.72s\n",
      "1900:\tlearn: 1.6151004\ttest: 1.9170625\tbest: 1.9170625 (1900)\ttotal: 1m 13s\tremaining: 3.85s\n",
      "1999:\tlearn: 1.6050804\ttest: 1.9143619\tbest: 1.9143619 (1999)\ttotal: 1m 17s\tremaining: 0us\n",
      "\n",
      "bestTest = 1.914361871\n",
      "bestIteration = 1999\n",
      "\n",
      "\tTrain MSE: 2.793984728817982\n",
      "\tMSE for 2018_10: 3.9494585039182413\n",
      "\tMSE for 2018_11: 4.798590609564355\n",
      "\tMSE for 2018_12: 5.920133361218656\n",
      "\tMSE for 2019_01: 7.051882798880466\n",
      "\tMSE for 2019_02: 8.565399782587617\n",
      "\tMSE for 2019_03: 5.716279967220277\n",
      "\tMSE for 2019_04: 4.403465834624102\n",
      "\tMSE for 2019_12: 8.034935536135718\n"
     ]
    }
   ],
   "source": [
    "first_iter = True\n",
    "\n",
    "for train_df, test_df in ds.iterate():\n",
    "    X_train, y_train = ds.split_feature_label(train_df)\n",
    "    \n",
    "    if first_iter:\n",
    "        catboost_hparams = {\"depth\": 8, \"iterations\": 2000, \"learning_rate\": 0.03}\n",
    "        t = Trainer(catboost_hparams)\n",
    "        print(f\"Training for {ds.get_partition_key(train_df)}...\")\n",
    "        t.fit(X_train, y_train, verbose=100)\n",
    "        first_iter = False\n",
    "    \n",
    "        print(f\"\\tTrain MSE: {t.score(X_train, y_train)}\")\n",
    "    \n",
    "    # Evaluate\n",
    "    X_test, y_test = ds.split_feature_label(test_df)\n",
    "    print(f\"\\tMSE for {ds.get_partition_key(test_df)}: {t.score(X_test, y_test)}\")"
   ]
  },
  {
   "cell_type": "code",
   "execution_count": 150,
   "id": "62c058bb-33c4-46c2-9c43-222137cc9abc",
   "metadata": {
    "tags": []
   },
   "outputs": [
    {
     "data": {
      "text/plain": [
       "feature       0\n",
       "importance    5\n",
       "dtype: int64"
      ]
     },
     "execution_count": 150,
     "metadata": {},
     "output_type": "execute_result"
    }
   ],
   "source": [
    "# How many columns have a 0-valued feature importance\n",
    "\n",
    "(t.getFeatureImportance() == 0).sum()"
   ]
  },
  {
   "cell_type": "code",
   "execution_count": 152,
   "id": "6271a43b-eb4d-4dbb-961b-ecaf8d07438c",
   "metadata": {
    "tags": []
   },
   "outputs": [
    {
     "data": {
      "text/html": [
       "<div>\n",
       "<style scoped>\n",
       "    .dataframe tbody tr th:only-of-type {\n",
       "        vertical-align: middle;\n",
       "    }\n",
       "\n",
       "    .dataframe tbody tr th {\n",
       "        vertical-align: top;\n",
       "    }\n",
       "\n",
       "    .dataframe thead th {\n",
       "        text-align: right;\n",
       "    }\n",
       "</style>\n",
       "<table border=\"1\" class=\"dataframe\">\n",
       "  <thead>\n",
       "    <tr style=\"text-align: right;\">\n",
       "      <th></th>\n",
       "      <th>feature</th>\n",
       "      <th>importance</th>\n",
       "    </tr>\n",
       "  </thead>\n",
       "  <tbody>\n",
       "    <tr>\n",
       "      <th>6</th>\n",
       "      <td>cmc_0_0_0_2_interpolated</td>\n",
       "      <td>19.110930</td>\n",
       "    </tr>\n",
       "    <tr>\n",
       "      <th>89</th>\n",
       "      <td>gfs_temperature_sea_interpolated</td>\n",
       "      <td>14.050829</td>\n",
       "    </tr>\n",
       "    <tr>\n",
       "      <th>109</th>\n",
       "      <td>wrf_t2_interpolated</td>\n",
       "      <td>10.890928</td>\n",
       "    </tr>\n",
       "    <tr>\n",
       "      <th>99</th>\n",
       "      <td>wrf_t2</td>\n",
       "      <td>9.035060</td>\n",
       "    </tr>\n",
       "    <tr>\n",
       "      <th>0</th>\n",
       "      <td>topography_bathymetry</td>\n",
       "      <td>4.574235</td>\n",
       "    </tr>\n",
       "    <tr>\n",
       "      <th>...</th>\n",
       "      <td>...</td>\n",
       "      <td>...</td>\n",
       "    </tr>\n",
       "    <tr>\n",
       "      <th>108</th>\n",
       "      <td>wrf_hail</td>\n",
       "      <td>0.000000</td>\n",
       "    </tr>\n",
       "    <tr>\n",
       "      <th>25</th>\n",
       "      <td>cmc_0_1_68_0</td>\n",
       "      <td>0.000000</td>\n",
       "    </tr>\n",
       "    <tr>\n",
       "      <th>98</th>\n",
       "      <td>wrf_available</td>\n",
       "      <td>0.000000</td>\n",
       "    </tr>\n",
       "    <tr>\n",
       "      <th>54</th>\n",
       "      <td>gfs_available</td>\n",
       "      <td>0.000000</td>\n",
       "    </tr>\n",
       "    <tr>\n",
       "      <th>48</th>\n",
       "      <td>cmc_available</td>\n",
       "      <td>0.000000</td>\n",
       "    </tr>\n",
       "  </tbody>\n",
       "</table>\n",
       "<p>123 rows × 2 columns</p>\n",
       "</div>"
      ],
      "text/plain": [
       "                              feature  importance\n",
       "6            cmc_0_0_0_2_interpolated   19.110930\n",
       "89   gfs_temperature_sea_interpolated   14.050829\n",
       "109               wrf_t2_interpolated   10.890928\n",
       "99                             wrf_t2    9.035060\n",
       "0               topography_bathymetry    4.574235\n",
       "..                                ...         ...\n",
       "108                          wrf_hail    0.000000\n",
       "25                       cmc_0_1_68_0    0.000000\n",
       "98                      wrf_available    0.000000\n",
       "54                      gfs_available    0.000000\n",
       "48                      cmc_available    0.000000\n",
       "\n",
       "[123 rows x 2 columns]"
      ]
     },
     "execution_count": 152,
     "metadata": {},
     "output_type": "execute_result"
    }
   ],
   "source": [
    "t.get_feature_importance()"
   ]
  },
  {
   "cell_type": "code",
   "execution_count": null,
   "id": "2de2c359-dcf5-45bd-924f-e9c183bc37c4",
   "metadata": {},
   "outputs": [],
   "source": []
  }
 ],
 "metadata": {
  "kernelspec": {
   "display_name": "Python 3 (ipykernel)",
   "language": "python",
   "name": "python3"
  },
  "language_info": {
   "codemirror_mode": {
    "name": "ipython",
    "version": 3
   },
   "file_extension": ".py",
   "mimetype": "text/x-python",
   "name": "python",
   "nbconvert_exporter": "python",
   "pygments_lexer": "ipython3",
   "version": "3.10.9"
  }
 },
 "nbformat": 4,
 "nbformat_minor": 5
}
