{
 "cells": [
  {
   "cell_type": "code",
   "execution_count": 1,
   "id": "ec99748c-7b7e-4b94-b2a6-024c43906c5d",
   "metadata": {
    "tags": []
   },
   "outputs": [],
   "source": [
    "%load_ext autoreload\n",
    "%autoreload 2"
   ]
  },
  {
   "cell_type": "code",
   "execution_count": 2,
   "id": "ac45bf86-8c9b-4750-bbc5-d948116fd821",
   "metadata": {
    "tags": []
   },
   "outputs": [
    {
     "name": "stderr",
     "output_type": "stream",
     "text": [
      "Failed to detect the name of this notebook, you can set it manually with the WANDB_NOTEBOOK_NAME environment variable to enable code saving.\n"
     ]
    },
    {
     "data": {
      "text/html": [
       "Syncing run <strong><a href='https://wandb.ai/darek/ml-dataval-tutorial/runs/99rxevj7' target=\"_blank\">stoic-fog-2</a></strong> to <a href='https://wandb.ai/darek/ml-dataval-tutorial' target=\"_blank\">Weights & Biases</a> (<a href='https://wandb.me/run' target=\"_blank\">docs</a>)<br/>"
      ],
      "text/plain": [
       "<IPython.core.display.HTML object>"
      ]
     },
     "metadata": {},
     "output_type": "display_data"
    },
    {
     "data": {
      "text/html": [
       " View run at <a href='https://wandb.ai/darek/ml-dataval-tutorial/runs/99rxevj7' target=\"_blank\">https://wandb.ai/darek/ml-dataval-tutorial/runs/99rxevj7</a>"
      ],
      "text/plain": [
       "<IPython.core.display.HTML object>"
      ]
     },
     "metadata": {},
     "output_type": "display_data"
    }
   ],
   "source": [
    "from dataval.dataset import WeatherDataset\n",
    "from dataval.train import CatBoostTrainer\n",
    "\n",
    "import os\n",
    "import matplotlib.pyplot as plt\n",
    "import pandas as pd\n",
    "import wandb\n",
    "from wandb.integration.catboost import WandbCallback\n",
    "\n",
    "os.environ[\"WANDB_QUIET\"] = \"true\" # Let's keep the output clean\n",
    "\n",
    "# Let's start a new W&B run to track our work\n",
    "run = wandb.init(project=\"ml-dataval-tutorial\")"
   ]
  },
  {
   "cell_type": "markdown",
   "id": "e46faeb0-1dd6-43c1-92e2-2fb28158c45a",
   "metadata": {},
   "source": [
    "# Training Pipelines\n",
    "\n",
    "In this notebook, we load the weather dataset (described in https://arxiv.org/pdf/2107.07455.pdf). We split the dataset into weekly partitions. Then we create 2 pipelines: one that trains a model on the first week & deploys on all following weeks, and another that continually trains & deploys on each consecutive pair of weeks."
   ]
  },
  {
   "cell_type": "code",
   "execution_count": 3,
   "id": "0d9c6600-0dc3-4619-b094-03f0785be53f",
   "metadata": {
    "tags": []
   },
   "outputs": [],
   "source": [
    "# Load dataset\n",
    "\n",
    "ds = WeatherDataset(os.path.join(os.getcwd(), \"canonical-partitioned-dataset\"), sample_frac=0.2)"
   ]
  },
  {
   "cell_type": "markdown",
   "id": "e4257cc4-a48e-4de0-b77c-a262c21ad763",
   "metadata": {
    "tags": []
   },
   "source": [
    "## Train-Once\n",
    "\n",
    "We use a catboost model, optimizing for RMSE of weather prediction. We use off-the-shelf models/parameters (no ensembling or uncertainty estimation to keep things simple)."
   ]
  },
  {
   "cell_type": "code",
   "execution_count": 4,
   "id": "1a066b24-37ee-470b-92de-41b57a3627ff",
   "metadata": {
    "tags": []
   },
   "outputs": [
    {
     "name": "stdout",
     "output_type": "stream",
     "text": [
      "Training for 2018_35...\n",
      "0:\tlearn: 6.8630900\ttest: 6.5818422\tbest: 6.5818422 (0)\ttotal: 59.8ms\tremaining: 14.9s\n",
      "100:\tlearn: 2.2650862\ttest: 2.3107749\tbest: 2.3107749 (100)\ttotal: 465ms\tremaining: 686ms\n",
      "200:\tlearn: 2.0363098\ttest: 2.2171372\tbest: 2.2171372 (200)\ttotal: 790ms\tremaining: 193ms\n",
      "249:\tlearn: 1.9722278\ttest: 2.1944450\tbest: 2.1944450 (249)\ttotal: 975ms\tremaining: 0us\n",
      "\n",
      "bestTest = 2.194445003\n",
      "bestIteration = 249\n",
      "\n"
     ]
    }
   ],
   "source": [
    "first_iter = True\n",
    "test_mses = {}\n",
    "train_mse = None\n",
    "\n",
    "for train_df, test_df in ds.iterate():\n",
    "    X_train, y_train = ds.split_feature_label(train_df)\n",
    "    \n",
    "    if first_iter:\n",
    "        catboost_hparams = {\"depth\": 5, \"iterations\": 250, \"learning_rate\": 0.03, \"loss_function\": \"RMSE\"}\n",
    "        # Let's log the hyperparameters to W&B\n",
    "        wandb.config.update(catboost_hparams)\n",
    "        t = CatBoostTrainer(catboost_hparams)\n",
    "        print(f\"Training for {ds.get_partition_key(train_df)}...\")\n",
    "        # We'll pass in the W&B callback to log metrics\n",
    "        t.fit(X_train, y_train, verbose=100, callbacks=[WandbCallback()])\n",
    "        first_iter = False\n",
    "\n",
    "        train_mse = t.score(X_train, y_train)\n",
    "    \n",
    "    # Evaluate\n",
    "    X_test, y_test = ds.split_feature_label(test_df)\n",
    "    test_mses[ds.get_partition_key(test_df)] = t.score(X_test, y_test)"
   ]
  },
  {
   "cell_type": "code",
   "execution_count": 5,
   "id": "be226066-c7d5-4559-8833-ea95653bde73",
   "metadata": {
    "tags": []
   },
   "outputs": [
    {
     "data": {
      "image/png": "[encoded data removed]",
      "text/plain": [
       "<Figure size 432x288 with 1 Axes>"
      ]
     },
     "metadata": {
      "needs_background": "light"
     },
     "output_type": "display_data"
    }
   ],
   "source": [
    "plt.plot(test_mses.keys(), [train_mse] * len(test_mses.keys()), label=\"train\")\n",
    "plt.plot(test_mses.keys(), test_mses.values(), label=\"test\")\n",
    "plt.xticks(rotation=45, ha='right')\n",
    "plt.xlabel(\"Week\")\n",
    "plt.ylabel(\"MSE\")\n",
    "plt.title(\"MSE over week (no retraining)\")\n",
    "plt.legend()\n",
    "# Let's log our plot to W&B so that we can refer to it in reports and dashboards\n",
    "wandb.log({\"MSE over week (no retraining)\": wandb.Image(plt)})\n",
    "plt.show()"
   ]
  },
  {
   "cell_type": "markdown",
   "id": "dc2ec3cc-d259-4353-8fe3-320b9698332f",
   "metadata": {},
   "source": [
    "Wow, it looks like the MSE gets significantly worse as we deploy over time! Makes sense, as the seasons change."
   ]
  },
  {
   "cell_type": "markdown",
   "id": "39d8762b-11d1-46a1-9dc7-cd65b7e576bd",
   "metadata": {},
   "source": [
    "## Continual-Train"
   ]
  },
  {
   "cell_type": "code",
   "execution_count": 6,
   "id": "2102fc7e-369e-4aab-9299-a8509fe53524",
   "metadata": {
    "tags": []
   },
   "outputs": [],
   "source": [
    "test_mses = {}\n",
    "train_mses = {}\n",
    "\n",
    "for train_df, test_df in ds.iterate():\n",
    "    X_train, y_train = ds.split_feature_label(train_df)\n",
    "    \n",
    "    catboost_hparams = {\"depth\": 5, \"iterations\": 250, \"learning_rate\": 0.03, \"loss_function\": \"RMSE\"}\n",
    "    continual_t = CatBoostTrainer(catboost_hparams)\n",
    "    continual_t.fit(X_train, y_train, verbose=False)\n",
    "    train_mses[ds.get_partition_key(train_df)] = continual_t.score(X_train, y_train)\n",
    "    \n",
    "    # Evaluate\n",
    "    X_test, y_test = ds.split_feature_label(test_df)\n",
    "    test_mses[ds.get_partition_key(test_df)] = continual_t.score(X_test, y_test)"
   ]
  },
  {
   "cell_type": "code",
   "execution_count": 7,
   "id": "e7054579-b4de-4d27-bc99-8f42b8790419",
   "metadata": {
    "tags": []
   },
   "outputs": [
    {
     "data": {
      "image/png": "[encoded data removed]",
      "text/plain": [
       "<Figure size 432x288 with 1 Axes>"
      ]
     },
     "metadata": {
      "needs_background": "light"
     },
     "output_type": "display_data"
    }
   ],
   "source": [
    "plt.plot(train_mses.keys(), train_mses.values(), label=\"train\")\n",
    "plt.plot(test_mses.keys(), test_mses.values(), label=\"test\")\n",
    "plt.xticks(rotation=45, ha='right')\n",
    "plt.xlabel(\"Week\")\n",
    "plt.ylabel(\"MSE\")\n",
    "plt.title(\"MSE over week (with retraining)\")\n",
    "plt.legend()\n",
    "# Let's log our plot to W&B so that we can refer to it in reports and dashboards\n",
    "wandb.log({\"MSE over week (with retraining)\": wandb.Image(plt)})\n",
    "plt.show()"
   ]
  },
  {
   "cell_type": "markdown",
   "id": "c36b7323-aa5c-4b38-8feb-b0eb8f43481d",
   "metadata": {},
   "source": [
    "The MSEs improve here, because we're retraining on fresh data."
   ]
  },
  {
   "cell_type": "code",
   "execution_count": 8,
   "id": "225550a7-07a3-4236-9170-aa269d44f663",
   "metadata": {
    "tags": []
   },
   "outputs": [
    {
     "data": {
      "text/html": [
       "<div>\n",
       "<style scoped>\n",
       "    .dataframe tbody tr th:only-of-type {\n",
       "        vertical-align: middle;\n",
       "    }\n",
       "\n",
       "    .dataframe tbody tr th {\n",
       "        vertical-align: top;\n",
       "    }\n",
       "\n",
       "    .dataframe thead th {\n",
       "        text-align: right;\n",
       "    }\n",
       "</style>\n",
       "<table border=\"1\" class=\"dataframe\">\n",
       "  <thead>\n",
       "    <tr style=\"text-align: right;\">\n",
       "      <th></th>\n",
       "      <th>feature</th>\n",
       "      <th>importance</th>\n",
       "    </tr>\n",
       "  </thead>\n",
       "  <tbody>\n",
       "    <tr>\n",
       "      <th>6</th>\n",
       "      <td>cmc_0_0_0_2_interpolated</td>\n",
       "      <td>22.321365</td>\n",
       "    </tr>\n",
       "    <tr>\n",
       "      <th>89</th>\n",
       "      <td>gfs_temperature_sea_interpolated</td>\n",
       "      <td>15.095626</td>\n",
       "    </tr>\n",
       "    <tr>\n",
       "      <th>99</th>\n",
       "      <td>wrf_t2</td>\n",
       "      <td>11.442965</td>\n",
       "    </tr>\n",
       "    <tr>\n",
       "      <th>109</th>\n",
       "      <td>wrf_t2_interpolated</td>\n",
       "      <td>11.176995</td>\n",
       "    </tr>\n",
       "    <tr>\n",
       "      <th>8</th>\n",
       "      <td>cmc_0_0_0_2</td>\n",
       "      <td>8.895680</td>\n",
       "    </tr>\n",
       "    <tr>\n",
       "      <th>100</th>\n",
       "      <td>wrf_t2_next</td>\n",
       "      <td>8.157100</td>\n",
       "    </tr>\n",
       "    <tr>\n",
       "      <th>87</th>\n",
       "      <td>gfs_temperature_sea</td>\n",
       "      <td>5.164831</td>\n",
       "    </tr>\n",
       "    <tr>\n",
       "      <th>7</th>\n",
       "      <td>cmc_0_0_0_2_next</td>\n",
       "      <td>3.692906</td>\n",
       "    </tr>\n",
       "    <tr>\n",
       "      <th>90</th>\n",
       "      <td>gfs_temperature_sea_next</td>\n",
       "      <td>1.909396</td>\n",
       "    </tr>\n",
       "    <tr>\n",
       "      <th>1</th>\n",
       "      <td>sun_elevation</td>\n",
       "      <td>1.583235</td>\n",
       "    </tr>\n",
       "    <tr>\n",
       "      <th>0</th>\n",
       "      <td>topography_bathymetry</td>\n",
       "      <td>1.381163</td>\n",
       "    </tr>\n",
       "    <tr>\n",
       "      <th>4</th>\n",
       "      <td>cmc_0_0_0_1000</td>\n",
       "      <td>1.201706</td>\n",
       "    </tr>\n",
       "    <tr>\n",
       "      <th>2</th>\n",
       "      <td>climate_temperature</td>\n",
       "      <td>1.098449</td>\n",
       "    </tr>\n",
       "    <tr>\n",
       "      <th>20</th>\n",
       "      <td>cmc_0_1_0_0</td>\n",
       "      <td>0.530070</td>\n",
       "    </tr>\n",
       "    <tr>\n",
       "      <th>12</th>\n",
       "      <td>cmc_0_0_0_925</td>\n",
       "      <td>0.386553</td>\n",
       "    </tr>\n",
       "    <tr>\n",
       "      <th>61</th>\n",
       "      <td>gfs_pressure</td>\n",
       "      <td>0.338134</td>\n",
       "    </tr>\n",
       "    <tr>\n",
       "      <th>82</th>\n",
       "      <td>gfs_temperature_85000</td>\n",
       "      <td>0.313681</td>\n",
       "    </tr>\n",
       "    <tr>\n",
       "      <th>102</th>\n",
       "      <td>wrf_rh2</td>\n",
       "      <td>0.297663</td>\n",
       "    </tr>\n",
       "    <tr>\n",
       "      <th>84</th>\n",
       "      <td>gfs_temperature_92500</td>\n",
       "      <td>0.291478</td>\n",
       "    </tr>\n",
       "    <tr>\n",
       "      <th>75</th>\n",
       "      <td>gfs_temperature_55000</td>\n",
       "      <td>0.271491</td>\n",
       "    </tr>\n",
       "    <tr>\n",
       "      <th>10</th>\n",
       "      <td>cmc_0_0_0_700</td>\n",
       "      <td>0.213619</td>\n",
       "    </tr>\n",
       "    <tr>\n",
       "      <th>63</th>\n",
       "      <td>gfs_soil_temperature</td>\n",
       "      <td>0.196249</td>\n",
       "    </tr>\n",
       "    <tr>\n",
       "      <th>13</th>\n",
       "      <td>cmc_0_0_6_2</td>\n",
       "      <td>0.189841</td>\n",
       "    </tr>\n",
       "    <tr>\n",
       "      <th>11</th>\n",
       "      <td>cmc_0_0_0_850</td>\n",
       "      <td>0.182699</td>\n",
       "    </tr>\n",
       "    <tr>\n",
       "      <th>66</th>\n",
       "      <td>gfs_temperature_15000</td>\n",
       "      <td>0.146385</td>\n",
       "    </tr>\n",
       "  </tbody>\n",
       "</table>\n",
       "</div>"
      ],
      "text/plain": [
       "                              feature  importance\n",
       "6            cmc_0_0_0_2_interpolated   22.321365\n",
       "89   gfs_temperature_sea_interpolated   15.095626\n",
       "99                             wrf_t2   11.442965\n",
       "109               wrf_t2_interpolated   11.176995\n",
       "8                         cmc_0_0_0_2    8.895680\n",
       "100                       wrf_t2_next    8.157100\n",
       "87                gfs_temperature_sea    5.164831\n",
       "7                    cmc_0_0_0_2_next    3.692906\n",
       "90           gfs_temperature_sea_next    1.909396\n",
       "1                       sun_elevation    1.583235\n",
       "0               topography_bathymetry    1.381163\n",
       "4                      cmc_0_0_0_1000    1.201706\n",
       "2                 climate_temperature    1.098449\n",
       "20                        cmc_0_1_0_0    0.530070\n",
       "12                      cmc_0_0_0_925    0.386553\n",
       "61                       gfs_pressure    0.338134\n",
       "82              gfs_temperature_85000    0.313681\n",
       "102                           wrf_rh2    0.297663\n",
       "84              gfs_temperature_92500    0.291478\n",
       "75              gfs_temperature_55000    0.271491\n",
       "10                      cmc_0_0_0_700    0.213619\n",
       "63               gfs_soil_temperature    0.196249\n",
       "13                        cmc_0_0_6_2    0.189841\n",
       "11                      cmc_0_0_0_850    0.182699\n",
       "66              gfs_temperature_15000    0.146385"
      ]
     },
     "execution_count": 8,
     "metadata": {},
     "output_type": "execute_result"
    }
   ],
   "source": [
    "continual_t.get_feature_importance().head(25)"
   ]
  },
  {
   "cell_type": "code",
   "execution_count": 9,
   "id": "b8a4c8ab-eb5e-463d-a2ae-bd8075bdb69c",
   "metadata": {},
   "outputs": [
    {
     "data": {
      "text/html": [
       "Waiting for W&B process to finish... <strong style=\"color:green\">(success).</strong>"
      ],
      "text/plain": [
       "<IPython.core.display.HTML object>"
      ]
     },
     "metadata": {},
     "output_type": "display_data"
    },
    {
     "data": {
      "application/vnd.jupyter.widget-view+json": {
       "model_id": "4bd843e714774b7f9bd05480b37e00d8",
       "version_major": 2,
       "version_minor": 0
      },
      "text/plain": [
       "VBox(children=(Label(value='0.194 MB of 0.194 MB uploaded (0.000 MB deduped)\\r'), FloatProgress(value=1.0, max…"
      ]
     },
     "metadata": {},
     "output_type": "display_data"
    },
    {
     "data": {
      "text/html": [
       " View run <strong style=\"color:#cdcd00\">stoic-fog-2</strong> at: <a href='https://wandb.ai/darek/ml-dataval-tutorial/runs/99rxevj7' target=\"_blank\">https://wandb.ai/darek/ml-dataval-tutorial/runs/99rxevj7</a><br/>Synced 7 W&B file(s), 2 media file(s), 0 artifact file(s) and 1 other file(s)"
      ],
      "text/plain": [
       "<IPython.core.display.HTML object>"
      ]
     },
     "metadata": {},
     "output_type": "display_data"
    }
   ],
   "source": [
    "# We can finish now the W&B run\n",
    "run.finish()"
   ]
  },
  {
   "cell_type": "code",
   "execution_count": null,
   "id": "0229143f",
   "metadata": {},
   "outputs": [],
   "source": []
  }
 ],
 "metadata": {
  "kernelspec": {
   "display_name": "Python 3 (ipykernel)",
   "language": "python",
   "name": "python3"
  },
  "language_info": {
   "codemirror_mode": {
    "name": "ipython",
    "version": 3
   },
   "file_extension": ".py",
   "mimetype": "text/x-python",
   "name": "python",
   "nbconvert_exporter": "python",
   "pygments_lexer": "ipython3",
   "version": "3.8.13"
  }
 },
 "nbformat": 4,
 "nbformat_minor": 5
}
